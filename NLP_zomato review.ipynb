{
 "cells": [
  {
   "cell_type": "markdown",
   "id": "ce674588",
   "metadata": {},
   "source": [
    "# NLP - Zomato Review."
   ]
  },
  {
   "cell_type": "markdown",
   "id": "923d3dc1",
   "metadata": {},
   "source": [
    "## Description:\n",
    "\tTaking the reviews from Zomato the online delivery service and performing the Natural Language Processing.\n"
   ]
  },
  {
   "cell_type": "markdown",
   "id": "2651fb08",
   "metadata": {},
   "source": [
    "## Objectives:\n",
    "\n",
    "•\tTo Import the requiring libraries. \n",
    "\n",
    "•\tPreprocessing the reviews.\n",
    "\n",
    "•\tPerforming the feature extraction on words.\n",
    "\n",
    "•\tPerforming the statistical model.\n"
   ]
  },
  {
   "cell_type": "markdown",
   "id": "12b61fb4",
   "metadata": {},
   "source": [
    "# Importing the libraries"
   ]
  },
  {
   "cell_type": "code",
   "execution_count": 1,
   "id": "d1695e90",
   "metadata": {},
   "outputs": [],
   "source": [
    "import pandas as pd\n",
    "import numpy as np\n",
    "import re"
   ]
  },
  {
   "cell_type": "markdown",
   "id": "46af10d8",
   "metadata": {},
   "source": [
    "# Uploading the dataframe"
   ]
  },
  {
   "cell_type": "code",
   "execution_count": 2,
   "id": "460fde40",
   "metadata": {},
   "outputs": [],
   "source": [
    "reviews0=pd.read_csv(\"Zomato_reviews.csv\")"
   ]
  },
  {
   "cell_type": "code",
   "execution_count": 3,
   "id": "f7671648",
   "metadata": {},
   "outputs": [
    {
     "data": {
      "text/html": [
       "<div>\n",
       "<style scoped>\n",
       "    .dataframe tbody tr th:only-of-type {\n",
       "        vertical-align: middle;\n",
       "    }\n",
       "\n",
       "    .dataframe tbody tr th {\n",
       "        vertical-align: top;\n",
       "    }\n",
       "\n",
       "    .dataframe thead th {\n",
       "        text-align: right;\n",
       "    }\n",
       "</style>\n",
       "<table border=\"1\" class=\"dataframe\">\n",
       "  <thead>\n",
       "    <tr style=\"text-align: right;\">\n",
       "      <th></th>\n",
       "      <th>rating</th>\n",
       "      <th>review_text</th>\n",
       "    </tr>\n",
       "  </thead>\n",
       "  <tbody>\n",
       "    <tr>\n",
       "      <th>0</th>\n",
       "      <td>1.0</td>\n",
       "      <td>Their service is worst, pricing in menu is dif...</td>\n",
       "    </tr>\n",
       "    <tr>\n",
       "      <th>1</th>\n",
       "      <td>5.0</td>\n",
       "      <td>really appreciate their quality and timing . I...</td>\n",
       "    </tr>\n",
       "    <tr>\n",
       "      <th>2</th>\n",
       "      <td>4.0</td>\n",
       "      <td>Went there on a Friday night, the place was su...</td>\n",
       "    </tr>\n",
       "    <tr>\n",
       "      <th>3</th>\n",
       "      <td>4.0</td>\n",
       "      <td>A very decent place serving good food.\\r\\nOrde...</td>\n",
       "    </tr>\n",
       "    <tr>\n",
       "      <th>4</th>\n",
       "      <td>5.0</td>\n",
       "      <td>One of the BEST places for steaks in the city....</td>\n",
       "    </tr>\n",
       "  </tbody>\n",
       "</table>\n",
       "</div>"
      ],
      "text/plain": [
       "   rating                                        review_text\n",
       "0     1.0  Their service is worst, pricing in menu is dif...\n",
       "1     5.0  really appreciate their quality and timing . I...\n",
       "2     4.0  Went there on a Friday night, the place was su...\n",
       "3     4.0  A very decent place serving good food.\\r\\nOrde...\n",
       "4     5.0  One of the BEST places for steaks in the city...."
      ]
     },
     "execution_count": 3,
     "metadata": {},
     "output_type": "execute_result"
    }
   ],
   "source": [
    "reviews0.head()"
   ]
  },
  {
   "cell_type": "markdown",
   "id": "e9d2629d",
   "metadata": {},
   "source": [
    "# Describing the dataframe"
   ]
  },
  {
   "cell_type": "code",
   "execution_count": 4,
   "id": "f917d1ef",
   "metadata": {},
   "outputs": [
    {
     "data": {
      "text/html": [
       "<div>\n",
       "<style scoped>\n",
       "    .dataframe tbody tr th:only-of-type {\n",
       "        vertical-align: middle;\n",
       "    }\n",
       "\n",
       "    .dataframe tbody tr th {\n",
       "        vertical-align: top;\n",
       "    }\n",
       "\n",
       "    .dataframe thead th {\n",
       "        text-align: right;\n",
       "    }\n",
       "</style>\n",
       "<table border=\"1\" class=\"dataframe\">\n",
       "  <thead>\n",
       "    <tr style=\"text-align: right;\">\n",
       "      <th></th>\n",
       "      <th>rating</th>\n",
       "      <th>review_text</th>\n",
       "    </tr>\n",
       "  </thead>\n",
       "  <tbody>\n",
       "    <tr>\n",
       "      <th>count</th>\n",
       "      <td>27762.000000</td>\n",
       "      <td>27748</td>\n",
       "    </tr>\n",
       "    <tr>\n",
       "      <th>unique</th>\n",
       "      <td>NaN</td>\n",
       "      <td>10548</td>\n",
       "    </tr>\n",
       "    <tr>\n",
       "      <th>top</th>\n",
       "      <td>NaN</td>\n",
       "      <td>good</td>\n",
       "    </tr>\n",
       "    <tr>\n",
       "      <th>freq</th>\n",
       "      <td>NaN</td>\n",
       "      <td>278</td>\n",
       "    </tr>\n",
       "    <tr>\n",
       "      <th>mean</th>\n",
       "      <td>3.665784</td>\n",
       "      <td>NaN</td>\n",
       "    </tr>\n",
       "    <tr>\n",
       "      <th>std</th>\n",
       "      <td>1.284573</td>\n",
       "      <td>NaN</td>\n",
       "    </tr>\n",
       "    <tr>\n",
       "      <th>min</th>\n",
       "      <td>1.000000</td>\n",
       "      <td>NaN</td>\n",
       "    </tr>\n",
       "    <tr>\n",
       "      <th>25%</th>\n",
       "      <td>3.000000</td>\n",
       "      <td>NaN</td>\n",
       "    </tr>\n",
       "    <tr>\n",
       "      <th>50%</th>\n",
       "      <td>4.000000</td>\n",
       "      <td>NaN</td>\n",
       "    </tr>\n",
       "    <tr>\n",
       "      <th>75%</th>\n",
       "      <td>5.000000</td>\n",
       "      <td>NaN</td>\n",
       "    </tr>\n",
       "    <tr>\n",
       "      <th>max</th>\n",
       "      <td>5.000000</td>\n",
       "      <td>NaN</td>\n",
       "    </tr>\n",
       "  </tbody>\n",
       "</table>\n",
       "</div>"
      ],
      "text/plain": [
       "              rating review_text\n",
       "count   27762.000000       27748\n",
       "unique           NaN       10548\n",
       "top              NaN        good\n",
       "freq             NaN         278\n",
       "mean        3.665784         NaN\n",
       "std         1.284573         NaN\n",
       "min         1.000000         NaN\n",
       "25%         3.000000         NaN\n",
       "50%         4.000000         NaN\n",
       "75%         5.000000         NaN\n",
       "max         5.000000         NaN"
      ]
     },
     "execution_count": 4,
     "metadata": {},
     "output_type": "execute_result"
    }
   ],
   "source": [
    "reviews0.describe(include=\"all\")"
   ]
  },
  {
   "cell_type": "markdown",
   "id": "8df7df67",
   "metadata": {},
   "source": [
    "# Checking for null Values and dropping them."
   ]
  },
  {
   "cell_type": "code",
   "execution_count": 5,
   "id": "9c191f1e",
   "metadata": {},
   "outputs": [],
   "source": [
    "reviews1 = reviews0[~reviews0.review_text.isnull()].copy()\n",
    "reviews1.reset_index(inplace=True,drop=True)"
   ]
  },
  {
   "cell_type": "code",
   "execution_count": 6,
   "id": "670a901e",
   "metadata": {},
   "outputs": [
    {
     "data": {
      "text/plain": [
       "((27762, 2), (27748, 2))"
      ]
     },
     "execution_count": 6,
     "metadata": {},
     "output_type": "execute_result"
    }
   ],
   "source": [
    "reviews0.shape,reviews1.shape,"
   ]
  },
  {
   "cell_type": "markdown",
   "id": "7ccadc31",
   "metadata": {},
   "source": [
    "# Converting list for easy manipulation"
   ]
  },
  {
   "cell_type": "code",
   "execution_count": 7,
   "id": "a5a69f67",
   "metadata": {},
   "outputs": [],
   "source": [
    "reviews_list = reviews1.review_text.values\n"
   ]
  },
  {
   "cell_type": "code",
   "execution_count": 8,
   "id": "a5b653e4",
   "metadata": {},
   "outputs": [
    {
     "data": {
      "text/plain": [
       "27748"
      ]
     },
     "execution_count": 8,
     "metadata": {},
     "output_type": "execute_result"
    }
   ],
   "source": [
    "len(reviews_list)"
   ]
  },
  {
   "cell_type": "markdown",
   "id": "bc7dad5c",
   "metadata": {},
   "source": [
    "# Preprocessing.\n",
    " Text clean up\n",
    " \n",
    " Normalise\n",
    " \n",
    " Remove stop words - \"not\", \"no\" from the stop word list\n",
    " \n",
    " Romve punctuation"
   ]
  },
  {
   "cell_type": "markdown",
   "id": "db7343f4",
   "metadata": {},
   "source": [
    "### Printing the first 5 reviews in a list\n",
    "\n",
    "Assembling all the individual reviews into a list."
   ]
  },
  {
   "cell_type": "code",
   "execution_count": 9,
   "id": "7c7e90d9",
   "metadata": {},
   "outputs": [],
   "source": [
    "reviews_lower=[txt.lower() for txt in reviews_list]"
   ]
  },
  {
   "cell_type": "code",
   "execution_count": 10,
   "id": "059a37b7",
   "metadata": {},
   "outputs": [
    {
     "data": {
      "text/plain": [
       "['their service is worst, pricing in menu is different from bill. they can give you a bill with increased pricing. even for serving water,menu, order you need to call them 3-4 times even on a non busy day.',\n",
       " \"really appreciate their quality and timing . i have tried the thattil kutti dosa i've been addicted to the dosa really and the chutney... really good and money worth much better than a thattukada must try it\",\n",
       " 'went there on a friday night, the place was surprisingly empty. interesting menu which is almost fully made of dosas. i had bullseye dosa and cheese masala dosa. the bullseye dosa was really good, with the egg perfectly cooked to a half boiled state. the masala in the cheese masala was good, but the cheese was a bit too chewy for my liking. the chutney was good, the sambar was average. the dishes are reasonably priced.',\n",
       " 'a very decent place serving good food.\\r\\nordered chilli fish, chicken & pork sizzler.\\r\\neverything tasted good but pork could have been slightly better cooked.\\r\\ntried 2 beverages, both were very sweet.',\n",
       " 'one of the best places for steaks in the city. tried the beef steak with chili rum & grilled fish with orange and jalapenos. both were exceptionally good. the herbed rice and mashed potatoes serves alongside were equally delecatble. service is prompt and zomato gold is a great steal. if you are a steak lover, this place is a must visit. hope they come up with another ourself somewhere in the cbd.\\r\\n\\r\\nwish to be back soon.\\r\\nbon appetit !']"
      ]
     },
     "execution_count": 10,
     "metadata": {},
     "output_type": "execute_result"
    }
   ],
   "source": [
    "reviews_lower[0:5]"
   ]
  },
  {
   "cell_type": "markdown",
   "id": "a7617c52",
   "metadata": {},
   "source": [
    "### Cleaning the text by removing the unwanted blackslash.\n",
    "\n",
    "join(txt.split()) - spliting the text and joining it inorder to remove the unwanted blackslash in the reviews.\n",
    "\n"
   ]
  },
  {
   "cell_type": "code",
   "execution_count": 11,
   "id": "2830d562",
   "metadata": {},
   "outputs": [],
   "source": [
    "reviews_lower = [\" \".join(txt.split()) for txt in reviews_lower]"
   ]
  },
  {
   "cell_type": "code",
   "execution_count": 12,
   "id": "761e8617",
   "metadata": {},
   "outputs": [
    {
     "data": {
      "text/plain": [
       "['their service is worst, pricing in menu is different from bill. they can give you a bill with increased pricing. even for serving water,menu, order you need to call them 3-4 times even on a non busy day.',\n",
       " \"really appreciate their quality and timing . i have tried the thattil kutti dosa i've been addicted to the dosa really and the chutney... really good and money worth much better than a thattukada must try it\",\n",
       " 'went there on a friday night, the place was surprisingly empty. interesting menu which is almost fully made of dosas. i had bullseye dosa and cheese masala dosa. the bullseye dosa was really good, with the egg perfectly cooked to a half boiled state. the masala in the cheese masala was good, but the cheese was a bit too chewy for my liking. the chutney was good, the sambar was average. the dishes are reasonably priced.',\n",
       " 'a very decent place serving good food. ordered chilli fish, chicken & pork sizzler. everything tasted good but pork could have been slightly better cooked. tried 2 beverages, both were very sweet.',\n",
       " 'one of the best places for steaks in the city. tried the beef steak with chili rum & grilled fish with orange and jalapenos. both were exceptionally good. the herbed rice and mashed potatoes serves alongside were equally delecatble. service is prompt and zomato gold is a great steal. if you are a steak lover, this place is a must visit. hope they come up with another ourself somewhere in the cbd. wish to be back soon. bon appetit !']"
      ]
     },
     "execution_count": 12,
     "metadata": {},
     "output_type": "execute_result"
    }
   ],
   "source": [
    "reviews_lower[0:5]"
   ]
  },
  {
   "cell_type": "markdown",
   "id": "25c650b2",
   "metadata": {},
   "source": [
    "# Preprocessing Techniques."
   ]
  },
  {
   "cell_type": "markdown",
   "id": "c6d8b982",
   "metadata": {},
   "source": [
    "## 1. Tokenization \n",
    "\n",
    "    Breaks the sentence into seperate words. These words are called tokens.\n",
    "\n",
    "    Splits the word whenever there is a space.\n",
    "\n",
    "    Treats punctuations as tokens for they also has meaning "
   ]
  },
  {
   "cell_type": "code",
   "execution_count": 13,
   "id": "77f19ac9",
   "metadata": {},
   "outputs": [],
   "source": [
    "import nltk\n",
    "#import word_tokenize - to seperate words in the sentence.\n",
    "from nltk.tokenize import word_tokenize"
   ]
  },
  {
   "cell_type": "code",
   "execution_count": 14,
   "id": "22b812cd",
   "metadata": {
    "scrolled": true
   },
   "outputs": [
    {
     "name": "stderr",
     "output_type": "stream",
     "text": [
      "[nltk_data] Downloading package punkt to\n",
      "[nltk_data]     C:\\Users\\2211582\\AppData\\Roaming\\nltk_data...\n",
      "[nltk_data]   Package punkt is already up-to-date!\n"
     ]
    },
    {
     "data": {
      "text/plain": [
       "True"
      ]
     },
     "execution_count": 14,
     "metadata": {},
     "output_type": "execute_result"
    }
   ],
   "source": [
    "import nltk\n",
    "\n",
    "nltk.download('punkt')"
   ]
  },
  {
   "cell_type": "markdown",
   "id": "23933bfa",
   "metadata": {},
   "source": [
    "### Seperating the sentences into words \n",
    "\n",
    "    word_tokenize - package\n",
    "\n",
    "    reviews_lower[0] - review that lies in the indexing position 0."
   ]
  },
  {
   "cell_type": "code",
   "execution_count": 15,
   "id": "4796808a",
   "metadata": {},
   "outputs": [
    {
     "name": "stdout",
     "output_type": "stream",
     "text": [
      "['their', 'service', 'is', 'worst', ',', 'pricing', 'in', 'menu', 'is', 'different', 'from', 'bill', '.', 'they', 'can', 'give', 'you', 'a', 'bill', 'with', 'increased', 'pricing', '.', 'even', 'for', 'serving', 'water', ',', 'menu', ',', 'order', 'you', 'need', 'to', 'call', 'them', '3-4', 'times', 'even', 'on', 'a', 'non', 'busy', 'day', '.']\n"
     ]
    }
   ],
   "source": [
    "print(word_tokenize(reviews_lower[0]))"
   ]
  },
  {
   "cell_type": "markdown",
   "id": "d80d2797",
   "metadata": {},
   "source": [
    "### Reading again and omitting the numerical terms in the reviews. \n",
    "\n",
    "    Refining the words again by removing the numerics in the reviews. "
   ]
  },
  {
   "cell_type": "code",
   "execution_count": 16,
   "id": "7d5161b2",
   "metadata": {
    "scrolled": false
   },
   "outputs": [
    {
     "name": "stdout",
     "output_type": "stream",
     "text": [
      "['really', 'appreciate', 'their', 'quality', 'and', 'timing', '.', 'i', 'have', 'tried', 'the', 'thattil', 'kutti', 'dosa', 'i', \"'ve\", 'been', 'addicted', 'to', 'the', 'dosa', 'really', 'and', 'the', 'chutney', '...', 'really', 'good', 'and', 'money', 'worth', 'much', 'better', 'than', 'a', 'thattukada', 'must', 'try', 'it']\n"
     ]
    }
   ],
   "source": [
    "reviews_tokens = [word_tokenize(sent) for sent in reviews_lower]\n",
    "print(reviews_tokens[1])"
   ]
  },
  {
   "cell_type": "markdown",
   "id": "074cd099",
   "metadata": {},
   "source": [
    "## 2. Remove stop word and punctuations"
   ]
  },
  {
   "cell_type": "markdown",
   "id": "07dd50f2",
   "metadata": {},
   "source": [
    "#### Corpus  \n",
    "    Collection of authentic text or data organised into dataset. authentic- native language.\n",
    "\n",
    "### Importing the punctation and stopwords."
   ]
  },
  {
   "cell_type": "code",
   "execution_count": 17,
   "id": "c057fdbf",
   "metadata": {},
   "outputs": [
    {
     "name": "stderr",
     "output_type": "stream",
     "text": [
      "[nltk_data] Downloading package stopwords to\n",
      "[nltk_data]     C:\\Users\\2211582\\AppData\\Roaming\\nltk_data...\n",
      "[nltk_data]   Package stopwords is already up-to-date!\n"
     ]
    },
    {
     "data": {
      "text/plain": [
       "True"
      ]
     },
     "execution_count": 17,
     "metadata": {},
     "output_type": "execute_result"
    }
   ],
   "source": [
    "from nltk.corpus import stopwords\n",
    "from string import punctuation\n",
    "nltk.download('stopwords')"
   ]
  },
  {
   "cell_type": "markdown",
   "id": "21635deb",
   "metadata": {},
   "source": [
    "###  Performing the stopwords on the engish language.\n",
    "\n",
    "    Stopwords.words(\"english\") is performed on the english language.\n",
    "\n",
    "    Listing out the punctutation in the sentences."
   ]
  },
  {
   "cell_type": "code",
   "execution_count": 18,
   "id": "15e2e68c",
   "metadata": {},
   "outputs": [],
   "source": [
    "stop_nltk=stopwords.words(\"english\")\n"
   ]
  },
  {
   "cell_type": "code",
   "execution_count": 19,
   "id": "53f61a05",
   "metadata": {},
   "outputs": [],
   "source": [
    "stop_punct = list(punctuation)"
   ]
  },
  {
   "cell_type": "markdown",
   "id": "dc5243d5",
   "metadata": {},
   "source": [
    "### Listing the stopwords."
   ]
  },
  {
   "cell_type": "code",
   "execution_count": 20,
   "id": "212b1fdf",
   "metadata": {},
   "outputs": [
    {
     "name": "stdout",
     "output_type": "stream",
     "text": [
      "['i', 'me', 'my', 'myself', 'we', 'our', 'ours', 'ourselves', 'you', \"you're\", \"you've\", \"you'll\", \"you'd\", 'your', 'yours', 'yourself', 'yourselves', 'he', 'him', 'his', 'himself', 'she', \"she's\", 'her', 'hers', 'herself', 'it', \"it's\", 'its', 'itself', 'they', 'them', 'their', 'theirs', 'themselves', 'what', 'which', 'who', 'whom', 'this', 'that', \"that'll\", 'these', 'those', 'am', 'is', 'are', 'was', 'were', 'be', 'been', 'being', 'have', 'has', 'had', 'having', 'do', 'does', 'did', 'doing', 'a', 'an', 'the', 'and', 'but', 'if', 'or', 'because', 'as', 'until', 'while', 'of', 'at', 'by', 'for', 'with', 'about', 'against', 'between', 'into', 'through', 'during', 'before', 'after', 'above', 'below', 'to', 'from', 'up', 'down', 'in', 'out', 'on', 'off', 'over', 'under', 'again', 'further', 'then', 'once', 'here', 'there', 'when', 'where', 'why', 'how', 'all', 'any', 'both', 'each', 'few', 'more', 'most', 'other', 'some', 'such', 'no', 'nor', 'not', 'only', 'own', 'same', 'so', 'than', 'too', 'very', 's', 't', 'can', 'will', 'just', 'don', \"don't\", 'should', \"should've\", 'now', 'd', 'll', 'm', 'o', 're', 've', 'y', 'ain', 'aren', \"aren't\", 'couldn', \"couldn't\", 'didn', \"didn't\", 'doesn', \"doesn't\", 'hadn', \"hadn't\", 'hasn', \"hasn't\", 'haven', \"haven't\", 'isn', \"isn't\", 'ma', 'mightn', \"mightn't\", 'mustn', \"mustn't\", 'needn', \"needn't\", 'shan', \"shan't\", 'shouldn', \"shouldn't\", 'wasn', \"wasn't\", 'weren', \"weren't\", 'won', \"won't\", 'wouldn', \"wouldn't\"]\n"
     ]
    }
   ],
   "source": [
    "print(stop_nltk)"
   ]
  },
  {
   "cell_type": "markdown",
   "id": "02a15345",
   "metadata": {},
   "source": [
    "### Listing the Punctuations. "
   ]
  },
  {
   "cell_type": "code",
   "execution_count": 21,
   "id": "ac7d7b08",
   "metadata": {
    "scrolled": true
   },
   "outputs": [
    {
     "name": "stdout",
     "output_type": "stream",
     "text": [
      "['!', '\"', '#', '$', '%', '&', \"'\", '(', ')', '*', '+', ',', '-', '.', '/', ':', ';', '<', '=', '>', '?', '@', '[', '\\\\', ']', '^', '_', '`', '{', '|', '}', '~']\n"
     ]
    }
   ],
   "source": [
    "print(stop_punct)"
   ]
  },
  {
   "cell_type": "code",
   "execution_count": 22,
   "id": "667a2daf",
   "metadata": {},
   "outputs": [
    {
     "data": {
      "text/plain": [
       "32"
      ]
     },
     "execution_count": 22,
     "metadata": {},
     "output_type": "execute_result"
    }
   ],
   "source": [
    "len(stop_punct)"
   ]
  },
  {
   "cell_type": "code",
   "execution_count": 23,
   "id": "98810c35",
   "metadata": {},
   "outputs": [
    {
     "data": {
      "text/plain": [
       "179"
      ]
     },
     "execution_count": 23,
     "metadata": {},
     "output_type": "execute_result"
    }
   ],
   "source": [
    "len(stop_nltk)"
   ]
  },
  {
   "cell_type": "markdown",
   "id": "e2c9e10e",
   "metadata": {},
   "source": [
    "### Removing the stop words.\n",
    "\n",
    "Once the stopwords are found remove them.\n",
    "\n",
    "Removing of stopwords also gives the appropriate message out of it.\n",
    "\n",
    "Here, I'm removing some stopwords \"no\",\"not\",\"don\",\"won\",\"off\",\"they\",\"some\" "
   ]
  },
  {
   "cell_type": "code",
   "execution_count": 24,
   "id": "9ba10a01",
   "metadata": {},
   "outputs": [],
   "source": [
    "stop_nltk.remove(\"no\")\n",
    "stop_nltk.remove(\"not\")\n",
    "stop_nltk.remove(\"don\")\n",
    "stop_nltk.remove(\"won\")\n",
    "stop_nltk.remove(\"off\")\n",
    "stop_nltk.remove(\"some\")\n",
    "\n"
   ]
  },
  {
   "cell_type": "markdown",
   "id": "50d320cf",
   "metadata": {},
   "source": [
    "### Checking  whether the stopword is present in your reviews."
   ]
  },
  {
   "cell_type": "code",
   "execution_count": 25,
   "id": "8fa50776",
   "metadata": {},
   "outputs": [
    {
     "data": {
      "text/plain": [
       "True"
      ]
     },
     "execution_count": 25,
     "metadata": {},
     "output_type": "execute_result"
    }
   ],
   "source": [
    "\"their\" in reviews_tokens[1]"
   ]
  },
  {
   "cell_type": "code",
   "execution_count": 26,
   "id": "da55bfc6",
   "metadata": {},
   "outputs": [
    {
     "data": {
      "text/plain": [
       "False"
      ]
     },
     "execution_count": 26,
     "metadata": {},
     "output_type": "execute_result"
    }
   ],
   "source": [
    "\"off\" in reviews_tokens[0:3]"
   ]
  },
  {
   "cell_type": "markdown",
   "id": "9c938fd4",
   "metadata": {},
   "source": [
    "### Printing all the stopwords and the punctuations."
   ]
  },
  {
   "cell_type": "code",
   "execution_count": 27,
   "id": "8cb072e4",
   "metadata": {},
   "outputs": [],
   "source": [
    "stop_final = stop_nltk + stop_punct + [\"...\",\"``\",\"''\",\"===\",\"must\",'-', '.', '/', ':', ';']"
   ]
  },
  {
   "cell_type": "code",
   "execution_count": 28,
   "id": "b6fdb374",
   "metadata": {},
   "outputs": [
    {
     "data": {
      "text/plain": [
       "['i',\n",
       " 'me',\n",
       " 'my',\n",
       " 'myself',\n",
       " 'we',\n",
       " 'our',\n",
       " 'ours',\n",
       " 'ourselves',\n",
       " 'you',\n",
       " \"you're\",\n",
       " \"you've\",\n",
       " \"you'll\",\n",
       " \"you'd\",\n",
       " 'your',\n",
       " 'yours',\n",
       " 'yourself',\n",
       " 'yourselves',\n",
       " 'he',\n",
       " 'him',\n",
       " 'his',\n",
       " 'himself',\n",
       " 'she',\n",
       " \"she's\",\n",
       " 'her',\n",
       " 'hers',\n",
       " 'herself',\n",
       " 'it',\n",
       " \"it's\",\n",
       " 'its',\n",
       " 'itself',\n",
       " 'they',\n",
       " 'them',\n",
       " 'their',\n",
       " 'theirs',\n",
       " 'themselves',\n",
       " 'what',\n",
       " 'which',\n",
       " 'who',\n",
       " 'whom',\n",
       " 'this',\n",
       " 'that',\n",
       " \"that'll\",\n",
       " 'these',\n",
       " 'those',\n",
       " 'am',\n",
       " 'is',\n",
       " 'are',\n",
       " 'was',\n",
       " 'were',\n",
       " 'be',\n",
       " 'been',\n",
       " 'being',\n",
       " 'have',\n",
       " 'has',\n",
       " 'had',\n",
       " 'having',\n",
       " 'do',\n",
       " 'does',\n",
       " 'did',\n",
       " 'doing',\n",
       " 'a',\n",
       " 'an',\n",
       " 'the',\n",
       " 'and',\n",
       " 'but',\n",
       " 'if',\n",
       " 'or',\n",
       " 'because',\n",
       " 'as',\n",
       " 'until',\n",
       " 'while',\n",
       " 'of',\n",
       " 'at',\n",
       " 'by',\n",
       " 'for',\n",
       " 'with',\n",
       " 'about',\n",
       " 'against',\n",
       " 'between',\n",
       " 'into',\n",
       " 'through',\n",
       " 'during',\n",
       " 'before',\n",
       " 'after',\n",
       " 'above',\n",
       " 'below',\n",
       " 'to',\n",
       " 'from',\n",
       " 'up',\n",
       " 'down',\n",
       " 'in',\n",
       " 'out',\n",
       " 'on',\n",
       " 'over',\n",
       " 'under',\n",
       " 'again',\n",
       " 'further',\n",
       " 'then',\n",
       " 'once',\n",
       " 'here',\n",
       " 'there',\n",
       " 'when',\n",
       " 'where',\n",
       " 'why',\n",
       " 'how',\n",
       " 'all',\n",
       " 'any',\n",
       " 'both',\n",
       " 'each',\n",
       " 'few',\n",
       " 'more',\n",
       " 'most',\n",
       " 'other',\n",
       " 'such',\n",
       " 'nor',\n",
       " 'only',\n",
       " 'own',\n",
       " 'same',\n",
       " 'so',\n",
       " 'than',\n",
       " 'too',\n",
       " 'very',\n",
       " 's',\n",
       " 't',\n",
       " 'can',\n",
       " 'will',\n",
       " 'just',\n",
       " \"don't\",\n",
       " 'should',\n",
       " \"should've\",\n",
       " 'now',\n",
       " 'd',\n",
       " 'll',\n",
       " 'm',\n",
       " 'o',\n",
       " 're',\n",
       " 've',\n",
       " 'y',\n",
       " 'ain',\n",
       " 'aren',\n",
       " \"aren't\",\n",
       " 'couldn',\n",
       " \"couldn't\",\n",
       " 'didn',\n",
       " \"didn't\",\n",
       " 'doesn',\n",
       " \"doesn't\",\n",
       " 'hadn',\n",
       " \"hadn't\",\n",
       " 'hasn',\n",
       " \"hasn't\",\n",
       " 'haven',\n",
       " \"haven't\",\n",
       " 'isn',\n",
       " \"isn't\",\n",
       " 'ma',\n",
       " 'mightn',\n",
       " \"mightn't\",\n",
       " 'mustn',\n",
       " \"mustn't\",\n",
       " 'needn',\n",
       " \"needn't\",\n",
       " 'shan',\n",
       " \"shan't\",\n",
       " 'shouldn',\n",
       " \"shouldn't\",\n",
       " 'wasn',\n",
       " \"wasn't\",\n",
       " 'weren',\n",
       " \"weren't\",\n",
       " \"won't\",\n",
       " 'wouldn',\n",
       " \"wouldn't\",\n",
       " '!',\n",
       " '\"',\n",
       " '#',\n",
       " '$',\n",
       " '%',\n",
       " '&',\n",
       " \"'\",\n",
       " '(',\n",
       " ')',\n",
       " '*',\n",
       " '+',\n",
       " ',',\n",
       " '-',\n",
       " '.',\n",
       " '/',\n",
       " ':',\n",
       " ';',\n",
       " '<',\n",
       " '=',\n",
       " '>',\n",
       " '?',\n",
       " '@',\n",
       " '[',\n",
       " '\\\\',\n",
       " ']',\n",
       " '^',\n",
       " '_',\n",
       " '`',\n",
       " '{',\n",
       " '|',\n",
       " '}',\n",
       " '~',\n",
       " '...',\n",
       " '``',\n",
       " \"''\",\n",
       " '===',\n",
       " 'must',\n",
       " '-',\n",
       " '.',\n",
       " '/',\n",
       " ':',\n",
       " ';']"
      ]
     },
     "execution_count": 28,
     "metadata": {},
     "output_type": "execute_result"
    }
   ],
   "source": [
    "stop_final"
   ]
  },
  {
   "cell_type": "markdown",
   "id": "eef4f210",
   "metadata": {},
   "source": [
    "### Deleting all the stop words and punctuation from the review (sent)"
   ]
  },
  {
   "cell_type": "code",
   "execution_count": 29,
   "id": "0d4b66c8",
   "metadata": {},
   "outputs": [],
   "source": [
    "def del_stop(sent):\n",
    "    return [term for term in sent if term not in stop_final]"
   ]
  },
  {
   "cell_type": "markdown",
   "id": "8cb23e73",
   "metadata": {},
   "source": [
    "### Reviews after deleting the stopwords and punctutaions."
   ]
  },
  {
   "cell_type": "code",
   "execution_count": 30,
   "id": "6a6c9f62",
   "metadata": {},
   "outputs": [
    {
     "data": {
      "text/plain": [
       "['really',\n",
       " 'appreciate',\n",
       " 'quality',\n",
       " 'timing',\n",
       " 'tried',\n",
       " 'thattil',\n",
       " 'kutti',\n",
       " 'dosa',\n",
       " \"'ve\",\n",
       " 'addicted',\n",
       " 'dosa',\n",
       " 'really',\n",
       " 'chutney',\n",
       " 'really',\n",
       " 'good',\n",
       " 'money',\n",
       " 'worth',\n",
       " 'much',\n",
       " 'better',\n",
       " 'thattukada',\n",
       " 'try']"
      ]
     },
     "execution_count": 30,
     "metadata": {},
     "output_type": "execute_result"
    }
   ],
   "source": [
    "del_stop(reviews_tokens[1])"
   ]
  },
  {
   "cell_type": "markdown",
   "id": "38257df7",
   "metadata": {},
   "source": [
    "### Using \"re\" to remove the punctuation."
   ]
  },
  {
   "cell_type": "code",
   "execution_count": 110,
   "id": "4bd1b265",
   "metadata": {},
   "outputs": [
    {
     "name": "stdout",
     "output_type": "stream",
     "text": [
      "a very decent place serving good food ordered chilli fish chicken  pork sizzler everything tasted good but pork could have been slightly better cooked tried 2 beverages both were very sweet\n"
     ]
    }
   ],
   "source": [
    "import string\n",
    "\n",
    "in_revi=reviews_lower[3]\n",
    "reslt= re.sub('[%s]' % re.escape(string.punctuation), '',in_revi)\n",
    "print(reslt)"
   ]
  },
  {
   "cell_type": "markdown",
   "id": "9994e003",
   "metadata": {},
   "source": [
    "### Complete Cleaning.\n",
    "\n",
    "Reviews after cleaning both stopwords and punctuation. For it contains only the meaningful words."
   ]
  },
  {
   "cell_type": "code",
   "execution_count": 31,
   "id": "2b89b8df",
   "metadata": {},
   "outputs": [],
   "source": [
    "reviews_clean = [del_stop(sent) for sent in reviews_tokens]"
   ]
  },
  {
   "cell_type": "code",
   "execution_count": 32,
   "id": "e84ab62a",
   "metadata": {},
   "outputs": [
    {
     "data": {
      "text/plain": [
       "['went friday night place surprisingly empty interesting menu almost fully made dosas bullseye dosa cheese masala dosa bullseye dosa really good egg perfectly cooked half boiled state masala cheese masala good cheese bit chewy liking chutney good sambar average dishes reasonably priced',\n",
       " 'decent place serving good food ordered chilli fish chicken pork sizzler everything tasted good pork could slightly better cooked tried 2 beverages sweet',\n",
       " 'one best places steaks city tried beef steak chili rum grilled fish orange jalapenos exceptionally good herbed rice mashed potatoes serves alongside equally delecatble service prompt zomato gold great steal steak lover place visit hope come another ourself somewhere cbd wish back soon bon appetit']"
      ]
     },
     "execution_count": 32,
     "metadata": {},
     "output_type": "execute_result"
    }
   ],
   "source": [
    "reviews_clean = [\" \".join(sent) for sent in reviews_clean]\n",
    "reviews_clean[2:5]"
   ]
  },
  {
   "cell_type": "code",
   "execution_count": 33,
   "id": "eb836bd8",
   "metadata": {},
   "outputs": [
    {
     "data": {
      "text/plain": [
       "27748"
      ]
     },
     "execution_count": 33,
     "metadata": {},
     "output_type": "execute_result"
    }
   ],
   "source": [
    "len(reviews_clean)"
   ]
  },
  {
   "cell_type": "markdown",
   "id": "45e5565a",
   "metadata": {},
   "source": [
    "## Training and validating the data."
   ]
  },
  {
   "cell_type": "markdown",
   "id": "d8d91c71",
   "metadata": {},
   "source": [
    "### Seperating x and y and performing traintest split"
   ]
  },
  {
   "cell_type": "code",
   "execution_count": 34,
   "id": "6a57f2a3",
   "metadata": {},
   "outputs": [
    {
     "data": {
      "text/plain": [
       "['service worst pricing menu different bill give bill increased pricing even serving water menu order need call 3-4 times even non busy day',\n",
       " \"really appreciate quality timing tried thattil kutti dosa 've addicted dosa really chutney really good money worth much better thattukada try\",\n",
       " 'went friday night place surprisingly empty interesting menu almost fully made dosas bullseye dosa cheese masala dosa bullseye dosa really good egg perfectly cooked half boiled state masala cheese masala good cheese bit chewy liking chutney good sambar average dishes reasonably priced',\n",
       " 'decent place serving good food ordered chilli fish chicken pork sizzler everything tasted good pork could slightly better cooked tried 2 beverages sweet',\n",
       " 'one best places steaks city tried beef steak chili rum grilled fish orange jalapenos exceptionally good herbed rice mashed potatoes serves alongside equally delecatble service prompt zomato gold great steal steak lover place visit hope come another ourself somewhere cbd wish back soon bon appetit',\n",
       " 'really lovely place steaks sizzlers tried whatã\\x83\\x83ã\\x82\\x83ã\\x83\\x82ã\\x82\\x82ã\\x83\\x83ã\\x82\\x82ã\\x83\\x82ã\\x82\\x92s steak flavourful delicious herb sauce one kind try ambience cozy right loved',\n",
       " \"place ia ultimate steak lovers chicken pork steaks scrumptious succulent tried honey mustard based steakcious 's steak two dishes tasty mocktails also quite good nice place awesome dine-out family friend\",\n",
       " \"'s shame n't tried upon flame lip smacking food first time licked off sizzler plate bloody good two us ordered fish chilly chicken steak sizzler pork steak sauce killer meat tender sides absolutely fresh end old salad sides mashed potatoes lot places served everything super fresh wish place runs packed house complaint drinks tad sweet highly recommended\",\n",
       " 'visited place tired hungry roaming around agra lake newly opened place name suggests specialty barbecued smoked food menu decent variety ..... food taste good ambiance likeable overall great place family dine',\n",
       " 'went yesterday dinner surprisingly place quite silent not much rush went take some sizzlers 2 people ordered 2 types sizzler chicken believe taste really yummy canã\\x83\\x83ã\\x82\\x83ã\\x83\\x82ã\\x82\\x82ã\\x83\\x83ã\\x82\\x82ã\\x83\\x82ã\\x82\\x92t resist eat another one sad already late closing time comes surely go soon food superb tasty ambience staffs everything good great experience highly recommended sizzler lovers',\n",
       " 'great restaurants serving amazing steaks super courteous staff see owner days floor taking orders serving ensuring food everything fine food amazing serving style portion taste right one restaurants make feel happy afterwards go meat steak burger cravings',\n",
       " \"location first floor next mcdonalds opposite punjabi rasoi ambience place dimly lit wooden chairs table- perfect setup steakhouse food drinks- pepper trail ordered per server 's recommendation not disappointed steak cooked perfection sauce perfectly complemented served along wt sides herbed rice mashed potatoes steamed veggies like virgin lemon soda ginger mint nojito virgin mojito chocolate mousse one perfect taste texture one best ever tasted price service-full marks service sunday night place crowded wait 15 mins service quick zomato 1+1 food help us save some money paid around rs 800 two ppl\",\n",
       " 'place famous steak ambience good not big restaurant not crowded weekends service decent try want semi healthy food',\n",
       " \"ambience peaceful comfortable seating yellow lights music light allows chat friends coming food ordered pepper trail steak grilled cottage cheese salad along mixed vegetable soup steak comes mashed potatoes rice grilled veggies steak perfectly cooked juicy mashed potatoes way yum think mixed cheese soup also creamy along lot vegetables salad ordered matbucha paprika dressing however n't like much paneer okay veggies n't seem fresh staff courteous enough accept zomato gold placed order service also prompt ambience 4/5 food 4/5 service 4.5/5\",\n",
       " 'primarily went try steaks quite huge spread varieties steaks friend tried beef steaks meat tender good thoroughly enjoyed ambience decent stuffs quite helpful friendly',\n",
       " '31st december dinner .. place crowded still managed get table ordered some fish chicken platters mocktails .. platters tasted good quantity less per price dishes .. mocktails not great .. due rush staffs quite busy attend table still trying best .. appreciate .. place dim lit overall ambiance good .. try',\n",
       " 'order chicken starch chicken steak quality service food excellent place visit thank wonderful service',\n",
       " 'wonder took long discover place bangalore 1st jan scrolling restaurants near hsr layout accidentally came across particular place probably best thing happened day ambience beautiful sitting arrangements setup everything top notch amazing people served food thanks person attended table kind lovely helpful order beef tenderloin pork steak mocktail delicious coming reasonable price .. looking forward visiting place sometime soon thanks wonderful evening team ouaf',\n",
       " 'nice place steak bangalore also vegetarian steak options isnã\\x83\\x83ã\\x82\\x83ã\\x83\\x82ã\\x82\\x82ã\\x83\\x83ã\\x82\\x82ã\\x83\\x82ã\\x82\\x92t amazing food tasty service pretty quick ambience pretty specially lights ceiling rates reasonable zomato gold membership itã\\x83\\x83ã\\x82\\x83ã\\x83\\x82ã\\x82\\x82ã\\x83\\x83ã\\x82\\x82ã\\x83\\x82ã\\x82\\x92s easy pocket give try crave steak',\n",
       " \"awesome food epic burgers especially loved service owner takes every attention detail every customer comes 'll give props chef 's food begin 1st time bengaluru quite impressed restaurant worthavisit mustvisit steakstastic epicburgers\",\n",
       " '31st december dinner .. place crowded still managed get table ordered some fish chicken platters mocktails .. platters tasted good quantity less per price dishes .. mocktails not great .. due rush staffs quite busy attend table still trying best .. appreciate .. place dim lit overall ambiance good .. try',\n",
       " 'order chicken starch chicken steak quality service food excellent place visit thank wonderful service',\n",
       " 'wonder took long discover place bangalore 1st jan scrolling restaurants near hsr layout accidentally came across particular place probably best thing happened day ambience beautiful sitting arrangements setup everything top notch amazing people served food thanks person attended table kind lovely helpful order beef tenderloin pork steak mocktail delicious coming reasonable price .. looking forward visiting place sometime soon thanks wonderful evening team ouaf',\n",
       " 'nice place steak bangalore also vegetarian steak options isnã\\x83\\x83ã\\x82\\x83ã\\x83\\x82ã\\x82\\x82ã\\x83\\x83ã\\x82\\x82ã\\x83\\x82ã\\x82\\x92t amazing food tasty service pretty quick ambience pretty specially lights ceiling rates reasonable zomato gold membership itã\\x83\\x83ã\\x82\\x83ã\\x83\\x82ã\\x82\\x82ã\\x83\\x83ã\\x82\\x82ã\\x83\\x82ã\\x82\\x92s easy pocket give try crave steak',\n",
       " \"awesome food epic burgers especially loved service owner takes every attention detail every customer comes 'll give props chef 's food begin 1st time bengaluru quite impressed restaurant worthavisit mustvisit steakstastic epicburgers\",\n",
       " '31st december dinner .. place crowded still managed get table ordered some fish chicken platters mocktails .. platters tasted good quantity less per price dishes .. mocktails not great .. due rush staffs quite busy attend table still trying best .. appreciate .. place dim lit overall ambiance good .. try',\n",
       " 'order chicken starch chicken steak quality service food excellent place visit thank wonderful service',\n",
       " 'wonder took long discover place bangalore 1st jan scrolling restaurants near hsr layout accidentally came across particular place probably best thing happened day ambience beautiful sitting arrangements setup everything top notch amazing people served food thanks person attended table kind lovely helpful order beef tenderloin pork steak mocktail delicious coming reasonable price .. looking forward visiting place sometime soon thanks wonderful evening team ouaf',\n",
       " 'nice place steak bangalore also vegetarian steak options isnã\\x83\\x83ã\\x82\\x83ã\\x83\\x82ã\\x82\\x82ã\\x83\\x83ã\\x82\\x82ã\\x83\\x82ã\\x82\\x92t amazing food tasty service pretty quick ambience pretty specially lights ceiling rates reasonable zomato gold membership itã\\x83\\x83ã\\x82\\x83ã\\x83\\x82ã\\x82\\x82ã\\x83\\x83ã\\x82\\x82ã\\x83\\x82ã\\x82\\x92s easy pocket give try crave steak',\n",
       " \"awesome food epic burgers especially loved service owner takes every attention detail every customer comes 'll give props chef 's food begin 1st time bengaluru quite impressed restaurant worthavisit mustvisit steakstastic epicburgers\",\n",
       " '31st december dinner .. place crowded still managed get table ordered some fish chicken platters mocktails .. platters tasted good quantity less per price dishes .. mocktails not great .. due rush staffs quite busy attend table still trying best .. appreciate .. place dim lit overall ambiance good .. try',\n",
       " 'order chicken starch chicken steak quality service food excellent place visit thank wonderful service',\n",
       " 'wonder took long discover place bangalore 1st jan scrolling restaurants near hsr layout accidentally came across particular place probably best thing happened day ambience beautiful sitting arrangements setup everything top notch amazing people served food thanks person attended table kind lovely helpful order beef tenderloin pork steak mocktail delicious coming reasonable price .. looking forward visiting place sometime soon thanks wonderful evening team ouaf',\n",
       " 'nice place steak bangalore also vegetarian steak options isnã\\x83\\x83ã\\x82\\x83ã\\x83\\x82ã\\x82\\x82ã\\x83\\x83ã\\x82\\x82ã\\x83\\x82ã\\x82\\x92t amazing food tasty service pretty quick ambience pretty specially lights ceiling rates reasonable zomato gold membership itã\\x83\\x83ã\\x82\\x83ã\\x83\\x82ã\\x82\\x82ã\\x83\\x83ã\\x82\\x82ã\\x83\\x82ã\\x82\\x92s easy pocket give try crave steak',\n",
       " \"awesome food epic burgers especially loved service owner takes every attention detail every customer comes 'll give props chef 's food begin 1st time bengaluru quite impressed restaurant worthavisit mustvisit steakstastic epicburgers\",\n",
       " '31st december dinner .. place crowded still managed get table ordered some fish chicken platters mocktails .. platters tasted good quantity less per price dishes .. mocktails not great .. due rush staffs quite busy attend table still trying best .. appreciate .. place dim lit overall ambiance good .. try',\n",
       " 'order chicken starch chicken steak quality service food excellent place visit thank wonderful service',\n",
       " 'wonder took long discover place bangalore 1st jan scrolling restaurants near hsr layout accidentally came across particular place probably best thing happened day ambience beautiful sitting arrangements setup everything top notch amazing people served food thanks person attended table kind lovely helpful order beef tenderloin pork steak mocktail delicious coming reasonable price .. looking forward visiting place sometime soon thanks wonderful evening team ouaf',\n",
       " 'nice place steak bangalore also vegetarian steak options isnã\\x83\\x83ã\\x82\\x83ã\\x83\\x82ã\\x82\\x82ã\\x83\\x83ã\\x82\\x82ã\\x83\\x82ã\\x82\\x92t amazing food tasty service pretty quick ambience pretty specially lights ceiling rates reasonable zomato gold membership itã\\x83\\x83ã\\x82\\x83ã\\x83\\x82ã\\x82\\x82ã\\x83\\x83ã\\x82\\x82ã\\x83\\x82ã\\x82\\x92s easy pocket give try crave steak',\n",
       " \"awesome food epic burgers especially loved service owner takes every attention detail every customer comes 'll give props chef 's food begin 1st time bengaluru quite impressed restaurant worthavisit mustvisit steakstastic epicburgers\",\n",
       " '31st december dinner .. place crowded still managed get table ordered some fish chicken platters mocktails .. platters tasted good quantity less per price dishes .. mocktails not great .. due rush staffs quite busy attend table still trying best .. appreciate .. place dim lit overall ambiance good .. try',\n",
       " 'order chicken starch chicken steak quality service food excellent place visit thank wonderful service',\n",
       " 'wonder took long discover place bangalore 1st jan scrolling restaurants near hsr layout accidentally came across particular place probably best thing happened day ambience beautiful sitting arrangements setup everything top notch amazing people served food thanks person attended table kind lovely helpful order beef tenderloin pork steak mocktail delicious coming reasonable price .. looking forward visiting place sometime soon thanks wonderful evening team ouaf',\n",
       " 'nice place steak bangalore also vegetarian steak options isnã\\x83\\x83ã\\x82\\x83ã\\x83\\x82ã\\x82\\x82ã\\x83\\x83ã\\x82\\x82ã\\x83\\x82ã\\x82\\x92t amazing food tasty service pretty quick ambience pretty specially lights ceiling rates reasonable zomato gold membership itã\\x83\\x83ã\\x82\\x83ã\\x83\\x82ã\\x82\\x82ã\\x83\\x83ã\\x82\\x82ã\\x83\\x82ã\\x82\\x92s easy pocket give try crave steak',\n",
       " \"awesome food epic burgers especially loved service owner takes every attention detail every customer comes 'll give props chef 's food begin 1st time bengaluru quite impressed restaurant worthavisit mustvisit steakstastic epicburgers\",\n",
       " '31st december dinner .. place crowded still managed get table ordered some fish chicken platters mocktails .. platters tasted good quantity less per price dishes .. mocktails not great .. due rush staffs quite busy attend table still trying best .. appreciate .. place dim lit overall ambiance good .. try',\n",
       " 'order chicken starch chicken steak quality service food excellent place visit thank wonderful service',\n",
       " 'wonder took long discover place bangalore 1st jan scrolling restaurants near hsr layout accidentally came across particular place probably best thing happened day ambience beautiful sitting arrangements setup everything top notch amazing people served food thanks person attended table kind lovely helpful order beef tenderloin pork steak mocktail delicious coming reasonable price .. looking forward visiting place sometime soon thanks wonderful evening team ouaf',\n",
       " 'nice place steak bangalore also vegetarian steak options isnã\\x83\\x83ã\\x82\\x83ã\\x83\\x82ã\\x82\\x82ã\\x83\\x83ã\\x82\\x82ã\\x83\\x82ã\\x82\\x92t amazing food tasty service pretty quick ambience pretty specially lights ceiling rates reasonable zomato gold membership itã\\x83\\x83ã\\x82\\x83ã\\x83\\x82ã\\x82\\x82ã\\x83\\x83ã\\x82\\x82ã\\x83\\x82ã\\x82\\x92s easy pocket give try crave steak',\n",
       " \"awesome food epic burgers especially loved service owner takes every attention detail every customer comes 'll give props chef 's food begin 1st time bengaluru quite impressed restaurant worthavisit mustvisit steakstastic epicburgers\",\n",
       " '31st december dinner .. place crowded still managed get table ordered some fish chicken platters mocktails .. platters tasted good quantity less per price dishes .. mocktails not great .. due rush staffs quite busy attend table still trying best .. appreciate .. place dim lit overall ambiance good .. try',\n",
       " 'order chicken starch chicken steak quality service food excellent place visit thank wonderful service',\n",
       " 'wonder took long discover place bangalore 1st jan scrolling restaurants near hsr layout accidentally came across particular place probably best thing happened day ambience beautiful sitting arrangements setup everything top notch amazing people served food thanks person attended table kind lovely helpful order beef tenderloin pork steak mocktail delicious coming reasonable price .. looking forward visiting place sometime soon thanks wonderful evening team ouaf',\n",
       " 'nice place steak bangalore also vegetarian steak options isnã\\x83\\x83ã\\x82\\x83ã\\x83\\x82ã\\x82\\x82ã\\x83\\x83ã\\x82\\x82ã\\x83\\x82ã\\x82\\x92t amazing food tasty service pretty quick ambience pretty specially lights ceiling rates reasonable zomato gold membership itã\\x83\\x83ã\\x82\\x83ã\\x83\\x82ã\\x82\\x82ã\\x83\\x83ã\\x82\\x82ã\\x83\\x82ã\\x82\\x92s easy pocket give try crave steak',\n",
       " \"awesome food epic burgers especially loved service owner takes every attention detail every customer comes 'll give props chef 's food begin 1st time bengaluru quite impressed restaurant worthavisit mustvisit steakstastic epicburgers\",\n",
       " 'steak steak steak perfectly cooked timed seared steak wide variety succulent variations various combinations steak burgers well always goto place craving steaks',\n",
       " 'night scenes romantic ambience great food polite staff quick service lunch scenes perfect place hangout chill enjoy great food place casual date night lunch friends enjoyed times steaks .. mazing try jack danial steak thing',\n",
       " 'place list long finally got chance visit place .. love steaks search ends no shortage delicious options .. order grilled buffalo wings starter sinbyfire treasure chest steak .. steaks well done juicy .... wings grilled perfection ended meal cocolime refreshing service nice prompt cordial price little higher side zomatogold saviour highly recommended place meat lovers like definitely visiting place try options ..',\n",
       " 'food decent sizzler costliest side taste good staffs also good ambiance could better renovate',\n",
       " 'steak steak steak perfectly cooked timed seared steak wide variety succulent variations various combinations steak burgers well always goto place craving steaks',\n",
       " 'night scenes romantic ambience great food polite staff quick service lunch scenes perfect place hangout chill enjoy great food place casual date night lunch friends enjoyed times steaks .. mazing try jack danial steak thing',\n",
       " 'place list long finally got chance visit place .. love steaks search ends no shortage delicious options .. order grilled buffalo wings starter sinbyfire treasure chest steak .. steaks well done juicy .... wings grilled perfection ended meal cocolime refreshing service nice prompt cordial price little higher side zomatogold saviour highly recommended place meat lovers like definitely visiting place try options ..',\n",
       " 'food decent sizzler costliest side taste good staffs also good ambiance could better renovate',\n",
       " 'steak steak steak perfectly cooked timed seared steak wide variety succulent variations various combinations steak burgers well always goto place craving steaks',\n",
       " 'night scenes romantic ambience great food polite staff quick service lunch scenes perfect place hangout chill enjoy great food place casual date night lunch friends enjoyed times steaks .. mazing try jack danial steak thing',\n",
       " 'place list long finally got chance visit place .. love steaks search ends no shortage delicious options .. order grilled buffalo wings starter sinbyfire treasure chest steak .. steaks well done juicy .... wings grilled perfection ended meal cocolime refreshing service nice prompt cordial price little higher side zomatogold saviour highly recommended place meat lovers like definitely visiting place try options ..',\n",
       " 'food decent sizzler costliest side taste good staffs also good ambiance could better renovate',\n",
       " 'steak steak steak perfectly cooked timed seared steak wide variety succulent variations various combinations steak burgers well always goto place craving steaks',\n",
       " 'night scenes romantic ambience great food polite staff quick service lunch scenes perfect place hangout chill enjoy great food place casual date night lunch friends enjoyed times steaks .. mazing try jack danial steak thing',\n",
       " 'place list long finally got chance visit place .. love steaks search ends no shortage delicious options .. order grilled buffalo wings starter sinbyfire treasure chest steak .. steaks well done juicy .... wings grilled perfection ended meal cocolime refreshing service nice prompt cordial price little higher side zomatogold saviour highly recommended place meat lovers like definitely visiting place try options ..',\n",
       " 'food decent sizzler costliest side taste good staffs also good ambiance could better renovate',\n",
       " 'steak steak steak perfectly cooked timed seared steak wide variety succulent variations various combinations steak burgers well always goto place craving steaks',\n",
       " 'night scenes romantic ambience great food polite staff quick service lunch scenes perfect place hangout chill enjoy great food place casual date night lunch friends enjoyed times steaks .. mazing try jack danial steak thing',\n",
       " 'place list long finally got chance visit place .. love steaks search ends no shortage delicious options .. order grilled buffalo wings starter sinbyfire treasure chest steak .. steaks well done juicy .... wings grilled perfection ended meal cocolime refreshing service nice prompt cordial price little higher side zomatogold saviour highly recommended place meat lovers like definitely visiting place try options ..',\n",
       " 'food decent sizzler costliest side taste good staffs also good ambiance could better renovate',\n",
       " 'steak steak steak perfectly cooked timed seared steak wide variety succulent variations various combinations steak burgers well always goto place craving steaks',\n",
       " 'night scenes romantic ambience great food polite staff quick service lunch scenes perfect place hangout chill enjoy great food place casual date night lunch friends enjoyed times steaks .. mazing try jack danial steak thing',\n",
       " 'place list long finally got chance visit place .. love steaks search ends no shortage delicious options .. order grilled buffalo wings starter sinbyfire treasure chest steak .. steaks well done juicy .... wings grilled perfection ended meal cocolime refreshing service nice prompt cordial price little higher side zomatogold saviour highly recommended place meat lovers like definitely visiting place try options ..',\n",
       " 'food decent sizzler costliest side taste good staffs also good ambiance could better renovate',\n",
       " 'steak steak steak perfectly cooked timed seared steak wide variety succulent variations various combinations steak burgers well always goto place craving steaks',\n",
       " 'night scenes romantic ambience great food polite staff quick service lunch scenes perfect place hangout chill enjoy great food place casual date night lunch friends enjoyed times steaks .. mazing try jack danial steak thing',\n",
       " 'place list long finally got chance visit place .. love steaks search ends no shortage delicious options .. order grilled buffalo wings starter sinbyfire treasure chest steak .. steaks well done juicy .... wings grilled perfection ended meal cocolime refreshing service nice prompt cordial price little higher side zomatogold saviour highly recommended place meat lovers like definitely visiting place try options ..',\n",
       " 'food decent sizzler costliest side taste good staffs also good ambiance could better renovate',\n",
       " 'love steaks search ends come hsr get types steaks would love apart get biggy buffy mouth watering burgers staffs friendly really appreciate present manager/head place anticipated wrong order placed would love visit specifically steaks',\n",
       " \"really amazing place hang hsr layout bangalore ambience equisite hotel staff courteous polite prompt quick delivering ordered 's steak alfredo penne pasta deliciously prepared pasta could better steak war excellent price bit higher side zomato gold sure help billing great food great ambience great service try restaurant\",\n",
       " 'food good steak well done also ordered chicken sizzler sauce hot liked ambience not mark',\n",
       " \"two words excellent food n't look appealing outside go satisfy taste buds chicken burger stake blueberry cheesecake delicious worth price service 4.5/5 ambience mediocre food 5/5\",\n",
       " 'love steaks search ends come hsr get types steaks would love apart get biggy buffy mouth watering burgers staffs friendly really appreciate present manager/head place anticipated wrong order placed would love visit specifically steaks',\n",
       " \"really amazing place hang hsr layout bangalore ambience equisite hotel staff courteous polite prompt quick delivering ordered 's steak alfredo penne pasta deliciously prepared pasta could better steak war excellent price bit higher side zomato gold sure help billing great food great ambience great service try restaurant\",\n",
       " 'food good steak well done also ordered chicken sizzler sauce hot liked ambience not mark',\n",
       " \"two words excellent food n't look appealing outside go satisfy taste buds chicken burger stake blueberry cheesecake delicious worth price service 4.5/5 ambience mediocre food 5/5\",\n",
       " 'love steaks search ends come hsr get types steaks would love apart get biggy buffy mouth watering burgers staffs friendly really appreciate present manager/head place anticipated wrong order placed would love visit specifically steaks',\n",
       " \"really amazing place hang hsr layout bangalore ambience equisite hotel staff courteous polite prompt quick delivering ordered 's steak alfredo penne pasta deliciously prepared pasta could better steak war excellent price bit higher side zomato gold sure help billing great food great ambience great service try restaurant\",\n",
       " 'food good steak well done also ordered chicken sizzler sauce hot liked ambience not mark',\n",
       " \"two words excellent food n't look appealing outside go satisfy taste buds chicken burger stake blueberry cheesecake delicious worth price service 4.5/5 ambience mediocre food 5/5\",\n",
       " 'love steaks search ends come hsr get types steaks would love apart get biggy buffy mouth watering burgers staffs friendly really appreciate present manager/head place anticipated wrong order placed would love visit specifically steaks',\n",
       " \"really amazing place hang hsr layout bangalore ambience equisite hotel staff courteous polite prompt quick delivering ordered 's steak alfredo penne pasta deliciously prepared pasta could better steak war excellent price bit higher side zomato gold sure help billing great food great ambience great service try restaurant\",\n",
       " 'food good steak well done also ordered chicken sizzler sauce hot liked ambience not mark',\n",
       " \"two words excellent food n't look appealing outside go satisfy taste buds chicken burger stake blueberry cheesecake delicious worth price service 4.5/5 ambience mediocre food 5/5\",\n",
       " 'love steaks search ends come hsr get types steaks would love apart get biggy buffy mouth watering burgers staffs friendly really appreciate present manager/head place anticipated wrong order placed would love visit specifically steaks',\n",
       " \"really amazing place hang hsr layout bangalore ambience equisite hotel staff courteous polite prompt quick delivering ordered 's steak alfredo penne pasta deliciously prepared pasta could better steak war excellent price bit higher side zomato gold sure help billing great food great ambience great service try restaurant\",\n",
       " 'food good steak well done also ordered chicken sizzler sauce hot liked ambience not mark',\n",
       " \"two words excellent food n't look appealing outside go satisfy taste buds chicken burger stake blueberry cheesecake delicious worth price service 4.5/5 ambience mediocre food 5/5\",\n",
       " 'love steaks search ends come hsr get types steaks would love apart get biggy buffy mouth watering burgers staffs friendly really appreciate present manager/head place anticipated wrong order placed would love visit specifically steaks',\n",
       " \"really amazing place hang hsr layout bangalore ambience equisite hotel staff courteous polite prompt quick delivering ordered 's steak alfredo penne pasta deliciously prepared pasta could better steak war excellent price bit higher side zomato gold sure help billing great food great ambience great service try restaurant\",\n",
       " 'food good steak well done also ordered chicken sizzler sauce hot liked ambience not mark',\n",
       " \"two words excellent food n't look appealing outside go satisfy taste buds chicken burger stake blueberry cheesecake delicious worth price service 4.5/5 ambience mediocre food 5/5\",\n",
       " \"food good except spices like bland food might like place else 's no saw menu written spiciest dish confirmed waiter food sad cottage cheese steak good veggies n mash potato bad however liked two things cocolime something new last served shot glass cinnamon tea best among\",\n",
       " 'ordered chicken wings hot flames drink chicken mushroom sizzler spaghetti bolognese chicken wings tiny not much meat pasta okay chicken weird taste sizzler good drink delicious well',\n",
       " \"located busy street hsr upon flame serves quite good steaks reasonable price tried 's steak pork ribs steak apart fact chicken sizzler bit salty side happy place ambience also quite nice\",\n",
       " \"food good except spices like bland food might like place else 's no saw menu written spiciest dish confirmed waiter food sad cottage cheese steak good veggies n mash potato bad however liked two things cocolime something new last served shot glass cinnamon tea best among\",\n",
       " 'ordered chicken wings hot flames drink chicken mushroom sizzler spaghetti bolognese chicken wings tiny not much meat pasta okay chicken weird taste sizzler good drink delicious well',\n",
       " \"located busy street hsr upon flame serves quite good steaks reasonable price tried 's steak pork ribs steak apart fact chicken sizzler bit salty side happy place ambience also quite nice\",\n",
       " \"food good except spices like bland food might like place else 's no saw menu written spiciest dish confirmed waiter food sad cottage cheese steak good veggies n mash potato bad however liked two things cocolime something new last served shot glass cinnamon tea best among\",\n",
       " 'ordered chicken wings hot flames drink chicken mushroom sizzler spaghetti bolognese chicken wings tiny not much meat pasta okay chicken weird taste sizzler good drink delicious well',\n",
       " \"located busy street hsr upon flame serves quite good steaks reasonable price tried 's steak pork ribs steak apart fact chicken sizzler bit salty side happy place ambience also quite nice\",\n",
       " 'go place mood perfectly cooked steak best part restaurant zomato gold partner brownie points service reached late around 10:30 ones restaurant weekday time staff super polite patient thoroughly enjoyed meal',\n",
       " \"ok. 5 stars location walkable distance bda complex parked vehicle parking pov excellent location easily locate main road customer service happy smiling people sold moment walked someone came took helmets something loved greeting warm friendly music owner need playlist please last food man oh man starving week let 's realistic check menu step inside non vegetarian food say stomach happy captain jack 's special honey flamed steak oh steak perfect details please visit place n't space left ages wanted everything offer menu excellent job guys proud relapse veg food steak worth\",\n",
       " \"location hsr layout sector 3 ambience nice soothing music background food n drinks food taste ok drinks nice staff service staff polite n friendly quick service cost average 900 two nice place meeting someone vegetarian wo n't getting much options tried cheesy alfredo pasta desi anyone dish name panner mashed potato rice drinks mojito chocolate milk shake pasta good cheesy dish ok ok. drinks quite good one time visit recommend\",\n",
       " 'mood some mouth watering continental food visit simply amazing food tried chicken wings simply yum place zomato gold partner items tasted garlic bread chicken wings pork knight rises steak captain jack daniels chicken steak cheese penne alfredo place small ambience service good value money try place friends family visit love continental food overall rating 4/5',\n",
       " 'perfect place casual lunch got spread steaks please choose mocktails correctly some awesome pathetic taste ordered variety steaks made perfection staff friendly owner/manager takes order ensures customers satisfied food',\n",
       " 'go place mood perfectly cooked steak best part restaurant zomato gold partner brownie points service reached late around 10:30 ones restaurant weekday time staff super polite patient thoroughly enjoyed meal',\n",
       " \"ok. 5 stars location walkable distance bda complex parked vehicle parking pov excellent location easily locate main road customer service happy smiling people sold moment walked someone came took helmets something loved greeting warm friendly music owner need playlist please last food man oh man starving week let 's realistic check menu step inside non vegetarian food say stomach happy captain jack 's special honey flamed steak oh steak perfect details please visit place n't space left ages wanted everything offer menu excellent job guys proud relapse veg food steak worth\",\n",
       " \"location hsr layout sector 3 ambience nice soothing music background food n drinks food taste ok drinks nice staff service staff polite n friendly quick service cost average 900 two nice place meeting someone vegetarian wo n't getting much options tried cheesy alfredo pasta desi anyone dish name panner mashed potato rice drinks mojito chocolate milk shake pasta good cheesy dish ok ok. drinks quite good one time visit recommend\",\n",
       " 'mood some mouth watering continental food visit simply amazing food tried chicken wings simply yum place zomato gold partner items tasted garlic bread chicken wings pork knight rises steak captain jack daniels chicken steak cheese penne alfredo place small ambience service good value money try place friends family visit love continental food overall rating 4/5',\n",
       " 'perfect place casual lunch got spread steaks please choose mocktails correctly some awesome pathetic taste ordered variety steaks made perfection staff friendly owner/manager takes order ensures customers satisfied food',\n",
       " 'go place mood perfectly cooked steak best part restaurant zomato gold partner brownie points service reached late around 10:30 ones restaurant weekday time staff super polite patient thoroughly enjoyed meal',\n",
       " \"ok. 5 stars location walkable distance bda complex parked vehicle parking pov excellent location easily locate main road customer service happy smiling people sold moment walked someone came took helmets something loved greeting warm friendly music owner need playlist please last food man oh man starving week let 's realistic check menu step inside non vegetarian food say stomach happy captain jack 's special honey flamed steak oh steak perfect details please visit place n't space left ages wanted everything offer menu excellent job guys proud relapse veg food steak worth\",\n",
       " \"location hsr layout sector 3 ambience nice soothing music background food n drinks food taste ok drinks nice staff service staff polite n friendly quick service cost average 900 two nice place meeting someone vegetarian wo n't getting much options tried cheesy alfredo pasta desi anyone dish name panner mashed potato rice drinks mojito chocolate milk shake pasta good cheesy dish ok ok. drinks quite good one time visit recommend\",\n",
       " 'mood some mouth watering continental food visit simply amazing food tried chicken wings simply yum place zomato gold partner items tasted garlic bread chicken wings pork knight rises steak captain jack daniels chicken steak cheese penne alfredo place small ambience service good value money try place friends family visit love continental food overall rating 4/5',\n",
       " 'perfect place casual lunch got spread steaks please choose mocktails correctly some awesome pathetic taste ordered variety steaks made perfection staff friendly owner/manager takes order ensures customers satisfied food',\n",
       " 'location restaurant convenient easy spot food alright ordered fish steak beef steak fish better beef dishes came good portion mashed potatoes creamy delicious some fragrant rice sautã\\x83\\x83ã\\x82\\x83ã\\x83\\x82ã\\x82\\x83ã\\x83\\x83ã\\x82\\x82ã\\x83\\x82ã\\x82â©ed veggies overall would rate fish mark go 4/5 beef steakalypse 3/5 worth try',\n",
       " 'food ambiance good furniture decor classy staff courteous service prompt steak tried steak sauce good',\n",
       " \"finally found decent place hsr searching one restaurant time past 4 weeks place steaks burgers staff super prompt served fastest sizzler ever however 's problem taste n't quite live th cleanliness promptness service not steak ordered rest stuff ordered table coolers really nice though cheese bread would hope work taste would like visit find one off bad day kitchen everything else deserve overall 4/5\",\n",
       " 'location restaurant convenient easy spot food alright ordered fish steak beef steak fish better beef dishes came good portion mashed potatoes creamy delicious some fragrant rice sautã\\x83\\x83ã\\x82\\x83ã\\x83\\x82ã\\x82\\x83ã\\x83\\x83ã\\x82\\x82ã\\x83\\x82ã\\x82â©ed veggies overall would rate fish mark go 4/5 beef steakalypse 3/5 worth try',\n",
       " 'food ambiance good furniture decor classy staff courteous service prompt steak tried steak sauce good',\n",
       " \"finally found decent place hsr searching one restaurant time past 4 weeks place steaks burgers staff super prompt served fastest sizzler ever however 's problem taste n't quite live th cleanliness promptness service not steak ordered rest stuff ordered table coolers really nice though cheese bread would hope work taste would like visit find one off bad day kitchen everything else deserve overall 4/5\",\n",
       " 'location restaurant convenient easy spot food alright ordered fish steak beef steak fish better beef dishes came good portion mashed potatoes creamy delicious some fragrant rice sautã\\x83\\x83ã\\x82\\x83ã\\x83\\x82ã\\x82\\x83ã\\x83\\x83ã\\x82\\x82ã\\x83\\x82ã\\x82â©ed veggies overall would rate fish mark go 4/5 beef steakalypse 3/5 worth try',\n",
       " 'food ambiance good furniture decor classy staff courteous service prompt steak tried steak sauce good',\n",
       " \"finally found decent place hsr searching one restaurant time past 4 weeks place steaks burgers staff super prompt served fastest sizzler ever however 's problem taste n't quite live th cleanliness promptness service not steak ordered rest stuff ordered table coolers really nice though cheese bread would hope work taste would like visit find one off bad day kitchen everything else deserve overall 4/5\",\n",
       " 'cosy place.in starters basil fish sticks.we wanted steaks ordered treasure chest steak chicken captain jack special steak chicken honey flamed steak pork one .food desserts super awesome.definitely calls second visit',\n",
       " \"try baby pork ribs say 's best town jack daniels steak try great service ambience -4.5/5 food -5/5 service -5/5\",\n",
       " 'absolutely love interiors restaurant lots movie posters hanging brick walls dim restaurant lighting added charm decor started garlic bread oh god heavenly garlic taste perfect flavor toned therefore not really strong pasta burgers mouthwatering every spice added new aroma flavor food veg burger some scope improvement pasta exceptionally good cold coffee freshly prepared sugar amount perfect food worth every penny spend would highly recommend place',\n",
       " 'cosy place.in starters basil fish sticks.we wanted steaks ordered treasure chest steak chicken captain jack special steak chicken honey flamed steak pork one .food desserts super awesome.definitely calls second visit',\n",
       " \"try baby pork ribs say 's best town jack daniels steak try great service ambience -4.5/5 food -5/5 service -5/5\",\n",
       " 'absolutely love interiors restaurant lots movie posters hanging brick walls dim restaurant lighting added charm decor started garlic bread oh god heavenly garlic taste perfect flavor toned therefore not really strong pasta burgers mouthwatering every spice added new aroma flavor food veg burger some scope improvement pasta exceptionally good cold coffee freshly prepared sugar amount perfect food worth every penny spend would highly recommend place',\n",
       " 'cosy place.in starters basil fish sticks.we wanted steaks ordered treasure chest steak chicken captain jack special steak chicken honey flamed steak pork one .food desserts super awesome.definitely calls second visit',\n",
       " \"try baby pork ribs say 's best town jack daniels steak try great service ambience -4.5/5 food -5/5 service -5/5\",\n",
       " 'absolutely love interiors restaurant lots movie posters hanging brick walls dim restaurant lighting added charm decor started garlic bread oh god heavenly garlic taste perfect flavor toned therefore not really strong pasta burgers mouthwatering every spice added new aroma flavor food veg burger some scope improvement pasta exceptionally good cold coffee freshly prepared sugar amount perfect food worth every penny spend would highly recommend place',\n",
       " 'went monday night not crowded called ahead table ready 8 us itã\\x83\\x83ã\\x82\\x83ã\\x83\\x82ã\\x82\\x82ã\\x83\\x83ã\\x82\\x82ã\\x83\\x82ã\\x82\\x92s little tough find place since really small board outside google address takes us anyway cosy place nice meeting friends top really interesting menu options meat also good collection books meat serve juicy delicious one friends vegetarian loved vegetarian options well try captain jackã\\x83\\x83ã\\x82\\x83ã\\x83\\x82ã\\x82\\x82ã\\x83\\x83ã\\x82\\x82ã\\x83\\x82ã\\x82\\x92s special steak jack daniel sauce raging bull steak pan fried rice- beef coco lime',\n",
       " \"'re craving some steak burger search no best steaks sizzlers bangalore patties fresh sauces flavoursome quantities wholesome definitely try\",\n",
       " 'saw place offer nearby searching some good places sizzlers bangalore ordered 2 variants veg sizzlers one cottage cheese cheesy mushrooms served some mashed potato rice really tasty fav mushroom one also best part ask rice want happily accomodate overall sumptuous meal satisfy cravings sizzlers',\n",
       " 'serve some good steak really stood mashed potatoes easily creamy consistent mashed potatoes iã\\x83\\x83ã\\x82\\x83ã\\x83\\x82ã\\x82\\x82ã\\x83\\x83ã\\x82\\x82ã\\x83\\x82ã\\x82\\x92ve ever weã\\x83\\x83ã\\x82\\x83ã\\x83\\x82ã\\x82\\x82ã\\x83\\x83ã\\x82\\x82ã\\x83\\x82ã\\x82\\x92d ordered whatã\\x83\\x83ã\\x82\\x83ã\\x83\\x82ã\\x82\\x82ã\\x83\\x83ã\\x82\\x82ã\\x83\\x82ã\\x82\\x92s steak steakalypse tasted good although werenã\\x83\\x83ã\\x82\\x83ã\\x83\\x82ã\\x82\\x82ã\\x83\\x83ã\\x82\\x82ã\\x83\\x82ã\\x82\\x92t happy chilli shrimp starter ordered didnã\\x83\\x83ã\\x82\\x83ã\\x83\\x82ã\\x82\\x82ã\\x83\\x83ã\\x82\\x82ã\\x83\\x82ã\\x82\\x92t taste fresh owner accommodating enough replace shrimp starter different dish ambience chill staff perfectly attentive funnily mashed potatoes stole show',\n",
       " 'went monday night not crowded called ahead table ready 8 us itã\\x83\\x83ã\\x82\\x83ã\\x83\\x82ã\\x82\\x82ã\\x83\\x83ã\\x82\\x82ã\\x83\\x82ã\\x82\\x92s little tough find place since really small board outside google address takes us anyway cosy place nice meeting friends top really interesting menu options meat also good collection books meat serve juicy delicious one friends vegetarian loved vegetarian options well try captain jackã\\x83\\x83ã\\x82\\x83ã\\x83\\x82ã\\x82\\x82ã\\x83\\x83ã\\x82\\x82ã\\x83\\x82ã\\x82\\x92s special steak jack daniel sauce raging bull steak pan fried rice- beef coco lime',\n",
       " \"'re craving some steak burger search no best steaks sizzlers bangalore patties fresh sauces flavoursome quantities wholesome definitely try\",\n",
       " 'saw place offer nearby searching some good places sizzlers bangalore ordered 2 variants veg sizzlers one cottage cheese cheesy mushrooms served some mashed potato rice really tasty fav mushroom one also best part ask rice want happily accomodate overall sumptuous meal satisfy cravings sizzlers',\n",
       " 'serve some good steak really stood mashed potatoes easily creamy consistent mashed potatoes iã\\x83\\x83ã\\x82\\x83ã\\x83\\x82ã\\x82\\x82ã\\x83\\x83ã\\x82\\x82ã\\x83\\x82ã\\x82\\x92ve ever weã\\x83\\x83ã\\x82\\x83ã\\x83\\x82ã\\x82\\x82ã\\x83\\x83ã\\x82\\x82ã\\x83\\x82ã\\x82\\x92d ordered whatã\\x83\\x83ã\\x82\\x83ã\\x83\\x82ã\\x82\\x82ã\\x83\\x83ã\\x82\\x82ã\\x83\\x82ã\\x82\\x92s steak steakalypse tasted good although werenã\\x83\\x83ã\\x82\\x83ã\\x83\\x82ã\\x82\\x82ã\\x83\\x83ã\\x82\\x82ã\\x83\\x82ã\\x82\\x92t happy chilli shrimp starter ordered didnã\\x83\\x83ã\\x82\\x83ã\\x83\\x82ã\\x82\\x82ã\\x83\\x83ã\\x82\\x82ã\\x83\\x82ã\\x82\\x92t taste fresh owner accommodating enough replace shrimp starter different dish ambience chill staff perfectly attentive funnily mashed potatoes stole show',\n",
       " 'went monday night not crowded called ahead table ready 8 us itã\\x83\\x83ã\\x82\\x83ã\\x83\\x82ã\\x82\\x82ã\\x83\\x83ã\\x82\\x82ã\\x83\\x82ã\\x82\\x92s little tough find place since really small board outside google address takes us anyway cosy place nice meeting friends top really interesting menu options meat also good collection books meat serve juicy delicious one friends vegetarian loved vegetarian options well try captain jackã\\x83\\x83ã\\x82\\x83ã\\x83\\x82ã\\x82\\x82ã\\x83\\x83ã\\x82\\x82ã\\x83\\x82ã\\x82\\x92s special steak jack daniel sauce raging bull steak pan fried rice- beef coco lime',\n",
       " \"'re craving some steak burger search no best steaks sizzlers bangalore patties fresh sauces flavoursome quantities wholesome definitely try\",\n",
       " 'saw place offer nearby searching some good places sizzlers bangalore ordered 2 variants veg sizzlers one cottage cheese cheesy mushrooms served some mashed potato rice really tasty fav mushroom one also best part ask rice want happily accomodate overall sumptuous meal satisfy cravings sizzlers',\n",
       " 'serve some good steak really stood mashed potatoes easily creamy consistent mashed potatoes iã\\x83\\x83ã\\x82\\x83ã\\x83\\x82ã\\x82\\x82ã\\x83\\x83ã\\x82\\x82ã\\x83\\x82ã\\x82\\x92ve ever weã\\x83\\x83ã\\x82\\x83ã\\x83\\x82ã\\x82\\x82ã\\x83\\x83ã\\x82\\x82ã\\x83\\x82ã\\x82\\x92d ordered whatã\\x83\\x83ã\\x82\\x83ã\\x83\\x82ã\\x82\\x82ã\\x83\\x83ã\\x82\\x82ã\\x83\\x82ã\\x82\\x92s steak steakalypse tasted good although werenã\\x83\\x83ã\\x82\\x83ã\\x83\\x82ã\\x82\\x82ã\\x83\\x83ã\\x82\\x82ã\\x83\\x82ã\\x82\\x92t happy chilli shrimp starter ordered didnã\\x83\\x83ã\\x82\\x83ã\\x83\\x82ã\\x82\\x82ã\\x83\\x83ã\\x82\\x82ã\\x83\\x82ã\\x82\\x92t taste fresh owner accommodating enough replace shrimp starter different dish ambience chill staff perfectly attentive funnily mashed potatoes stole show',\n",
       " 'happened visit place recent trip bangalore group 6 ordered lot dishes unable recall names dishes ordered baby back ribs mojitos shakes steaks service great looking forward visits forgot click photos excitement ..',\n",
       " 'absolute heaven carnivores some best meat long time bangalore ordered platter came chicken wings stir-fried beef pork chops wanted some seafood spoke owner nishant super helpful threw bunch grilled prawns chicken wings juicy well seasoned stir fried beef yummy prawns served nice spicy chimichuri highlight pork chops yummy finger licking good cooked extremely well main course pork burger extra egg bacon pork nice chunky not usual mince patty one gets everywhere bacon cooked perfection definitely place shall visit hear medium rare steak calling',\n",
       " 'perfect weekend lunch went little early seated immediately despite going early tables occupied shows popularity restaurant ordered chicken cheese onion rings mind blowing even sauce accompaniment subtle taste main course beef mince burger jack danielã\\x83\\x83ã\\x82\\x83ã\\x83\\x82ã\\x82\\x82ã\\x83\\x83ã\\x82\\x82ã\\x83\\x82ã\\x82\\x92s sauce burger succulent moist bun soft kid ordered chicken mince burger without sauce tasted good kid fussy eater loved burger also ordered django unsteaked steak asked medium rare cooked right pepper sauce really good asked extra helping owner takes particular interest recommends right dishes like said wonderful weekend lunch drawback need hunt neighbourhood parking spot takes time',\n",
       " 'seems like one well off restaurants hsr kinda gives posh vibe food good quantity quality wise recommend dishes spaghetti bolognese chicken mince burger mushy ã\\x83\\x83ã\\x82\\x83ã\\x83\\x82ã\\x82\\x82ã\\x83\\x83ã\\x82\\x82ã\\x83\\x82ã\\x82\\x91bout captain jackã\\x83\\x83ã\\x82\\x83ã\\x83\\x82ã\\x82\\x82ã\\x83\\x83ã\\x82\\x82ã\\x83\\x82ã\\x82\\x92s special',\n",
       " '30-08-2018. lunch time absolutely loved place not much lights yet brightened place staff perfect really served us royally since first_step_in last_step_out 10/10 wedges spicy red chilli not really spicy though like regular wedges chilli tasted sauce not spicy sizzling steak tasted top class along sauce last not least monkey trouble amazing really liked blend made oh peanut butter rich init totally worth thanks zomato 1+1 next time onceuponaflame nice name',\n",
       " 'happened visit place recent trip bangalore group 6 ordered lot dishes unable recall names dishes ordered baby back ribs mojitos shakes steaks service great looking forward visits forgot click photos excitement ..',\n",
       " 'absolute heaven carnivores some best meat long time bangalore ordered platter came chicken wings stir-fried beef pork chops wanted some seafood spoke owner nishant super helpful threw bunch grilled prawns chicken wings juicy well seasoned stir fried beef yummy prawns served nice spicy chimichuri highlight pork chops yummy finger licking good cooked extremely well main course pork burger extra egg bacon pork nice chunky not usual mince patty one gets everywhere bacon cooked perfection definitely place shall visit hear medium rare steak calling',\n",
       " 'perfect weekend lunch went little early seated immediately despite going early tables occupied shows popularity restaurant ordered chicken cheese onion rings mind blowing even sauce accompaniment subtle taste main course beef mince burger jack danielã\\x83\\x83ã\\x82\\x83ã\\x83\\x82ã\\x82\\x82ã\\x83\\x83ã\\x82\\x82ã\\x83\\x82ã\\x82\\x92s sauce burger succulent moist bun soft kid ordered chicken mince burger without sauce tasted good kid fussy eater loved burger also ordered django unsteaked steak asked medium rare cooked right pepper sauce really good asked extra helping owner takes particular interest recommends right dishes like said wonderful weekend lunch drawback need hunt neighbourhood parking spot takes time',\n",
       " 'seems like one well off restaurants hsr kinda gives posh vibe food good quantity quality wise recommend dishes spaghetti bolognese chicken mince burger mushy ã\\x83\\x83ã\\x82\\x83ã\\x83\\x82ã\\x82\\x82ã\\x83\\x83ã\\x82\\x82ã\\x83\\x82ã\\x82\\x91bout captain jackã\\x83\\x83ã\\x82\\x83ã\\x83\\x82ã\\x82\\x82ã\\x83\\x83ã\\x82\\x82ã\\x83\\x82ã\\x82\\x92s special',\n",
       " '30-08-2018. lunch time absolutely loved place not much lights yet brightened place staff perfect really served us royally since first_step_in last_step_out 10/10 wedges spicy red chilli not really spicy though like regular wedges chilli tasted sauce not spicy sizzling steak tasted top class along sauce last not least monkey trouble amazing really liked blend made oh peanut butter rich init totally worth thanks zomato 1+1 next time onceuponaflame nice name',\n",
       " 'happened visit place recent trip bangalore group 6 ordered lot dishes unable recall names dishes ordered baby back ribs mojitos shakes steaks service great looking forward visits forgot click photos excitement ..',\n",
       " 'absolute heaven carnivores some best meat long time bangalore ordered platter came chicken wings stir-fried beef pork chops wanted some seafood spoke owner nishant super helpful threw bunch grilled prawns chicken wings juicy well seasoned stir fried beef yummy prawns served nice spicy chimichuri highlight pork chops yummy finger licking good cooked extremely well main course pork burger extra egg bacon pork nice chunky not usual mince patty one gets everywhere bacon cooked perfection definitely place shall visit hear medium rare steak calling',\n",
       " 'perfect weekend lunch went little early seated immediately despite going early tables occupied shows popularity restaurant ordered chicken cheese onion rings mind blowing even sauce accompaniment subtle taste main course beef mince burger jack danielã\\x83\\x83ã\\x82\\x83ã\\x83\\x82ã\\x82\\x82ã\\x83\\x83ã\\x82\\x82ã\\x83\\x82ã\\x82\\x92s sauce burger succulent moist bun soft kid ordered chicken mince burger without sauce tasted good kid fussy eater loved burger also ordered django unsteaked steak asked medium rare cooked right pepper sauce really good asked extra helping owner takes particular interest recommends right dishes like said wonderful weekend lunch drawback need hunt neighbourhood parking spot takes time',\n",
       " 'seems like one well off restaurants hsr kinda gives posh vibe food good quantity quality wise recommend dishes spaghetti bolognese chicken mince burger mushy ã\\x83\\x83ã\\x82\\x83ã\\x83\\x82ã\\x82\\x82ã\\x83\\x83ã\\x82\\x82ã\\x83\\x82ã\\x82\\x91bout captain jackã\\x83\\x83ã\\x82\\x83ã\\x83\\x82ã\\x82\\x82ã\\x83\\x83ã\\x82\\x82ã\\x83\\x82ã\\x82\\x92s special',\n",
       " '30-08-2018. lunch time absolutely loved place not much lights yet brightened place staff perfect really served us royally since first_step_in last_step_out 10/10 wedges spicy red chilli not really spicy though like regular wedges chilli tasted sauce not spicy sizzling steak tasted top class along sauce last not least monkey trouble amazing really liked blend made oh peanut butter rich init totally worth thanks zomato 1+1 next time onceuponaflame nice name',\n",
       " 'steaks awesome added amazingly tasting mashed potato staffs friendly courteous would surely recommend others give shot',\n",
       " 'first steak 🥩 try worth hype tried cottage cheese steaks fresh yummy cottage cheese veggies jack daniels sauce thumbs starter potato wedges not like drink even mint artificial essence',\n",
       " 'craving some sizzler steak right place visit went lunch ordered pepper trial basically grilled chicken garlic pepper sauce sin fire chicken steak hot paprika sauce served rice vegetables mashed potatoes food great ambience also awesome staffs attentive service best',\n",
       " 'steaks awesome added amazingly tasting mashed potato staffs friendly courteous would surely recommend others give shot',\n",
       " 'first steak 🥩 try worth hype tried cottage cheese steaks fresh yummy cottage cheese veggies jack daniels sauce thumbs starter potato wedges not like drink even mint artificial essence',\n",
       " 'craving some sizzler steak right place visit went lunch ordered pepper trial basically grilled chicken garlic pepper sauce sin fire chicken steak hot paprika sauce served rice vegetables mashed potatoes food great ambience also awesome staffs attentive service best',\n",
       " 'steaks awesome added amazingly tasting mashed potato staffs friendly courteous would surely recommend others give shot',\n",
       " 'first steak 🥩 try worth hype tried cottage cheese steaks fresh yummy cottage cheese veggies jack daniels sauce thumbs starter potato wedges not like drink even mint artificial essence',\n",
       " 'craving some sizzler steak right place visit went lunch ordered pepper trial basically grilled chicken garlic pepper sauce sin fire chicken steak hot paprika sauce served rice vegetables mashed potatoes food great ambience also awesome staffs attentive service best',\n",
       " 'steaks awesome added amazingly tasting mashed potato staffs friendly courteous would surely recommend others give shot',\n",
       " 'first steak 🥩 try worth hype tried cottage cheese steaks fresh yummy cottage cheese veggies jack daniels sauce thumbs starter potato wedges not like drink even mint artificial essence',\n",
       " 'craving some sizzler steak right place visit went lunch ordered pepper trial basically grilled chicken garlic pepper sauce sin fire chicken steak hot paprika sauce served rice vegetables mashed potatoes food great ambience also awesome staffs attentive service best',\n",
       " 'food good ambience soothing menu well organised drinks quite inovative tasty food 4/5 ambience 3/5 service 4.5/5 value money 4/5',\n",
       " 'place not crowded food not spicy foods bland taste price bit high feel compared food',\n",
       " \"ca n't say 've become fan place yes 've liked almost 80 ordered since group 11 member tried different types steaks along veg non-veg starter platter nice yummy good quantity something wrong prawns non-veg platter either cooked not fresh fish steaks good chicken bit hard interior pretty staffs nice even offered us caramel custard complementary overall nice\",\n",
       " \"ordered chicken dum biriyani punjabi butter milk yesterday uber eats think quantity really good 99 rs taste also okay saw box biriyani happy quantity looked good opening first disappointed n't look like biriyani taste quite good 's fine n't think 'll order\",\n",
       " 'wish taste coffee matched upto ambience place felt coffee overpriced dry fruit milk shake plain',\n",
       " 'chilli chicken gravy chilli garlic fried rice chicken manchurian small place nice chinese food would recommend place pocket friendly aswel',\n",
       " 'place close work place many times already first visits noticed service sloppy service improved lot try food items chicken wings chicken momos everything else menu yummy totally recommend restaurant infornicle.com',\n",
       " \"really good service quantity dishes also good ambience quiet peaceful good music choice visit sure .. 's good place group friends hangout recommend others\",\n",
       " 'heard place friends nice place nice food excellent service really enjoyed great job keep see u food -- 5 service -- 5',\n",
       " 'good place dine waiters perfectly explaining food give welcome snacks cold drinks tried tandoori fish excellent hariyali fish bit spicy tried mutton byriyani kulfi good dining experience',\n",
       " 'one best restruants double road shantinagar visited tuesday dineer food excellent service also good try food tandoori chicken butter chicken garlic naan',\n",
       " 'ordered paneer parantha worth money taste authentic rajasthani home made taste delicious yummy missing taste',\n",
       " 'paneer paratha really really good ordered online well went eat well not sure stuff paneer paratha worth',\n",
       " 'best dal bati bangalore hard find good home style dal bati bangalore say best place past three continuous weeks ordering dal bati place homely taste value money else want',\n",
       " 'quantity good',\n",
       " 'awesome place staff humble polite sweet waffles amazing food court vega city mall hence seating arrangement common space food court would like try normal waffles next time go place specially try nutella waffle',\n",
       " \"waffles bit dry look good n't delicious taste asked second serving chocolate sauce happy provide not help try some toppings might better luck\",\n",
       " \"wonderful place strawberry hong kong smoothies wife delicious 'm willing try chocolate oreo flavours visit kudos\",\n",
       " 'went stall vega city mall oreo shake good cappuccino okayish improve taste feel get better service well',\n",
       " \"place located vega city mall serves amazing waffles ca n't hv waffles tasty yummy go different dimension altogether pricing reasonable staff courteous\",\n",
       " 'wide variety delicious waffles served chocolate omg favourite best waffles town gives choice waffles ice cream scoops flavour also sandwich waffle worth tasting salty tongues',\n",
       " 'worst place ever.people really ill-mannered.they misbehave criticize customers specially woman customer scarf helmet kept table snacks nearby table no place table .. helpers took clean place.so ridiculous .. owner supporting them.being oriya feel ashamed come place place known bengali oriya cuisines',\n",
       " 'food- 3.5/5 ambience 3.5/5 price- 4/5 place near hsr agara circle hanuman statue restaurant not seating arrangement either parcel food standing there.they serve pure veg without onion garlic tried dahi bada first time potato sabji generally dahi vada dahi chatni serves along potato sabji donã\\x83\\x83ã\\x82\\x83ã\\x83\\x82ã\\x82\\x82ã\\x83\\x83ã\\x82\\x82ã\\x83\\x82ã\\x82\\x92t like cabbage pakoda decent potato chop spicy potato stuffed deep chickpea flour batter deep fry many varity sweets section rabdi good donã\\x83\\x83ã\\x82\\x83ã\\x83\\x82ã\\x82\\x82ã\\x83\\x83ã\\x82\\x82ã\\x83\\x82ã\\x82\\x92t like jalebi not crunchy sweet syrup not soaked properly enough food day parcel famous khaja bari dried lentil dumpling pretty good',\n",
       " 'expensive without reason quality oil used fry cook stuff not good name authentic odia food folks sucking people without focussing quality one star',\n",
       " 'cozy outlet serving mouth watering odia delicacies without onion garlic sweets not great tip try samosa chaat quite filling',\n",
       " 'good place odisha bengal sweets snacks served veg meal also without onion garlic served dahi bara aludum also staff behavior good place lot time',\n",
       " \"sweets n't really great sometime 've served old stale sweets .. not really happy quality provided sometimes sale happens reason close proximity temples\",\n",
       " \"selling less quality sweets mostly added condiments/test flavour powders even sometimes give 1week old sweets customer chennapoda full suji .. no chennai berfi items waste flover added two guys owns shop hara one misbehaved us got third class attitude n't respect customers\",\n",
       " 'good sweets savories try u know tried good taste sweets fabulous ur bored regular try sweets',\n",
       " 'good sweet shop best product chana pora try dish serve namkin snacks also hygiene well maintained good variety accept card also located behind jaganath temple ample parking',\n",
       " \"5 rasogolla .. treat test buds .. authentic odia breakfast made day .. 'rabidi get far nowhere bangalore .. lov food\",\n",
       " 'not restruant sweet shop claim authentic odia sweet shop fact not find authenticity odia food except names advice not waste time money place',\n",
       " \"place know odia sweets snacks chat items available ambiance not great looking food odia food 's place odia sweets badi puffed rice etc available favourite dahi bara aloo dum bara googni vada white peas curry\",\n",
       " 'since place right next jagannath mandir happen come whenever pay visit temple.we usually go takeaways quick snacks samosas favorites crunchy tasty typically made north indian style filling consists sliced potatoes veggies instead mashed potatoes adds different kind flavor samosas sweets good like khajas jamuns chena-poda tasted ok not great read full post xylo742.blogspot.com',\n",
       " 'review sweets meals sweets really awesome try chenapoda hope spelling right meals thali jain kind everything plain might taste dull food good quantity good no seating stand eat raiting for.sweets food',\n",
       " 'away home missing odiya food long time chance came across place.this really good place odiya breakfast bara alu chop samosa dahi bara alu dum ghuguni.the variety sweets also really good.only thing prices high.but nevertheless items really good taste love visiting place',\n",
       " 'not restruant sweet shop claim authentic odia sweet shop fact not find authenticity odia food except names advice not waste time money place',\n",
       " \"place know odia sweets snacks chat items available ambiance not great looking food odia food 's place odia sweets badi puffed rice etc available favourite dahi bara aloo dum bara googni vada white peas curry\",\n",
       " 'since place right next jagannath mandir happen come whenever pay visit temple.we usually go takeaways quick snacks samosas favorites crunchy tasty typically made north indian style filling consists sliced potatoes veggies instead mashed potatoes adds different kind flavor samosas sweets good like khajas jamuns chena-poda tasted ok not great read full post xylo742.blogspot.com',\n",
       " 'review sweets meals sweets really awesome try chenapoda hope spelling right meals thali jain kind everything plain might taste dull food good quantity good no seating stand eat raiting for.sweets food',\n",
       " 'away home missing odiya food long time chance came across place.this really good place odiya breakfast bara alu chop samosa dahi bara alu dum ghuguni.the variety sweets also really good.only thing prices high.but nevertheless items really good taste love visiting place',\n",
       " 'authentic sweets awesome variety singada samosa guguni green peas curry .. lots found place quite hygenic unhappiness .. close btm 2nd stage branch permanently .. come hsr authentic odia sweets keep good quality',\n",
       " \"able taste authentic odia sweet delicacies really good feeling 56 bhog totally mastered part small outlet no place sit n dine 's kind grab n go place totally value money get nice n hot samosas kachoris aalo chops typically call back home along some real nice sweets form eastern part country eatcapturetravel.wordpress.com\",\n",
       " \"shop near btm 2nd stage may another outlet n't like sweets .. ordered pedha rasgulla ok ok. sweet wo n't recommend\",\n",
       " 'amazing rasugulla soft spongey order 100 delivered time hot fresh happy hospitality taste yum along comes budget big order thanks',\n",
       " \"'s not restaurant worst sweet shop not authentic odia sweet whether breakfast evening snacks wo n't get taste better n't waste money\",\n",
       " 'situated beside jaganath temple hsr layout second time went notin special mention odia friend asked try dahi aloo vada .. either taste bud not accustomed else wasnt made well felt way costly charged 35 rs tried samosa well small compared food joints similar class .... guess mostly odia people missing home food ones form main customer base shop .... try u want try some bengali odia sweets .... else give miss',\n",
       " 'zomato information states 56 bhog hsr layout provides home delivery called .. number picked person said station told would inform team arrange call back no call came called said informed team would receive call back still no call .... either publish/ provide correct information zomato site dont misguiding customers home delivery not even called cant say simple no would suffice question rather making wait call harass .. not done',\n",
       " \"finally odia style food joint town got situated beside famous jagannath temple bangalore tasty sweets almost delicacies odisha bengal well known uncompromised quality may feel rate little bit high n't want compromise quality may find foodstuffs service minimal take away best option bon appetite chef bb chefbb.in\",\n",
       " 'small sweet shop .. nothing great .. sweets average .. place visited rasgullas .. rest items ..',\n",
       " 'situated beside jaganath temple hsr layout second time went notin special mention odia friend asked try dahi aloo vada .. either taste bud not accustomed else wasnt made well felt way costly charged 35 rs tried samosa well small compared food joints similar class .... guess mostly odia people missing home food ones form main customer base shop .... try u want try some bengali odia sweets .... else give miss',\n",
       " 'zomato information states 56 bhog hsr layout provides home delivery called .. number picked person said station told would inform team arrange call back no call came called said informed team would receive call back still no call .... either publish/ provide correct information zomato site dont misguiding customers home delivery not even called cant say simple no would suffice question rather making wait call harass .. not done',\n",
       " \"finally odia style food joint town got situated beside famous jagannath temple bangalore tasty sweets almost delicacies odisha bengal well known uncompromised quality may feel rate little bit high n't want compromise quality may find foodstuffs service minimal take away best option bon appetite chef bb chefbb.in\",\n",
       " 'small sweet shop .. nothing great .. sweets average .. place visited rasgullas .. rest items ..',\n",
       " 'situated beside jaganath temple hsr layout second time went notin special mention odia friend asked try dahi aloo vada .. either taste bud not accustomed else wasnt made well felt way costly charged 35 rs tried samosa well small compared food joints similar class .... guess mostly odia people missing home food ones form main customer base shop .... try u want try some bengali odia sweets .... else give miss',\n",
       " 'zomato information states 56 bhog hsr layout provides home delivery called .. number picked person said station told would inform team arrange call back no call came called said informed team would receive call back still no call .... either publish/ provide correct information zomato site dont misguiding customers home delivery not even called cant say simple no would suffice question rather making wait call harass .. not done',\n",
       " \"finally odia style food joint town got situated beside famous jagannath temple bangalore tasty sweets almost delicacies odisha bengal well known uncompromised quality may feel rate little bit high n't want compromise quality may find foodstuffs service minimal take away best option bon appetite chef bb chefbb.in\",\n",
       " 'small sweet shop .. nothing great .. sweets average .. place visited rasgullas .. rest items ..',\n",
       " 'situated beside jaganath temple hsr layout second time went notin special mention odia friend asked try dahi aloo vada .. either taste bud not accustomed else wasnt made well felt way costly charged 35 rs tried samosa well small compared food joints similar class .... guess mostly odia people missing home food ones form main customer base shop .... try u want try some bengali odia sweets .... else give miss',\n",
       " 'zomato information states 56 bhog hsr layout provides home delivery called .. number picked person said station told would inform team arrange call back no call came called said informed team would receive call back still no call .... either publish/ provide correct information zomato site dont misguiding customers home delivery not even called cant say simple no would suffice question rather making wait call harass .. not done',\n",
       " \"finally odia style food joint town got situated beside famous jagannath temple bangalore tasty sweets almost delicacies odisha bengal well known uncompromised quality may feel rate little bit high n't want compromise quality may find foodstuffs service minimal take away best option bon appetite chef bb chefbb.in\",\n",
       " 'small sweet shop .. nothing great .. sweets average .. place visited rasgullas .. rest items ..',\n",
       " 'situated beside jaganath temple hsr layout second time went notin special mention odia friend asked try dahi aloo vada .. either taste bud not accustomed else wasnt made well felt way costly charged 35 rs tried samosa well small compared food joints similar class .... guess mostly odia people missing home food ones form main customer base shop .... try u want try some bengali odia sweets .... else give miss',\n",
       " 'zomato information states 56 bhog hsr layout provides home delivery called .. number picked person said station told would inform team arrange call back no call came called said informed team would receive call back still no call .... either publish/ provide correct information zomato site dont misguiding customers home delivery not even called cant say simple no would suffice question rather making wait call harass .. not done',\n",
       " \"finally odia style food joint town got situated beside famous jagannath temple bangalore tasty sweets almost delicacies odisha bengal well known uncompromised quality may feel rate little bit high n't want compromise quality may find foodstuffs service minimal take away best option bon appetite chef bb chefbb.in\",\n",
       " 'small sweet shop .. nothing great .. sweets average .. place visited rasgullas .. rest items ..',\n",
       " \"loved chena podo chena goja long time 2 delicacies unique odissa may not good ones cuttuck dhenkanal belt definitely enjoyable bangalore 's road side sweet shop next lord jagannath temple hsr layout visiting taste snacks\",\n",
       " \"would rather give 0 scale however unfortunately 's not scale yet get stinky place stale rotten days old sweets snacks food items completely soaked unhealthy oil famous dahi vada 's dahi horribly sour samosas stuffing stale bitter taste would n't recommend place anybody save money health avoiding place\",\n",
       " 'love samosa several times landed 4pm grab get recently opened sarjapur road veg thali rs 60/- steal ras malai okay chena podo better may comparing get bhubaneswar rating purely veg thali else 3. lifeisavacation.in',\n",
       " \"loved chena podo chena goja long time 2 delicacies unique odissa may not good ones cuttuck dhenkanal belt definitely enjoyable bangalore 's road side sweet shop next lord jagannath temple hsr layout visiting taste snacks\",\n",
       " \"would rather give 0 scale however unfortunately 's not scale yet get stinky place stale rotten days old sweets snacks food items completely soaked unhealthy oil famous dahi vada 's dahi horribly sour samosas stuffing stale bitter taste would n't recommend place anybody save money health avoiding place\",\n",
       " 'love samosa several times landed 4pm grab get recently opened sarjapur road veg thali rs 60/- steal ras malai okay chena podo better may comparing get bhubaneswar rating purely veg thali else 3. lifeisavacation.in',\n",
       " \"loved chena podo chena goja long time 2 delicacies unique odissa may not good ones cuttuck dhenkanal belt definitely enjoyable bangalore 's road side sweet shop next lord jagannath temple hsr layout visiting taste snacks\",\n",
       " \"would rather give 0 scale however unfortunately 's not scale yet get stinky place stale rotten days old sweets snacks food items completely soaked unhealthy oil famous dahi vada 's dahi horribly sour samosas stuffing stale bitter taste would n't recommend place anybody save money health avoiding place\",\n",
       " 'love samosa several times landed 4pm grab get recently opened sarjapur road veg thali rs 60/- steal ras malai okay chena podo better may comparing get bhubaneswar rating purely veg thali else 3. lifeisavacation.in',\n",
       " \"loved chena podo chena goja long time 2 delicacies unique odissa may not good ones cuttuck dhenkanal belt definitely enjoyable bangalore 's road side sweet shop next lord jagannath temple hsr layout visiting taste snacks\",\n",
       " \"would rather give 0 scale however unfortunately 's not scale yet get stinky place stale rotten days old sweets snacks food items completely soaked unhealthy oil famous dahi vada 's dahi horribly sour samosas stuffing stale bitter taste would n't recommend place anybody save money health avoiding place\",\n",
       " 'love samosa several times landed 4pm grab get recently opened sarjapur road veg thali rs 60/- steal ras malai okay chena podo better may comparing get bhubaneswar rating purely veg thali else 3. lifeisavacation.in',\n",
       " \"loved chena podo chena goja long time 2 delicacies unique odissa may not good ones cuttuck dhenkanal belt definitely enjoyable bangalore 's road side sweet shop next lord jagannath temple hsr layout visiting taste snacks\",\n",
       " \"would rather give 0 scale however unfortunately 's not scale yet get stinky place stale rotten days old sweets snacks food items completely soaked unhealthy oil famous dahi vada 's dahi horribly sour samosas stuffing stale bitter taste would n't recommend place anybody save money health avoiding place\",\n",
       " 'love samosa several times landed 4pm grab get recently opened sarjapur road veg thali rs 60/- steal ras malai okay chena podo better may comparing get bhubaneswar rating purely veg thali else 3. lifeisavacation.in',\n",
       " 'friend took place crowded lot hustle bustle chenna poda sweet amazing like milk cake way better also light burn made delicious rabdi aloo chat chat good lots flavors rabdi failed catch others',\n",
       " 'one best place sweets snacks prices higher side.if want taste authentic odia sweets snacks try place dinner meal today well definitely best homemade vegeterian odia food curries prepared without onion garlic no place seating either stand eat always ask take aways try 1. rabdi 2.rasmalai 3.rassagola 4.gulab jamun 5.mixture 6.chats food 4/5 ambience 3 /5 service 3/5 sunil kumar dash',\n",
       " 'good odia sweets snacks also good meals lunch dinner food made without onion garlic gives delicious flavour real odia cuisine sweets snack',\n",
       " 'worst place peoples less efficient dont bother abt u want rather sneaking ur pocket money money money ..... want ..... go hell taste behavior .....',\n",
       " 'place amazing affordable food really tasty 4 5 dishes costed 900 bucks also not forget place cutest ambience',\n",
       " 'hi visited place friends colleagues .its renamed bangalore masala house recently ordered pizza panner rolls .. pizza soft melting mouth.but panned rolls ok ok. serving time .so u bit patience.so overall good ambience.place improvement',\n",
       " \"great place college people hangout loved ambience doddle wall attracts soon enter miniature toys shelves cages everything fantasised much decorate room way coming food 's great really liked amount served great service go back\",\n",
       " 'went friends place looks amazing concept nice moreover many food items totally different combinations ordered masala guava juice ferrero rotcher shake nutella shake manchurian pizza masala maggi sandwich corn dish red velvet cupcake shakes beautiful presentation tasted good personally favourite masala maggi sandwich staff also polite',\n",
       " \"ambience 4.5/5 food 4/5 prices 5/5 service 4.5/5 cute little pocket friendly cafe house full burger n't great pancakes amazing\",\n",
       " 'itã\\x83\\x83ã\\x82\\x83ã\\x83\\x82ã\\x82\\x83ã\\x83\\x83ã\\x82\\x82ã\\x83\\x82ã\\x82â¢ã\\x83\\x83ã\\x82\\x83ã\\x83\\x82ã\\x82\\x82ã\\x83\\x83ã\\x82\\x82ã\\x83\\x82ã\\x82\\x80ã\\x83\\x83ã\\x82\\x83ã\\x83\\x82ã\\x82\\x82ã\\x83\\x83ã\\x82\\x82ã\\x83\\x82ã\\x82\\x99s small place book table advance food simply amazing made lot love interiors remind punjabi dhaba lassi chicken curry naan desserts everything delicious',\n",
       " 'read zomato reviews went lunch hoping find some amazing food food not mark good thing corn cigars aam panna joke .. worst one food not spicy even though menu claims spicy considering quality food found priced overrated place',\n",
       " 'tiny little dining enough give restaurant feeling well maintained small restaurant good service heard lot place north indian food starters wife decided order non veg platter made us full leave without main course review starters not try main course starters not upto mark meat not fully tender juicy restaurant price range platter supposed provide authentic mouth watering kababs fish horrible utter surprise seekh cold please take care starter quality thank',\n",
       " \"months back family good north indian food quite reasonably priced happen visit place try dal makhani 's fantastic\",\n",
       " 'amazing food enjoyed every bite place little tiny gets filled really quickly gives homely vibes food point servers helpful kind ambience 4/5 food 5/5 service 4.5/5',\n",
       " \"love place well went today finally got chance review delhi love butter chicken first place felt decent butter chicken south india ordered butter chicken aloo pepper breads food delicious usual like north indian food place drawback restaurant really small hence big waiting time 're visiting weekend\",\n",
       " 'went good north indian noting high ratings place looks decent eye catching outside inside average vibe staff friendly well informed ordered mattar paneer dal makhani some breads everything tasted expectations kudos chef definitely recommended',\n",
       " 'good north indian food tandoori chicken kababs butter chicken lip smacking amazing thoroughly enjoyed food',\n",
       " 'great little place proper north indian food one suggestion go not order biriyani may order everything else would strongly recommend murg ka soola starters butter chicken',\n",
       " \"'s long time since place place used saviour one places found closest food get north really good preparations serve ambience cozy service great used 15-20 mins waiting always whenever used go planning visit place next time visit bangalore surely update review share some pics\",\n",
       " 'staff courtesy 5/5 staff extremely polite courteous food 1. murgh ka soola 4.5/5 super yummy starter definitely worth trying 2. garlic naan pudina kulcha 3.5/5 3. kadai murgh patiala 3.5/5 ambience cleanliness 4/5 drink sweet lassi would give 4/5 visit place looking eat good north indian food',\n",
       " 'small fine dining experience liked food however plain rice served little half cooked service decent slightly expensive place though staff member would give services fine dining experience.so thumbs food 3.5 service 4 atmosphere ambience 4 cost 3.5',\n",
       " \"hi recently visited restaurant family ambience nice service also good tasted best chicken tandoori 's well marinated pieces soft lassi also gud order ghee rice ok ok rest everything tasty yummy want athenctic punjabi food ã\\x83\\x83ã\\x82\\x83ã\\x83\\x82ã\\x82\\x83ã\\x83\\x83ã\\x82\\x82ã\\x83\\x82ã\\x82â°ã\\x83\\x83ã\\x82\\x83ã\\x83\\x82ã\\x82\\x82ã\\x83\\x83ã\\x82\\x82ã\\x83\\x82ã\\x82\\x9fã\\x83\\x83ã\\x82\\x83ã\\x83\\x82ã\\x82\\x82ã\\x83\\x83ã\\x82\\x82ã\\x83\\x82ã\\x82\\x98ã\\x83\\x83ã\\x82\\x83ã\\x83\\x82ã\\x82\\x82ã\\x83\\x83ã\\x82\\x82ã\\x83\\x82ã\\x82\\x8dã\\x83\\x83ã\\x82\\x83ã\\x83\\x82ã\\x82\\x83ã\\x83\\x83ã\\x82\\x82ã\\x83\\x82ã\\x82â°ã\\x83\\x83ã\\x82\\x83ã\\x83\\x82ã\\x82\\x82ã\\x83\\x83ã\\x82\\x82ã\\x83\\x82ã\\x82\\x9fã\\x83\\x83ã\\x82\\x83ã\\x83\\x82ã\\x82\\x82ã\\x83\\x83ã\\x82\\x82ã\\x83\\x82ã\\x82\\x98ã\\x83\\x83ã\\x82\\x83ã\\x83\\x82ã\\x82\\x82ã\\x83\\x83ã\\x82\\x82ã\\x83\\x82ã\\x82\\x8dã\\x83\\x83ã\\x82\\x83ã\\x83\\x82ã\\x82\\x83ã\\x83\\x83ã\\x82\\x82ã\\x83\\x82ã\\x82â°ã\\x83\\x83ã\\x82\\x83ã\\x83\\x82ã\\x82\\x82ã\\x83\\x83ã\\x82\\x82ã\\x83\\x82ã\\x82\\x9fã\\x83\\x83ã\\x82\\x83ã\\x83\\x82ã\\x82\\x82ã\\x83\\x83ã\\x82\\x82ã\\x83\\x82ã\\x82\\x98ã\\x83\\x83ã\\x82\\x83ã\\x83\\x82ã\\x82\\x82ã\\x83\\x83ã\\x82\\x82ã\\x83\\x82ã\\x82\\x8dã\\x83\\x83ã\\x82\\x83ã\\x83\\x82ã\\x82\\x83ã\\x83\\x83ã\\x82\\x82ã\\x83\\x82ã\\x82â°ã\\x83\\x83ã\\x82\\x83ã\\x83\\x82ã\\x82\\x82ã\\x83\\x83ã\\x82\\x82ã\\x83\\x82ã\\x82\\x9fã\\x83\\x83ã\\x82\\x83ã\\x83\\x82ã\\x82\\x82ã\\x83\\x83ã\\x82\\x82ã\\x83\\x82ã\\x82\\x98ã\\x83\\x83ã\\x82\\x83ã\\x83\\x82ã\\x82\\x82ã\\x83\\x83ã\\x82\\x82ã\\x83\\x82ã\\x82\\x8dã\\x83\\x83ã\\x82\\x83ã\\x83\\x82ã\\x82\\x83ã\\x83\\x83ã\\x82\\x82ã\\x83\\x82ã\\x82â°ã\\x83\\x83ã\\x82\\x83ã\\x83\\x82ã\\x82\\x82ã\\x83\\x83ã\\x82\\x82ã\\x83\\x82ã\\x82\\x9fã\\x83\\x83ã\\x82\\x83ã\\x83\\x82ã\\x82\\x82ã\\x83\\x83ã\\x82\\x82ã\\x83\\x82ã\\x82\\x98ã\\x83\\x83ã\\x82\\x83ã\\x83\\x82ã\\x82\\x82ã\\x83\\x83ã\\x82\\x82ã\\x83\\x82ã\\x82\\x8d\",\n",
       " \"finest place north indian food tried almost half menu food no doubt quite delicious little disappointed portion size- specially veg gravies prices charged service quick food served hot taste 's right omits expectation decor quite relaxing\",\n",
       " 'one place visit eat authentic north indian taste complimentary papad salad tried chicken tomato shorba nice thick- 5/5 paneer tikka 5/5 ambience 5/5 food 5/5 value money 5/5',\n",
       " '2 branches branch small pics ambience pics branch bigger surprised see small not comfortable tight placement tables crowded suffocated food good ordered starter naan curry tasty',\n",
       " \"great place indian mughlai food .. good service n't order much went some munchin .. whatever ordered good perfect times appreciate gajjar halwa place makes exactly per palate less sweet .. served hot not heavy great going\",\n",
       " \"absolutely like restaurant .. serve testy food good quantity ordered tandoori chicken sooo testy perfect balance spice .. really finger licking ã\\x83\\x83ã\\x82\\x83ã\\x83\\x82ã\\x82\\x83ã\\x83\\x83ã\\x82\\x82ã\\x83\\x82ã\\x82â°ã\\x83\\x83ã\\x82\\x83ã\\x83\\x82ã\\x82\\x82ã\\x83\\x83ã\\x82\\x82ã\\x83\\x82ã\\x82\\x9fã\\x83\\x83ã\\x82\\x83ã\\x83\\x82ã\\x82\\x82ã\\x83\\x83ã\\x82\\x82ã\\x83\\x82ã\\x82\\x91ã\\x83\\x83ã\\x82\\x83ã\\x83\\x82ã\\x82\\x82ã\\x83\\x83ã\\x82\\x82ã\\x83\\x82ã\\x82\\x8c sweet lassi omg try lassi .. seriously awesome also remember taste ã\\x83\\x83ã\\x82\\x83ã\\x83\\x82ã\\x82\\x83ã\\x83\\x83ã\\x82\\x82ã\\x83\\x82ã\\x82â¢ã\\x83\\x83ã\\x82\\x83ã\\x83\\x82ã\\x82\\x82ã\\x83\\x83ã\\x82\\x82ã\\x83\\x82ã\\x82\\x9dã\\x83\\x83ã\\x82\\x83ã\\x83\\x82ã\\x82\\x82ã\\x83\\x83ã\\x82\\x82ã\\x83\\x82ã\\x82â¤ã\\x83\\x83ã\\x82\\x83ã\\x83\\x82ã\\x82\\x83ã\\x83\\x83ã\\x82\\x82ã\\x83\\x82ã\\x82â¯ã\\x83\\x83ã\\x82\\x83ã\\x83\\x82ã\\x82\\x82ã\\x83\\x83ã\\x82\\x82ã\\x83\\x82ã\\x82â¸ã\\x83\\x83ã\\x82\\x83ã\\x83\\x82ã\\x82\\x82ã\\x83\\x83ã\\x82\\x82ã\\x83\\x82ã\\x82\\x8f butter naan soft testy .. mutton biriyani best good quantity sooo testy loads soft juicy mutton .. perfectly cooked .. not spicy perfect ã\\x83\\x83ã\\x82\\x83ã\\x83\\x82ã\\x82\\x83ã\\x83\\x83ã\\x82\\x82ã\\x83\\x82ã\\x82â°ã\\x83\\x83ã\\x82\\x83ã\\x83\\x82ã\\x82\\x82ã\\x83\\x83ã\\x82\\x82ã\\x83\\x82ã\\x82\\x9fã\\x83\\x83ã\\x82\\x83ã\\x83\\x82ã\\x82\\x82ã\\x83\\x83ã\\x82\\x82ã\\x83\\x82ã\\x82\\x91ã\\x83\\x83ã\\x82\\x83ã\\x83\\x82ã\\x82\\x82ã\\x83\\x83ã\\x82\\x82ã\\x83\\x82ã\\x82\\x8c rasomalai personally 'm desert lover n't miss chance .. yes also good ã\\x83\\x83ã\\x82\\x83ã\\x83\\x82ã\\x82\\x83ã\\x83\\x83ã\\x82\\x82ã\\x83\\x82ã\\x82â°ã\\x83\\x83ã\\x82\\x83ã\\x83\\x82ã\\x82\\x82ã\\x83\\x83ã\\x82\\x82ã\\x83\\x82ã\\x82\\x9fã\\x83\\x83ã\\x82\\x83ã\\x83\\x82ã\\x82\\x82ã\\x83\\x83ã\\x82\\x82ã\\x83\\x82ã\\x82\\x98ã\\x83\\x83ã\\x82\\x83ã\\x83\\x82ã\\x82\\x82ã\\x83\\x83ã\\x82\\x82ã\\x83\\x82ã\\x82\\x8b ambience okay okay type not good not bad ..\",\n",
       " 'went place friends ordered masala chai ginger tea came kettle ordered kettle 2 good even 3 people tea good nice place small chit chat friends parleg biscuit complimentary tea tea really nice',\n",
       " 'really good place looking good tea shop nice ambience perfect place sit relax converse friends ordered kettle ginger tea served parle g along say like home made tea service really quick staff really friendly even gave extra packet biscuit small things make difference beverage 9/10 service 10/10 ambience 9/10',\n",
       " 'serves best healthy delicious breakfast chai best item serve place reminded mom made food love visit place n',\n",
       " 'ambience 4/5 food 4/5 staff 3.5/5 quality 4/5 nice place adda hangout great ambience well justified name good portion tea tried ginger tea cutting chai portions good enough one also tried traditional maska bun good aloo paratha awesome clearly north indian taste eat staff courteous best part parle g biscuits served tea',\n",
       " 'tried tea ordered laung wali chai amazing quantity quite good kettle 2 serves 3 people even gave parle-g free ambience quite nice bollywood theme would go place tea maybe try things well',\n",
       " 'visited place dhwani shah want3d tea ordered pudina adarak tea cutely served taste amazing says decor impressed us visit tea lovers',\n",
       " \"chai galli given cure post work headaches amazing masala chai bun maska soothing interiors typical 90s bollywood song list best part place not overflowing crowd times enjoy piece mind work much want chill friends 's great place prices little high snacks still worth shot\",\n",
       " 'tea addicts lovers visit place varieties teas love food also good definitely recommend visiting',\n",
       " 'went chocolate festival arranged place located koramanagala itã\\x83\\x83ã\\x82\\x83ã\\x83\\x82ã\\x82\\x82ã\\x83\\x83ã\\x82\\x82ã\\x83\\x82ã\\x82\\x92s pretty cute cafe bollywood theme large posters actors bollywood music going gives good vibe service amazing staff courteous food superb nachos great pasta pizza good chole kulcha try chocolate festival amazing sev puri pani puri pizza sandwiches drinks coffee taste refreshing visit good food experience',\n",
       " 'nice place tea koramangala lot varieties tea also menu food tried chaska bun khawa .. quite good definitely try place bangalore ..',\n",
       " 'nostalgic place takes back 90s visit back old days cup chai best part 90ã\\x83\\x83ã\\x82\\x83ã\\x83\\x82ã\\x82\\x82ã\\x83\\x83ã\\x82\\x82ã\\x83\\x82ã\\x82\\x92s super hit songs playing background absolutely loved best time .. endless cups chai would definitely visit ..',\n",
       " 'many many times love everytime perfect place some evening tea rustic bollywood themed interior staff courteous slow times almost everything try dal pakwan dal ke pakode hare bhare pakode corn shots reslly nice samosa',\n",
       " \"needs guy chai one favorite places chai food wide variety goes well chai chai galli celebrating 2 yr anniversary curated special chocolate themed menu could n't resist thought good chai some chocolate dishes try chocolate pani puri chocolate banana peanutbutter panini sandwich chocolate pizza nachos rajasthani chai\",\n",
       " \"visited place weekend took us back 80s ambiance amazing old movie posters hindi songs playing service quick polite 'd taken chai galli special vada pav khamani kashmiri kahva dragon balls pasta red sauce tea really good food delicious visit chai galli want sit back sip tea long conversations someone taste 4 ambiance 5 service 4 value money 4\",\n",
       " 'place some friends wanted something light located heart koramangala ambience pure retro bollywood style posters old movies ordered cold coffee masala chai lemon tea dal ke pakode vada pav mumbai wala sandwich tadkewali maggi cold coffee masala tea good lemon tea different experience need prepare tea provide timer helps prepare tea right flavor light medium strong dal ke pakode ok could better vada pav tadkewali maggi tasted nice mumbaiwala sandwich good well staff approachable nice pricing fair decent place hang friends good snacks',\n",
       " 'itã\\x83\\x83ã\\x82\\x83ã\\x83\\x82ã\\x82\\x82ã\\x83\\x83ã\\x82\\x82ã\\x83\\x82ã\\x82\\x92s nice cozy tea cafe indoors inspired bollywood food isnã\\x83\\x83ã\\x82\\x83ã\\x83\\x82ã\\x82\\x82ã\\x83\\x83ã\\x82\\x82ã\\x83\\x82ã\\x82\\x92t best pasta extremely spicy garlic bread average good choice drinks lemon mint iced tea really nice refreshing normal ginger tea/masala tea good serve mini packet parle g adds nostalgic old school feel service improved',\n",
       " 'initially rated place 5 regular unfortunate event eating half cooked cockroach lost appetite not since month boycotting place standards fallen manager bad service slow food cockroaches',\n",
       " 'food oily taste also not good',\n",
       " 'ordered combo 1. mentioned app 3 chappathi 2 parotta paneer butter masala got 2 chappathi instead three quality quantity paneer low required share photos',\n",
       " \"food bad smell ...... really upset n't encourage type hotel 's 's not worth .... small small insects also .. throw outside dog also not eating food\",\n",
       " \"tasty biryani personally liked chicken kebab mutton biryani treat taste buds n't forget appreciate chef eating\",\n",
       " 'outdated food one worst hotel never order anything hotel food not good outdated food plzz order hotels',\n",
       " \"hotel family first later friends relatives many times breakfast head mutton natti style mutton keema leg soup heavenly love lunch tasty biriyani 's mutton chicken tastier biriyani 's available bengaluru mutton biriyani taste .... best favourite part kabab best taste .... chicken fry pepper dry chicken legs tastes good spicy hot .... best place taste bengalurian style foods non-veg ....... best\",\n",
       " \"tried chicken biriyani combo today not good please provide worthy food money paid.i 'm suggesting everyone please not try\",\n",
       " 'bad wait 1.15 food',\n",
       " 'donne biryani tastes pretty much ordinary especially people tasted sgs gundu pulav shivaji military hotel not like ordered chicken leg fry along taste really sucked salty however biryani chicken leg fry way not worth money would never recommend restaurant',\n",
       " 'no chicken pieces not good',\n",
       " 'taste natti donne style biriyani yummy kabba .... love head mutton leg soup specially sunday mutton keema heavenly .. best place non-veg food city',\n",
       " 'hi mutton tooooo oilly no spicy also please make some spicy put some masala also quantity good taste not good',\n",
       " 'super',\n",
       " 'taste good',\n",
       " 'quality not shatifid improve quality',\n",
       " \"food not good not worth 50 also better n't order\",\n",
       " 'good',\n",
       " 'good',\n",
       " 'taste good',\n",
       " 'quality not shatifid improve quality',\n",
       " \"food not good not worth 50 also better n't order\",\n",
       " 'good',\n",
       " 'good',\n",
       " 'taste good',\n",
       " 'quality not shatifid improve quality',\n",
       " \"food not good not worth 50 also better n't order\",\n",
       " 'good',\n",
       " 'good',\n",
       " 'not good',\n",
       " 'items quantity lesser expected visited hotel previously many times found zomato experience poor not worth price taste maintained quantity lesser usual matched discounted rate making okay experience',\n",
       " 'good',\n",
       " 'food no taste',\n",
       " 'no food oil',\n",
       " \"restaurant one friend already late 3.15pm precise unfortunately no biryani available time wait around 20 mins get biryani ã\\x83\\x83ã\\x82\\x83ã\\x83\\x82ã\\x82\\x83ã\\x83\\x83ã\\x82\\x82ã\\x83\\x82ã\\x82â°ã\\x83\\x83ã\\x82\\x83ã\\x83\\x82ã\\x82\\x82ã\\x83\\x83ã\\x82\\x82ã\\x83\\x82ã\\x82\\x9fã\\x83\\x83ã\\x82\\x83ã\\x83\\x82ã\\x82\\x82ã\\x83\\x83ã\\x82\\x82ã\\x83\\x82ã\\x82\\x87ã\\x83\\x83ã\\x82\\x83ã\\x83\\x82ã\\x82\\x82ã\\x83\\x83ã\\x82\\x82ã\\x83\\x82ã\\x82â¦ ambience restaurant poor seating options available ã\\x83\\x83ã\\x82\\x83ã\\x83\\x82ã\\x82\\x83ã\\x83\\x83ã\\x82\\x82ã\\x83\\x82ã\\x82â°ã\\x83\\x83ã\\x82\\x83ã\\x83\\x82ã\\x82\\x82ã\\x83\\x83ã\\x82\\x82ã\\x83\\x82ã\\x82\\x9fã\\x83\\x83ã\\x82\\x83ã\\x83\\x82ã\\x82\\x82ã\\x83\\x83ã\\x82\\x82ã\\x83\\x82ã\\x82\\x87ã\\x83\\x83ã\\x82\\x83ã\\x83\\x82ã\\x82\\x82ã\\x83\\x83ã\\x82\\x82ã\\x83\\x82ã\\x82â¸ service pretty average well need call somebody hotel clean table us ã\\x83\\x83ã\\x82\\x83ã\\x83\\x82ã\\x82\\x83ã\\x83\\x83ã\\x82\\x82ã\\x83\\x82ã\\x82â°ã\\x83\\x83ã\\x82\\x83ã\\x83\\x82ã\\x82\\x82ã\\x83\\x83ã\\x82\\x82ã\\x83\\x82ã\\x82\\x9fã\\x83\\x83ã\\x82\\x83ã\\x83\\x82ã\\x82\\x82ã\\x83\\x83ã\\x82\\x82ã\\x83\\x82ã\\x82\\x87ã\\x83\\x83ã\\x82\\x83ã\\x83\\x82ã\\x82\\x82ã\\x83\\x83ã\\x82\\x82ã\\x83\\x82ã\\x82â « ã\\x83\\x83ã\\x82\\x83ã\\x83\\x82ã\\x82\\x83ã\\x83\\x83ã\\x82\\x82ã\\x83\\x82ã\\x82â°ã\\x83\\x83ã\\x82\\x83ã\\x83\\x82ã\\x82\\x82ã\\x83\\x83ã\\x82\\x82ã\\x83\\x82ã\\x82\\x9fã\\x83\\x83ã\\x82\\x83ã\\x83\\x82ã\\x82\\x82ã\\x83\\x83ã\\x82\\x82ã\\x83\\x82ã\\x82\\x8dã\\x83\\x83ã\\x82\\x83ã\\x83\\x82ã\\x82\\x82ã\\x83\\x83ã\\x82\\x82ã\\x83\\x82ã\\x82â½ã\\x83\\x83ã\\x82\\x83ã\\x83\\x82ã\\x82\\x83ã\\x83\\x83ã\\x82\\x82ã\\x83\\x82ã\\x82â¯ã\\x83\\x83ã\\x82\\x83ã\\x83\\x82ã\\x82\\x82ã\\x83\\x83ã\\x82\\x82ã\\x83\\x82ã\\x82â¸ã\\x83\\x83ã\\x82\\x83ã\\x83\\x82ã\\x82\\x82ã\\x83\\x83ã\\x82\\x82ã\\x83\\x82ã\\x82\\x8fwhat ate ã\\x83\\x83ã\\x82\\x83ã\\x83\\x82ã\\x82\\x83ã\\x83\\x83ã\\x82\\x82ã\\x83\\x82ã\\x82â°ã\\x83\\x83ã\\x82\\x83ã\\x83\\x82ã\\x82\\x82ã\\x83\\x83ã\\x82\\x82ã\\x83\\x82ã\\x82\\x9fã\\x83\\x83ã\\x82\\x83ã\\x83\\x82ã\\x82\\x82ã\\x83\\x83ã\\x82\\x82ã\\x83\\x82ã\\x82\\x8dã\\x83\\x83ã\\x82\\x83ã\\x83\\x82ã\\x82\\x82ã\\x83\\x83ã\\x82\\x82ã\\x83\\x82ã\\x82â´ chicken biryani ã\\x83\\x83ã\\x82\\x83ã\\x83\\x82ã\\x82\\x83ã\\x83\\x83ã\\x82\\x82ã\\x83\\x82ã\\x82â¢ã\\x83\\x83ã\\x82\\x83ã\\x83\\x82ã\\x82\\x82ã\\x83\\x83ã\\x82\\x82ã\\x83\\x82ã\\x82\\x9eã\\x83\\x83ã\\x82\\x83ã\\x83\\x82ã\\x82\\x82ã\\x83\\x83ã\\x82\\x82ã\\x83\\x82ã\\x82â¡ã\\x83\\x83ã\\x82\\x83ã\\x83\\x82ã\\x82\\x83ã\\x83\\x83ã\\x82\\x82ã\\x83\\x82ã\\x82â¯ã\\x83\\x83ã\\x82\\x83ã\\x83\\x82ã\\x82\\x82ã\\x83\\x83ã\\x82\\x82ã\\x83\\x82ã\\x82â¸ã\\x83\\x83ã\\x82\\x83ã\\x83\\x82ã\\x82\\x82ã\\x83\\x83ã\\x82\\x82ã\\x83\\x82ã\\x82\\x8f chicken biryani n't great like khuska cooked chicken pieces ã\\x83\\x83ã\\x82\\x83ã\\x83\\x82ã\\x82\\x83ã\\x83\\x83ã\\x82\\x82ã\\x83\\x82ã\\x82â°ã\\x83\\x83ã\\x82\\x83ã\\x83\\x82ã\\x82\\x82ã\\x83\\x83ã\\x82\\x82ã\\x83\\x82ã\\x82\\x9fã\\x83\\x83ã\\x82\\x83ã\\x83\\x82ã\\x82\\x82ã\\x83\\x83ã\\x82\\x82ã\\x83\\x82ã\\x82\\x8dã\\x83\\x83ã\\x82\\x83ã\\x83\\x82ã\\x82\\x82ã\\x83\\x83ã\\x82\\x82ã\\x83\\x82ã\\x82â´ chicken kabab ã\\x83\\x83ã\\x82\\x83ã\\x83\\x82ã\\x82\\x83ã\\x83\\x83ã\\x82\\x82ã\\x83\\x82ã\\x82â¢ã\\x83\\x83ã\\x82\\x83ã\\x83\\x82ã\\x82\\x82ã\\x83\\x83ã\\x82\\x82ã\\x83\\x82ã\\x82\\x9eã\\x83\\x83ã\\x82\\x83ã\\x83\\x82ã\\x82\\x82ã\\x83\\x83ã\\x82\\x82ã\\x83\\x82ã\\x82â¡ã\\x83\\x83ã\\x82\\x83ã\\x83\\x82ã\\x82\\x83ã\\x83\\x83ã\\x82\\x82ã\\x83\\x82ã\\x82â¯ã\\x83\\x83ã\\x82\\x83ã\\x83\\x82ã\\x82\\x82ã\\x83\\x83ã\\x82\\x82ã\\x83\\x82ã\\x82â¸ã\\x83\\x83ã\\x82\\x83ã\\x83\\x82ã\\x82\\x82ã\\x83\\x83ã\\x82\\x82ã\\x83\\x82ã\\x82\\x8f chicken kabab average no much significant either waiting 10mins biryani pretty disappointed hotel management aspects\",\n",
       " 'instead order placed got different item ã\\x83\\x83ã\\x82\\x83ã\\x83\\x82ã\\x82\\x83ã\\x83\\x83ã\\x82\\x82ã\\x83\\x82ã\\x82â°ã\\x83\\x83ã\\x82\\x83ã\\x83\\x82ã\\x82\\x82ã\\x83\\x83ã\\x82\\x82ã\\x83\\x82ã\\x82\\x9fã\\x83\\x83ã\\x82\\x83ã\\x83\\x82ã\\x82\\x82ã\\x83\\x83ã\\x82\\x82ã\\x83\\x82ã\\x82\\x98ã\\x83\\x83ã\\x82\\x83ã\\x83\\x82ã\\x82\\x82ã\\x83\\x83ã\\x82\\x82ã\\x83\\x82ã\\x82â¡',\n",
       " 'possible not received order asking feedback',\n",
       " 'gud taste',\n",
       " 'awesome fud',\n",
       " \"restaurant one friend already late 3.15pm precise unfortunately no biryani available time wait around 20 mins get biryani ã\\x83\\x83ã\\x82\\x83ã\\x83\\x82ã\\x82\\x83ã\\x83\\x83ã\\x82\\x82ã\\x83\\x82ã\\x82â°ã\\x83\\x83ã\\x82\\x83ã\\x83\\x82ã\\x82\\x82ã\\x83\\x83ã\\x82\\x82ã\\x83\\x82ã\\x82\\x9fã\\x83\\x83ã\\x82\\x83ã\\x83\\x82ã\\x82\\x82ã\\x83\\x83ã\\x82\\x82ã\\x83\\x82ã\\x82\\x87ã\\x83\\x83ã\\x82\\x83ã\\x83\\x82ã\\x82\\x82ã\\x83\\x83ã\\x82\\x82ã\\x83\\x82ã\\x82â¦ ambience restaurant poor seating options available ã\\x83\\x83ã\\x82\\x83ã\\x83\\x82ã\\x82\\x83ã\\x83\\x83ã\\x82\\x82ã\\x83\\x82ã\\x82â°ã\\x83\\x83ã\\x82\\x83ã\\x83\\x82ã\\x82\\x82ã\\x83\\x83ã\\x82\\x82ã\\x83\\x82ã\\x82\\x9fã\\x83\\x83ã\\x82\\x83ã\\x83\\x82ã\\x82\\x82ã\\x83\\x83ã\\x82\\x82ã\\x83\\x82ã\\x82\\x87ã\\x83\\x83ã\\x82\\x83ã\\x83\\x82ã\\x82\\x82ã\\x83\\x83ã\\x82\\x82ã\\x83\\x82ã\\x82â¸ service pretty average well need call somebody hotel clean table us ã\\x83\\x83ã\\x82\\x83ã\\x83\\x82ã\\x82\\x83ã\\x83\\x83ã\\x82\\x82ã\\x83\\x82ã\\x82â°ã\\x83\\x83ã\\x82\\x83ã\\x83\\x82ã\\x82\\x82ã\\x83\\x83ã\\x82\\x82ã\\x83\\x82ã\\x82\\x9fã\\x83\\x83ã\\x82\\x83ã\\x83\\x82ã\\x82\\x82ã\\x83\\x83ã\\x82\\x82ã\\x83\\x82ã\\x82\\x87ã\\x83\\x83ã\\x82\\x83ã\\x83\\x82ã\\x82\\x82ã\\x83\\x83ã\\x82\\x82ã\\x83\\x82ã\\x82â « ã\\x83\\x83ã\\x82\\x83ã\\x83\\x82ã\\x82\\x83ã\\x83\\x83ã\\x82\\x82ã\\x83\\x82ã\\x82â°ã\\x83\\x83ã\\x82\\x83ã\\x83\\x82ã\\x82\\x82ã\\x83\\x83ã\\x82\\x82ã\\x83\\x82ã\\x82\\x9fã\\x83\\x83ã\\x82\\x83ã\\x83\\x82ã\\x82\\x82ã\\x83\\x83ã\\x82\\x82ã\\x83\\x82ã\\x82\\x8dã\\x83\\x83ã\\x82\\x83ã\\x83\\x82ã\\x82\\x82ã\\x83\\x83ã\\x82\\x82ã\\x83\\x82ã\\x82â½ã\\x83\\x83ã\\x82\\x83ã\\x83\\x82ã\\x82\\x83ã\\x83\\x83ã\\x82\\x82ã\\x83\\x82ã\\x82â¯ã\\x83\\x83ã\\x82\\x83ã\\x83\\x82ã\\x82\\x82ã\\x83\\x83ã\\x82\\x82ã\\x83\\x82ã\\x82â¸ã\\x83\\x83ã\\x82\\x83ã\\x83\\x82ã\\x82\\x82ã\\x83\\x83ã\\x82\\x82ã\\x83\\x82ã\\x82\\x8fwhat ate ã\\x83\\x83ã\\x82\\x83ã\\x83\\x82ã\\x82\\x83ã\\x83\\x83ã\\x82\\x82ã\\x83\\x82ã\\x82â°ã\\x83\\x83ã\\x82\\x83ã\\x83\\x82ã\\x82\\x82ã\\x83\\x83ã\\x82\\x82ã\\x83\\x82ã\\x82\\x9fã\\x83\\x83ã\\x82\\x83ã\\x83\\x82ã\\x82\\x82ã\\x83\\x83ã\\x82\\x82ã\\x83\\x82ã\\x82\\x8dã\\x83\\x83ã\\x82\\x83ã\\x83\\x82ã\\x82\\x82ã\\x83\\x83ã\\x82\\x82ã\\x83\\x82ã\\x82â´ chicken biryani ã\\x83\\x83ã\\x82\\x83ã\\x83\\x82ã\\x82\\x83ã\\x83\\x83ã\\x82\\x82ã\\x83\\x82ã\\x82â¢ã\\x83\\x83ã\\x82\\x83ã\\x83\\x82ã\\x82\\x82ã\\x83\\x83ã\\x82\\x82ã\\x83\\x82ã\\x82\\x9eã\\x83\\x83ã\\x82\\x83ã\\x83\\x82ã\\x82\\x82ã\\x83\\x83ã\\x82\\x82ã\\x83\\x82ã\\x82â¡ã\\x83\\x83ã\\x82\\x83ã\\x83\\x82ã\\x82\\x83ã\\x83\\x83ã\\x82\\x82ã\\x83\\x82ã\\x82â¯ã\\x83\\x83ã\\x82\\x83ã\\x83\\x82ã\\x82\\x82ã\\x83\\x83ã\\x82\\x82ã\\x83\\x82ã\\x82â¸ã\\x83\\x83ã\\x82\\x83ã\\x83\\x82ã\\x82\\x82ã\\x83\\x83ã\\x82\\x82ã\\x83\\x82ã\\x82\\x8f chicken biryani n't great like khuska cooked chicken pieces ã\\x83\\x83ã\\x82\\x83ã\\x83\\x82ã\\x82\\x83ã\\x83\\x83ã\\x82\\x82ã\\x83\\x82ã\\x82â°ã\\x83\\x83ã\\x82\\x83ã\\x83\\x82ã\\x82\\x82ã\\x83\\x83ã\\x82\\x82ã\\x83\\x82ã\\x82\\x9fã\\x83\\x83ã\\x82\\x83ã\\x83\\x82ã\\x82\\x82ã\\x83\\x83ã\\x82\\x82ã\\x83\\x82ã\\x82\\x8dã\\x83\\x83ã\\x82\\x83ã\\x83\\x82ã\\x82\\x82ã\\x83\\x83ã\\x82\\x82ã\\x83\\x82ã\\x82â´ chicken kabab ã\\x83\\x83ã\\x82\\x83ã\\x83\\x82ã\\x82\\x83ã\\x83\\x83ã\\x82\\x82ã\\x83\\x82ã\\x82â¢ã\\x83\\x83ã\\x82\\x83ã\\x83\\x82ã\\x82\\x82ã\\x83\\x83ã\\x82\\x82ã\\x83\\x82ã\\x82\\x9eã\\x83\\x83ã\\x82\\x83ã\\x83\\x82ã\\x82\\x82ã\\x83\\x83ã\\x82\\x82ã\\x83\\x82ã\\x82â¡ã\\x83\\x83ã\\x82\\x83ã\\x83\\x82ã\\x82\\x83ã\\x83\\x83ã\\x82\\x82ã\\x83\\x82ã\\x82â¯ã\\x83\\x83ã\\x82\\x83ã\\x83\\x82ã\\x82\\x82ã\\x83\\x83ã\\x82\\x82ã\\x83\\x82ã\\x82â¸ã\\x83\\x83ã\\x82\\x83ã\\x83\\x82ã\\x82\\x82ã\\x83\\x83ã\\x82\\x82ã\\x83\\x82ã\\x82\\x8f chicken kabab average no much significant either waiting 10mins biryani pretty disappointed hotel management aspects\",\n",
       " 'instead order placed got different item ã\\x83\\x83ã\\x82\\x83ã\\x83\\x82ã\\x82\\x83ã\\x83\\x83ã\\x82\\x82ã\\x83\\x82ã\\x82â°ã\\x83\\x83ã\\x82\\x83ã\\x83\\x82ã\\x82\\x82ã\\x83\\x83ã\\x82\\x82ã\\x83\\x82ã\\x82\\x9fã\\x83\\x83ã\\x82\\x83ã\\x83\\x82ã\\x82\\x82ã\\x83\\x83ã\\x82\\x82ã\\x83\\x82ã\\x82\\x98ã\\x83\\x83ã\\x82\\x83ã\\x83\\x82ã\\x82\\x82ã\\x83\\x83ã\\x82\\x82ã\\x83\\x82ã\\x82â¡',\n",
       " 'possible not received order asking feedback',\n",
       " 'gud taste',\n",
       " 'awesome fud',\n",
       " \"restaurant one friend already late 3.15pm precise unfortunately no biryani available time wait around 20 mins get biryani ã\\x83\\x83ã\\x82\\x83ã\\x83\\x82ã\\x82\\x83ã\\x83\\x83ã\\x82\\x82ã\\x83\\x82ã\\x82â°ã\\x83\\x83ã\\x82\\x83ã\\x83\\x82ã\\x82\\x82ã\\x83\\x83ã\\x82\\x82ã\\x83\\x82ã\\x82\\x9fã\\x83\\x83ã\\x82\\x83ã\\x83\\x82ã\\x82\\x82ã\\x83\\x83ã\\x82\\x82ã\\x83\\x82ã\\x82\\x87ã\\x83\\x83ã\\x82\\x83ã\\x83\\x82ã\\x82\\x82ã\\x83\\x83ã\\x82\\x82ã\\x83\\x82ã\\x82â¦ ambience restaurant poor seating options available ã\\x83\\x83ã\\x82\\x83ã\\x83\\x82ã\\x82\\x83ã\\x83\\x83ã\\x82\\x82ã\\x83\\x82ã\\x82â°ã\\x83\\x83ã\\x82\\x83ã\\x83\\x82ã\\x82\\x82ã\\x83\\x83ã\\x82\\x82ã\\x83\\x82ã\\x82\\x9fã\\x83\\x83ã\\x82\\x83ã\\x83\\x82ã\\x82\\x82ã\\x83\\x83ã\\x82\\x82ã\\x83\\x82ã\\x82\\x87ã\\x83\\x83ã\\x82\\x83ã\\x83\\x82ã\\x82\\x82ã\\x83\\x83ã\\x82\\x82ã\\x83\\x82ã\\x82â¸ service pretty average well need call somebody hotel clean table us ã\\x83\\x83ã\\x82\\x83ã\\x83\\x82ã\\x82\\x83ã\\x83\\x83ã\\x82\\x82ã\\x83\\x82ã\\x82â°ã\\x83\\x83ã\\x82\\x83ã\\x83\\x82ã\\x82\\x82ã\\x83\\x83ã\\x82\\x82ã\\x83\\x82ã\\x82\\x9fã\\x83\\x83ã\\x82\\x83ã\\x83\\x82ã\\x82\\x82ã\\x83\\x83ã\\x82\\x82ã\\x83\\x82ã\\x82\\x87ã\\x83\\x83ã\\x82\\x83ã\\x83\\x82ã\\x82\\x82ã\\x83\\x83ã\\x82\\x82ã\\x83\\x82ã\\x82â « ã\\x83\\x83ã\\x82\\x83ã\\x83\\x82ã\\x82\\x83ã\\x83\\x83ã\\x82\\x82ã\\x83\\x82ã\\x82â°ã\\x83\\x83ã\\x82\\x83ã\\x83\\x82ã\\x82\\x82ã\\x83\\x83ã\\x82\\x82ã\\x83\\x82ã\\x82\\x9fã\\x83\\x83ã\\x82\\x83ã\\x83\\x82ã\\x82\\x82ã\\x83\\x83ã\\x82\\x82ã\\x83\\x82ã\\x82\\x8dã\\x83\\x83ã\\x82\\x83ã\\x83\\x82ã\\x82\\x82ã\\x83\\x83ã\\x82\\x82ã\\x83\\x82ã\\x82â½ã\\x83\\x83ã\\x82\\x83ã\\x83\\x82ã\\x82\\x83ã\\x83\\x83ã\\x82\\x82ã\\x83\\x82ã\\x82â¯ã\\x83\\x83ã\\x82\\x83ã\\x83\\x82ã\\x82\\x82ã\\x83\\x83ã\\x82\\x82ã\\x83\\x82ã\\x82â¸ã\\x83\\x83ã\\x82\\x83ã\\x83\\x82ã\\x82\\x82ã\\x83\\x83ã\\x82\\x82ã\\x83\\x82ã\\x82\\x8fwhat ate ã\\x83\\x83ã\\x82\\x83ã\\x83\\x82ã\\x82\\x83ã\\x83\\x83ã\\x82\\x82ã\\x83\\x82ã\\x82â°ã\\x83\\x83ã\\x82\\x83ã\\x83\\x82ã\\x82\\x82ã\\x83\\x83ã\\x82\\x82ã\\x83\\x82ã\\x82\\x9fã\\x83\\x83ã\\x82\\x83ã\\x83\\x82ã\\x82\\x82ã\\x83\\x83ã\\x82\\x82ã\\x83\\x82ã\\x82\\x8dã\\x83\\x83ã\\x82\\x83ã\\x83\\x82ã\\x82\\x82ã\\x83\\x83ã\\x82\\x82ã\\x83\\x82ã\\x82â´ chicken biryani ã\\x83\\x83ã\\x82\\x83ã\\x83\\x82ã\\x82\\x83ã\\x83\\x83ã\\x82\\x82ã\\x83\\x82ã\\x82â¢ã\\x83\\x83ã\\x82\\x83ã\\x83\\x82ã\\x82\\x82ã\\x83\\x83ã\\x82\\x82ã\\x83\\x82ã\\x82\\x9eã\\x83\\x83ã\\x82\\x83ã\\x83\\x82ã\\x82\\x82ã\\x83\\x83ã\\x82\\x82ã\\x83\\x82ã\\x82â¡ã\\x83\\x83ã\\x82\\x83ã\\x83\\x82ã\\x82\\x83ã\\x83\\x83ã\\x82\\x82ã\\x83\\x82ã\\x82â¯ã\\x83\\x83ã\\x82\\x83ã\\x83\\x82ã\\x82\\x82ã\\x83\\x83ã\\x82\\x82ã\\x83\\x82ã\\x82â¸ã\\x83\\x83ã\\x82\\x83ã\\x83\\x82ã\\x82\\x82ã\\x83\\x83ã\\x82\\x82ã\\x83\\x82ã\\x82\\x8f chicken biryani n't great like khuska cooked chicken pieces ã\\x83\\x83ã\\x82\\x83ã\\x83\\x82ã\\x82\\x83ã\\x83\\x83ã\\x82\\x82ã\\x83\\x82ã\\x82â°ã\\x83\\x83ã\\x82\\x83ã\\x83\\x82ã\\x82\\x82ã\\x83\\x83ã\\x82\\x82ã\\x83\\x82ã\\x82\\x9fã\\x83\\x83ã\\x82\\x83ã\\x83\\x82ã\\x82\\x82ã\\x83\\x83ã\\x82\\x82ã\\x83\\x82ã\\x82\\x8dã\\x83\\x83ã\\x82\\x83ã\\x83\\x82ã\\x82\\x82ã\\x83\\x83ã\\x82\\x82ã\\x83\\x82ã\\x82â´ chicken kabab ã\\x83\\x83ã\\x82\\x83ã\\x83\\x82ã\\x82\\x83ã\\x83\\x83ã\\x82\\x82ã\\x83\\x82ã\\x82â¢ã\\x83\\x83ã\\x82\\x83ã\\x83\\x82ã\\x82\\x82ã\\x83\\x83ã\\x82\\x82ã\\x83\\x82ã\\x82\\x9eã\\x83\\x83ã\\x82\\x83ã\\x83\\x82ã\\x82\\x82ã\\x83\\x83ã\\x82\\x82ã\\x83\\x82ã\\x82â¡ã\\x83\\x83ã\\x82\\x83ã\\x83\\x82ã\\x82\\x83ã\\x83\\x83ã\\x82\\x82ã\\x83\\x82ã\\x82â¯ã\\x83\\x83ã\\x82\\x83ã\\x83\\x82ã\\x82\\x82ã\\x83\\x83ã\\x82\\x82ã\\x83\\x82ã\\x82â¸ã\\x83\\x83ã\\x82\\x83ã\\x83\\x82ã\\x82\\x82ã\\x83\\x83ã\\x82\\x82ã\\x83\\x82ã\\x82\\x8f chicken kabab average no much significant either waiting 10mins biryani pretty disappointed hotel management aspects\",\n",
       " 'instead order placed got different item ã\\x83\\x83ã\\x82\\x83ã\\x83\\x82ã\\x82\\x83ã\\x83\\x83ã\\x82\\x82ã\\x83\\x82ã\\x82â°ã\\x83\\x83ã\\x82\\x83ã\\x83\\x82ã\\x82\\x82ã\\x83\\x83ã\\x82\\x82ã\\x83\\x82ã\\x82\\x9fã\\x83\\x83ã\\x82\\x83ã\\x83\\x82ã\\x82\\x82ã\\x83\\x83ã\\x82\\x82ã\\x83\\x82ã\\x82\\x98ã\\x83\\x83ã\\x82\\x83ã\\x83\\x82ã\\x82\\x82ã\\x83\\x83ã\\x82\\x82ã\\x83\\x82ã\\x82â¡',\n",
       " 'possible not received order asking feedback',\n",
       " 'gud taste',\n",
       " 'awesome fud',\n",
       " 'tasty food',\n",
       " \"worst taste n't eat biriyani like earlier\",\n",
       " 'biryani good could better gravy good',\n",
       " 'genuine guy',\n",
       " 'late delivery',\n",
       " 'old chicken served .. smells bad not recommended',\n",
       " 'goood',\n",
       " 'ordered chicken fry got chicken leg',\n",
       " 'no good biryani',\n",
       " 'used regular place lunch could not handle spicy food please note biryani preparation different typical bangalore kinda preparation not like hyderabadi biryani dumm biryani ambur style biryani served leaf bowl .. menu option spicy yumm food',\n",
       " 'old chicken served .. smells bad not recommended',\n",
       " 'goood',\n",
       " 'ordered chicken fry got chicken leg',\n",
       " 'no good biryani',\n",
       " 'used regular place lunch could not handle spicy food please note biryani preparation different typical bangalore kinda preparation not like hyderabadi biryani dumm biryani ambur style biryani served leaf bowl .. menu option spicy yumm food',\n",
       " 'old chicken served .. smells bad not recommended',\n",
       " 'goood',\n",
       " 'ordered chicken fry got chicken leg',\n",
       " 'no good biryani',\n",
       " 'used regular place lunch could not handle spicy food please note biryani preparation different typical bangalore kinda preparation not like hyderabadi biryani dumm biryani ambur style biryani served leaf bowl .. menu option spicy yumm food',\n",
       " 'old chicken served .. smells bad not recommended',\n",
       " 'goood',\n",
       " 'ordered chicken fry got chicken leg',\n",
       " 'no good biryani',\n",
       " 'used regular place lunch could not handle spicy food please note biryani preparation different typical bangalore kinda preparation not like hyderabadi biryani dumm biryani ambur style biryani served leaf bowl .. menu option spicy yumm food',\n",
       " \"place pretty new suggested brothers 's tiny restaurant seat hardly 15 people ambience nothing fancy food makes ordered chicken mutton biryani heavenly 's fragrant flavourful 's light masala well also ordered mutton leg curry spicy served perfect side dish biryani ordered plate kebabs crispy not oily also picked mutton chops delicious 's also easy pocket pau 250 'll walk happy man full tummy ambience 3 food 5 service 4\",\n",
       " 'mutton biryani cooked perfect mutton pepper dry good tried leg soup- little spicy taste good typical naati style food anyone goes not get disappointed',\n",
       " 'loved sandwhiches',\n",
       " 'food good sandwich yum veg n non veg sandwich tasty club sandwich paneer club sandwich n chicken club sandwich awesm taste',\n",
       " 'chicken tasted stale one worst sandwiches eaten never order',\n",
       " 'faster service',\n",
       " 'delicious burger',\n",
       " 'fantastic food always hot burg',\n",
       " 'excellent',\n",
       " 'awesome',\n",
       " 'favorite place since college days egg sandwich awesome combined avocado milk shake puffs good along quality cakes get generally regular bakeries',\n",
       " \"looking forward towards good chocolate pastry experience terribly disappointed difference chocolate truffle black forest pastry some weird chocolate syrup pastries would n't recommend getting pastries place n't know food quite skeptical try\",\n",
       " 'bad service .. kind dont care attitude service .. ordered food dint even get delivered ..................................................',\n",
       " \"'s near house live impressed burger n sandwiches .it also severs juice n shakes good nxt time try shorma\",\n",
       " 'dis place shifted nxt hsbc bank .... wide range items cakes ice cream biscuits puffs juices etc office ws rite nxt ..... used visit everyday still ws nt bored',\n",
       " 'hea couple days ago wit frens wanted xplore menu items ws temptin .. not good place sit n eat ders no a/c .. limited seats .. not crowded well .. lookin v oly ordered fw .. paneer cheese sandwich chicken cheese sandwich .. wait fo 20mins enjoyed sandwich ws lip smackin .. spicy yum .. would giv low ratin cus price wic don thnk reasonable otherwise least likely visit agn ..',\n",
       " \"raining hungry wanted sandwich no power place saw some ice cream containers without power like 've creams suggestion not eat finally settled chicken shovarma good wrap could not give points due hygiene taste satisfactory\",\n",
       " 'bad service .. kind dont care attitude service .. ordered food dint even get delivered ..................................................',\n",
       " \"'s near house live impressed burger n sandwiches .it also severs juice n shakes good nxt time try shorma\",\n",
       " 'dis place shifted nxt hsbc bank .... wide range items cakes ice cream biscuits puffs juices etc office ws rite nxt ..... used visit everyday still ws nt bored',\n",
       " 'hea couple days ago wit frens wanted xplore menu items ws temptin .. not good place sit n eat ders no a/c .. limited seats .. not crowded well .. lookin v oly ordered fw .. paneer cheese sandwich chicken cheese sandwich .. wait fo 20mins enjoyed sandwich ws lip smackin .. spicy yum .. would giv low ratin cus price wic don thnk reasonable otherwise least likely visit agn ..',\n",
       " \"raining hungry wanted sandwich no power place saw some ice cream containers without power like 've creams suggestion not eat finally settled chicken shovarma good wrap could not give points due hygiene taste satisfactory\",\n",
       " 'bad service .. kind dont care attitude service .. ordered food dint even get delivered ..................................................',\n",
       " \"'s near house live impressed burger n sandwiches .it also severs juice n shakes good nxt time try shorma\",\n",
       " 'dis place shifted nxt hsbc bank .... wide range items cakes ice cream biscuits puffs juices etc office ws rite nxt ..... used visit everyday still ws nt bored',\n",
       " 'hea couple days ago wit frens wanted xplore menu items ws temptin .. not good place sit n eat ders no a/c .. limited seats .. not crowded well .. lookin v oly ordered fw .. paneer cheese sandwich chicken cheese sandwich .. wait fo 20mins enjoyed sandwich ws lip smackin .. spicy yum .. would giv low ratin cus price wic don thnk reasonable otherwise least likely visit agn ..',\n",
       " \"raining hungry wanted sandwich no power place saw some ice cream containers without power like 've creams suggestion not eat finally settled chicken shovarma good wrap could not give points due hygiene taste satisfactory\",\n",
       " 'bad service .. kind dont care attitude service .. ordered food dint even get delivered ..................................................',\n",
       " \"'s near house live impressed burger n sandwiches .it also severs juice n shakes good nxt time try shorma\",\n",
       " 'dis place shifted nxt hsbc bank .... wide range items cakes ice cream biscuits puffs juices etc office ws rite nxt ..... used visit everyday still ws nt bored',\n",
       " 'hea couple days ago wit frens wanted xplore menu items ws temptin .. not good place sit n eat ders no a/c .. limited seats .. not crowded well .. lookin v oly ordered fw .. paneer cheese sandwich chicken cheese sandwich .. wait fo 20mins enjoyed sandwich ws lip smackin .. spicy yum .. would giv low ratin cus price wic don thnk reasonable otherwise least likely visit agn ..',\n",
       " \"raining hungry wanted sandwich no power place saw some ice cream containers without power like 've creams suggestion not eat finally settled chicken shovarma good wrap could not give points due hygiene taste satisfactory\",\n",
       " \"hot burg regular road side bakery offers regular bakery items located near vasudev adiga 's bannerghatta road bakery offers regular vegetable puffs egg puffs paneer puffs pastries cakes sandwich burgers besides also get chai coffee evening time also get shawarma plate variant regular regular bakery\",\n",
       " 'like place evening snacks never miss come hear.food quality n behavior staff good.but not constraint cleaning thanks take littlr care cleaning part visit place next time come',\n",
       " 'total bad experience 1. taste worst 2. size burger sandwiches even smaller cost 3. not dare placing home delivery order waste time finally say long not place order',\n",
       " 'dont know anyone experienced took moti-chur pak/burfi mangalore handed relatives ate next day 2 elapsed days buying consumption said 2-3 pieces spoiled also taken kaju katli some roasted almond channa burfi quite good different luckily turned ok. sometime back taken some sweets trip ireland within span 2 days found changing taste assumption quite lot people frequent shop hence wont stale sweets experiences turning contrary shame guys',\n",
       " 'clean neat place food stored served hygenic environment staff well trained well taste sweets really good maintain standards across stores serve chaats bsk generally quite sweet well love dhai balla katori chat dhai puri priced slightly higher avg sweet shop quality taste justifies pricing sweets like kaju katli priced 930/kg packing premium well good sweets clean ambience good service',\n",
       " \"went shop afternoon around 1:40 could immediately see flies first section sweets soon enter realized dead fly motichoor ladoo took picture uploaded told staff threw piece away n't think would ever risk buying sweets place ever\",\n",
       " 'sweets pretty good not best shop looks hygienic cool chats not great overall shop right path',\n",
       " 'place always heaven sweet lovers best north indian sweet makers excellent variety sweets always fresh case spoiled some reason store not sell quality assured recommended place',\n",
       " 'anand sweets well known name bangalore lots sweets snacks really nice taste hygienic premium verities rasmali dhoklas also nice',\n",
       " 'quality sweets good however items priced love kachoris chaats dhokla rasmalai good kachori chaat added dahi one best items refuse give dahi plain kachori insisting dahi comes chaat items wish serve kachoris optional curd not chutneys',\n",
       " 'go often anand sweets since good sweet shops around vicinity however some sweets unmatchable usually prefer going anand sweets some special occasions home anand sweets near bda complex well maintained good dã\\x83\\x83ã\\x82\\x83ã\\x83\\x82ã\\x82\\x83ã\\x83\\x83ã\\x82\\x82ã\\x83\\x82ã\\x82â©cor love chaats like samosa chat dahi puri bhel puri typical north indian flavor prices higher end may double compare sweet shops recommend place bangaloreepicure.com',\n",
       " 'always loves anand sweets took motichor laddoo mixture tried sweets outlets taste good good cost reasonable nice packing service also good',\n",
       " 'sweets costly staff lazy nice evening snacks mixed variety dishes available please not go odd times',\n",
       " 'another nice sweets chats place something new offer .. slightly authentic delhi chat flavours .. sweet gullas also decent .. another favourite kids ..',\n",
       " \"super excited delicious varieties chaats sweets namkeen available banshankri opposite bda complex road gelato/polar bear/itsy bitsy personal favourite would lassi badam milk rasmalai rasgulla papdi chaat dahi bhalla dahi puri almost bengali sweets absolutely delicious cons no place sit 'd eat chaat standing suitable takeaways\",\n",
       " \"sweets everyone 's favourite n't feel like getting place cuz everything looks delicious tried almost every sweet motichoor laddu stands peak almost melts soon one puts mouth rasgullas jamoons die\",\n",
       " 'closed first floor service section really loved chole batura n badam milk hopefully start food items service',\n",
       " 'gud taste .. service gud nice place hangout',\n",
       " 'quick service decent ambience expected chur chur naan crispy flaky like amritsari kulcha seem good though ordered spiciest ones main course turned not spicy all.overall food good',\n",
       " 'restaurant recently place quote not much crowd craving good north indian food long time moved hyd banglore place doesnã\\x83\\x83ã\\x82\\x83ã\\x83\\x82ã\\x82\\x83ã\\x83\\x83ã\\x82\\x82ã\\x83\\x82ã\\x82â¢ã\\x83\\x83ã\\x82\\x83ã\\x83\\x82ã\\x82\\x82ã\\x83\\x83ã\\x82\\x82ã\\x83\\x82ã\\x82\\x80ã\\x83\\x83ã\\x82\\x83ã\\x83\\x82ã\\x82\\x82ã\\x83\\x83ã\\x82\\x82ã\\x83\\x82ã\\x82\\x99t disappoint quality food served awesome tried paneer kadai garlic naan bindi masala liked mint chutney small onion serve starters good place definitely visit',\n",
       " 'friendly punjabi fanfare ambience warm welcoming food vegetarians good choice some relief need bit chinese well got fast service despite fact saturday',\n",
       " 'go place food food hospitality place ensures all.their punjabi food tasty authentic specially starters amazing',\n",
       " 'visited place authentic north indian food not disappointed ordered tomato coriander shorts begin good main course ordered pindi chana paneer butter masala pudeena parantha lachha parantha tandoori roti curries tasty though lot oily felt places serving north indian cuisine started prepare curries like year days catered demand curry no onion no garlic paneer masala sans onion garlic still flavourful ambiance place nice fine-dining one enjoyed family prices pocket friendly',\n",
       " 'food average hope get authentic north indian thatã\\x83\\x83ã\\x82\\x83ã\\x83\\x82ã\\x82\\x83ã\\x83\\x83ã\\x82\\x82ã\\x83\\x82ã\\x82â¢ã\\x83\\x83ã\\x82\\x83ã\\x83\\x82ã\\x82\\x82ã\\x83\\x83ã\\x82\\x82ã\\x83\\x82ã\\x82\\x80ã\\x83\\x83ã\\x82\\x83ã\\x83\\x82ã\\x82\\x82ã\\x83\\x83ã\\x82\\x82ã\\x83\\x82ã\\x82\\x99s not case service good fresh sarso saag not available even winters',\n",
       " 'visited place last weekend craving some authentic punjabi food appetizer section hara bhara kebab delicious ordered sarson ka saag methi malai paneer missi roti butter naan makki ki roti sarson ka saag good however methi malai paneer filled spoonfuls sugar some strange reason even checked person waiting table ordering sweet completely denied received order disappointed tasting methi malai paneer not order methi malai paneer main course dish served dessert food taste ã\\x83\\x83ã\\x82\\x83ã\\x83\\x82ã\\x82\\x83ã\\x83\\x83ã\\x82\\x82ã\\x83\\x82ã\\x82â¢ã\\x83\\x83ã\\x82\\x83ã\\x83\\x82ã\\x82\\x82ã\\x83\\x83ã\\x82\\x82ã\\x83\\x82ã\\x82\\x80ã\\x83\\x83ã\\x82\\x83ã\\x83\\x82ã\\x82\\x82ã\\x83\\x83ã\\x82\\x82ã\\x83\\x82ã\\x82\\x93 2.5/5 value money ã\\x83\\x83ã\\x82\\x83ã\\x83\\x82ã\\x82\\x83ã\\x83\\x83ã\\x82\\x82ã\\x83\\x82ã\\x82â¢ã\\x83\\x83ã\\x82\\x83ã\\x83\\x82ã\\x82\\x82ã\\x83\\x83ã\\x82\\x82ã\\x83\\x82ã\\x82\\x80ã\\x83\\x83ã\\x82\\x83ã\\x83\\x82ã\\x82\\x82ã\\x83\\x83ã\\x82\\x82ã\\x83\\x82ã\\x82\\x93 2.5/5 ambiance ã\\x83\\x83ã\\x82\\x83ã\\x83\\x82ã\\x82\\x83ã\\x83\\x83ã\\x82\\x82ã\\x83\\x82ã\\x82â¢ã\\x83\\x83ã\\x82\\x83ã\\x83\\x82ã\\x82\\x82ã\\x83\\x83ã\\x82\\x82ã\\x83\\x82ã\\x82\\x80ã\\x83\\x83ã\\x82\\x83ã\\x83\\x82ã\\x82\\x82ã\\x83\\x83ã\\x82\\x82ã\\x83\\x82ã\\x82\\x93 2/5 management ã\\x83\\x83ã\\x82\\x83ã\\x83\\x82ã\\x82\\x83ã\\x83\\x83ã\\x82\\x82ã\\x83\\x82ã\\x82â¢ã\\x83\\x83ã\\x82\\x83ã\\x83\\x82ã\\x82\\x82ã\\x83\\x83ã\\x82\\x82ã\\x83\\x82ã\\x82\\x80ã\\x83\\x83ã\\x82\\x83ã\\x83\\x82ã\\x82\\x82ã\\x83\\x83ã\\x82\\x82ã\\x83\\x82ã\\x82\\x93 2/5 ã\\x83\\x83ã\\x82\\x83ã\\x83\\x82ã\\x82\\x83ã\\x83\\x83ã\\x82\\x82ã\\x83\\x82ã\\x82â¢ã\\x83\\x83ã\\x82\\x83ã\\x83\\x82ã\\x82\\x82ã\\x83\\x83ã\\x82\\x82ã\\x83\\x82ã\\x82\\x80ã\\x83\\x83ã\\x82\\x83ã\\x83\\x82ã\\x82\\x82ã\\x83\\x83ã\\x82\\x82ã\\x83\\x82ã\\x82\\x98visit againã\\x83\\x83ã\\x82\\x83ã\\x83\\x82ã\\x82\\x83ã\\x83\\x83ã\\x82\\x82ã\\x83\\x82ã\\x82â¢ã\\x83\\x83ã\\x82\\x83ã\\x83\\x82ã\\x82\\x82ã\\x83\\x83ã\\x82\\x82ã\\x83\\x82ã\\x82\\x80ã\\x83\\x83ã\\x82\\x83ã\\x83\\x82ã\\x82\\x82ã\\x83\\x83ã\\x82\\x82ã\\x83\\x82ã\\x82\\x99 list ã\\x83\\x83ã\\x82\\x83ã\\x83\\x82ã\\x82\\x83ã\\x83\\x83ã\\x82\\x82ã\\x83\\x82ã\\x82â¢ã\\x83\\x83ã\\x82\\x83ã\\x83\\x82ã\\x82\\x82ã\\x83\\x83ã\\x82\\x82ã\\x83\\x82ã\\x82\\x80ã\\x83\\x83ã\\x82\\x83ã\\x83\\x82ã\\x82\\x82ã\\x83\\x83ã\\x82\\x82ã\\x83\\x82ã\\x82\\x93 canã\\x83\\x83ã\\x82\\x83ã\\x83\\x82ã\\x82\\x83ã\\x83\\x83ã\\x82\\x82ã\\x83\\x82ã\\x82â¢ã\\x83\\x83ã\\x82\\x83ã\\x83\\x82ã\\x82\\x82ã\\x83\\x83ã\\x82\\x82ã\\x83\\x82ã\\x82\\x80ã\\x83\\x83ã\\x82\\x83ã\\x83\\x82ã\\x82\\x82ã\\x83\\x83ã\\x82\\x82ã\\x83\\x82ã\\x82\\x99t say',\n",
       " 'place latest addition growing punjabi rasoi chain restaurants situated upper floor popular star bazaar four branches bangalore ambiance quite appealing cozy visited place weekend minimum wait time 20 mins however dishes worth wait dishes cooked right chicken items try',\n",
       " 'ordered body builder omlette great packaging good got delivered time become regular customer place omlette .... surely recommend place quick order',\n",
       " 'average food idlis not soft enough liking chutney lacked flavours handwash area dirty yet rush people breakfast hours something rightf',\n",
       " \"madurai dosa shop cheap convenient love south indian food would like daily basis w often opt breakfast even though ambiance shabby unclean food undoubtedly good favorite ghee podi dosa also happen make excellent idlis uttapams masala dosa well n't appeal much afternoon meals parottas curry fairly average particularly like coconut chutney serve dosas idlis sambhar tastes strongly drumstick low spices\",\n",
       " \"give low rating displays popular name serves ordinary food madurai name would immediatele send salivating signals brain yummy idly sambar -vada pongal wonderful 'tamilnadu breakfast place not fails live upto expectations also serves substandard food gang ordered mini idly idly vada uthappam pongal center south indian food sambar chutney given simple recipes decent ingredients dishes not go wrong chutney seemed like gone multiple rounds cost cutting tasteless sambar oily watery batter used idly dosa rice no urad dhal pongal 1:1 proportion rice dhal probably used 4:1. hope bad day cook left bad taste need elephant drag joint\",\n",
       " 'good food mouth watering various varieties dishes typical madurai food joint good bf dinners available egg dosa best night dinner ur kuttings',\n",
       " 'place try chilli parota suggested friend disappointed much however offerings good tasteful',\n",
       " \"visited madurai idly shop indira nagar banaswadi .. place keeps us tamil nadu get quality vegetarian food decent price usually used break fasts variety idly dosa 's etc lunch indira nagar not impressed though curries offered\",\n",
       " 'genuine lover idly food joint around 4 joints bangalore visited banaswadi branch menu serving 3 times breakfast lunch dinner apart idly serving some good quality types dosa like paper masala podi masala serving style keeping tamilnadu madurai famous city tamilnadu staffs almost tamils good quality filter coffee also serving neat clean hygiene maintaining staffs not hospitality qualified knows work well see smile every time word reservations not necessary itã\\x83\\x83ã\\x82\\x83ã\\x83\\x82ã\\x82\\x83ã\\x83\\x83ã\\x82\\x82ã\\x83\\x82ã\\x82â¢ã\\x83\\x83ã\\x82\\x83ã\\x83\\x82ã\\x82\\x82ã\\x83\\x83ã\\x82\\x82ã\\x83\\x82ã\\x82\\x80ã\\x83\\x83ã\\x82\\x83ã\\x83\\x82ã\\x82\\x82ã\\x83\\x83ã\\x82\\x82ã\\x83\\x82ã\\x82\\x99s not fine dine outlet portion size items good 1 person itã\\x83\\x83ã\\x82\\x83ã\\x83\\x82ã\\x82\\x83ã\\x83\\x83ã\\x82\\x82ã\\x83\\x82ã\\x82â¢ã\\x83\\x83ã\\x82\\x83ã\\x83\\x82ã\\x82\\x82ã\\x83\\x83ã\\x82\\x82ã\\x83\\x82ã\\x82\\x80ã\\x83\\x83ã\\x82\\x83ã\\x83\\x82ã\\x82\\x82ã\\x83\\x83ã\\x82\\x82ã\\x83\\x82ã\\x82\\x99s south indian cuisine bon appetite chef bb chefbb.in',\n",
       " \"looking tasty food less damage pocket .. place suite along time tasted madurai tamilnadu food bangalore .. 's self service wait some time seat .. suggest take away recommend\",\n",
       " \"like podi dosa sambhar good even meal value money concern n't half menu afternoon\",\n",
       " \"perfect place peoples fond south indian food specially chutneys.the interior good spacious self service.they lot items menu some new me.all sort sweet dishes juices also available.the idly 's like home made idlies chutney sambar fabulous.they give two types chutneys yummy.the pongal tasty.it good place like near home.and one good thing open till 11-11.30 night dishes available time also.always recommended\",\n",
       " \"shawarma pout 's pout remembered every christite located christ university front dadi 's dum biryani 's go place kinds middle eastern food chicken shawarma introduced first time friend thank till day succulent yet crunchy chicken pieces engulfed two amazing sauces 's not shawarma 's experience go first hand try without ado service little slow think improved putting another guy work near shawarma counter one\",\n",
       " 'coming nri background found place serve one best shawarmas could almost reach level arab shawarmas vegetable pickles highly appreciated great customer services sitting area quiet pretty authentic',\n",
       " 'looking vegetarian restaurant go dinner finalised reaching place realised buffet place decided give try place spacious seating arrangement nice wonã\\x83\\x83ã\\x82\\x83ã\\x83\\x82ã\\x82\\x83ã\\x83\\x83ã\\x82\\x82ã\\x83\\x82ã\\x82\\x83ã\\x83\\x83ã\\x82\\x83ã\\x83\\x82ã\\x82\\x82ã\\x83\\x83ã\\x82\\x82ã\\x83\\x82ã\\x82â¢ã\\x83\\x83ã\\x82\\x83ã\\x83\\x82ã\\x82\\x83ã\\x83\\x83ã\\x82\\x82ã\\x83\\x82ã\\x82\\x82ã\\x83\\x83ã\\x82\\x83ã\\x83\\x82ã\\x82\\x82ã\\x83\\x83ã\\x82\\x82ã\\x83\\x82ã\\x82\\x80ã\\x83\\x83ã\\x82\\x83ã\\x83\\x82ã\\x82\\x83ã\\x83\\x83ã\\x82\\x82ã\\x83\\x82ã\\x82\\x82ã\\x83\\x83ã\\x82\\x83ã\\x83\\x82ã\\x82\\x82ã\\x83\\x83ã\\x82\\x82ã\\x83\\x82ã\\x82\\x99t put fine dining casual dining place staff friendly addressed guest smiles service quick prompt served soup table things one needs picked self two options soup tomato shorba good good spread not huge one live counter chaats pasta certain items desserts okayish options limited liked dahi bhalla really good ambience 3.5 food 3.5 service 4',\n",
       " \"food 4/4 service 4/4 ambience 4/4 cost 3/4 's one place full fledged veg buffet nice place go family 1st jan lunch waited hour get table buffet spread nice really liked white pasta chats grill not done properly many items may crowd liked desert spread also overall great time\",\n",
       " 'team lunch.very nice ambience.parking problem park vehicle main road outside restaurant beside no parking board.however since collect parking charges assume would taking care parking civic authorities reducing 1 star factor place spacious.the service good.this place strict vegetarian lots items compared bbq nation similar places howevwr still little tough hardcode non-vegetarian like p vast spread items i.e 4-5 vegetarian starters live pasta chat counters,7-8 types desserts veg biriyani noodles rice sambar paneer curry etc loved paneer curry best part around 450 rs.u get 10 discount corporate bills .. visit place hardcore vegetarians',\n",
       " 'place nice ambiance comfortable seating strangely made wait half hour even though restaurant almost completely empty buffet spread ordinary bland salads fresh tasteless starters extremely oily some paranthas good sides quite forgettable worst part service got soups midway meals server made us wait long simply get cutlery table made us change score feedback form donã\\x83\\x83ã\\x82\\x83ã\\x83\\x82ã\\x82\\x83ã\\x83\\x83ã\\x82\\x82ã\\x83\\x82ã\\x82\\x83ã\\x83\\x83ã\\x82\\x83ã\\x83\\x82ã\\x82\\x82ã\\x83\\x83ã\\x82\\x82ã\\x83\\x82ã\\x82â¢ã\\x83\\x83ã\\x82\\x83ã\\x83\\x82ã\\x82\\x83ã\\x83\\x83ã\\x82\\x82ã\\x83\\x82ã\\x82\\x82ã\\x83\\x83ã\\x82\\x83ã\\x83\\x82ã\\x82\\x82ã\\x83\\x83ã\\x82\\x82ã\\x83\\x82ã\\x82\\x80ã\\x83\\x83ã\\x82\\x83ã\\x83\\x82ã\\x82\\x83ã\\x83\\x83ã\\x82\\x82ã\\x83\\x82ã\\x82\\x82ã\\x83\\x83ã\\x82\\x83ã\\x83\\x82ã\\x82\\x82ã\\x83\\x83ã\\x82\\x82ã\\x83\\x82ã\\x82\\x99t know paid ã\\x83\\x83ã\\x82\\x83ã\\x83\\x82ã\\x82\\x83ã\\x83\\x83ã\\x82\\x82ã\\x83\\x82ã\\x82\\x83ã\\x83\\x83ã\\x82\\x83ã\\x83\\x82ã\\x82\\x82ã\\x83\\x83ã\\x82\\x82ã\\x83\\x82ã\\x82â¢ã\\x83\\x83ã\\x82\\x83ã\\x83\\x82ã\\x82\\x83ã\\x83\\x83ã\\x82\\x82ã\\x83\\x82ã\\x82\\x82ã\\x83\\x83ã\\x82\\x83ã\\x83\\x82ã\\x82\\x82ã\\x83\\x83ã\\x82\\x82ã\\x83\\x82ã\\x82\\x80ã\\x83\\x83ã\\x82\\x83ã\\x83\\x82ã\\x82\\x83ã\\x83\\x83ã\\x82\\x82ã\\x83\\x82ã\\x82\\x82ã\\x83\\x83ã\\x82\\x83ã\\x83\\x82ã\\x82\\x82ã\\x83\\x83ã\\x82\\x82ã\\x83\\x82ã\\x82\\x9cservice chargeã\\x83\\x83ã\\x82\\x83ã\\x83\\x82ã\\x82\\x83ã\\x83\\x83ã\\x82\\x82ã\\x83\\x82ã\\x82\\x83ã\\x83\\x83ã\\x82\\x83ã\\x83\\x82ã\\x82\\x82ã\\x83\\x83ã\\x82\\x82ã\\x83\\x82ã\\x82â¢ã\\x83\\x83ã\\x82\\x83ã\\x83\\x82ã\\x82\\x83ã\\x83\\x83ã\\x82\\x82ã\\x83\\x82ã\\x82\\x82ã\\x83\\x83ã\\x82\\x83ã\\x83\\x82ã\\x82\\x82ã\\x83\\x83ã\\x82\\x82ã\\x83\\x82ã\\x82\\x80ã\\x83\\x83ã\\x82\\x83ã\\x83\\x82ã\\x82\\x83ã\\x83\\x83ã\\x82\\x82ã\\x83\\x82ã\\x82\\x82ã\\x83\\x83ã\\x82\\x83ã\\x83\\x82ã\\x82\\x82ã\\x83\\x83ã\\x82\\x82ã\\x83\\x82ã\\x82\\x9d not returning',\n",
       " 'yummy yummy yummy ..... made tummy happie happie happie public holiday place crowded .... staff courteous ready service food delicious fav alishan kheer hyderabad dum biryani little tit-bits starters',\n",
       " 'loved place ambience good staff courteous place like heaven vegetarians lots varieties food absolutely delicious',\n",
       " 'place weekend early dinner place properly lit super crowded am.not vegetarian love loved every single dish tried tried following dishes starters ate bhindi kurkure rajastani baby corn amritsari paneer tikka tandoori kasundi aloo veg ball chilli ginger dry full flavor tasted beautiful also some items main course amritsari chhole dal makhni subzi pathankot subz methi mehak veg hakka noodles penne alfredo spaghetti peppernata cheese chilli paratha ajwaini palak paratha aloo paratha paneer paratha since went paratha festival lucky try specially served variety achaars lovely eat course desserts saphedh cham cham badami semiya doodhi halwa ending buffet sweet note loved ambience service head soon try veg dishes',\n",
       " 'beautiful restaurant people like veg food buffet veg counter set also live counter staff courteous polite ambience good food tasty enjoy family friends',\n",
       " 'restaurant one best spread items buffet list things offers chats section starters main course desserts live pasta section live sweets section etc desserts section best wide variety items like cookies pastries ice creams 4-5 different varieties sweets custard etc etc totally worth trying restaurant',\n",
       " 'family outing since hardly restaurants offer pure veg buffet subz list long time place easy spot ambience good would rate 3.8/5 varieties food simply super would rate 5/5 taste good live counters amazing well overall rate restaurant 4/5 worth visiting money pay buffet',\n",
       " 'food nice heard lot saying longest vegetarian buffet place reality not find many dishes taste wise deserves 4 rating without thinking',\n",
       " 'tuesday afternoon lunch beer served crisp fresh ordered fish chips thai curry food tasty cons- ambience isnã\\x83\\x83ã\\x82\\x83ã\\x83\\x82ã\\x82\\x83ã\\x83\\x83ã\\x82\\x82ã\\x83\\x82ã\\x82â¢ã\\x83\\x83ã\\x82\\x83ã\\x83\\x82ã\\x82\\x82ã\\x83\\x83ã\\x82\\x82ã\\x83\\x82ã\\x82\\x80ã\\x83\\x83ã\\x82\\x83ã\\x83\\x82ã\\x82\\x82ã\\x83\\x83ã\\x82\\x82ã\\x83\\x82ã\\x82\\x99t great place isnã\\x83\\x83ã\\x82\\x83ã\\x83\\x82ã\\x82\\x83ã\\x83\\x83ã\\x82\\x82ã\\x83\\x82ã\\x82â¢ã\\x83\\x83ã\\x82\\x83ã\\x83\\x82ã\\x82\\x82ã\\x83\\x83ã\\x82\\x82ã\\x83\\x82ã\\x82\\x80ã\\x83\\x83ã\\x82\\x83ã\\x83\\x82ã\\x82\\x82ã\\x83\\x83ã\\x82\\x82ã\\x83\\x82ã\\x82\\x99t clean not upto standards flooring dirty sofas needs maintenance aware staff force five star rating no wonder place good rating reviews',\n",
       " 'second visit biergarten first time husband occasion birthday enjoyed starters full portion size amazing bbq chicken wings deserves special mention sticky yum steward kind enough arrange cake occasion love overall vibe hospitality food',\n",
       " \"great atmosphere weekends visit ambience food brewery n't forget try beers quite times 'm never disappointed\",\n",
       " 'ambience place perfect good evening hours food delicious ordered salmon salad craft beers beers served perfect temperature liked dessert lot rarely taste eat dessert portion dessert perfect not worried calories plating art perfection',\n",
       " 'right beside office never ever get bored place food ambience everything good try pasta wings desserts decent enough live music lighting night great',\n",
       " 'one popular place whitefield 4th visit still visit many times cool environment friday itã\\x83\\x83ã\\x82\\x83ã\\x83\\x82ã\\x82\\x83ã\\x83\\x83ã\\x82\\x82ã\\x83\\x82ã\\x82â¢ã\\x83\\x83ã\\x82\\x83ã\\x83\\x82ã\\x82\\x82ã\\x83\\x83ã\\x82\\x82ã\\x83\\x82ã\\x82\\x80ã\\x83\\x83ã\\x82\\x83ã\\x83\\x82ã\\x82\\x82ã\\x83\\x83ã\\x82\\x82ã\\x83\\x82ã\\x82\\x99s hard get table planning come book table prior no dance floor people use dance beside tables food also tasty yummy donã\\x83\\x83ã\\x82\\x83ã\\x83\\x82ã\\x82\\x83ã\\x83\\x83ã\\x82\\x82ã\\x83\\x82ã\\x82â¢ã\\x83\\x83ã\\x82\\x83ã\\x83\\x82ã\\x82\\x82ã\\x83\\x83ã\\x82\\x82ã\\x83\\x82ã\\x82\\x80ã\\x83\\x83ã\\x82\\x83ã\\x83\\x82ã\\x82\\x82ã\\x83\\x83ã\\x82\\x82ã\\x83\\x82ã\\x82\\x99t forget try pizza one best pizza kurkuri fish ghusao chilli chicken some best dishes stater try enjoyed lot visit',\n",
       " 'great time naveen treated us well short good care taker liked food beer good definitely visit biergarten nd referring friends',\n",
       " \"great ambiance good food great music perfect place go hang friends enjoyed link get music session sometimes weekends weekend 's normally crowded 's better book tables beforehand\",\n",
       " \"'s nice place little crowded even weekdays food great service not appreciated staff outnumbered crowd\",\n",
       " 'one favourite places whitefield area love wheat beer lot went 4 times recommend mushroom galawti kabab ghee roast little bit crowded weekends worth wait queue beer-lovers not miss beer also booking head-off went navonil rahut',\n",
       " \"place mind since year could finally make full high hopes expectations luckily place met extravagantly decore ambience place beautiful interiors well organised seating space food quantity less taste heaaaveeeennnnn 🤩 drinks ca n't say not drank day assure good also brewery music went weekday ca n't say much heard place lit weekends rather close eyes try place no doubt even koramangala branch also upto mark\",\n",
       " \"good food good ambiance live music could 've better no biggie some items ordered pizza diavola con pollo ã\\x83\\x83ã\\x82\\x83ã\\x83\\x82ã\\x82\\x83ã\\x83\\x83ã\\x82\\x82ã\\x83\\x82ã\\x82â¢ã\\x83\\x83ã\\x82\\x83ã\\x83\\x82ã\\x82\\x82ã\\x83\\x83ã\\x82\\x82ã\\x83\\x82ã\\x82\\x80ã\\x83\\x83ã\\x82\\x83ã\\x83\\x82ã\\x82\\x82ã\\x83\\x83ã\\x82\\x82ã\\x83\\x82ã\\x82\\x93 4.5/5 starters chicken tikka bao ã\\x83\\x83ã\\x82\\x83ã\\x83\\x82ã\\x82\\x83ã\\x83\\x83ã\\x82\\x82ã\\x83\\x82ã\\x82â¢ã\\x83\\x83ã\\x82\\x83ã\\x83\\x82ã\\x82\\x82ã\\x83\\x83ã\\x82\\x82ã\\x83\\x82ã\\x82\\x80ã\\x83\\x83ã\\x82\\x83ã\\x83\\x82ã\\x82\\x82ã\\x83\\x83ã\\x82\\x82ã\\x83\\x82ã\\x82\\x93 4/5 starters keema ghotala sliders ã\\x83\\x83ã\\x82\\x83ã\\x83\\x82ã\\x82\\x83ã\\x83\\x83ã\\x82\\x82ã\\x83\\x82ã\\x82â¢ã\\x83\\x83ã\\x82\\x83ã\\x83\\x82ã\\x82\\x82ã\\x83\\x83ã\\x82\\x82ã\\x83\\x82ã\\x82\\x80ã\\x83\\x83ã\\x82\\x83ã\\x83\\x82ã\\x82\\x82ã\\x83\\x83ã\\x82\\x82ã\\x83\\x82ã\\x82\\x93 4.5/5 mains gai pad krapow ã\\x83\\x83ã\\x82\\x83ã\\x83\\x82ã\\x82\\x83ã\\x83\\x83ã\\x82\\x82ã\\x83\\x82ã\\x82â¢ã\\x83\\x83ã\\x82\\x83ã\\x83\\x82ã\\x82\\x82ã\\x83\\x83ã\\x82\\x82ã\\x83\\x82ã\\x82\\x80ã\\x83\\x83ã\\x82\\x83ã\\x83\\x82ã\\x82\\x82ã\\x83\\x83ã\\x82\\x82ã\\x83\\x82ã\\x82\\x93 4/5\",\n",
       " 'beautiful place say ambience lit cosy classy specially greenish touch added beautiful lamps talk food average service good music loud addition place overall itã\\x83\\x83ã\\x82\\x83ã\\x83\\x82ã\\x82\\x83ã\\x83\\x83ã\\x82\\x82ã\\x83\\x82ã\\x82â¢ã\\x83\\x83ã\\x82\\x83ã\\x83\\x82ã\\x82\\x82ã\\x83\\x83ã\\x82\\x82ã\\x83\\x82ã\\x82\\x80ã\\x83\\x83ã\\x82\\x83ã\\x83\\x82ã\\x82\\x82ã\\x83\\x83ã\\x82\\x82ã\\x83\\x82ã\\x82\\x99s good place hangout friends not expect much food desserts amazing though 🧁 ã\\x83\\x83ã\\x82\\x83ã\\x83\\x82ã\\x82\\x83ã\\x83\\x83ã\\x82\\x82ã\\x83\\x82ã\\x82â°ã\\x83\\x83ã\\x82\\x83ã\\x83\\x82ã\\x82\\x82ã\\x83\\x83ã\\x82\\x82ã\\x83\\x82ã\\x82\\x9fã\\x83\\x83ã\\x82\\x83ã\\x83\\x82ã\\x82\\x82ã\\x83\\x83ã\\x82\\x82ã\\x83\\x82ã\\x82\\x8dã\\x83\\x83ã\\x82\\x83ã\\x83\\x82ã\\x82\\x82ã\\x83\\x83ã\\x82\\x82ã\\x83\\x82ã\\x82â°',\n",
       " 'huge place lovely ambiance love beer ipa strong ful flavor got some interesting food options great',\n",
       " 'biergarten whitefield bookmarks long time honestly felt didnã\\x83\\x83ã\\x82\\x83ã\\x83\\x82ã\\x82\\x83ã\\x83\\x83ã\\x82\\x82ã\\x83\\x82ã\\x82â¢ã\\x83\\x83ã\\x82\\x83ã\\x83\\x82ã\\x82\\x82ã\\x83\\x83ã\\x82\\x82ã\\x83\\x82ã\\x82\\x80ã\\x83\\x83ã\\x82\\x83ã\\x83\\x82ã\\x82\\x82ã\\x83\\x83ã\\x82\\x82ã\\x83\\x82ã\\x82\\x99t live hype ratings see vegetarian wouldnã\\x83\\x83ã\\x82\\x83ã\\x83\\x82ã\\x82\\x83ã\\x83\\x83ã\\x82\\x82ã\\x83\\x82ã\\x82â¢ã\\x83\\x83ã\\x82\\x83ã\\x83\\x82ã\\x82\\x82ã\\x83\\x83ã\\x82\\x82ã\\x83\\x82ã\\x82\\x80ã\\x83\\x83ã\\x82\\x83ã\\x83\\x82ã\\x82\\x82ã\\x83\\x83ã\\x82\\x82ã\\x83\\x82ã\\x82\\x99t recommend place mushroom galouti average honest friends like non veg dishes though service okay ambience gets extra point rating went lunch iã\\x83\\x83ã\\x82\\x83ã\\x83\\x82ã\\x82\\x83ã\\x83\\x83ã\\x82\\x82ã\\x83\\x82ã\\x82â¢ã\\x83\\x83ã\\x82\\x83ã\\x83\\x82ã\\x82\\x82ã\\x83\\x83ã\\x82\\x82ã\\x83\\x82ã\\x82\\x80ã\\x83\\x83ã\\x82\\x83ã\\x83\\x82ã\\x82\\x82ã\\x83\\x83ã\\x82\\x82ã\\x83\\x82ã\\x82\\x99m sure itã\\x83\\x83ã\\x82\\x83ã\\x83\\x82ã\\x82\\x83ã\\x83\\x83ã\\x82\\x82ã\\x83\\x82ã\\x82â¢ã\\x83\\x83ã\\x82\\x83ã\\x83\\x82ã\\x82\\x82ã\\x83\\x83ã\\x82\\x82ã\\x83\\x82ã\\x82\\x80ã\\x83\\x83ã\\x82\\x83ã\\x83\\x82ã\\x82\\x82ã\\x83\\x83ã\\x82\\x82ã\\x83\\x82ã\\x82\\x99ll better evening unless youã\\x83\\x83ã\\x82\\x83ã\\x83\\x82ã\\x82\\x83ã\\x83\\x83ã\\x82\\x82ã\\x83\\x82ã\\x82â¢ã\\x83\\x83ã\\x82\\x83ã\\x83\\x82ã\\x82\\x82ã\\x83\\x83ã\\x82\\x82ã\\x83\\x82ã\\x82\\x80ã\\x83\\x83ã\\x82\\x83ã\\x83\\x82ã\\x82\\x82ã\\x83\\x83ã\\x82\\x82ã\\x83\\x82ã\\x82\\x99re around area wouldnã\\x83\\x83ã\\x82\\x83ã\\x83\\x82ã\\x82\\x83ã\\x83\\x83ã\\x82\\x82ã\\x83\\x82ã\\x82â¢ã\\x83\\x83ã\\x82\\x83ã\\x83\\x82ã\\x82\\x82ã\\x83\\x83ã\\x82\\x82ã\\x83\\x82ã\\x82\\x80ã\\x83\\x83ã\\x82\\x83ã\\x83\\x82ã\\x82\\x82ã\\x83\\x83ã\\x82\\x82ã\\x83\\x82ã\\x82\\x99t recommend long drive till might leave highly disappointed',\n",
       " \"place mind since year could finally make full high hopes expectations luckily place met extravagantly decore ambience place beautiful interiors well organised seating space food quantity less taste heaaaveeeennnnn 🤩 drinks ca n't say not drank day assure good also brewery music went weekday ca n't say much heard place lit weekends rather close eyes try place no doubt even koramangala branch also upto mark\",\n",
       " \"good food good ambiance live music could 've better no biggie some items ordered pizza diavola con pollo ã\\x83\\x83ã\\x82\\x83ã\\x83\\x82ã\\x82\\x83ã\\x83\\x83ã\\x82\\x82ã\\x83\\x82ã\\x82â¢ã\\x83\\x83ã\\x82\\x83ã\\x83\\x82ã\\x82\\x82ã\\x83\\x83ã\\x82\\x82ã\\x83\\x82ã\\x82\\x80ã\\x83\\x83ã\\x82\\x83ã\\x83\\x82ã\\x82\\x82ã\\x83\\x83ã\\x82\\x82ã\\x83\\x82ã\\x82\\x93 4.5/5 starters chicken tikka bao ã\\x83\\x83ã\\x82\\x83ã\\x83\\x82ã\\x82\\x83ã\\x83\\x83ã\\x82\\x82ã\\x83\\x82ã\\x82â¢ã\\x83\\x83ã\\x82\\x83ã\\x83\\x82ã\\x82\\x82ã\\x83\\x83ã\\x82\\x82ã\\x83\\x82ã\\x82\\x80ã\\x83\\x83ã\\x82\\x83ã\\x83\\x82ã\\x82\\x82ã\\x83\\x83ã\\x82\\x82ã\\x83\\x82ã\\x82\\x93 4/5 starters keema ghotala sliders ã\\x83\\x83ã\\x82\\x83ã\\x83\\x82ã\\x82\\x83ã\\x83\\x83ã\\x82\\x82ã\\x83\\x82ã\\x82â¢ã\\x83\\x83ã\\x82\\x83ã\\x83\\x82ã\\x82\\x82ã\\x83\\x83ã\\x82\\x82ã\\x83\\x82ã\\x82\\x80ã\\x83\\x83ã\\x82\\x83ã\\x83\\x82ã\\x82\\x82ã\\x83\\x83ã\\x82\\x82ã\\x83\\x82ã\\x82\\x93 4.5/5 mains gai pad krapow ã\\x83\\x83ã\\x82\\x83ã\\x83\\x82ã\\x82\\x83ã\\x83\\x83ã\\x82\\x82ã\\x83\\x82ã\\x82â¢ã\\x83\\x83ã\\x82\\x83ã\\x83\\x82ã\\x82\\x82ã\\x83\\x83ã\\x82\\x82ã\\x83\\x82ã\\x82\\x80ã\\x83\\x83ã\\x82\\x83ã\\x83\\x82ã\\x82\\x82ã\\x83\\x83ã\\x82\\x82ã\\x83\\x82ã\\x82\\x93 4/5\",\n",
       " 'beautiful place say ambience lit cosy classy specially greenish touch added beautiful lamps talk food average service good music loud addition place overall itã\\x83\\x83ã\\x82\\x83ã\\x83\\x82ã\\x82\\x83ã\\x83\\x83ã\\x82\\x82ã\\x83\\x82ã\\x82â¢ã\\x83\\x83ã\\x82\\x83ã\\x83\\x82ã\\x82\\x82ã\\x83\\x83ã\\x82\\x82ã\\x83\\x82ã\\x82\\x80ã\\x83\\x83ã\\x82\\x83ã\\x83\\x82ã\\x82\\x82ã\\x83\\x83ã\\x82\\x82ã\\x83\\x82ã\\x82\\x99s good place hangout friends not expect much food desserts amazing though 🧁 ã\\x83\\x83ã\\x82\\x83ã\\x83\\x82ã\\x82\\x83ã\\x83\\x83ã\\x82\\x82ã\\x83\\x82ã\\x82â°ã\\x83\\x83ã\\x82\\x83ã\\x83\\x82ã\\x82\\x82ã\\x83\\x83ã\\x82\\x82ã\\x83\\x82ã\\x82\\x9fã\\x83\\x83ã\\x82\\x83ã\\x83\\x82ã\\x82\\x82ã\\x83\\x83ã\\x82\\x82ã\\x83\\x82ã\\x82\\x8dã\\x83\\x83ã\\x82\\x83ã\\x83\\x82ã\\x82\\x82ã\\x83\\x83ã\\x82\\x82ã\\x83\\x82ã\\x82â°',\n",
       " 'huge place lovely ambiance love beer ipa strong ful flavor got some interesting food options great',\n",
       " 'biergarten whitefield bookmarks long time honestly felt didnã\\x83\\x83ã\\x82\\x83ã\\x83\\x82ã\\x82\\x83ã\\x83\\x83ã\\x82\\x82ã\\x83\\x82ã\\x82â¢ã\\x83\\x83ã\\x82\\x83ã\\x83\\x82ã\\x82\\x82ã\\x83\\x83ã\\x82\\x82ã\\x83\\x82ã\\x82\\x80ã\\x83\\x83ã\\x82\\x83ã\\x83\\x82ã\\x82\\x82ã\\x83\\x83ã\\x82\\x82ã\\x83\\x82ã\\x82\\x99t live hype ratings see vegetarian wouldnã\\x83\\x83ã\\x82\\x83ã\\x83\\x82ã\\x82\\x83ã\\x83\\x83ã\\x82\\x82ã\\x83\\x82ã\\x82â¢ã\\x83\\x83ã\\x82\\x83ã\\x83\\x82ã\\x82\\x82ã\\x83\\x83ã\\x82\\x82ã\\x83\\x82ã\\x82\\x80ã\\x83\\x83ã\\x82\\x83ã\\x83\\x82ã\\x82\\x82ã\\x83\\x83ã\\x82\\x82ã\\x83\\x82ã\\x82\\x99t recommend place mushroom galouti average honest friends like non veg dishes though service okay ambience gets extra point rating went lunch iã\\x83\\x83ã\\x82\\x83ã\\x83\\x82ã\\x82\\x83ã\\x83\\x83ã\\x82\\x82ã\\x83\\x82ã\\x82â¢ã\\x83\\x83ã\\x82\\x83ã\\x83\\x82ã\\x82\\x82ã\\x83\\x83ã\\x82\\x82ã\\x83\\x82ã\\x82\\x80ã\\x83\\x83ã\\x82\\x83ã\\x83\\x82ã\\x82\\x82ã\\x83\\x83ã\\x82\\x82ã\\x83\\x82ã\\x82\\x99m sure itã\\x83\\x83ã\\x82\\x83ã\\x83\\x82ã\\x82\\x83ã\\x83\\x83ã\\x82\\x82ã\\x83\\x82ã\\x82â¢ã\\x83\\x83ã\\x82\\x83ã\\x83\\x82ã\\x82\\x82ã\\x83\\x83ã\\x82\\x82ã\\x83\\x82ã\\x82\\x80ã\\x83\\x83ã\\x82\\x83ã\\x83\\x82ã\\x82\\x82ã\\x83\\x83ã\\x82\\x82ã\\x83\\x82ã\\x82\\x99ll better evening unless youã\\x83\\x83ã\\x82\\x83ã\\x83\\x82ã\\x82\\x83ã\\x83\\x83ã\\x82\\x82ã\\x83\\x82ã\\x82â¢ã\\x83\\x83ã\\x82\\x83ã\\x83\\x82ã\\x82\\x82ã\\x83\\x83ã\\x82\\x82ã\\x83\\x82ã\\x82\\x80ã\\x83\\x83ã\\x82\\x83ã\\x83\\x82ã\\x82\\x82ã\\x83\\x83ã\\x82\\x82ã\\x83\\x82ã\\x82\\x99re around area wouldnã\\x83\\x83ã\\x82\\x83ã\\x83\\x82ã\\x82\\x83ã\\x83\\x83ã\\x82\\x82ã\\x83\\x82ã\\x82â¢ã\\x83\\x83ã\\x82\\x83ã\\x83\\x82ã\\x82\\x82ã\\x83\\x83ã\\x82\\x82ã\\x83\\x82ã\\x82\\x80ã\\x83\\x83ã\\x82\\x83ã\\x83\\x82ã\\x82\\x82ã\\x83\\x83ã\\x82\\x82ã\\x83\\x82ã\\x82\\x99t recommend long drive till might leave highly disappointed',\n",
       " \"place mind since year could finally make full high hopes expectations luckily place met extravagantly decore ambience place beautiful interiors well organised seating space food quantity less taste heaaaveeeennnnn 🤩 drinks ca n't say not drank day assure good also brewery music went weekday ca n't say much heard place lit weekends rather close eyes try place no doubt even koramangala branch also upto mark\",\n",
       " \"good food good ambiance live music could 've better no biggie some items ordered pizza diavola con pollo ã\\x83\\x83ã\\x82\\x83ã\\x83\\x82ã\\x82\\x83ã\\x83\\x83ã\\x82\\x82ã\\x83\\x82ã\\x82â¢ã\\x83\\x83ã\\x82\\x83ã\\x83\\x82ã\\x82\\x82ã\\x83\\x83ã\\x82\\x82ã\\x83\\x82ã\\x82\\x80ã\\x83\\x83ã\\x82\\x83ã\\x83\\x82ã\\x82\\x82ã\\x83\\x83ã\\x82\\x82ã\\x83\\x82ã\\x82\\x93 4.5/5 starters chicken tikka bao ã\\x83\\x83ã\\x82\\x83ã\\x83\\x82ã\\x82\\x83ã\\x83\\x83ã\\x82\\x82ã\\x83\\x82ã\\x82â¢ã\\x83\\x83ã\\x82\\x83ã\\x83\\x82ã\\x82\\x82ã\\x83\\x83ã\\x82\\x82ã\\x83\\x82ã\\x82\\x80ã\\x83\\x83ã\\x82\\x83ã\\x83\\x82ã\\x82\\x82ã\\x83\\x83ã\\x82\\x82ã\\x83\\x82ã\\x82\\x93 4/5 starters keema ghotala sliders ã\\x83\\x83ã\\x82\\x83ã\\x83\\x82ã\\x82\\x83ã\\x83\\x83ã\\x82\\x82ã\\x83\\x82ã\\x82â¢ã\\x83\\x83ã\\x82\\x83ã\\x83\\x82ã\\x82\\x82ã\\x83\\x83ã\\x82\\x82ã\\x83\\x82ã\\x82\\x80ã\\x83\\x83ã\\x82\\x83ã\\x83\\x82ã\\x82\\x82ã\\x83\\x83ã\\x82\\x82ã\\x83\\x82ã\\x82\\x93 4.5/5 mains gai pad krapow ã\\x83\\x83ã\\x82\\x83ã\\x83\\x82ã\\x82\\x83ã\\x83\\x83ã\\x82\\x82ã\\x83\\x82ã\\x82â¢ã\\x83\\x83ã\\x82\\x83ã\\x83\\x82ã\\x82\\x82ã\\x83\\x83ã\\x82\\x82ã\\x83\\x82ã\\x82\\x80ã\\x83\\x83ã\\x82\\x83ã\\x83\\x82ã\\x82\\x82ã\\x83\\x83ã\\x82\\x82ã\\x83\\x82ã\\x82\\x93 4/5\",\n",
       " 'beautiful place say ambience lit cosy classy specially greenish touch added beautiful lamps talk food average service good music loud addition place overall itã\\x83\\x83ã\\x82\\x83ã\\x83\\x82ã\\x82\\x83ã\\x83\\x83ã\\x82\\x82ã\\x83\\x82ã\\x82â¢ã\\x83\\x83ã\\x82\\x83ã\\x83\\x82ã\\x82\\x82ã\\x83\\x83ã\\x82\\x82ã\\x83\\x82ã\\x82\\x80ã\\x83\\x83ã\\x82\\x83ã\\x83\\x82ã\\x82\\x82ã\\x83\\x83ã\\x82\\x82ã\\x83\\x82ã\\x82\\x99s good place hangout friends not expect much food desserts amazing though 🧁 ã\\x83\\x83ã\\x82\\x83ã\\x83\\x82ã\\x82\\x83ã\\x83\\x83ã\\x82\\x82ã\\x83\\x82ã\\x82â°ã\\x83\\x83ã\\x82\\x83ã\\x83\\x82ã\\x82\\x82ã\\x83\\x83ã\\x82\\x82ã\\x83\\x82ã\\x82\\x9fã\\x83\\x83ã\\x82\\x83ã\\x83\\x82ã\\x82\\x82ã\\x83\\x83ã\\x82\\x82ã\\x83\\x82ã\\x82\\x8dã\\x83\\x83ã\\x82\\x83ã\\x83\\x82ã\\x82\\x82ã\\x83\\x83ã\\x82\\x82ã\\x83\\x82ã\\x82â°',\n",
       " 'huge place lovely ambiance love beer ipa strong ful flavor got some interesting food options great',\n",
       " 'biergarten whitefield bookmarks long time honestly felt didnã\\x83\\x83ã\\x82\\x83ã\\x83\\x82ã\\x82\\x83ã\\x83\\x83ã\\x82\\x82ã\\x83\\x82ã\\x82â¢ã\\x83\\x83ã\\x82\\x83ã\\x83\\x82ã\\x82\\x82ã\\x83\\x83ã\\x82\\x82ã\\x83\\x82ã\\x82\\x80ã\\x83\\x83ã\\x82\\x83ã\\x83\\x82ã\\x82\\x82ã\\x83\\x83ã\\x82\\x82ã\\x83\\x82ã\\x82\\x99t live hype ratings see vegetarian wouldnã\\x83\\x83ã\\x82\\x83ã\\x83\\x82ã\\x82\\x83ã\\x83\\x83ã\\x82\\x82ã\\x83\\x82ã\\x82â¢ã\\x83\\x83ã\\x82\\x83ã\\x83\\x82ã\\x82\\x82ã\\x83\\x83ã\\x82\\x82ã\\x83\\x82ã\\x82\\x80ã\\x83\\x83ã\\x82\\x83ã\\x83\\x82ã\\x82\\x82ã\\x83\\x83ã\\x82\\x82ã\\x83\\x82ã\\x82\\x99t recommend place mushroom galouti average honest friends like non veg dishes though service okay ambience gets extra point rating went lunch iã\\x83\\x83ã\\x82\\x83ã\\x83\\x82ã\\x82\\x83ã\\x83\\x83ã\\x82\\x82ã\\x83\\x82ã\\x82â¢ã\\x83\\x83ã\\x82\\x83ã\\x83\\x82ã\\x82\\x82ã\\x83\\x83ã\\x82\\x82ã\\x83\\x82ã\\x82\\x80ã\\x83\\x83ã\\x82\\x83ã\\x83\\x82ã\\x82\\x82ã\\x83\\x83ã\\x82\\x82ã\\x83\\x82ã\\x82\\x99m sure itã\\x83\\x83ã\\x82\\x83ã\\x83\\x82ã\\x82\\x83ã\\x83\\x83ã\\x82\\x82ã\\x83\\x82ã\\x82â¢ã\\x83\\x83ã\\x82\\x83ã\\x83\\x82ã\\x82\\x82ã\\x83\\x83ã\\x82\\x82ã\\x83\\x82ã\\x82\\x80ã\\x83\\x83ã\\x82\\x83ã\\x83\\x82ã\\x82\\x82ã\\x83\\x83ã\\x82\\x82ã\\x83\\x82ã\\x82\\x99ll better evening unless youã\\x83\\x83ã\\x82\\x83ã\\x83\\x82ã\\x82\\x83ã\\x83\\x83ã\\x82\\x82ã\\x83\\x82ã\\x82â¢ã\\x83\\x83ã\\x82\\x83ã\\x83\\x82ã\\x82\\x82ã\\x83\\x83ã\\x82\\x82ã\\x83\\x82ã\\x82\\x80ã\\x83\\x83ã\\x82\\x83ã\\x83\\x82ã\\x82\\x82ã\\x83\\x83ã\\x82\\x82ã\\x83\\x82ã\\x82\\x99re around area wouldnã\\x83\\x83ã\\x82\\x83ã\\x83\\x82ã\\x82\\x83ã\\x83\\x83ã\\x82\\x82ã\\x83\\x82ã\\x82â¢ã\\x83\\x83ã\\x82\\x83ã\\x83\\x82ã\\x82\\x82ã\\x83\\x83ã\\x82\\x82ã\\x83\\x82ã\\x82\\x80ã\\x83\\x83ã\\x82\\x83ã\\x83\\x82ã\\x82\\x82ã\\x83\\x83ã\\x82\\x82ã\\x83\\x82ã\\x82\\x99t recommend long drive till might leave highly disappointed',\n",
       " \"place mind since year could finally make full high hopes expectations luckily place met extravagantly decore ambience place beautiful interiors well organised seating space food quantity less taste heaaaveeeennnnn 🤩 drinks ca n't say not drank day assure good also brewery music went weekday ca n't say much heard place lit weekends rather close eyes try place no doubt even koramangala branch also upto mark\",\n",
       " \"good food good ambiance live music could 've better no biggie some items ordered pizza diavola con pollo ã\\x83\\x83ã\\x82\\x83ã\\x83\\x82ã\\x82\\x83ã\\x83\\x83ã\\x82\\x82ã\\x83\\x82ã\\x82â¢ã\\x83\\x83ã\\x82\\x83ã\\x83\\x82ã\\x82\\x82ã\\x83\\x83ã\\x82\\x82ã\\x83\\x82ã\\x82\\x80ã\\x83\\x83ã\\x82\\x83ã\\x83\\x82ã\\x82\\x82ã\\x83\\x83ã\\x82\\x82ã\\x83\\x82ã\\x82\\x93 4.5/5 starters chicken tikka bao ã\\x83\\x83ã\\x82\\x83ã\\x83\\x82ã\\x82\\x83ã\\x83\\x83ã\\x82\\x82ã\\x83\\x82ã\\x82â¢ã\\x83\\x83ã\\x82\\x83ã\\x83\\x82ã\\x82\\x82ã\\x83\\x83ã\\x82\\x82ã\\x83\\x82ã\\x82\\x80ã\\x83\\x83ã\\x82\\x83ã\\x83\\x82ã\\x82\\x82ã\\x83\\x83ã\\x82\\x82ã\\x83\\x82ã\\x82\\x93 4/5 starters keema ghotala sliders ã\\x83\\x83ã\\x82\\x83ã\\x83\\x82ã\\x82\\x83ã\\x83\\x83ã\\x82\\x82ã\\x83\\x82ã\\x82â¢ã\\x83\\x83ã\\x82\\x83ã\\x83\\x82ã\\x82\\x82ã\\x83\\x83ã\\x82\\x82ã\\x83\\x82ã\\x82\\x80ã\\x83\\x83ã\\x82\\x83ã\\x83\\x82ã\\x82\\x82ã\\x83\\x83ã\\x82\\x82ã\\x83\\x82ã\\x82\\x93 4.5/5 mains gai pad krapow ã\\x83\\x83ã\\x82\\x83ã\\x83\\x82ã\\x82\\x83ã\\x83\\x83ã\\x82\\x82ã\\x83\\x82ã\\x82â¢ã\\x83\\x83ã\\x82\\x83ã\\x83\\x82ã\\x82\\x82ã\\x83\\x83ã\\x82\\x82ã\\x83\\x82ã\\x82\\x80ã\\x83\\x83ã\\x82\\x83ã\\x83\\x82ã\\x82\\x82ã\\x83\\x83ã\\x82\\x82ã\\x83\\x82ã\\x82\\x93 4/5\",\n",
       " 'beautiful place say ambience lit cosy classy specially greenish touch added beautiful lamps talk food average service good music loud addition place overall itã\\x83\\x83ã\\x82\\x83ã\\x83\\x82ã\\x82\\x83ã\\x83\\x83ã\\x82\\x82ã\\x83\\x82ã\\x82â¢ã\\x83\\x83ã\\x82\\x83ã\\x83\\x82ã\\x82\\x82ã\\x83\\x83ã\\x82\\x82ã\\x83\\x82ã\\x82\\x80ã\\x83\\x83ã\\x82\\x83ã\\x83\\x82ã\\x82\\x82ã\\x83\\x83ã\\x82\\x82ã\\x83\\x82ã\\x82\\x99s good place hangout friends not expect much food desserts amazing though 🧁 ã\\x83\\x83ã\\x82\\x83ã\\x83\\x82ã\\x82\\x83ã\\x83\\x83ã\\x82\\x82ã\\x83\\x82ã\\x82â°ã\\x83\\x83ã\\x82\\x83ã\\x83\\x82ã\\x82\\x82ã\\x83\\x83ã\\x82\\x82ã\\x83\\x82ã\\x82\\x9fã\\x83\\x83ã\\x82\\x83ã\\x83\\x82ã\\x82\\x82ã\\x83\\x83ã\\x82\\x82ã\\x83\\x82ã\\x82\\x8dã\\x83\\x83ã\\x82\\x83ã\\x83\\x82ã\\x82\\x82ã\\x83\\x83ã\\x82\\x82ã\\x83\\x82ã\\x82â°',\n",
       " 'huge place lovely ambiance love beer ipa strong ful flavor got some interesting food options great',\n",
       " 'biergarten whitefield bookmarks long time honestly felt didnã\\x83\\x83ã\\x82\\x83ã\\x83\\x82ã\\x82\\x83ã\\x83\\x83ã\\x82\\x82ã\\x83\\x82ã\\x82â¢ã\\x83\\x83ã\\x82\\x83ã\\x83\\x82ã\\x82\\x82ã\\x83\\x83ã\\x82\\x82ã\\x83\\x82ã\\x82\\x80ã\\x83\\x83ã\\x82\\x83ã\\x83\\x82ã\\x82\\x82ã\\x83\\x83ã\\x82\\x82ã\\x83\\x82ã\\x82\\x99t live hype ratings see vegetarian wouldnã\\x83\\x83ã\\x82\\x83ã\\x83\\x82ã\\x82\\x83ã\\x83\\x83ã\\x82\\x82ã\\x83\\x82ã\\x82â¢ã\\x83\\x83ã\\x82\\x83ã\\x83\\x82ã\\x82\\x82ã\\x83\\x83ã\\x82\\x82ã\\x83\\x82ã\\x82\\x80ã\\x83\\x83ã\\x82\\x83ã\\x83\\x82ã\\x82\\x82ã\\x83\\x83ã\\x82\\x82ã\\x83\\x82ã\\x82\\x99t recommend place mushroom galouti average honest friends like non veg dishes though service okay ambience gets extra point rating went lunch iã\\x83\\x83ã\\x82\\x83ã\\x83\\x82ã\\x82\\x83ã\\x83\\x83ã\\x82\\x82ã\\x83\\x82ã\\x82â¢ã\\x83\\x83ã\\x82\\x83ã\\x83\\x82ã\\x82\\x82ã\\x83\\x83ã\\x82\\x82ã\\x83\\x82ã\\x82\\x80ã\\x83\\x83ã\\x82\\x83ã\\x83\\x82ã\\x82\\x82ã\\x83\\x83ã\\x82\\x82ã\\x83\\x82ã\\x82\\x99m sure itã\\x83\\x83ã\\x82\\x83ã\\x83\\x82ã\\x82\\x83ã\\x83\\x83ã\\x82\\x82ã\\x83\\x82ã\\x82â¢ã\\x83\\x83ã\\x82\\x83ã\\x83\\x82ã\\x82\\x82ã\\x83\\x83ã\\x82\\x82ã\\x83\\x82ã\\x82\\x80ã\\x83\\x83ã\\x82\\x83ã\\x83\\x82ã\\x82\\x82ã\\x83\\x83ã\\x82\\x82ã\\x83\\x82ã\\x82\\x99ll better evening unless youã\\x83\\x83ã\\x82\\x83ã\\x83\\x82ã\\x82\\x83ã\\x83\\x83ã\\x82\\x82ã\\x83\\x82ã\\x82â¢ã\\x83\\x83ã\\x82\\x83ã\\x83\\x82ã\\x82\\x82ã\\x83\\x83ã\\x82\\x82ã\\x83\\x82ã\\x82\\x80ã\\x83\\x83ã\\x82\\x83ã\\x83\\x82ã\\x82\\x82ã\\x83\\x83ã\\x82\\x82ã\\x83\\x82ã\\x82\\x99re around area wouldnã\\x83\\x83ã\\x82\\x83ã\\x83\\x82ã\\x82\\x83ã\\x83\\x83ã\\x82\\x82ã\\x83\\x82ã\\x82â¢ã\\x83\\x83ã\\x82\\x83ã\\x83\\x82ã\\x82\\x82ã\\x83\\x83ã\\x82\\x82ã\\x83\\x82ã\\x82\\x80ã\\x83\\x83ã\\x82\\x83ã\\x83\\x82ã\\x82\\x82ã\\x83\\x83ã\\x82\\x82ã\\x83\\x82ã\\x82\\x99t recommend long drive till might leave highly disappointed',\n",
       " 'place list quite some time finally visited friday kickstart weekend liked way utilized space despite lot tables huge seating capacity still looks spacious ambiance nice mainly open space areas music also good good enough people enjoy evening ordered nachos french fries chicken starter jerk spiced cottage cheese good taste definitely worth trying especially cottage cheese another place city get brewed beer also good also mention waiter shophina recommending us dished asked turned good food 4/5 ambiance 4/5 music 4/5 service 4/5 overall 4/5 definitely recommended',\n",
       " 'best place whitefield party ambience superb green benches spacious good range beer food music amazing',\n",
       " 'saturday night itã\\x83\\x83ã\\x82\\x83ã\\x83\\x82ã\\x82\\x83ã\\x83\\x83ã\\x82\\x82ã\\x83\\x82ã\\x82â¢ã\\x83\\x83ã\\x82\\x83ã\\x83\\x82ã\\x82\\x82ã\\x83\\x83ã\\x82\\x82ã\\x83\\x82ã\\x82\\x80ã\\x83\\x83ã\\x82\\x83ã\\x83\\x82ã\\x82\\x82ã\\x83\\x83ã\\x82\\x82ã\\x83\\x82ã\\x82\\x99s quite nice place good ambiance seating arrangements quite nice neat space arrangements neat nachos fan ordered one tasted good not creamy also ordered fish kir kure quite disappointed since mint chutney poured andat bottom fish finger got merged mint dip quickly crispyness got wet .. could served mint dip separately ordered paneer anardhana garlic naan taste different sweetish pomegranate taste one whole food ok. drinks good team looking twist food sometimes spoiling authentic taste .. staffs friendly helpful .. enjoy like place hang itã\\x83\\x83ã\\x82\\x83ã\\x83\\x82ã\\x82\\x83ã\\x83\\x83ã\\x82\\x82ã\\x83\\x82ã\\x82â¢ã\\x83\\x83ã\\x82\\x83ã\\x83\\x82ã\\x82\\x82ã\\x83\\x83ã\\x82\\x82ã\\x83\\x82ã\\x82\\x80ã\\x83\\x83ã\\x82\\x83ã\\x83\\x82ã\\x82\\x82ã\\x83\\x83ã\\x82\\x82ã\\x83\\x82ã\\x82\\x99s good experience',\n",
       " 'food drinks really good little disappointed service guy isssue clubbing happy hours zomato gold way talking us really rude unprofessional',\n",
       " 'place list quite some time finally visited friday kickstart weekend liked way utilized space despite lot tables huge seating capacity still looks spacious ambiance nice mainly open space areas music also good good enough people enjoy evening ordered nachos french fries chicken starter jerk spiced cottage cheese good taste definitely worth trying especially cottage cheese another place city get brewed beer also good also mention waiter shophina recommending us dished asked turned good food 4/5 ambiance 4/5 music 4/5 service 4/5 overall 4/5 definitely recommended',\n",
       " 'best place whitefield party ambience superb green benches spacious good range beer food music amazing',\n",
       " 'saturday night itã\\x83\\x83ã\\x82\\x83ã\\x83\\x82ã\\x82\\x83ã\\x83\\x83ã\\x82\\x82ã\\x83\\x82ã\\x82â¢ã\\x83\\x83ã\\x82\\x83ã\\x83\\x82ã\\x82\\x82ã\\x83\\x83ã\\x82\\x82ã\\x83\\x82ã\\x82\\x80ã\\x83\\x83ã\\x82\\x83ã\\x83\\x82ã\\x82\\x82ã\\x83\\x83ã\\x82\\x82ã\\x83\\x82ã\\x82\\x99s quite nice place good ambiance seating arrangements quite nice neat space arrangements neat nachos fan ordered one tasted good not creamy also ordered fish kir kure quite disappointed since mint chutney poured andat bottom fish finger got merged mint dip quickly crispyness got wet .. could served mint dip separately ordered paneer anardhana garlic naan taste different sweetish pomegranate taste one whole food ok. drinks good team looking twist food sometimes spoiling authentic taste .. staffs friendly helpful .. enjoy like place hang itã\\x83\\x83ã\\x82\\x83ã\\x83\\x82ã\\x82\\x83ã\\x83\\x83ã\\x82\\x82ã\\x83\\x82ã\\x82â¢ã\\x83\\x83ã\\x82\\x83ã\\x83\\x82ã\\x82\\x82ã\\x83\\x83ã\\x82\\x82ã\\x83\\x82ã\\x82\\x80ã\\x83\\x83ã\\x82\\x83ã\\x83\\x82ã\\x82\\x82ã\\x83\\x83ã\\x82\\x82ã\\x83\\x82ã\\x82\\x99s good experience',\n",
       " 'food drinks really good little disappointed service guy isssue clubbing happy hours zomato gold way talking us really rude unprofessional',\n",
       " 'place list quite some time finally visited friday kickstart weekend liked way utilized space despite lot tables huge seating capacity still looks spacious ambiance nice mainly open space areas music also good good enough people enjoy evening ordered nachos french fries chicken starter jerk spiced cottage cheese good taste definitely worth trying especially cottage cheese another place city get brewed beer also good also mention waiter shophina recommending us dished asked turned good food 4/5 ambiance 4/5 music 4/5 service 4/5 overall 4/5 definitely recommended',\n",
       " 'best place whitefield party ambience superb green benches spacious good range beer food music amazing',\n",
       " 'saturday night itã\\x83\\x83ã\\x82\\x83ã\\x83\\x82ã\\x82\\x83ã\\x83\\x83ã\\x82\\x82ã\\x83\\x82ã\\x82â¢ã\\x83\\x83ã\\x82\\x83ã\\x83\\x82ã\\x82\\x82ã\\x83\\x83ã\\x82\\x82ã\\x83\\x82ã\\x82\\x80ã\\x83\\x83ã\\x82\\x83ã\\x83\\x82ã\\x82\\x82ã\\x83\\x83ã\\x82\\x82ã\\x83\\x82ã\\x82\\x99s quite nice place good ambiance seating arrangements quite nice neat space arrangements neat nachos fan ordered one tasted good not creamy also ordered fish kir kure quite disappointed since mint chutney poured andat bottom fish finger got merged mint dip quickly crispyness got wet .. could served mint dip separately ordered paneer anardhana garlic naan taste different sweetish pomegranate taste one whole food ok. drinks good team looking twist food sometimes spoiling authentic taste .. staffs friendly helpful .. enjoy like place hang itã\\x83\\x83ã\\x82\\x83ã\\x83\\x82ã\\x82\\x83ã\\x83\\x83ã\\x82\\x82ã\\x83\\x82ã\\x82â¢ã\\x83\\x83ã\\x82\\x83ã\\x83\\x82ã\\x82\\x82ã\\x83\\x83ã\\x82\\x82ã\\x83\\x82ã\\x82\\x80ã\\x83\\x83ã\\x82\\x83ã\\x83\\x82ã\\x82\\x82ã\\x83\\x83ã\\x82\\x82ã\\x83\\x82ã\\x82\\x99s good experience',\n",
       " 'food drinks really good little disappointed service guy isssue clubbing happy hours zomato gold way talking us really rude unprofessional',\n",
       " 'quite definitely best chilli chicken whitefield iã\\x83\\x83ã\\x82\\x83ã\\x83\\x82ã\\x82\\x83ã\\x83\\x83ã\\x82\\x82ã\\x83\\x82ã\\x82â¢ã\\x83\\x83ã\\x82\\x83ã\\x83\\x82ã\\x82\\x82ã\\x83\\x83ã\\x82\\x82ã\\x83\\x82ã\\x82\\x80ã\\x83\\x83ã\\x82\\x83ã\\x83\\x82ã\\x82\\x82ã\\x83\\x83ã\\x82\\x82ã\\x83\\x82ã\\x82\\x99ve tried weiss beer stout give no reason complain ambience laid back minimalist modern service quick friendly zomato gold redemption breeze try chilli chicken boã\\x83\\x83ã\\x82\\x83ã\\x83\\x82ã\\x82\\x83ã\\x83\\x83ã\\x82\\x82ã\\x83\\x82ã\\x82â¢ã\\x83\\x83ã\\x82\\x83ã\\x83\\x82ã\\x82\\x82ã\\x83\\x83ã\\x82\\x82ã\\x83\\x82ã\\x82\\x80ã\\x83\\x83ã\\x82\\x83ã\\x83\\x82ã\\x82\\x82ã\\x83\\x83ã\\x82\\x82ã\\x83\\x82ã\\x82\\x99ness andhra style ghee roast',\n",
       " 'fall love place soon u enter white walls green benches makes ambiance even better open air seatings tried some beers really liked ipa one service good',\n",
       " 'love indonesian dishes donã\\x83\\x83ã\\x82\\x83ã\\x83\\x82ã\\x82\\x83ã\\x83\\x83ã\\x82\\x82ã\\x83\\x82ã\\x82â¢ã\\x83\\x83ã\\x82\\x83ã\\x83\\x82ã\\x82\\x82ã\\x83\\x83ã\\x82\\x82ã\\x83\\x82ã\\x82\\x80ã\\x83\\x83ã\\x82\\x83ã\\x83\\x82ã\\x82\\x82ã\\x83\\x83ã\\x82\\x82ã\\x83\\x82ã\\x82\\x99t really approve effortlessly went biergarten thought trying nasi goreng yes one best tried bangalore presentation accompaniments taste everything good servers well trained drinks ã\\x83\\x83ã\\x82\\x83ã\\x83\\x82ã\\x82\\x83ã\\x83\\x83ã\\x82\\x82ã\\x83\\x82ã\\x82â¢ã\\x83\\x83ã\\x82\\x83ã\\x83\\x82ã\\x82\\x82ã\\x83\\x83ã\\x82\\x82ã\\x83\\x82ã\\x82\\x80ã\\x83\\x83ã\\x82\\x83ã\\x83\\x82ã\\x82\\x82ã\\x83\\x83ã\\x82\\x82ã\\x83\\x82ã\\x82\\x94 good go food ã\\x83\\x83ã\\x82\\x83ã\\x83\\x82ã\\x82\\x83ã\\x83\\x83ã\\x82\\x82ã\\x83\\x82ã\\x82â¢ã\\x83\\x83ã\\x82\\x83ã\\x83\\x82ã\\x82\\x82ã\\x83\\x83ã\\x82\\x82ã\\x83\\x82ã\\x82\\x80ã\\x83\\x83ã\\x82\\x83ã\\x83\\x82ã\\x82\\x82ã\\x83\\x83ã\\x82\\x82ã\\x83\\x82ã\\x82\\x94 ã\\x83\\x83ã\\x82\\x83ã\\x83\\x82ã\\x82\\x83ã\\x83\\x83ã\\x82\\x82ã\\x83\\x82ã\\x82â¢ã\\x83\\x83ã\\x82\\x83ã\\x83\\x82ã\\x82\\x82ã\\x83\\x83ã\\x82\\x82ã\\x83\\x82ã\\x82\\x9dã\\x83\\x83ã\\x82\\x83ã\\x83\\x82ã\\x82\\x82ã\\x83\\x83ã\\x82\\x82ã\\x83\\x82ã\\x82â¤ã\\x83\\x83ã\\x82\\x83ã\\x83\\x82ã\\x82\\x83ã\\x83\\x83ã\\x82\\x82ã\\x83\\x82ã\\x82â¯ã\\x83\\x83ã\\x82\\x83ã\\x83\\x82ã\\x82\\x82ã\\x83\\x83ã\\x82\\x82ã\\x83\\x82ã\\x82â¸ã\\x83\\x83ã\\x82\\x83ã\\x83\\x82ã\\x82\\x82ã\\x83\\x83ã\\x82\\x82ã\\x83\\x82ã\\x82\\x8fã\\x83\\x83ã\\x82\\x83ã\\x83\\x82ã\\x82\\x83ã\\x83\\x83ã\\x82\\x82ã\\x83\\x82ã\\x82â¢ã\\x83\\x83ã\\x82\\x83ã\\x83\\x82ã\\x82\\x82ã\\x83\\x83ã\\x82\\x82ã\\x83\\x82ã\\x82\\x9dã\\x83\\x83ã\\x82\\x83ã\\x83\\x82ã\\x82\\x82ã\\x83\\x83ã\\x82\\x82ã\\x83\\x82ã\\x82â¤ã\\x83\\x83ã\\x82\\x83ã\\x83\\x82ã\\x82\\x83ã\\x83\\x83ã\\x82\\x82ã\\x83\\x82ã\\x82â¯ã\\x83\\x83ã\\x82\\x83ã\\x83\\x82ã\\x82\\x82ã\\x83\\x83ã\\x82\\x82ã\\x83\\x82ã\\x82â¸ã\\x83\\x83ã\\x82\\x83ã\\x83\\x82ã\\x82\\x82ã\\x83\\x83ã\\x82\\x82ã\\x83\\x82ã\\x82\\x8f please guys try fav nasi goreng .. thanks chef lovely dish ..',\n",
       " 'amazing place party n drinks coming delhi bangalore low customer service waiter not ready listen order still exchanged .. food not great though dont basics like peanuts pappad assortments',\n",
       " 'weekday calm not noisy since raining not much space seated service takes bit time beer taste superb nice place hang friends',\n",
       " 'quite definitely best chilli chicken whitefield iã\\x83\\x83ã\\x82\\x83ã\\x83\\x82ã\\x82\\x83ã\\x83\\x83ã\\x82\\x82ã\\x83\\x82ã\\x82â¢ã\\x83\\x83ã\\x82\\x83ã\\x83\\x82ã\\x82\\x82ã\\x83\\x83ã\\x82\\x82ã\\x83\\x82ã\\x82\\x80ã\\x83\\x83ã\\x82\\x83ã\\x83\\x82ã\\x82\\x82ã\\x83\\x83ã\\x82\\x82ã\\x83\\x82ã\\x82\\x99ve tried weiss beer stout give no reason complain ambience laid back minimalist modern service quick friendly zomato gold redemption breeze try chilli chicken boã\\x83\\x83ã\\x82\\x83ã\\x83\\x82ã\\x82\\x83ã\\x83\\x83ã\\x82\\x82ã\\x83\\x82ã\\x82â¢ã\\x83\\x83ã\\x82\\x83ã\\x83\\x82ã\\x82\\x82ã\\x83\\x83ã\\x82\\x82ã\\x83\\x82ã\\x82\\x80ã\\x83\\x83ã\\x82\\x83ã\\x83\\x82ã\\x82\\x82ã\\x83\\x83ã\\x82\\x82ã\\x83\\x82ã\\x82\\x99ness andhra style ghee roast',\n",
       " 'fall love place soon u enter white walls green benches makes ambiance even better open air seatings tried some beers really liked ipa one service good',\n",
       " 'love indonesian dishes donã\\x83\\x83ã\\x82\\x83ã\\x83\\x82ã\\x82\\x83ã\\x83\\x83ã\\x82\\x82ã\\x83\\x82ã\\x82â¢ã\\x83\\x83ã\\x82\\x83ã\\x83\\x82ã\\x82\\x82ã\\x83\\x83ã\\x82\\x82ã\\x83\\x82ã\\x82\\x80ã\\x83\\x83ã\\x82\\x83ã\\x83\\x82ã\\x82\\x82ã\\x83\\x83ã\\x82\\x82ã\\x83\\x82ã\\x82\\x99t really approve effortlessly went biergarten thought trying nasi goreng yes one best tried bangalore presentation accompaniments taste everything good servers well trained drinks ã\\x83\\x83ã\\x82\\x83ã\\x83\\x82ã\\x82\\x83ã\\x83\\x83ã\\x82\\x82ã\\x83\\x82ã\\x82â¢ã\\x83\\x83ã\\x82\\x83ã\\x83\\x82ã\\x82\\x82ã\\x83\\x83ã\\x82\\x82ã\\x83\\x82ã\\x82\\x80ã\\x83\\x83ã\\x82\\x83ã\\x83\\x82ã\\x82\\x82ã\\x83\\x83ã\\x82\\x82ã\\x83\\x82ã\\x82\\x94 good go food ã\\x83\\x83ã\\x82\\x83ã\\x83\\x82ã\\x82\\x83ã\\x83\\x83ã\\x82\\x82ã\\x83\\x82ã\\x82â¢ã\\x83\\x83ã\\x82\\x83ã\\x83\\x82ã\\x82\\x82ã\\x83\\x83ã\\x82\\x82ã\\x83\\x82ã\\x82\\x80ã\\x83\\x83ã\\x82\\x83ã\\x83\\x82ã\\x82\\x82ã\\x83\\x83ã\\x82\\x82ã\\x83\\x82ã\\x82\\x94 ã\\x83\\x83ã\\x82\\x83ã\\x83\\x82ã\\x82\\x83ã\\x83\\x83ã\\x82\\x82ã\\x83\\x82ã\\x82â¢ã\\x83\\x83ã\\x82\\x83ã\\x83\\x82ã\\x82\\x82ã\\x83\\x83ã\\x82\\x82ã\\x83\\x82ã\\x82\\x9dã\\x83\\x83ã\\x82\\x83ã\\x83\\x82ã\\x82\\x82ã\\x83\\x83ã\\x82\\x82ã\\x83\\x82ã\\x82â¤ã\\x83\\x83ã\\x82\\x83ã\\x83\\x82ã\\x82\\x83ã\\x83\\x83ã\\x82\\x82ã\\x83\\x82ã\\x82â¯ã\\x83\\x83ã\\x82\\x83ã\\x83\\x82ã\\x82\\x82ã\\x83\\x83ã\\x82\\x82ã\\x83\\x82ã\\x82â¸ã\\x83\\x83ã\\x82\\x83ã\\x83\\x82ã\\x82\\x82ã\\x83\\x83ã\\x82\\x82ã\\x83\\x82ã\\x82\\x8fã\\x83\\x83ã\\x82\\x83ã\\x83\\x82ã\\x82\\x83ã\\x83\\x83ã\\x82\\x82ã\\x83\\x82ã\\x82â¢ã\\x83\\x83ã\\x82\\x83ã\\x83\\x82ã\\x82\\x82ã\\x83\\x83ã\\x82\\x82ã\\x83\\x82ã\\x82\\x9dã\\x83\\x83ã\\x82\\x83ã\\x83\\x82ã\\x82\\x82ã\\x83\\x83ã\\x82\\x82ã\\x83\\x82ã\\x82â¤ã\\x83\\x83ã\\x82\\x83ã\\x83\\x82ã\\x82\\x83ã\\x83\\x83ã\\x82\\x82ã\\x83\\x82ã\\x82â¯ã\\x83\\x83ã\\x82\\x83ã\\x83\\x82ã\\x82\\x82ã\\x83\\x83ã\\x82\\x82ã\\x83\\x82ã\\x82â¸ã\\x83\\x83ã\\x82\\x83ã\\x83\\x82ã\\x82\\x82ã\\x83\\x83ã\\x82\\x82ã\\x83\\x82ã\\x82\\x8f please guys try fav nasi goreng .. thanks chef lovely dish ..',\n",
       " 'amazing place party n drinks coming delhi bangalore low customer service waiter not ready listen order still exchanged .. food not great though dont basics like peanuts pappad assortments',\n",
       " 'weekday calm not noisy since raining not much space seated service takes bit time beer taste superb nice place hang friends',\n",
       " 'quite definitely best chilli chicken whitefield iã\\x83\\x83ã\\x82\\x83ã\\x83\\x82ã\\x82\\x83ã\\x83\\x83ã\\x82\\x82ã\\x83\\x82ã\\x82â¢ã\\x83\\x83ã\\x82\\x83ã\\x83\\x82ã\\x82\\x82ã\\x83\\x83ã\\x82\\x82ã\\x83\\x82ã\\x82\\x80ã\\x83\\x83ã\\x82\\x83ã\\x83\\x82ã\\x82\\x82ã\\x83\\x83ã\\x82\\x82ã\\x83\\x82ã\\x82\\x99ve tried weiss beer stout give no reason complain ambience laid back minimalist modern service quick friendly zomato gold redemption breeze try chilli chicken boã\\x83\\x83ã\\x82\\x83ã\\x83\\x82ã\\x82\\x83ã\\x83\\x83ã\\x82\\x82ã\\x83\\x82ã\\x82â¢ã\\x83\\x83ã\\x82\\x83ã\\x83\\x82ã\\x82\\x82ã\\x83\\x83ã\\x82\\x82ã\\x83\\x82ã\\x82\\x80ã\\x83\\x83ã\\x82\\x83ã\\x83\\x82ã\\x82\\x82ã\\x83\\x83ã\\x82\\x82ã\\x83\\x82ã\\x82\\x99ness andhra style ghee roast',\n",
       " 'fall love place soon u enter white walls green benches makes ambiance even better open air seatings tried some beers really liked ipa one service good',\n",
       " 'love indonesian dishes donã\\x83\\x83ã\\x82\\x83ã\\x83\\x82ã\\x82\\x83ã\\x83\\x83ã\\x82\\x82ã\\x83\\x82ã\\x82â¢ã\\x83\\x83ã\\x82\\x83ã\\x83\\x82ã\\x82\\x82ã\\x83\\x83ã\\x82\\x82ã\\x83\\x82ã\\x82\\x80ã\\x83\\x83ã\\x82\\x83ã\\x83\\x82ã\\x82\\x82ã\\x83\\x83ã\\x82\\x82ã\\x83\\x82ã\\x82\\x99t really approve effortlessly went biergarten thought trying nasi goreng yes one best tried bangalore presentation accompaniments taste everything good servers well trained drinks ã\\x83\\x83ã\\x82\\x83ã\\x83\\x82ã\\x82\\x83ã\\x83\\x83ã\\x82\\x82ã\\x83\\x82ã\\x82â¢ã\\x83\\x83ã\\x82\\x83ã\\x83\\x82ã\\x82\\x82ã\\x83\\x83ã\\x82\\x82ã\\x83\\x82ã\\x82\\x80ã\\x83\\x83ã\\x82\\x83ã\\x83\\x82ã\\x82\\x82ã\\x83\\x83ã\\x82\\x82ã\\x83\\x82ã\\x82\\x94 good go food ã\\x83\\x83ã\\x82\\x83ã\\x83\\x82ã\\x82\\x83ã\\x83\\x83ã\\x82\\x82ã\\x83\\x82ã\\x82â¢ã\\x83\\x83ã\\x82\\x83ã\\x83\\x82ã\\x82\\x82ã\\x83\\x83ã\\x82\\x82ã\\x83\\x82ã\\x82\\x80ã\\x83\\x83ã\\x82\\x83ã\\x83\\x82ã\\x82\\x82ã\\x83\\x83ã\\x82\\x82ã\\x83\\x82ã\\x82\\x94 ã\\x83\\x83ã\\x82\\x83ã\\x83\\x82ã\\x82\\x83ã\\x83\\x83ã\\x82\\x82ã\\x83\\x82ã\\x82â¢ã\\x83\\x83ã\\x82\\x83ã\\x83\\x82ã\\x82\\x82ã\\x83\\x83ã\\x82\\x82ã\\x83\\x82ã\\x82\\x9dã\\x83\\x83ã\\x82\\x83ã\\x83\\x82ã\\x82\\x82ã\\x83\\x83ã\\x82\\x82ã\\x83\\x82ã\\x82â¤ã\\x83\\x83ã\\x82\\x83ã\\x83\\x82ã\\x82\\x83ã\\x83\\x83ã\\x82\\x82ã\\x83\\x82ã\\x82â¯ã\\x83\\x83ã\\x82\\x83ã\\x83\\x82ã\\x82\\x82ã\\x83\\x83ã\\x82\\x82ã\\x83\\x82ã\\x82â¸ã\\x83\\x83ã\\x82\\x83ã\\x83\\x82ã\\x82\\x82ã\\x83\\x83ã\\x82\\x82ã\\x83\\x82ã\\x82\\x8fã\\x83\\x83ã\\x82\\x83ã\\x83\\x82ã\\x82\\x83ã\\x83\\x83ã\\x82\\x82ã\\x83\\x82ã\\x82â¢ã\\x83\\x83ã\\x82\\x83ã\\x83\\x82ã\\x82\\x82ã\\x83\\x83ã\\x82\\x82ã\\x83\\x82ã\\x82\\x9dã\\x83\\x83ã\\x82\\x83ã\\x83\\x82ã\\x82\\x82ã\\x83\\x83ã\\x82\\x82ã\\x83\\x82ã\\x82â¤ã\\x83\\x83ã\\x82\\x83ã\\x83\\x82ã\\x82\\x83ã\\x83\\x83ã\\x82\\x82ã\\x83\\x82ã\\x82â¯ã\\x83\\x83ã\\x82\\x83ã\\x83\\x82ã\\x82\\x82ã\\x83\\x83ã\\x82\\x82ã\\x83\\x82ã\\x82â¸ã\\x83\\x83ã\\x82\\x83ã\\x83\\x82ã\\x82\\x82ã\\x83\\x83ã\\x82\\x82ã\\x83\\x82ã\\x82\\x8f please guys try fav nasi goreng .. thanks chef lovely dish ..',\n",
       " 'amazing place party n drinks coming delhi bangalore low customer service waiter not ready listen order still exchanged .. food not great though dont basics like peanuts pappad assortments',\n",
       " 'weekday calm not noisy since raining not much space seated service takes bit time beer taste superb nice place hang friends',\n",
       " 'quite definitely best chilli chicken whitefield iã\\x83\\x83ã\\x82\\x83ã\\x83\\x82ã\\x82\\x83ã\\x83\\x83ã\\x82\\x82ã\\x83\\x82ã\\x82â¢ã\\x83\\x83ã\\x82\\x83ã\\x83\\x82ã\\x82\\x82ã\\x83\\x83ã\\x82\\x82ã\\x83\\x82ã\\x82\\x80ã\\x83\\x83ã\\x82\\x83ã\\x83\\x82ã\\x82\\x82ã\\x83\\x83ã\\x82\\x82ã\\x83\\x82ã\\x82\\x99ve tried weiss beer stout give no reason complain ambience laid back minimalist modern service quick friendly zomato gold redemption breeze try chilli chicken boã\\x83\\x83ã\\x82\\x83ã\\x83\\x82ã\\x82\\x83ã\\x83\\x83ã\\x82\\x82ã\\x83\\x82ã\\x82â¢ã\\x83\\x83ã\\x82\\x83ã\\x83\\x82ã\\x82\\x82ã\\x83\\x83ã\\x82\\x82ã\\x83\\x82ã\\x82\\x80ã\\x83\\x83ã\\x82\\x83ã\\x83\\x82ã\\x82\\x82ã\\x83\\x83ã\\x82\\x82ã\\x83\\x82ã\\x82\\x99ness andhra style ghee roast',\n",
       " 'fall love place soon u enter white walls green benches makes ambiance even better open air seatings tried some beers really liked ipa one service good',\n",
       " 'love indonesian dishes donã\\x83\\x83ã\\x82\\x83ã\\x83\\x82ã\\x82\\x83ã\\x83\\x83ã\\x82\\x82ã\\x83\\x82ã\\x82â¢ã\\x83\\x83ã\\x82\\x83ã\\x83\\x82ã\\x82\\x82ã\\x83\\x83ã\\x82\\x82ã\\x83\\x82ã\\x82\\x80ã\\x83\\x83ã\\x82\\x83ã\\x83\\x82ã\\x82\\x82ã\\x83\\x83ã\\x82\\x82ã\\x83\\x82ã\\x82\\x99t really approve effortlessly went biergarten thought trying nasi goreng yes one best tried bangalore presentation accompaniments taste everything good servers well trained drinks ã\\x83\\x83ã\\x82\\x83ã\\x83\\x82ã\\x82\\x83ã\\x83\\x83ã\\x82\\x82ã\\x83\\x82ã\\x82â¢ã\\x83\\x83ã\\x82\\x83ã\\x83\\x82ã\\x82\\x82ã\\x83\\x83ã\\x82\\x82ã\\x83\\x82ã\\x82\\x80ã\\x83\\x83ã\\x82\\x83ã\\x83\\x82ã\\x82\\x82ã\\x83\\x83ã\\x82\\x82ã\\x83\\x82ã\\x82\\x94 good go food ã\\x83\\x83ã\\x82\\x83ã\\x83\\x82ã\\x82\\x83ã\\x83\\x83ã\\x82\\x82ã\\x83\\x82ã\\x82â¢ã\\x83\\x83ã\\x82\\x83ã\\x83\\x82ã\\x82\\x82ã\\x83\\x83ã\\x82\\x82ã\\x83\\x82ã\\x82\\x80ã\\x83\\x83ã\\x82\\x83ã\\x83\\x82ã\\x82\\x82ã\\x83\\x83ã\\x82\\x82ã\\x83\\x82ã\\x82\\x94 ã\\x83\\x83ã\\x82\\x83ã\\x83\\x82ã\\x82\\x83ã\\x83\\x83ã\\x82\\x82ã\\x83\\x82ã\\x82â¢ã\\x83\\x83ã\\x82\\x83ã\\x83\\x82ã\\x82\\x82ã\\x83\\x83ã\\x82\\x82ã\\x83\\x82ã\\x82\\x9dã\\x83\\x83ã\\x82\\x83ã\\x83\\x82ã\\x82\\x82ã\\x83\\x83ã\\x82\\x82ã\\x83\\x82ã\\x82â¤ã\\x83\\x83ã\\x82\\x83ã\\x83\\x82ã\\x82\\x83ã\\x83\\x83ã\\x82\\x82ã\\x83\\x82ã\\x82â¯ã\\x83\\x83ã\\x82\\x83ã\\x83\\x82ã\\x82\\x82ã\\x83\\x83ã\\x82\\x82ã\\x83\\x82ã\\x82â¸ã\\x83\\x83ã\\x82\\x83ã\\x83\\x82ã\\x82\\x82ã\\x83\\x83ã\\x82\\x82ã\\x83\\x82ã\\x82\\x8fã\\x83\\x83ã\\x82\\x83ã\\x83\\x82ã\\x82\\x83ã\\x83\\x83ã\\x82\\x82ã\\x83\\x82ã\\x82â¢ã\\x83\\x83ã\\x82\\x83ã\\x83\\x82ã\\x82\\x82ã\\x83\\x83ã\\x82\\x82ã\\x83\\x82ã\\x82\\x9dã\\x83\\x83ã\\x82\\x83ã\\x83\\x82ã\\x82\\x82ã\\x83\\x83ã\\x82\\x82ã\\x83\\x82ã\\x82â¤ã\\x83\\x83ã\\x82\\x83ã\\x83\\x82ã\\x82\\x83ã\\x83\\x83ã\\x82\\x82ã\\x83\\x82ã\\x82â¯ã\\x83\\x83ã\\x82\\x83ã\\x83\\x82ã\\x82\\x82ã\\x83\\x83ã\\x82\\x82ã\\x83\\x82ã\\x82â¸ã\\x83\\x83ã\\x82\\x83ã\\x83\\x82ã\\x82\\x82ã\\x83\\x83ã\\x82\\x82ã\\x83\\x82ã\\x82\\x8f please guys try fav nasi goreng .. thanks chef lovely dish ..',\n",
       " 'amazing place party n drinks coming delhi bangalore low customer service waiter not ready listen order still exchanged .. food not great though dont basics like peanuts pappad assortments',\n",
       " 'weekday calm not noisy since raining not much space seated service takes bit time beer taste superb nice place hang friends',\n",
       " 'tried biergarten first time last night place welcoming charming service great food food rich taste freshly cooked well presented overall good meal great value highly recommended',\n",
       " \"great ambience food ordered fish chilly starter nasi goreng main portion size huge least could n't think ordering dessert navin took care table great service thank\",\n",
       " 'visit place bangalore food really yummy especially chicken wings damn good love eating spicy food great time ..',\n",
       " 'visited whitefield outlet crowd amazing.we walk table not booked within 5 mins got wanted.the stuff really humble grounded.we 4 persons.as drive happy mocktails.the pizza quite heavy mouthwatering.specially mentioned salmon base main course spaghetti chicken.the tequila chicken actually starter well cooked tender.must visit place hangout',\n",
       " \"open air great ambaience awesome beer samplers could ask went purely beers microbreweries visited 'd place highest terms beer quality/taste beers great even ipa n't really taste pretty strong character flavor around service bit sub-standard took couple waiters explain us offer terms samplers\",\n",
       " 'tried biergarten first time last night place welcoming charming service great food food rich taste freshly cooked well presented overall good meal great value highly recommended',\n",
       " \"great ambience food ordered fish chilly starter nasi goreng main portion size huge least could n't think ordering dessert navin took care table great service thank\",\n",
       " 'visit place bangalore food really yummy especially chicken wings damn good love eating spicy food great time ..',\n",
       " 'visited whitefield outlet crowd amazing.we walk table not booked within 5 mins got wanted.the stuff really humble grounded.we 4 persons.as drive happy mocktails.the pizza quite heavy mouthwatering.specially mentioned salmon base main course spaghetti chicken.the tequila chicken actually starter well cooked tender.must visit place hangout',\n",
       " \"open air great ambaience awesome beer samplers could ask went purely beers microbreweries visited 'd place highest terms beer quality/taste beers great even ipa n't really taste pretty strong character flavor around service bit sub-standard took couple waiters explain us offer terms samplers\",\n",
       " 'tried biergarten first time last night place welcoming charming service great food food rich taste freshly cooked well presented overall good meal great value highly recommended',\n",
       " \"great ambience food ordered fish chilly starter nasi goreng main portion size huge least could n't think ordering dessert navin took care table great service thank\",\n",
       " 'visit place bangalore food really yummy especially chicken wings damn good love eating spicy food great time ..',\n",
       " 'visited whitefield outlet crowd amazing.we walk table not booked within 5 mins got wanted.the stuff really humble grounded.we 4 persons.as drive happy mocktails.the pizza quite heavy mouthwatering.specially mentioned salmon base main course spaghetti chicken.the tequila chicken actually starter well cooked tender.must visit place hangout',\n",
       " \"open air great ambaience awesome beer samplers could ask went purely beers microbreweries visited 'd place highest terms beer quality/taste beers great even ipa n't really taste pretty strong character flavor around service bit sub-standard took couple waiters explain us offer terms samplers\",\n",
       " 'one finest brewery epip area ambience nicely done food great service prompt head spend some quality time mouth watering food finest brews cocktails',\n",
       " \"amazing ambience crowd let 's keep aside focus food curated new menu andd kickass presentation taste wow initially ordered prawns curry leafed perfect blend thai indian spices next got lal maas tacos used small parathas base tacos lal maas beyond expectations third item mutton ghee roast would prefer little bit spicy still fine last got nasi goreng totally worth chicken satay perfectly coated sauce gave cilantro going really well rice good value money great combining gold definately going back try everything happy eating\",\n",
       " \"one best pubs to.they brewery nice food options.ambiance awesome.they live music dance floor downstairs.spacious enough.its near graphite india main road opposite 'll patrol pump\",\n",
       " \"ambience 4/5 value money 4/5 food 4/5 service 3/5 hygiene- 3/5 try nope worth visiting twice nope good couple yes location okay usp unique selling point invite band artist sometime bollywood artist 's fun\",\n",
       " \"nice place corporate staffs relax finishing hectic day work beer could ok. food also not great chicken ghee roast not actual taste nachos find much better place peach ice tea no peach taste flavour .... overall 's nice place group outing\",\n",
       " 'one finest brewery epip area ambience nicely done food great service prompt head spend some quality time mouth watering food finest brews cocktails',\n",
       " \"amazing ambience crowd let 's keep aside focus food curated new menu andd kickass presentation taste wow initially ordered prawns curry leafed perfect blend thai indian spices next got lal maas tacos used small parathas base tacos lal maas beyond expectations third item mutton ghee roast would prefer little bit spicy still fine last got nasi goreng totally worth chicken satay perfectly coated sauce gave cilantro going really well rice good value money great combining gold definately going back try everything happy eating\",\n",
       " \"one best pubs to.they brewery nice food options.ambiance awesome.they live music dance floor downstairs.spacious enough.its near graphite india main road opposite 'll patrol pump\",\n",
       " \"ambience 4/5 value money 4/5 food 4/5 service 3/5 hygiene- 3/5 try nope worth visiting twice nope good couple yes location okay usp unique selling point invite band artist sometime bollywood artist 's fun\",\n",
       " \"nice place corporate staffs relax finishing hectic day work beer could ok. food also not great chicken ghee roast not actual taste nachos find much better place peach ice tea no peach taste flavour .... overall 's nice place group outing\",\n",
       " 'one finest brewery epip area ambience nicely done food great service prompt head spend some quality time mouth watering food finest brews cocktails',\n",
       " \"amazing ambience crowd let 's keep aside focus food curated new menu andd kickass presentation taste wow initially ordered prawns curry leafed perfect blend thai indian spices next got lal maas tacos used small parathas base tacos lal maas beyond expectations third item mutton ghee roast would prefer little bit spicy still fine last got nasi goreng totally worth chicken satay perfectly coated sauce gave cilantro going really well rice good value money great combining gold definately going back try everything happy eating\",\n",
       " \"one best pubs to.they brewery nice food options.ambiance awesome.they live music dance floor downstairs.spacious enough.its near graphite india main road opposite 'll patrol pump\",\n",
       " \"ambience 4/5 value money 4/5 food 4/5 service 3/5 hygiene- 3/5 try nope worth visiting twice nope good couple yes location okay usp unique selling point invite band artist sometime bollywood artist 's fun\",\n",
       " \"nice place corporate staffs relax finishing hectic day work beer could ok. food also not great chicken ghee roast not actual taste nachos find much better place peach ice tea no peach taste flavour .... overall 's nice place group outing\",\n",
       " \"nice ambience food also good specially chicken wings pizza tuesday not much busy think server busy 's n't take order table rating ambience 5/5 food 5/5 drink 5/5 service 3/5\",\n",
       " 'go place some good beer food whitefield big fan wheat beer make well order anything menu wonã\\x83\\x83ã\\x82\\x83ã\\x83\\x82ã\\x82\\x83ã\\x83\\x83ã\\x82\\x82ã\\x83\\x82ã\\x82â¢ã\\x83\\x83ã\\x82\\x83ã\\x83\\x82ã\\x82\\x82ã\\x83\\x83ã\\x82\\x82ã\\x83\\x82ã\\x82\\x80ã\\x83\\x83ã\\x82\\x83ã\\x83\\x82ã\\x82\\x82ã\\x83\\x83ã\\x82\\x82ã\\x83\\x82ã\\x82\\x99t disappointed chicken wings tangri kebab pizza crispy thin crust personal favorites friday saturday nights quite eventful good place chill weekday lazy weekend visit',\n",
       " \"really love ambience feel ya 'll much better came looking rating zomato 're slightly disappointed food beer improve taste prices charged\",\n",
       " 'overall 5/5 food 5/5 nice food quantity quality expected ambience 5/5 lovely service 5/5 attentive verdict 5/5 visit place bangalore located whitefield',\n",
       " \"nice ambience food also good specially chicken wings pizza tuesday not much busy think server busy 's n't take order table rating ambience 5/5 food 5/5 drink 5/5 service 3/5\",\n",
       " 'go place some good beer food whitefield big fan wheat beer make well order anything menu wonã\\x83\\x83ã\\x82\\x83ã\\x83\\x82ã\\x82\\x83ã\\x83\\x83ã\\x82\\x82ã\\x83\\x82ã\\x82â¢ã\\x83\\x83ã\\x82\\x83ã\\x83\\x82ã\\x82\\x82ã\\x83\\x83ã\\x82\\x82ã\\x83\\x82ã\\x82\\x80ã\\x83\\x83ã\\x82\\x83ã\\x83\\x82ã\\x82\\x82ã\\x83\\x83ã\\x82\\x82ã\\x83\\x82ã\\x82\\x99t disappointed chicken wings tangri kebab pizza crispy thin crust personal favorites friday saturday nights quite eventful good place chill weekday lazy weekend visit',\n",
       " \"really love ambience feel ya 'll much better came looking rating zomato 're slightly disappointed food beer improve taste prices charged\",\n",
       " 'overall 5/5 food 5/5 nice food quantity quality expected ambience 5/5 lovely service 5/5 attentive verdict 5/5 visit place bangalore located whitefield',\n",
       " \"nice ambience food also good specially chicken wings pizza tuesday not much busy think server busy 's n't take order table rating ambience 5/5 food 5/5 drink 5/5 service 3/5\",\n",
       " 'go place some good beer food whitefield big fan wheat beer make well order anything menu wonã\\x83\\x83ã\\x82\\x83ã\\x83\\x82ã\\x82\\x83ã\\x83\\x83ã\\x82\\x82ã\\x83\\x82ã\\x82â¢ã\\x83\\x83ã\\x82\\x83ã\\x83\\x82ã\\x82\\x82ã\\x83\\x83ã\\x82\\x82ã\\x83\\x82ã\\x82\\x80ã\\x83\\x83ã\\x82\\x83ã\\x83\\x82ã\\x82\\x82ã\\x83\\x83ã\\x82\\x82ã\\x83\\x82ã\\x82\\x99t disappointed chicken wings tangri kebab pizza crispy thin crust personal favorites friday saturday nights quite eventful good place chill weekday lazy weekend visit',\n",
       " \"really love ambience feel ya 'll much better came looking rating zomato 're slightly disappointed food beer improve taste prices charged\",\n",
       " 'overall 5/5 food 5/5 nice food quantity quality expected ambience 5/5 lovely service 5/5 attentive verdict 5/5 visit place bangalore located whitefield',\n",
       " \"starters great .. guishow chilly chicken try .. service also awesome especially loki service guy 's try place bangalore ..\",\n",
       " 'biergarten great place brewery great starters accompany beer well ambience nice staff courteous ordered prawns wrapped bacon pepper chicken nachos chicken pizza taste really good go group friends great experience',\n",
       " 'located busiest traffic junction getting place bit time consuming ample open air space inside brew felt good food',\n",
       " \"visited christmas eve though local kinda wierd not sure cz n't know city well lovvveee vine place .. some great beer good food .. good bring santa fest\",\n",
       " 'awesome place spend quality time love place .. stylish thoughtfully designed refreshing place went lunch place totally worth terms everything impressed us .. nice open space greenary makes place unique awesome ambience .. calm quiet atmosphere .. nothing negative place .. coming food ordered spaghetti amatriciana pork belly tiramisu brewed beer brewery .. every dish utmost delicious right portions perfect blend flavours .. beer amazing .. found tiramisu cream lil hard rum taste coming coffee flavour less otherwise everything great .. look .. service good prompt quick .. friendly staffs guides properly selecting food overall nice experience keepup good work ..',\n",
       " \"starters great .. guishow chilly chicken try .. service also awesome especially loki service guy 's try place bangalore ..\",\n",
       " 'biergarten great place brewery great starters accompany beer well ambience nice staff courteous ordered prawns wrapped bacon pepper chicken nachos chicken pizza taste really good go group friends great experience',\n",
       " 'located busiest traffic junction getting place bit time consuming ample open air space inside brew felt good food',\n",
       " \"visited christmas eve though local kinda wierd not sure cz n't know city well lovvveee vine place .. some great beer good food .. good bring santa fest\",\n",
       " 'awesome place spend quality time love place .. stylish thoughtfully designed refreshing place went lunch place totally worth terms everything impressed us .. nice open space greenary makes place unique awesome ambience .. calm quiet atmosphere .. nothing negative place .. coming food ordered spaghetti amatriciana pork belly tiramisu brewed beer brewery .. every dish utmost delicious right portions perfect blend flavours .. beer amazing .. found tiramisu cream lil hard rum taste coming coffee flavour less otherwise everything great .. look .. service good prompt quick .. friendly staffs guides properly selecting food overall nice experience keepup good work ..',\n",
       " \"good ambience spacious went thursday eve 's less crowded starters chicken nachos really good pastas 're average mocktail melon peach cooler good went closing time rushed us finish dinner started switching off lights everything fine\",\n",
       " 'best beer shorts .... amazing place food also amazing dj also good great happening place visit place u r bangalore',\n",
       " 'visited place birthday though discount liquor opted zomato gold food instead ambience improve alot beer food tasty ordered alot items great especially main course visit future',\n",
       " \"one town 's best breweries place many times every time experience great place located right busy whitefield road valet parking eases pain ambiance lively specially roof top area suggest avoid sunny afternoons gets really hot otherwise 's pleasant tried starters pizza try mushroom one also spot makes place special freshly brewed beer try recall breweries beer quality hardly recall one two .must go place cheers guys maintaining standards high\",\n",
       " \"good ambience spacious went thursday eve 's less crowded starters chicken nachos really good pastas 're average mocktail melon peach cooler good went closing time rushed us finish dinner started switching off lights everything fine\",\n",
       " 'best beer shorts .... amazing place food also amazing dj also good great happening place visit place u r bangalore',\n",
       " 'visited place birthday though discount liquor opted zomato gold food instead ambience improve alot beer food tasty ordered alot items great especially main course visit future',\n",
       " \"one town 's best breweries place many times every time experience great place located right busy whitefield road valet parking eases pain ambiance lively specially roof top area suggest avoid sunny afternoons gets really hot otherwise 's pleasant tried starters pizza try mushroom one also spot makes place special freshly brewed beer try recall breweries beer quality hardly recall one two .must go place cheers guys maintaining standards high\",\n",
       " \"good ambience spacious went thursday eve 's less crowded starters chicken nachos really good pastas 're average mocktail melon peach cooler good went closing time rushed us finish dinner started switching off lights everything fine\",\n",
       " 'best beer shorts .... amazing place food also amazing dj also good great happening place visit place u r bangalore',\n",
       " 'visited place birthday though discount liquor opted zomato gold food instead ambience improve alot beer food tasty ordered alot items great especially main course visit future',\n",
       " \"one town 's best breweries place many times every time experience great place located right busy whitefield road valet parking eases pain ambiance lively specially roof top area suggest avoid sunny afternoons gets really hot otherwise 's pleasant tried starters pizza try mushroom one also spot makes place special freshly brewed beer try recall breweries beer quality hardly recall one two .must go place cheers guys maintaining standards high\",\n",
       " 'multiple times tasty food tried lot menu items good terms quality taste one one best pubs serving tasty food',\n",
       " 'quite times usually itã\\x83\\x83ã\\x82\\x83ã\\x83\\x82ã\\x82\\x83ã\\x83\\x83ã\\x82\\x82ã\\x83\\x82ã\\x82â¢ã\\x83\\x83ã\\x82\\x83ã\\x83\\x82ã\\x82\\x82ã\\x83\\x83ã\\x82\\x82ã\\x83\\x82ã\\x82\\x80ã\\x83\\x83ã\\x82\\x83ã\\x83\\x82ã\\x82\\x82ã\\x83\\x83ã\\x82\\x82ã\\x83\\x82ã\\x82\\x99s place come office hours german counterparts tried beers cocktails donã\\x83\\x83ã\\x82\\x83ã\\x83\\x82ã\\x82\\x83ã\\x83\\x83ã\\x82\\x82ã\\x83\\x82ã\\x82â¢ã\\x83\\x83ã\\x82\\x83ã\\x83\\x82ã\\x82\\x82ã\\x83\\x83ã\\x82\\x82ã\\x83\\x82ã\\x82\\x80ã\\x83\\x83ã\\x82\\x83ã\\x83\\x82ã\\x82\\x82ã\\x83\\x83ã\\x82\\x82ã\\x83\\x82ã\\x82\\x99t recommend mojito itã\\x83\\x83ã\\x82\\x83ã\\x83\\x82ã\\x82\\x83ã\\x83\\x83ã\\x82\\x82ã\\x83\\x82ã\\x82â¢ã\\x83\\x83ã\\x82\\x83ã\\x83\\x82ã\\x82\\x82ã\\x83\\x83ã\\x82\\x82ã\\x83\\x82ã\\x82\\x80ã\\x83\\x83ã\\x82\\x83ã\\x83\\x82ã\\x82\\x82ã\\x83\\x83ã\\x82\\x82ã\\x83\\x82ã\\x82\\x99s horrible everything else ok. ambiance good beers good pricing little bit expensive side given setting one bad place music play itã\\x83\\x83ã\\x82\\x83ã\\x83\\x82ã\\x82\\x83ã\\x83\\x83ã\\x82\\x82ã\\x83\\x82ã\\x82â¢ã\\x83\\x83ã\\x82\\x83ã\\x83\\x82ã\\x82\\x82ã\\x83\\x83ã\\x82\\x82ã\\x83\\x82ã\\x82\\x80ã\\x83\\x83ã\\x82\\x83ã\\x83\\x82ã\\x82\\x82ã\\x83\\x83ã\\x82\\x82ã\\x83\\x82ã\\x82\\x99s damn 90s playlist donã\\x83\\x83ã\\x82\\x83ã\\x83\\x82ã\\x82\\x83ã\\x83\\x83ã\\x82\\x82ã\\x83\\x82ã\\x82â¢ã\\x83\\x83ã\\x82\\x83ã\\x83\\x82ã\\x82\\x82ã\\x83\\x83ã\\x82\\x82ã\\x83\\x82ã\\x82\\x80ã\\x83\\x83ã\\x82\\x83ã\\x83\\x82ã\\x82\\x82ã\\x83\\x83ã\\x82\\x82ã\\x83\\x82ã\\x82\\x99t go good songs although people drunk pretty much dance anything pricing- 3.5/5 ambiance- 4/5 beer 4/5 cocktails-3/5 food 3.5/5 music- 1/5',\n",
       " 'food amazing staff service really good especially naveen u really try biergarten sausages pork rib u r non vegetarian also music good however add extra service charge gst quite not appreciable ambience great u visit saturday usually live band performance',\n",
       " 'great brews wisenbock absolutely try brewed beer section sausage platter worthwhile well serviced rajesh great ambience minimal appealing music right amplitude',\n",
       " 'multiple times tasty food tried lot menu items good terms quality taste one one best pubs serving tasty food',\n",
       " 'quite times usually itã\\x83\\x83ã\\x82\\x83ã\\x83\\x82ã\\x82\\x83ã\\x83\\x83ã\\x82\\x82ã\\x83\\x82ã\\x82â¢ã\\x83\\x83ã\\x82\\x83ã\\x83\\x82ã\\x82\\x82ã\\x83\\x83ã\\x82\\x82ã\\x83\\x82ã\\x82\\x80ã\\x83\\x83ã\\x82\\x83ã\\x83\\x82ã\\x82\\x82ã\\x83\\x83ã\\x82\\x82ã\\x83\\x82ã\\x82\\x99s place come office hours german counterparts tried beers cocktails donã\\x83\\x83ã\\x82\\x83ã\\x83\\x82ã\\x82\\x83ã\\x83\\x83ã\\x82\\x82ã\\x83\\x82ã\\x82â¢ã\\x83\\x83ã\\x82\\x83ã\\x83\\x82ã\\x82\\x82ã\\x83\\x83ã\\x82\\x82ã\\x83\\x82ã\\x82\\x80ã\\x83\\x83ã\\x82\\x83ã\\x83\\x82ã\\x82\\x82ã\\x83\\x83ã\\x82\\x82ã\\x83\\x82ã\\x82\\x99t recommend mojito itã\\x83\\x83ã\\x82\\x83ã\\x83\\x82ã\\x82\\x83ã\\x83\\x83ã\\x82\\x82ã\\x83\\x82ã\\x82â¢ã\\x83\\x83ã\\x82\\x83ã\\x83\\x82ã\\x82\\x82ã\\x83\\x83ã\\x82\\x82ã\\x83\\x82ã\\x82\\x80ã\\x83\\x83ã\\x82\\x83ã\\x83\\x82ã\\x82\\x82ã\\x83\\x83ã\\x82\\x82ã\\x83\\x82ã\\x82\\x99s horrible everything else ok. ambiance good beers good pricing little bit expensive side given setting one bad place music play itã\\x83\\x83ã\\x82\\x83ã\\x83\\x82ã\\x82\\x83ã\\x83\\x83ã\\x82\\x82ã\\x83\\x82ã\\x82â¢ã\\x83\\x83ã\\x82\\x83ã\\x83\\x82ã\\x82\\x82ã\\x83\\x83ã\\x82\\x82ã\\x83\\x82ã\\x82\\x80ã\\x83\\x83ã\\x82\\x83ã\\x83\\x82ã\\x82\\x82ã\\x83\\x83ã\\x82\\x82ã\\x83\\x82ã\\x82\\x99s damn 90s playlist donã\\x83\\x83ã\\x82\\x83ã\\x83\\x82ã\\x82\\x83ã\\x83\\x83ã\\x82\\x82ã\\x83\\x82ã\\x82â¢ã\\x83\\x83ã\\x82\\x83ã\\x83\\x82ã\\x82\\x82ã\\x83\\x83ã\\x82\\x82ã\\x83\\x82ã\\x82\\x80ã\\x83\\x83ã\\x82\\x83ã\\x83\\x82ã\\x82\\x82ã\\x83\\x83ã\\x82\\x82ã\\x83\\x82ã\\x82\\x99t go good songs although people drunk pretty much dance anything pricing- 3.5/5 ambiance- 4/5 beer 4/5 cocktails-3/5 food 3.5/5 music- 1/5',\n",
       " 'food amazing staff service really good especially naveen u really try biergarten sausages pork rib u r non vegetarian also music good however add extra service charge gst quite not appreciable ambience great u visit saturday usually live band performance',\n",
       " 'great brews wisenbock absolutely try brewed beer section sausage platter worthwhile well serviced rajesh great ambience minimal appealing music right amplitude',\n",
       " 'multiple times tasty food tried lot menu items good terms quality taste one one best pubs serving tasty food',\n",
       " 'quite times usually itã\\x83\\x83ã\\x82\\x83ã\\x83\\x82ã\\x82\\x83ã\\x83\\x83ã\\x82\\x82ã\\x83\\x82ã\\x82â¢ã\\x83\\x83ã\\x82\\x83ã\\x83\\x82ã\\x82\\x82ã\\x83\\x83ã\\x82\\x82ã\\x83\\x82ã\\x82\\x80ã\\x83\\x83ã\\x82\\x83ã\\x83\\x82ã\\x82\\x82ã\\x83\\x83ã\\x82\\x82ã\\x83\\x82ã\\x82\\x99s place come office hours german counterparts tried beers cocktails donã\\x83\\x83ã\\x82\\x83ã\\x83\\x82ã\\x82\\x83ã\\x83\\x83ã\\x82\\x82ã\\x83\\x82ã\\x82â¢ã\\x83\\x83ã\\x82\\x83ã\\x83\\x82ã\\x82\\x82ã\\x83\\x83ã\\x82\\x82ã\\x83\\x82ã\\x82\\x80ã\\x83\\x83ã\\x82\\x83ã\\x83\\x82ã\\x82\\x82ã\\x83\\x83ã\\x82\\x82ã\\x83\\x82ã\\x82\\x99t recommend mojito itã\\x83\\x83ã\\x82\\x83ã\\x83\\x82ã\\x82\\x83ã\\x83\\x83ã\\x82\\x82ã\\x83\\x82ã\\x82â¢ã\\x83\\x83ã\\x82\\x83ã\\x83\\x82ã\\x82\\x82ã\\x83\\x83ã\\x82\\x82ã\\x83\\x82ã\\x82\\x80ã\\x83\\x83ã\\x82\\x83ã\\x83\\x82ã\\x82\\x82ã\\x83\\x83ã\\x82\\x82ã\\x83\\x82ã\\x82\\x99s horrible everything else ok. ambiance good beers good pricing little bit expensive side given setting one bad place music play itã\\x83\\x83ã\\x82\\x83ã\\x83\\x82ã\\x82\\x83ã\\x83\\x83ã\\x82\\x82ã\\x83\\x82ã\\x82â¢ã\\x83\\x83ã\\x82\\x83ã\\x83\\x82ã\\x82\\x82ã\\x83\\x83ã\\x82\\x82ã\\x83\\x82ã\\x82\\x80ã\\x83\\x83ã\\x82\\x83ã\\x83\\x82ã\\x82\\x82ã\\x83\\x83ã\\x82\\x82ã\\x83\\x82ã\\x82\\x99s damn 90s playlist donã\\x83\\x83ã\\x82\\x83ã\\x83\\x82ã\\x82\\x83ã\\x83\\x83ã\\x82\\x82ã\\x83\\x82ã\\x82â¢ã\\x83\\x83ã\\x82\\x83ã\\x83\\x82ã\\x82\\x82ã\\x83\\x83ã\\x82\\x82ã\\x83\\x82ã\\x82\\x80ã\\x83\\x83ã\\x82\\x83ã\\x83\\x82ã\\x82\\x82ã\\x83\\x83ã\\x82\\x82ã\\x83\\x82ã\\x82\\x99t go good songs although people drunk pretty much dance anything pricing- 3.5/5 ambiance- 4/5 beer 4/5 cocktails-3/5 food 3.5/5 music- 1/5',\n",
       " 'food amazing staff service really good especially naveen u really try biergarten sausages pork rib u r non vegetarian also music good however add extra service charge gst quite not appreciable ambience great u visit saturday usually live band performance',\n",
       " 'great brews wisenbock absolutely try brewed beer section sausage platter worthwhile well serviced rajesh great ambience minimal appealing music right amplitude',\n",
       " \"one extra star amazing beer served arbor competition n't tasted smooth refreshing beer long time keep up.the good work\",\n",
       " \"trying visit place months finally got chance 's open-space place one floor ordered mushroom galouti crispy mushroom delicious spicy apart food ordered choco-slide drinks perfect amalgamation vodka chocolate big thumbs last not least big hi-5 rajesh handled waited table nicely no kind delay order served table thank\",\n",
       " 'perfect place good food tasty beers open seating giant projector screen prices slightly higher side otherwise visit especially weekend evenings',\n",
       " 'really nice place chill friends amazing beers pretty darn good cheesecake pizzas great go perfectly craft beers',\n",
       " \"one extra star amazing beer served arbor competition n't tasted smooth refreshing beer long time keep up.the good work\",\n",
       " \"trying visit place months finally got chance 's open-space place one floor ordered mushroom galouti crispy mushroom delicious spicy apart food ordered choco-slide drinks perfect amalgamation vodka chocolate big thumbs last not least big hi-5 rajesh handled waited table nicely no kind delay order served table thank\",\n",
       " 'perfect place good food tasty beers open seating giant projector screen prices slightly higher side otherwise visit especially weekend evenings',\n",
       " 'really nice place chill friends amazing beers pretty darn good cheesecake pizzas great go perfectly craft beers',\n",
       " 'one best breweries whitefield visited place wednesday evening even weekday buzzing people ambience makes worth going place spacious two storey seating mediterranean interiors coming food ordered wheat beer along veg platter platter okay taste enough quantity two people ambience 4.5/5 food 4/5 service 4/5',\n",
       " \"polite friendly service food good ambience good specially behaviour nabin kind 's nice place recommend\",\n",
       " 'nice place ambience perfect chill friday eve food great worth price though list managed visit late hope visiting soon',\n",
       " 'perfect way ruin sizable well located place overpriced inattentive overwhelmed waiters ok kind drinks respite dishes decent well presented',\n",
       " 'one best breweries whitefield visited place wednesday evening even weekday buzzing people ambience makes worth going place spacious two storey seating mediterranean interiors coming food ordered wheat beer along veg platter platter okay taste enough quantity two people ambience 4.5/5 food 4/5 service 4/5',\n",
       " \"polite friendly service food good ambience good specially behaviour nabin kind 's nice place recommend\",\n",
       " 'nice place ambience perfect chill friday eve food great worth price though list managed visit late hope visiting soon',\n",
       " 'perfect way ruin sizable well located place overpriced inattentive overwhelmed waiters ok kind drinks respite dishes decent well presented',\n",
       " \"highly overrated place n't deserve 2 3. dinner pathetic seat enjoy food environment n't separated smoking area no different arrangement smoke requested get table us no smoking around failed give despite prior reservation requirements explained anyhow wife completed dinner rushed soon possible importantly front us one family 4-5 members simply cancelled dinner went away unhygienic environment food taste average service not good concerned customers mainly drink never plan place food darkness much ca n't see properly food served table big no place ever\",\n",
       " \"one best breweries city fell love place moment stepped foot whole vibe place amazing love love love ambience ordered starters- prawns malabar roti chicken tikka finger licking delicious also wheat beer also one best ive city music good nothing experienced ate drank average place visited place windmills favorite place blew away 's charm surely surely going back soon\",\n",
       " 'pretty good food soft shell chicken taco wings sundried tomato pizza everything good open air ambience also please really commendable service nabin happy experience',\n",
       " \"highly overrated place n't deserve 2 3. dinner pathetic seat enjoy food environment n't separated smoking area no different arrangement smoke requested get table us no smoking around failed give despite prior reservation requirements explained anyhow wife completed dinner rushed soon possible importantly front us one family 4-5 members simply cancelled dinner went away unhygienic environment food taste average service not good concerned customers mainly drink never plan place food darkness much ca n't see properly food served table big no place ever\",\n",
       " \"one best breweries city fell love place moment stepped foot whole vibe place amazing love love love ambience ordered starters- prawns malabar roti chicken tikka finger licking delicious also wheat beer also one best ive city music good nothing experienced ate drank average place visited place windmills favorite place blew away 's charm surely surely going back soon\",\n",
       " 'pretty good food soft shell chicken taco wings sundried tomato pizza everything good open air ambience also please really commendable service nabin happy experience',\n",
       " 'awesome place weekend loved ambience live music band good dim-sums chicken chilly tasty ã\\x83\\x83ã\\x82\\x83ã\\x83\\x82ã\\x82\\x83ã\\x83\\x83ã\\x82\\x82ã\\x83\\x82ã\\x82â°ã\\x83\\x83ã\\x82\\x83ã\\x83\\x82ã\\x82\\x82ã\\x83\\x83ã\\x82\\x82ã\\x83\\x82ã\\x82\\x9fã\\x83\\x83ã\\x82\\x83ã\\x83\\x82ã\\x82\\x82ã\\x83\\x83ã\\x82\\x82ã\\x83\\x82ã\\x82\\x98ã\\x83\\x83ã\\x82\\x83ã\\x83\\x82ã\\x82\\x82ã\\x83\\x83ã\\x82\\x82ã\\x83\\x82ã\\x82\\x8b',\n",
       " 'ambiance good food good ok. oven roasted chicken felt boiled chicken hard inside tasteless guess nightlife finger food better',\n",
       " 'wonderful ambience good food biergarten huge place loads seating however invariably crowded even weekdays result crowd service tad bit slow',\n",
       " \"food decent beer decent crowd decent music decent everything place decent 's good bad part place decent place not wow place good one finest places whitefield\",\n",
       " 'polite friendly food tooo crazy even beer gd prices amazing mr rajesh treated well friendly dilevered order soon faster',\n",
       " 'awesome place weekend loved ambience live music band good dim-sums chicken chilly tasty ã\\x83\\x83ã\\x82\\x83ã\\x83\\x82ã\\x82\\x83ã\\x83\\x83ã\\x82\\x82ã\\x83\\x82ã\\x82â°ã\\x83\\x83ã\\x82\\x83ã\\x83\\x82ã\\x82\\x82ã\\x83\\x83ã\\x82\\x82ã\\x83\\x82ã\\x82\\x9fã\\x83\\x83ã\\x82\\x83ã\\x83\\x82ã\\x82\\x82ã\\x83\\x83ã\\x82\\x82ã\\x83\\x82ã\\x82\\x98ã\\x83\\x83ã\\x82\\x83ã\\x83\\x82ã\\x82\\x82ã\\x83\\x83ã\\x82\\x82ã\\x83\\x82ã\\x82\\x8b',\n",
       " 'ambiance good food good ok. oven roasted chicken felt boiled chicken hard inside tasteless guess nightlife finger food better',\n",
       " 'wonderful ambience good food biergarten huge place loads seating however invariably crowded even weekdays result crowd service tad bit slow',\n",
       " \"food decent beer decent crowd decent music decent everything place decent 's good bad part place decent place not wow place good one finest places whitefield\",\n",
       " 'polite friendly food tooo crazy even beer gd prices amazing mr rajesh treated well friendly dilevered order soon faster',\n",
       " 'went office party really enjoyed beer serve tasty buffet average brews really good one best place go friends family whitefield ambience nice staffs good zomato gold works',\n",
       " 'probably one best breweries whitefield area good food great service amazing brews ordered chicken nachos chicken tikka daal makhni roti main course everything cooked perfection tasty honest never expected good food pub tried heifeweizen beer brewed well light golden colour aroma wheat tasted awesome plan visit soon',\n",
       " 'several times different experience time craft beer not consistent brunch experience really good love set place limited food decent options service bad first since group 10 drinks took decent experience beer batches consistent',\n",
       " 'many places always find one thing improve place amazing staff amazing help running offers got 40 off drinks second service really fast doubted came food 10 minutes food really delicious ordered veg quesadillas good drinks variety beer cocktails options seasonal drinks try free last dog cute place keep wanting stay',\n",
       " 'went office party really enjoyed beer serve tasty buffet average brews really good one best place go friends family whitefield ambience nice staffs good zomato gold works',\n",
       " 'probably one best breweries whitefield area good food great service amazing brews ordered chicken nachos chicken tikka daal makhni roti main course everything cooked perfection tasty honest never expected good food pub tried heifeweizen beer brewed well light golden colour aroma wheat tasted awesome plan visit soon',\n",
       " 'several times different experience time craft beer not consistent brunch experience really good love set place limited food decent options service bad first since group 10 drinks took decent experience beer batches consistent',\n",
       " 'many places always find one thing improve place amazing staff amazing help running offers got 40 off drinks second service really fast doubted came food 10 minutes food really delicious ordered veg quesadillas good drinks variety beer cocktails options seasonal drinks try free last dog cute place keep wanting stay',\n",
       " 'picked place catch old friend ambience nice jolly prompt waiters ordered red sauce pasta really good',\n",
       " 'place ambience lively food decent.the service quite disappointing guess overly crowed wait like hour table songs dj enthusiastic lovely',\n",
       " \"first visit worth kudos naveen arranged small pastry wife 's birthday amazing starters wheat beer worth wings best chilly chicken good amount spice taste surely visit naveen awesome\",\n",
       " 'lovely place place always bucket long finally could hit place loved ambience place.the place decorated nicely ordered pan fried noodles mushroom galouti noodles tasty combination nicely cooked vegetables crispy noodles mushroom galouti wasnt tasty service decent service:4/5 ambience:4/5 food:4/5',\n",
       " 'every like visit place perfect place hangout occasion nothing comes mind would try find flaws place seating arrangement brewed beers cocktails kitchen specialities everything superb chicke ghee roast try place havenã\\x83\\x83ã\\x82\\x83ã\\x83\\x82ã\\x82\\x83ã\\x83\\x83ã\\x82\\x82ã\\x83\\x82ã\\x82â¢ã\\x83\\x83ã\\x82\\x83ã\\x83\\x82ã\\x82\\x82ã\\x83\\x83ã\\x82\\x82ã\\x83\\x82ã\\x82\\x80ã\\x83\\x83ã\\x82\\x83ã\\x83\\x82ã\\x82\\x82ã\\x83\\x83ã\\x82\\x82ã\\x83\\x82ã\\x82\\x99t already chicken nachos deserts even platters superb visit',\n",
       " 'picked place catch old friend ambience nice jolly prompt waiters ordered red sauce pasta really good',\n",
       " 'place ambience lively food decent.the service quite disappointing guess overly crowed wait like hour table songs dj enthusiastic lovely',\n",
       " \"first visit worth kudos naveen arranged small pastry wife 's birthday amazing starters wheat beer worth wings best chilly chicken good amount spice taste surely visit naveen awesome\",\n",
       " 'lovely place place always bucket long finally could hit place loved ambience place.the place decorated nicely ordered pan fried noodles mushroom galouti noodles tasty combination nicely cooked vegetables crispy noodles mushroom galouti wasnt tasty service decent service:4/5 ambience:4/5 food:4/5',\n",
       " 'every like visit place perfect place hangout occasion nothing comes mind would try find flaws place seating arrangement brewed beers cocktails kitchen specialities everything superb chicke ghee roast try place havenã\\x83\\x83ã\\x82\\x83ã\\x83\\x82ã\\x82\\x83ã\\x83\\x83ã\\x82\\x82ã\\x83\\x82ã\\x82â¢ã\\x83\\x83ã\\x82\\x83ã\\x83\\x82ã\\x82\\x82ã\\x83\\x83ã\\x82\\x82ã\\x83\\x82ã\\x82\\x80ã\\x83\\x83ã\\x82\\x83ã\\x83\\x82ã\\x82\\x82ã\\x83\\x83ã\\x82\\x82ã\\x83\\x82ã\\x82\\x99t already chicken nachos deserts even platters superb visit',\n",
       " 'overhyped place hype gone bday booked table 8:30 pm enter staff not name tab even though showed text confirmation reschedule 9 pm make wait finally get table food good relief music terrible',\n",
       " 'loki great guy biergarten thanks service great ambience music mind blowing live music good good crowd yummy drinks great pizza second visit two weeks',\n",
       " \"live music biergarten way expectations honestly felt like 'm sitting some satsang big time disappointment food good\",\n",
       " \"loved food .. go place delicious finger licking food ordered veg non veg platter enough tasty option also ordered pesto pasta sauce .. ordered twice loved much mashroom gulati pizza also ca n't get taste onion rings ordered 3 times .. amazing place party reservation required\",\n",
       " 'list long time place actually attracted ambience open air finally visited team one fine evening reservation last min got place open air ground floor kind benches sit facing benches quite long shared groups place lively beer serve custom beers good food good tried pizza pasta chicken wings nachos etc every single item good team great time overall would definitely recommend place either friends team',\n",
       " 'overhyped place hype gone bday booked table 8:30 pm enter staff not name tab even though showed text confirmation reschedule 9 pm make wait finally get table food good relief music terrible',\n",
       " 'loki great guy biergarten thanks service great ambience music mind blowing live music good good crowd yummy drinks great pizza second visit two weeks',\n",
       " \"live music biergarten way expectations honestly felt like 'm sitting some satsang big time disappointment food good\",\n",
       " \"loved food .. go place delicious finger licking food ordered veg non veg platter enough tasty option also ordered pesto pasta sauce .. ordered twice loved much mashroom gulati pizza also ca n't get taste onion rings ordered 3 times .. amazing place party reservation required\",\n",
       " 'list long time place actually attracted ambience open air finally visited team one fine evening reservation last min got place open air ground floor kind benches sit facing benches quite long shared groups place lively beer serve custom beers good food good tried pizza pasta chicken wings nachos etc every single item good team great time overall would definitely recommend place either friends team',\n",
       " 'overhyped place hype gone bday booked table 8:30 pm enter staff not name tab even though showed text confirmation reschedule 9 pm make wait finally get table food good relief music terrible',\n",
       " 'loki great guy biergarten thanks service great ambience music mind blowing live music good good crowd yummy drinks great pizza second visit two weeks',\n",
       " \"live music biergarten way expectations honestly felt like 'm sitting some satsang big time disappointment food good\",\n",
       " \"loved food .. go place delicious finger licking food ordered veg non veg platter enough tasty option also ordered pesto pasta sauce .. ordered twice loved much mashroom gulati pizza also ca n't get taste onion rings ordered 3 times .. amazing place party reservation required\",\n",
       " 'list long time place actually attracted ambience open air finally visited team one fine evening reservation last min got place open air ground floor kind benches sit facing benches quite long shared groups place lively beer serve custom beers good food good tried pizza pasta chicken wings nachos etc every single item good team great time overall would definitely recommend place either friends team',\n",
       " \"well big place .open seating .nice ambience.nice food.in-house brewery twice .. beer.above average compare top breweries bengaluru n't stands\",\n",
       " 'zomato gold hassle free experience visited place sunday evening ambience place exotic huge open structure ample seating space lighting brilliant ordered potato wedges pan fried noodles chilli beans sauce items delicious quantity way expected good enough 4-5 people desserts dark chocolate redemption eggless delicious servers friend helpful loved experience',\n",
       " \"ã\\x83\\x83ã\\x82\\x83ã\\x83\\x82ã\\x82\\x83ã\\x83\\x83ã\\x82\\x82ã\\x83\\x82ã\\x82â¢ã\\x83\\x83ã\\x82\\x83ã\\x83\\x82ã\\x82\\x82ã\\x83\\x83ã\\x82\\x82ã\\x83\\x82ã\\x82\\x80ã\\x83\\x83ã\\x82\\x83ã\\x83\\x82ã\\x82\\x82ã\\x83\\x83ã\\x82\\x82ã\\x83\\x82ã\\x82â¢the ambience really nice place well decorated gives good vibe really love open spaces perfect sitting nice time would suggest going night cause 's windy sometimes yet peaceful ã\\x83\\x83ã\\x82\\x83ã\\x83\\x82ã\\x82\\x83ã\\x83\\x83ã\\x82\\x82ã\\x83\\x82ã\\x82â¢ã\\x83\\x83ã\\x82\\x83ã\\x83\\x82ã\\x82\\x82ã\\x83\\x83ã\\x82\\x82ã\\x83\\x82ã\\x82\\x80ã\\x83\\x83ã\\x82\\x83ã\\x83\\x82ã\\x82\\x82ã\\x83\\x83ã\\x82\\x82ã\\x83\\x82ã\\x82â¢the service quick staff really nice polite ã\\x83\\x83ã\\x82\\x83ã\\x83\\x82ã\\x82\\x83ã\\x83\\x83ã\\x82\\x82ã\\x83\\x82ã\\x82â¢ã\\x83\\x83ã\\x82\\x83ã\\x83\\x82ã\\x82\\x82ã\\x83\\x83ã\\x82\\x82ã\\x83\\x82ã\\x82\\x80ã\\x83\\x83ã\\x82\\x83ã\\x83\\x82ã\\x82\\x82ã\\x83\\x83ã\\x82\\x82ã\\x83\\x82ã\\x82â¢the food absolutely tasty variety options choose try craft beer since 's speciality presentation food good well compliments chef crew ã\\x83\\x83ã\\x82\\x83ã\\x83\\x82ã\\x82\\x83ã\\x83\\x83ã\\x82\\x82ã\\x83\\x82ã\\x82â¢ã\\x83\\x83ã\\x82\\x83ã\\x83\\x82ã\\x82\\x82ã\\x83\\x83ã\\x82\\x82ã\\x83\\x82ã\\x82\\x80ã\\x83\\x83ã\\x82\\x83ã\\x83\\x82ã\\x82\\x82ã\\x83\\x83ã\\x82\\x82ã\\x83\\x82ã\\x82â¢i would definitely visit place grab cold beer tasty food also would recommend friends family well\",\n",
       " 'amazing ambience great vibes along 1l mugs chilli chicken pork chops barbeque chicken pizza food really good place visit definitely back try',\n",
       " \"2nd visit went family dinner loved food ambience loki 's service also good.we mostly ordered starter delicious would recommend everyone visit ambience -4 food -4 service -4 location -4\",\n",
       " \"well big place .open seating .nice ambience.nice food.in-house brewery twice .. beer.above average compare top breweries bengaluru n't stands\",\n",
       " 'zomato gold hassle free experience visited place sunday evening ambience place exotic huge open structure ample seating space lighting brilliant ordered potato wedges pan fried noodles chilli beans sauce items delicious quantity way expected good enough 4-5 people desserts dark chocolate redemption eggless delicious servers friend helpful loved experience',\n",
       " \"ã\\x83\\x83ã\\x82\\x83ã\\x83\\x82ã\\x82\\x83ã\\x83\\x83ã\\x82\\x82ã\\x83\\x82ã\\x82â¢ã\\x83\\x83ã\\x82\\x83ã\\x83\\x82ã\\x82\\x82ã\\x83\\x83ã\\x82\\x82ã\\x83\\x82ã\\x82\\x80ã\\x83\\x83ã\\x82\\x83ã\\x83\\x82ã\\x82\\x82ã\\x83\\x83ã\\x82\\x82ã\\x83\\x82ã\\x82â¢the ambience really nice place well decorated gives good vibe really love open spaces perfect sitting nice time would suggest going night cause 's windy sometimes yet peaceful ã\\x83\\x83ã\\x82\\x83ã\\x83\\x82ã\\x82\\x83ã\\x83\\x83ã\\x82\\x82ã\\x83\\x82ã\\x82â¢ã\\x83\\x83ã\\x82\\x83ã\\x83\\x82ã\\x82\\x82ã\\x83\\x83ã\\x82\\x82ã\\x83\\x82ã\\x82\\x80ã\\x83\\x83ã\\x82\\x83ã\\x83\\x82ã\\x82\\x82ã\\x83\\x83ã\\x82\\x82ã\\x83\\x82ã\\x82â¢the service quick staff really nice polite ã\\x83\\x83ã\\x82\\x83ã\\x83\\x82ã\\x82\\x83ã\\x83\\x83ã\\x82\\x82ã\\x83\\x82ã\\x82â¢ã\\x83\\x83ã\\x82\\x83ã\\x83\\x82ã\\x82\\x82ã\\x83\\x83ã\\x82\\x82ã\\x83\\x82ã\\x82\\x80ã\\x83\\x83ã\\x82\\x83ã\\x83\\x82ã\\x82\\x82ã\\x83\\x83ã\\x82\\x82ã\\x83\\x82ã\\x82â¢the food absolutely tasty variety options choose try craft beer since 's speciality presentation food good well compliments chef crew ã\\x83\\x83ã\\x82\\x83ã\\x83\\x82ã\\x82\\x83ã\\x83\\x83ã\\x82\\x82ã\\x83\\x82ã\\x82â¢ã\\x83\\x83ã\\x82\\x83ã\\x83\\x82ã\\x82\\x82ã\\x83\\x83ã\\x82\\x82ã\\x83\\x82ã\\x82\\x80ã\\x83\\x83ã\\x82\\x83ã\\x83\\x82ã\\x82\\x82ã\\x83\\x83ã\\x82\\x82ã\\x83\\x82ã\\x82â¢i would definitely visit place grab cold beer tasty food also would recommend friends family well\",\n",
       " 'amazing ambience great vibes along 1l mugs chilli chicken pork chops barbeque chicken pizza food really good place visit definitely back try',\n",
       " \"2nd visit went family dinner loved food ambience loki 's service also good.we mostly ordered starter delicious would recommend everyone visit ambience -4 food -4 service -4 location -4\",\n",
       " '4.5 precise good beer dark beer guy ã\\x83\\x83ã\\x82\\x83ã\\x83\\x82ã\\x82\\x83ã\\x83\\x83ã\\x82\\x82ã\\x83\\x82ã\\x82â¢ã\\x83\\x83ã\\x82\\x83ã\\x83\\x82ã\\x82\\x82ã\\x83\\x83ã\\x82\\x82ã\\x83\\x82ã\\x82\\x80ã\\x83\\x83ã\\x82\\x83ã\\x83\\x82ã\\x82\\x82ã\\x83\\x83ã\\x82\\x82ã\\x83\\x82ã\\x82\\x9ccoffeeã\\x83\\x83ã\\x82\\x83ã\\x83\\x82ã\\x82\\x83ã\\x83\\x83ã\\x82\\x82ã\\x83\\x82ã\\x82â¢ã\\x83\\x83ã\\x82\\x83ã\\x83\\x82ã\\x82\\x82ã\\x83\\x83ã\\x82\\x82ã\\x83\\x82ã\\x82\\x80ã\\x83\\x83ã\\x82\\x83ã\\x83\\x82ã\\x82\\x82ã\\x83\\x83ã\\x82\\x82ã\\x83\\x82ã\\x82\\x9d flavour beer nice suggested crispy chilli chicken brilliant fish fingers good onion rings one complaint french fries top fries lacked seasoning rest expect fries hence deduction rating wasnã\\x83\\x83ã\\x82\\x83ã\\x83\\x82ã\\x82\\x83ã\\x83\\x83ã\\x82\\x82ã\\x83\\x82ã\\x82â¢ã\\x83\\x83ã\\x82\\x83ã\\x83\\x82ã\\x82\\x82ã\\x83\\x83ã\\x82\\x82ã\\x83\\x82ã\\x82\\x80ã\\x83\\x83ã\\x82\\x83ã\\x83\\x82ã\\x82\\x82ã\\x83\\x83ã\\x82\\x82ã\\x83\\x82ã\\x82\\x99t ã\\x83\\x83ã\\x82\\x83ã\\x83\\x82ã\\x82\\x83ã\\x83\\x83ã\\x82\\x82ã\\x83\\x82ã\\x82â¢ã\\x83\\x83ã\\x82\\x83ã\\x83\\x82ã\\x82\\x82ã\\x83\\x83ã\\x82\\x82ã\\x83\\x82ã\\x82\\x80ã\\x83\\x83ã\\x82\\x83ã\\x83\\x82ã\\x82\\x82ã\\x83\\x83ã\\x82\\x82ã\\x83\\x82ã\\x82\\x9cperfectã\\x83\\x83ã\\x82\\x83ã\\x83\\x82ã\\x82\\x83ã\\x83\\x83ã\\x82\\x82ã\\x83\\x82ã\\x82â¢ã\\x83\\x83ã\\x82\\x83ã\\x83\\x82ã\\x82\\x82ã\\x83\\x83ã\\x82\\x82ã\\x83\\x82ã\\x82\\x80ã\\x83\\x83ã\\x82\\x83ã\\x83\\x82ã\\x82\\x82ã\\x83\\x83ã\\x82\\x82ã\\x83\\x82ã\\x82\\x9d place visit staff courteous good time',\n",
       " 'sheer disappointment crowded understand concept shared benches making crampy adjusting people wherever possible crowded waiters hardly paying attention make money ruining used sorry say walk end havr never restaurant rating maybe bad day big disappointment',\n",
       " 'great food best part zomato gold service great good job suman music okayish beer tastes great wheat beer visit soon thanks good time',\n",
       " 'visited biergarten cocktails bar menã\\x83\\x83ã\\x82\\x83ã\\x83\\x82ã\\x82\\x83ã\\x83\\x83ã\\x82\\x82ã\\x83\\x82ã\\x82â¢ã\\x83\\x83ã\\x82\\x83ã\\x83\\x82ã\\x82\\x82ã\\x83\\x83ã\\x82\\x82ã\\x83\\x82ã\\x82\\x80ã\\x83\\x83ã\\x82\\x83ã\\x83\\x82ã\\x82\\x82ã\\x83\\x83ã\\x82\\x82ã\\x83\\x82ã\\x82\\x99s varun whiskey based special cocktails awesome great service dipel served us saturday evening good ambience cheers',\n",
       " 'food amazing especially pizza loki extremely sweet courteous service top notch definitely go pizza beach ice tea kickass',\n",
       " '4.5 precise good beer dark beer guy ã\\x83\\x83ã\\x82\\x83ã\\x83\\x82ã\\x82\\x83ã\\x83\\x83ã\\x82\\x82ã\\x83\\x82ã\\x82â¢ã\\x83\\x83ã\\x82\\x83ã\\x83\\x82ã\\x82\\x82ã\\x83\\x83ã\\x82\\x82ã\\x83\\x82ã\\x82\\x80ã\\x83\\x83ã\\x82\\x83ã\\x83\\x82ã\\x82\\x82ã\\x83\\x83ã\\x82\\x82ã\\x83\\x82ã\\x82\\x9ccoffeeã\\x83\\x83ã\\x82\\x83ã\\x83\\x82ã\\x82\\x83ã\\x83\\x83ã\\x82\\x82ã\\x83\\x82ã\\x82â¢ã\\x83\\x83ã\\x82\\x83ã\\x83\\x82ã\\x82\\x82ã\\x83\\x83ã\\x82\\x82ã\\x83\\x82ã\\x82\\x80ã\\x83\\x83ã\\x82\\x83ã\\x83\\x82ã\\x82\\x82ã\\x83\\x83ã\\x82\\x82ã\\x83\\x82ã\\x82\\x9d flavour beer nice suggested crispy chilli chicken brilliant fish fingers good onion rings one complaint french fries top fries lacked seasoning rest expect fries hence deduction rating wasnã\\x83\\x83ã\\x82\\x83ã\\x83\\x82ã\\x82\\x83ã\\x83\\x83ã\\x82\\x82ã\\x83\\x82ã\\x82â¢ã\\x83\\x83ã\\x82\\x83ã\\x83\\x82ã\\x82\\x82ã\\x83\\x83ã\\x82\\x82ã\\x83\\x82ã\\x82\\x80ã\\x83\\x83ã\\x82\\x83ã\\x83\\x82ã\\x82\\x82ã\\x83\\x83ã\\x82\\x82ã\\x83\\x82ã\\x82\\x99t ã\\x83\\x83ã\\x82\\x83ã\\x83\\x82ã\\x82\\x83ã\\x83\\x83ã\\x82\\x82ã\\x83\\x82ã\\x82â¢ã\\x83\\x83ã\\x82\\x83ã\\x83\\x82ã\\x82\\x82ã\\x83\\x83ã\\x82\\x82ã\\x83\\x82ã\\x82\\x80ã\\x83\\x83ã\\x82\\x83ã\\x83\\x82ã\\x82\\x82ã\\x83\\x83ã\\x82\\x82ã\\x83\\x82ã\\x82\\x9cperfectã\\x83\\x83ã\\x82\\x83ã\\x83\\x82ã\\x82\\x83ã\\x83\\x83ã\\x82\\x82ã\\x83\\x82ã\\x82â¢ã\\x83\\x83ã\\x82\\x83ã\\x83\\x82ã\\x82\\x82ã\\x83\\x83ã\\x82\\x82ã\\x83\\x82ã\\x82\\x80ã\\x83\\x83ã\\x82\\x83ã\\x83\\x82ã\\x82\\x82ã\\x83\\x83ã\\x82\\x82ã\\x83\\x82ã\\x82\\x9d place visit staff courteous good time',\n",
       " 'sheer disappointment crowded understand concept shared benches making crampy adjusting people wherever possible crowded waiters hardly paying attention make money ruining used sorry say walk end havr never restaurant rating maybe bad day big disappointment',\n",
       " 'great food best part zomato gold service great good job suman music okayish beer tastes great wheat beer visit soon thanks good time',\n",
       " 'visited biergarten cocktails bar menã\\x83\\x83ã\\x82\\x83ã\\x83\\x82ã\\x82\\x83ã\\x83\\x83ã\\x82\\x82ã\\x83\\x82ã\\x82â¢ã\\x83\\x83ã\\x82\\x83ã\\x83\\x82ã\\x82\\x82ã\\x83\\x83ã\\x82\\x82ã\\x83\\x82ã\\x82\\x80ã\\x83\\x83ã\\x82\\x83ã\\x83\\x82ã\\x82\\x82ã\\x83\\x83ã\\x82\\x82ã\\x83\\x82ã\\x82\\x99s varun whiskey based special cocktails awesome great service dipel served us saturday evening good ambience cheers',\n",
       " 'food amazing especially pizza loki extremely sweet courteous service top notch definitely go pizza beach ice tea kickass',\n",
       " \"good place nice ambience food also 'll say average pocket friendly compared similar nearby places like open seating .. although seats little cushion\",\n",
       " \"came late saturday lunch place relatively empty managed get couch ambience impressive found service slow beer good beetroot chicken starter good chicken nachos not mark tasted kind dry second visit place 's nice place hangout friends/family evenings gets lively\",\n",
       " 'loki pleasant courteous way handled evening ambience place good ask cheesecake ann get',\n",
       " 'great place spend evening pleasantly large dish sizes taste average appreciate services navin rajesh ps writing review restaurant table condition get check',\n",
       " 'biergarten lives expectation time courteous staff pay attention try accommodate little requests every single dish delight wonder make good vegetarian fare well music always uplifting afternoon beers probably serve best ipa town',\n",
       " \"good place nice ambience food also 'll say average pocket friendly compared similar nearby places like open seating .. although seats little cushion\",\n",
       " \"came late saturday lunch place relatively empty managed get couch ambience impressive found service slow beer good beetroot chicken starter good chicken nachos not mark tasted kind dry second visit place 's nice place hangout friends/family evenings gets lively\",\n",
       " 'loki pleasant courteous way handled evening ambience place good ask cheesecake ann get',\n",
       " 'great place spend evening pleasantly large dish sizes taste average appreciate services navin rajesh ps writing review restaurant table condition get check',\n",
       " 'biergarten lives expectation time courteous staff pay attention try accommodate little requests every single dish delight wonder make good vegetarian fare well music always uplifting afternoon beers probably serve best ipa town',\n",
       " 'place great food music ambience fine brewery well itã\\x83\\x83ã\\x82\\x83ã\\x83\\x82ã\\x82\\x83ã\\x83\\x83ã\\x82\\x82ã\\x83\\x82ã\\x82â¢ã\\x83\\x83ã\\x82\\x83ã\\x83\\x82ã\\x82\\x82ã\\x83\\x83ã\\x82\\x82ã\\x83\\x82ã\\x82\\x80ã\\x83\\x83ã\\x82\\x83ã\\x83\\x82ã\\x82\\x82ã\\x83\\x83ã\\x82\\x82ã\\x83\\x82ã\\x82\\x99s pretty big crowded however staff attentive responsive kudos dj excellent great collection',\n",
       " \"well long time wait finally made biergarten heard place lot n't disappointed either great service really quick orders food ordered chicken nachos definitely great one felt best one biergarten chicken wings 's really taste delicious ordered pepper chicken tikka also great overall valued money ambience also superb importantly craft beer love wheat beer always ã\\x83\\x83ã\\x82\\x83ã\\x83\\x82ã\\x82\\x83ã\\x83\\x83ã\\x82\\x82ã\\x83\\x82ã\\x82â°ã\\x83\\x83ã\\x82\\x83ã\\x83\\x82ã\\x82\\x82ã\\x83\\x83ã\\x82\\x82ã\\x83\\x82ã\\x82\\x9fã\\x83\\x83ã\\x82\\x83ã\\x83\\x82ã\\x82\\x82ã\\x83\\x83ã\\x82\\x82ã\\x83\\x82ã\\x82\\x92ã\\x83\\x83ã\\x82\\x83ã\\x83\\x82ã\\x82\\x82ã\\x83\\x83ã\\x82\\x82ã\\x83\\x82ã\\x82â¯ keep good work definitely visit dishes never gave five star yet zommato restaurant feel give next visit exploring some\",\n",
       " 'food really nice ambient best hot toddy town fish fresh open air sitting area centre quite relaxing however also shaded sitting arrangements first floor overall nice place visit weekends',\n",
       " 'great night thank suman hosting us great night craft awesome people visiting try pizza craft beer definitely visit',\n",
       " 'place great food music ambience fine brewery well itã\\x83\\x83ã\\x82\\x83ã\\x83\\x82ã\\x82\\x83ã\\x83\\x83ã\\x82\\x82ã\\x83\\x82ã\\x82â¢ã\\x83\\x83ã\\x82\\x83ã\\x83\\x82ã\\x82\\x82ã\\x83\\x83ã\\x82\\x82ã\\x83\\x82ã\\x82\\x80ã\\x83\\x83ã\\x82\\x83ã\\x83\\x82ã\\x82\\x82ã\\x83\\x83ã\\x82\\x82ã\\x83\\x82ã\\x82\\x99s pretty big crowded however staff attentive responsive kudos dj excellent great collection',\n",
       " \"well long time wait finally made biergarten heard place lot n't disappointed either great service really quick orders food ordered chicken nachos definitely great one felt best one biergarten chicken wings 's really taste delicious ordered pepper chicken tikka also great overall valued money ambience also superb importantly craft beer love wheat beer always ã\\x83\\x83ã\\x82\\x83ã\\x83\\x82ã\\x82\\x83ã\\x83\\x83ã\\x82\\x82ã\\x83\\x82ã\\x82â°ã\\x83\\x83ã\\x82\\x83ã\\x83\\x82ã\\x82\\x82ã\\x83\\x83ã\\x82\\x82ã\\x83\\x82ã\\x82\\x9fã\\x83\\x83ã\\x82\\x83ã\\x83\\x82ã\\x82\\x82ã\\x83\\x83ã\\x82\\x82ã\\x83\\x82ã\\x82\\x92ã\\x83\\x83ã\\x82\\x83ã\\x83\\x82ã\\x82\\x82ã\\x83\\x83ã\\x82\\x82ã\\x83\\x82ã\\x82â¯ keep good work definitely visit dishes never gave five star yet zommato restaurant feel give next visit exploring some\",\n",
       " 'food really nice ambient best hot toddy town fish fresh open air sitting area centre quite relaxing however also shaded sitting arrangements first floor overall nice place visit weekends',\n",
       " 'great night thank suman hosting us great night craft awesome people visiting try pizza craft beer definitely visit',\n",
       " 'heard place lot friends colleagues finally thought giving go place not disappoint ambiance drinks tried wheat ipa food everything almost pitch perfect chicken nachos herb fish fingers went well drinks food really great something find pubs struggle topped dj tuning bollywood punjabi numbers bit late night lively place hangout friends',\n",
       " 'went lunch tried non-veg platter bbq chicken wings fish seekh kebab malai tikka also tried mac n cheese pasta variety cheese famous wheat beer food good place looks amazing ambience nice',\n",
       " 'loved ambience service provided enjoyed ã\\x83\\x83ã\\x82\\x83ã\\x83\\x82ã\\x82\\x83ã\\x83\\x83ã\\x82\\x82ã\\x83\\x82ã\\x82â°ã\\x83\\x83ã\\x82\\x83ã\\x83\\x82ã\\x82\\x82ã\\x83\\x83ã\\x82\\x82ã\\x83\\x82ã\\x82\\x9fã\\x83\\x83ã\\x82\\x83ã\\x83\\x82ã\\x82\\x82ã\\x83\\x83ã\\x82\\x82ã\\x83\\x82ã\\x82\\x8dã\\x83\\x83ã\\x82\\x83ã\\x83\\x82ã\\x82\\x82ã\\x83\\x83ã\\x82\\x82ã\\x83\\x82ã\\x82âº try lively decent crowd would definitely visit place brewed beers ã\\x83\\x83ã\\x82\\x83ã\\x83\\x82ã\\x82\\x83ã\\x83\\x83ã\\x82\\x82ã\\x83\\x82ã\\x82â°ã\\x83\\x83ã\\x82\\x83ã\\x83\\x82ã\\x82\\x82ã\\x83\\x83ã\\x82\\x82ã\\x83\\x82ã\\x82\\x9fã\\x83\\x83ã\\x82\\x83ã\\x83\\x82ã\\x82\\x82ã\\x83\\x83ã\\x82\\x82ã\\x83\\x82ã\\x82\\x99ã\\x83\\x83ã\\x82\\x83ã\\x83\\x82ã\\x82\\x82ã\\x83\\x83ã\\x82\\x82ã\\x83\\x82ã\\x82\\x82ã\\x83\\x83ã\\x82\\x83ã\\x83\\x82ã\\x82\\x83ã\\x83\\x83ã\\x82\\x82ã\\x83\\x82ã\\x82â¢ã\\x83\\x83ã\\x82\\x83ã\\x83\\x82ã\\x82\\x82ã\\x83\\x83ã\\x82\\x82ã\\x83\\x82ã\\x82\\x98ã\\x83\\x83ã\\x82\\x83ã\\x83\\x82ã\\x82\\x82ã\\x83\\x83ã\\x82\\x82ã\\x83\\x82ã\\x82âºã\\x83\\x83ã\\x82\\x83ã\\x83\\x82ã\\x82\\x83ã\\x83\\x83ã\\x82\\x82ã\\x83\\x82ã\\x82â¯ã\\x83\\x83ã\\x82\\x83ã\\x83\\x82ã\\x82\\x82ã\\x83\\x83ã\\x82\\x82ã\\x83\\x82ã\\x82â¸ã\\x83\\x83ã\\x82\\x83ã\\x83\\x82ã\\x82\\x82ã\\x83\\x83ã\\x82\\x82ã\\x83\\x82ã\\x82\\x8fã\\x83\\x83ã\\x82\\x83ã\\x83\\x82ã\\x82\\x83ã\\x83\\x83ã\\x82\\x82ã\\x83\\x82ã\\x82â°ã\\x83\\x83ã\\x82\\x83ã\\x83\\x82ã\\x82\\x82ã\\x83\\x83ã\\x82\\x82ã\\x83\\x82ã\\x82\\x9fã\\x83\\x83ã\\x82\\x83ã\\x83\\x82ã\\x82\\x82ã\\x83\\x83ã\\x82\\x82ã\\x83\\x82ã\\x82\\x99ã\\x83\\x83ã\\x82\\x83ã\\x83\\x82ã\\x82\\x82ã\\x83\\x83ã\\x82\\x82ã\\x83\\x82ã\\x82\\x83ã\\x83\\x83ã\\x82\\x83ã\\x83\\x82ã\\x82\\x83ã\\x83\\x83ã\\x82\\x82ã\\x83\\x82ã\\x82â°ã\\x83\\x83ã\\x82\\x83ã\\x83\\x82ã\\x82\\x82ã\\x83\\x83ã\\x82\\x82ã\\x83\\x82ã\\x82\\x9fã\\x83\\x83ã\\x82\\x83ã\\x83\\x82ã\\x82\\x82ã\\x83\\x83ã\\x82\\x82ã\\x83\\x82ã\\x82\\x99ã\\x83\\x83ã\\x82\\x83ã\\x83\\x82ã\\x82\\x82ã\\x83\\x83ã\\x82\\x82ã\\x83\\x82ã\\x82\\x82',\n",
       " 'ambience 5/5 service 4.5/5 food 5/5 amazing ambience planning place long time went dinner friend tried summer mocktail mango based guava chillo mocktail guava chilli starters chicken tikka prawns ghee roast upvote 200 tried chicken tikka pizza also good try go group 4 else higher quantity ppl 2',\n",
       " \"today went place quick post lunch chit chat mug beer may not comprehensive review considering nature visit definitely first impression first things first place microbrewery good lounge space ordered beer testers first time finally settled wheat beer finally ended repeating beer though initial idea 1 beer anyways beer good service ordered nachos nothing much talk food one thing mention location metro construction going right front place looks little messy outside vallet parking cars bikers park space footpath property wall would visit detailed review say 's good place hang\",\n",
       " 'heard place lot friends colleagues finally thought giving go place not disappoint ambiance drinks tried wheat ipa food everything almost pitch perfect chicken nachos herb fish fingers went well drinks food really great something find pubs struggle topped dj tuning bollywood punjabi numbers bit late night lively place hangout friends',\n",
       " 'went lunch tried non-veg platter bbq chicken wings fish seekh kebab malai tikka also tried mac n cheese pasta variety cheese famous wheat beer food good place looks amazing ambience nice',\n",
       " 'loved ambience service provided enjoyed ã\\x83\\x83ã\\x82\\x83ã\\x83\\x82ã\\x82\\x83ã\\x83\\x83ã\\x82\\x82ã\\x83\\x82ã\\x82â°ã\\x83\\x83ã\\x82\\x83ã\\x83\\x82ã\\x82\\x82ã\\x83\\x83ã\\x82\\x82ã\\x83\\x82ã\\x82\\x9fã\\x83\\x83ã\\x82\\x83ã\\x83\\x82ã\\x82\\x82ã\\x83\\x83ã\\x82\\x82ã\\x83\\x82ã\\x82\\x8dã\\x83\\x83ã\\x82\\x83ã\\x83\\x82ã\\x82\\x82ã\\x83\\x83ã\\x82\\x82ã\\x83\\x82ã\\x82âº try lively decent crowd would definitely visit place brewed beers ã\\x83\\x83ã\\x82\\x83ã\\x83\\x82ã\\x82\\x83ã\\x83\\x83ã\\x82\\x82ã\\x83\\x82ã\\x82â°ã\\x83\\x83ã\\x82\\x83ã\\x83\\x82ã\\x82\\x82ã\\x83\\x83ã\\x82\\x82ã\\x83\\x82ã\\x82\\x9fã\\x83\\x83ã\\x82\\x83ã\\x83\\x82ã\\x82\\x82ã\\x83\\x83ã\\x82\\x82ã\\x83\\x82ã\\x82\\x99ã\\x83\\x83ã\\x82\\x83ã\\x83\\x82ã\\x82\\x82ã\\x83\\x83ã\\x82\\x82ã\\x83\\x82ã\\x82\\x82ã\\x83\\x83ã\\x82\\x83ã\\x83\\x82ã\\x82\\x83ã\\x83\\x83ã\\x82\\x82ã\\x83\\x82ã\\x82â¢ã\\x83\\x83ã\\x82\\x83ã\\x83\\x82ã\\x82\\x82ã\\x83\\x83ã\\x82\\x82ã\\x83\\x82ã\\x82\\x98ã\\x83\\x83ã\\x82\\x83ã\\x83\\x82ã\\x82\\x82ã\\x83\\x83ã\\x82\\x82ã\\x83\\x82ã\\x82âºã\\x83\\x83ã\\x82\\x83ã\\x83\\x82ã\\x82\\x83ã\\x83\\x83ã\\x82\\x82ã\\x83\\x82ã\\x82â¯ã\\x83\\x83ã\\x82\\x83ã\\x83\\x82ã\\x82\\x82ã\\x83\\x83ã\\x82\\x82ã\\x83\\x82ã\\x82â¸ã\\x83\\x83ã\\x82\\x83ã\\x83\\x82ã\\x82\\x82ã\\x83\\x83ã\\x82\\x82ã\\x83\\x82ã\\x82\\x8fã\\x83\\x83ã\\x82\\x83ã\\x83\\x82ã\\x82\\x83ã\\x83\\x83ã\\x82\\x82ã\\x83\\x82ã\\x82â°ã\\x83\\x83ã\\x82\\x83ã\\x83\\x82ã\\x82\\x82ã\\x83\\x83ã\\x82\\x82ã\\x83\\x82ã\\x82\\x9fã\\x83\\x83ã\\x82\\x83ã\\x83\\x82ã\\x82\\x82ã\\x83\\x83ã\\x82\\x82ã\\x83\\x82ã\\x82\\x99ã\\x83\\x83ã\\x82\\x83ã\\x83\\x82ã\\x82\\x82ã\\x83\\x83ã\\x82\\x82ã\\x83\\x82ã\\x82\\x83ã\\x83\\x83ã\\x82\\x83ã\\x83\\x82ã\\x82\\x83ã\\x83\\x83ã\\x82\\x82ã\\x83\\x82ã\\x82â°ã\\x83\\x83ã\\x82\\x83ã\\x83\\x82ã\\x82\\x82ã\\x83\\x83ã\\x82\\x82ã\\x83\\x82ã\\x82\\x9fã\\x83\\x83ã\\x82\\x83ã\\x83\\x82ã\\x82\\x82ã\\x83\\x83ã\\x82\\x82ã\\x83\\x82ã\\x82\\x99ã\\x83\\x83ã\\x82\\x83ã\\x83\\x82ã\\x82\\x82ã\\x83\\x83ã\\x82\\x82ã\\x83\\x82ã\\x82\\x82',\n",
       " 'ambience 5/5 service 4.5/5 food 5/5 amazing ambience planning place long time went dinner friend tried summer mocktail mango based guava chillo mocktail guava chilli starters chicken tikka prawns ghee roast upvote 200 tried chicken tikka pizza also good try go group 4 else higher quantity ppl 2',\n",
       " \"today went place quick post lunch chit chat mug beer may not comprehensive review considering nature visit definitely first impression first things first place microbrewery good lounge space ordered beer testers first time finally settled wheat beer finally ended repeating beer though initial idea 1 beer anyways beer good service ordered nachos nothing much talk food one thing mention location metro construction going right front place looks little messy outside vallet parking cars bikers park space footpath property wall would visit detailed review say 's good place hang\",\n",
       " 'biergarten microbrewery cum lounge quite located vicinity whitefield ambience great vibrant outdoor sitting arrangement gives quite refreshing experience chilly breeze going past food good loved grilled salmon salad gai yang good main course option prefer bit oriental cuisine grilled chicken breast bit bland disappointing description dish menu doesnã\\x83\\x83ã\\x82\\x83ã\\x83\\x82ã\\x82\\x83ã\\x83\\x83ã\\x82\\x82ã\\x83\\x82ã\\x82â¢ã\\x83\\x83ã\\x82\\x83ã\\x83\\x82ã\\x82\\x82ã\\x83\\x83ã\\x82\\x82ã\\x83\\x82ã\\x82\\x80ã\\x83\\x83ã\\x82\\x83ã\\x83\\x82ã\\x82\\x82ã\\x83\\x83ã\\x82\\x82ã\\x83\\x82ã\\x82\\x99t match actual one much cheese entire dish outburst excess cheese starter good itã\\x83\\x83ã\\x82\\x83ã\\x83\\x82ã\\x82\\x83ã\\x83\\x83ã\\x82\\x82ã\\x83\\x82ã\\x82â¢ã\\x83\\x83ã\\x82\\x83ã\\x83\\x82ã\\x82\\x82ã\\x83\\x83ã\\x82\\x82ã\\x83\\x82ã\\x82\\x80ã\\x83\\x83ã\\x82\\x83ã\\x83\\x82ã\\x82\\x82ã\\x83\\x83ã\\x82\\x82ã\\x83\\x82ã\\x82\\x99s good place hangout catch old school friends',\n",
       " 'huge place open sky lot greenery inside absolutely undoubted place spend quality evening loaded cheese fries tandoori paneer tikka nachos awesome music loud good dance beats near seating spot services quick hospitable price also reasonable compared pubs one drawback crowded weekends guess every good thing comes price overall happening place large group party lovers',\n",
       " \"place located right main road makes accessible visited saturday night ambience looked amazing dj counter ground floor seatings 're available ground well first floor food- ordered pepper chicken tikka starter good taste flavor pepper prominent wish lil spices some toppings veggies came across lil blank plain also ordered potato wedges great quantity drinks- since place claims microbrewery ordered wheat beer dark beer beers amazing cheers that. one major dissapoitment came got know zomato gold not available day due some performance happening day mentioned zomato non less try\",\n",
       " 'located main road place easily reachable setup dj bar counter seating nicely done ordered couple cocktails beer drinks good food really good especially salads ã\\x83\\x83ã\\x82\\x83ã\\x83\\x82ã\\x82\\x83ã\\x83\\x83ã\\x82\\x82ã\\x83\\x82ã\\x82â°ã\\x83\\x83ã\\x82\\x83ã\\x83\\x82ã\\x82\\x82ã\\x83\\x83ã\\x82\\x82ã\\x83\\x82ã\\x82\\x9fã\\x83\\x83ã\\x82\\x83ã\\x83\\x82ã\\x82\\x82ã\\x83\\x83ã\\x82\\x82ã\\x83\\x82ã\\x82\\x91ã\\x83\\x83ã\\x82\\x83ã\\x83\\x82ã\\x82\\x82ã\\x83\\x83ã\\x82\\x82ã\\x83\\x82ã\\x82\\x8c overall nice time service decent problem reception reluctant provide table 1st floor visit around whitefieldã\\x83\\x83ã\\x82\\x83ã\\x83\\x82ã\\x82\\x83ã\\x83\\x83ã\\x82\\x82ã\\x83\\x82ã\\x82â¢ã\\x83\\x83ã\\x82\\x83ã\\x83\\x82ã\\x82\\x82ã\\x83\\x83ã\\x82\\x82ã\\x83\\x82ã\\x82\\x9cã\\x83\\x83ã\\x82\\x83ã\\x83\\x82ã\\x82\\x82ã\\x83\\x83ã\\x82\\x82ã\\x83\\x82ã\\x82\\x8cã\\x83\\x83ã\\x82\\x83ã\\x83\\x82ã\\x82\\x83ã\\x83\\x83ã\\x82\\x82ã\\x83\\x82ã\\x82â¯ã\\x83\\x83ã\\x82\\x83ã\\x83\\x82ã\\x82\\x82ã\\x83\\x83ã\\x82\\x82ã\\x83\\x82ã\\x82â¸ã\\x83\\x83ã\\x82\\x83ã\\x83\\x82ã\\x82\\x82ã\\x83\\x83ã\\x82\\x82ã\\x83\\x82ã\\x82\\x8f',\n",
       " 'biergarten microbrewery cum lounge quite located vicinity whitefield ambience great vibrant outdoor sitting arrangement gives quite refreshing experience chilly breeze going past food good loved grilled salmon salad gai yang good main course option prefer bit oriental cuisine grilled chicken breast bit bland disappointing description dish menu doesnã\\x83\\x83ã\\x82\\x83ã\\x83\\x82ã\\x82\\x83ã\\x83\\x83ã\\x82\\x82ã\\x83\\x82ã\\x82â¢ã\\x83\\x83ã\\x82\\x83ã\\x83\\x82ã\\x82\\x82ã\\x83\\x83ã\\x82\\x82ã\\x83\\x82ã\\x82\\x80ã\\x83\\x83ã\\x82\\x83ã\\x83\\x82ã\\x82\\x82ã\\x83\\x83ã\\x82\\x82ã\\x83\\x82ã\\x82\\x99t match actual one much cheese entire dish outburst excess cheese starter good itã\\x83\\x83ã\\x82\\x83ã\\x83\\x82ã\\x82\\x83ã\\x83\\x83ã\\x82\\x82ã\\x83\\x82ã\\x82â¢ã\\x83\\x83ã\\x82\\x83ã\\x83\\x82ã\\x82\\x82ã\\x83\\x83ã\\x82\\x82ã\\x83\\x82ã\\x82\\x80ã\\x83\\x83ã\\x82\\x83ã\\x83\\x82ã\\x82\\x82ã\\x83\\x83ã\\x82\\x82ã\\x83\\x82ã\\x82\\x99s good place hangout catch old school friends',\n",
       " 'huge place open sky lot greenery inside absolutely undoubted place spend quality evening loaded cheese fries tandoori paneer tikka nachos awesome music loud good dance beats near seating spot services quick hospitable price also reasonable compared pubs one drawback crowded weekends guess every good thing comes price overall happening place large group party lovers',\n",
       " \"place located right main road makes accessible visited saturday night ambience looked amazing dj counter ground floor seatings 're available ground well first floor food- ordered pepper chicken tikka starter good taste flavor pepper prominent wish lil spices some toppings veggies came across lil blank plain also ordered potato wedges great quantity drinks- since place claims microbrewery ordered wheat beer dark beer beers amazing cheers that. one major dissapoitment came got know zomato gold not available day due some performance happening day mentioned zomato non less try\",\n",
       " 'located main road place easily reachable setup dj bar counter seating nicely done ordered couple cocktails beer drinks good food really good especially salads ã\\x83\\x83ã\\x82\\x83ã\\x83\\x82ã\\x82\\x83ã\\x83\\x83ã\\x82\\x82ã\\x83\\x82ã\\x82â°ã\\x83\\x83ã\\x82\\x83ã\\x83\\x82ã\\x82\\x82ã\\x83\\x83ã\\x82\\x82ã\\x83\\x82ã\\x82\\x9fã\\x83\\x83ã\\x82\\x83ã\\x83\\x82ã\\x82\\x82ã\\x83\\x83ã\\x82\\x82ã\\x83\\x82ã\\x82\\x91ã\\x83\\x83ã\\x82\\x83ã\\x83\\x82ã\\x82\\x82ã\\x83\\x83ã\\x82\\x82ã\\x83\\x82ã\\x82\\x8c overall nice time service decent problem reception reluctant provide table 1st floor visit around whitefieldã\\x83\\x83ã\\x82\\x83ã\\x83\\x82ã\\x82\\x83ã\\x83\\x83ã\\x82\\x82ã\\x83\\x82ã\\x82â¢ã\\x83\\x83ã\\x82\\x83ã\\x83\\x82ã\\x82\\x82ã\\x83\\x83ã\\x82\\x82ã\\x83\\x82ã\\x82\\x9cã\\x83\\x83ã\\x82\\x83ã\\x83\\x82ã\\x82\\x82ã\\x83\\x83ã\\x82\\x82ã\\x83\\x82ã\\x82\\x8cã\\x83\\x83ã\\x82\\x83ã\\x83\\x82ã\\x82\\x83ã\\x83\\x83ã\\x82\\x82ã\\x83\\x82ã\\x82â¯ã\\x83\\x83ã\\x82\\x83ã\\x83\\x82ã\\x82\\x82ã\\x83\\x83ã\\x82\\x82ã\\x83\\x82ã\\x82â¸ã\\x83\\x83ã\\x82\\x83ã\\x83\\x82ã\\x82\\x82ã\\x83\\x83ã\\x82\\x82ã\\x83\\x82ã\\x82\\x8f',\n",
       " 'went saturday evening served loki helpful food ordered feta garlic mushroom bacon coated prawn mediterranean lasagne taste perfect music killing loved music thnks dj .. would love visit',\n",
       " 'services quite good .. coming food nad drinks awesome .. thanks loki services visit .. tried chilli drinks many places found best',\n",
       " 'place given day some best dishes try one finest brew houses food excellent comes hot table friendly staff takes care way one needs either carry mosquito repellent ask repellent coil placed table some days brew get quickly think need plan well brew lasts till place closed night music good check special events might catch good gig place',\n",
       " 'gone saturday lucky find place great place food awesome theme restaurant really good',\n",
       " 'went friday colleagues .. good time .. food amazing .. beers good too.try prawn garlic fry .. service great food 5/5 drinks 4/5 price :3/5',\n",
       " 'went saturday evening served loki helpful food ordered feta garlic mushroom bacon coated prawn mediterranean lasagne taste perfect music killing loved music thnks dj .. would love visit',\n",
       " 'services quite good .. coming food nad drinks awesome .. thanks loki services visit .. tried chilli drinks many places found best',\n",
       " 'place given day some best dishes try one finest brew houses food excellent comes hot table friendly staff takes care way one needs either carry mosquito repellent ask repellent coil placed table some days brew get quickly think need plan well brew lasts till place closed night music good check special events might catch good gig place',\n",
       " 'gone saturday lucky find place great place food awesome theme restaurant really good',\n",
       " 'went friday colleagues .. good time .. food amazing .. beers good too.try prawn garlic fry .. service great food 5/5 drinks 4/5 price :3/5',\n",
       " 'goto place anyone wants sit back listen good music drink good beer wheat beer excellent panfried noodles visit around itpl',\n",
       " 'loved open air ambiance place green every loved music food beers happening place party ideally large groups',\n",
       " 'biergarten bas famous drinks food menu gathered no less attention try visit tried biergarten chicken wings fiery barbeque chicken wings signature specialty place richly marinated garlic lemon cooked till turned juicy tender paprika sauce served along wings brought taste another high ã\\x83\\x83ã\\x82\\x83ã\\x83\\x82ã\\x82\\x83ã\\x83\\x83ã\\x82\\x82ã\\x83\\x82ã\\x82â°ã\\x83\\x83ã\\x82\\x83ã\\x83\\x82ã\\x82\\x82ã\\x83\\x83ã\\x82\\x82ã\\x83\\x82ã\\x82\\x9fã\\x83\\x83ã\\x82\\x83ã\\x83\\x82ã\\x82\\x82ã\\x83\\x83ã\\x82\\x82ã\\x83\\x82ã\\x82\\x98ã\\x83\\x83ã\\x82\\x83ã\\x83\\x82ã\\x82\\x82ã\\x83\\x83ã\\x82\\x82ã\\x83\\x82ã\\x82\\x8bã\\x83\\x83ã\\x82\\x83ã\\x83\\x82ã\\x82\\x83ã\\x83\\x83ã\\x82\\x82ã\\x83\\x82ã\\x82â¢ã\\x83\\x83ã\\x82\\x83ã\\x83\\x82ã\\x82\\x82ã\\x83\\x83ã\\x82\\x82ã\\x83\\x82ã\\x82\\x9dã\\x83\\x83ã\\x82\\x83ã\\x83\\x82ã\\x82\\x82ã\\x83\\x83ã\\x82\\x82ã\\x83\\x82ã\\x82â¤ customer service friendly prices bit higher end compared quantity served ambience beautifully lit overall amazing place follow thefoodiecosmos moreã\\x83\\x83ã\\x82\\x83ã\\x83\\x82ã\\x82\\x83ã\\x83\\x83ã\\x82\\x82ã\\x83\\x82ã\\x82â°ã\\x83\\x83ã\\x82\\x83ã\\x83\\x82ã\\x82\\x82ã\\x83\\x83ã\\x82\\x82ã\\x83\\x82ã\\x82\\x9fã\\x83\\x83ã\\x82\\x83ã\\x83\\x82ã\\x82\\x82ã\\x83\\x83ã\\x82\\x82ã\\x83\\x82ã\\x82\\x92ã\\x83\\x83ã\\x82\\x83ã\\x83\\x82ã\\x82\\x82ã\\x83\\x83ã\\x82\\x82ã\\x83\\x82ã\\x82\\x95 thefoodiecosmos food foodporn foodblogger chicken barbeque wings chickenwings spicy nonveg bangalore bengaluru bangalorediaries bangaloreblogger nammabengaluru bangalorefoodies',\n",
       " 'deepak dabnath outstanding servecing .... osmded placeã\\x83\\x83ã\\x82\\x83ã\\x83\\x82ã\\x82\\x83ã\\x83\\x83ã\\x82\\x82ã\\x83\\x82ã\\x82â°ã\\x83\\x83ã\\x82\\x83ã\\x83\\x82ã\\x82\\x82ã\\x83\\x83ã\\x82\\x82ã\\x83\\x82ã\\x82\\x9fã\\x83\\x83ã\\x82\\x83ã\\x83\\x82ã\\x82\\x82ã\\x83\\x83ã\\x82\\x82ã\\x83\\x82ã\\x82\\x98ã\\x83\\x83ã\\x82\\x83ã\\x83\\x82ã\\x82\\x82ã\\x83\\x83ã\\x82\\x82ã\\x83\\x82ã\\x82\\x8d pizza butter chiken drink servered well .... particular time .. no time lapsd',\n",
       " 'awesome place best food best beer ipa brown ale top notch food excellent guy loki serving us made sure service top-notch',\n",
       " 'goto place anyone wants sit back listen good music drink good beer wheat beer excellent panfried noodles visit around itpl',\n",
       " 'loved open air ambiance place green every loved music food beers happening place party ideally large groups',\n",
       " 'biergarten bas famous drinks food menu gathered no less attention try visit tried biergarten chicken wings fiery barbeque chicken wings signature specialty place richly marinated garlic lemon cooked till turned juicy tender paprika sauce served along wings brought taste another high ã\\x83\\x83ã\\x82\\x83ã\\x83\\x82ã\\x82\\x83ã\\x83\\x83ã\\x82\\x82ã\\x83\\x82ã\\x82â°ã\\x83\\x83ã\\x82\\x83ã\\x83\\x82ã\\x82\\x82ã\\x83\\x83ã\\x82\\x82ã\\x83\\x82ã\\x82\\x9fã\\x83\\x83ã\\x82\\x83ã\\x83\\x82ã\\x82\\x82ã\\x83\\x83ã\\x82\\x82ã\\x83\\x82ã\\x82\\x98ã\\x83\\x83ã\\x82\\x83ã\\x83\\x82ã\\x82\\x82ã\\x83\\x83ã\\x82\\x82ã\\x83\\x82ã\\x82\\x8bã\\x83\\x83ã\\x82\\x83ã\\x83\\x82ã\\x82\\x83ã\\x83\\x83ã\\x82\\x82ã\\x83\\x82ã\\x82â¢ã\\x83\\x83ã\\x82\\x83ã\\x83\\x82ã\\x82\\x82ã\\x83\\x83ã\\x82\\x82ã\\x83\\x82ã\\x82\\x9dã\\x83\\x83ã\\x82\\x83ã\\x83\\x82ã\\x82\\x82ã\\x83\\x83ã\\x82\\x82ã\\x83\\x82ã\\x82â¤ customer service friendly prices bit higher end compared quantity served ambience beautifully lit overall amazing place follow thefoodiecosmos moreã\\x83\\x83ã\\x82\\x83ã\\x83\\x82ã\\x82\\x83ã\\x83\\x83ã\\x82\\x82ã\\x83\\x82ã\\x82â°ã\\x83\\x83ã\\x82\\x83ã\\x83\\x82ã\\x82\\x82ã\\x83\\x83ã\\x82\\x82ã\\x83\\x82ã\\x82\\x9fã\\x83\\x83ã\\x82\\x83ã\\x83\\x82ã\\x82\\x82ã\\x83\\x83ã\\x82\\x82ã\\x83\\x82ã\\x82\\x92ã\\x83\\x83ã\\x82\\x83ã\\x83\\x82ã\\x82\\x82ã\\x83\\x83ã\\x82\\x82ã\\x83\\x82ã\\x82\\x95 thefoodiecosmos food foodporn foodblogger chicken barbeque wings chickenwings spicy nonveg bangalore bengaluru bangalorediaries bangaloreblogger nammabengaluru bangalorefoodies',\n",
       " 'deepak dabnath outstanding servecing .... osmded placeã\\x83\\x83ã\\x82\\x83ã\\x83\\x82ã\\x82\\x83ã\\x83\\x83ã\\x82\\x82ã\\x83\\x82ã\\x82â°ã\\x83\\x83ã\\x82\\x83ã\\x83\\x82ã\\x82\\x82ã\\x83\\x83ã\\x82\\x82ã\\x83\\x82ã\\x82\\x9fã\\x83\\x83ã\\x82\\x83ã\\x83\\x82ã\\x82\\x82ã\\x83\\x83ã\\x82\\x82ã\\x83\\x82ã\\x82\\x98ã\\x83\\x83ã\\x82\\x83ã\\x83\\x82ã\\x82\\x82ã\\x83\\x83ã\\x82\\x82ã\\x83\\x82ã\\x82\\x8d pizza butter chiken drink servered well .... particular time .. no time lapsd',\n",
       " 'awesome place best food best beer ipa brown ale top notch food excellent guy loki serving us made sure service top-notch',\n",
       " 'visited bier garten not much expectations turned service good people courteous suman specially good knowledge food offer quick suggest items exhaustive starters menu kudos team',\n",
       " 'one popular beer cafes bangalore loved ambience set-up good options food apart of-course variety spirits offer good place catch friends post hard day work unwind',\n",
       " 'great place wonderful ambience helpful staff mr tapan served great delight food good looking forward visit',\n",
       " 'friendly place great service thanks suman served us well great food loved ambience desserts best great time',\n",
       " \"hand one beautiful place whitefieldã\\x83\\x83ã\\x82\\x83ã\\x83\\x82ã\\x82\\x83ã\\x83\\x83ã\\x82\\x82ã\\x83\\x82ã\\x82â°ã\\x83\\x83ã\\x82\\x83ã\\x83\\x82ã\\x82\\x82ã\\x83\\x83ã\\x82\\x82ã\\x83\\x82ã\\x82\\x9fã\\x83\\x83ã\\x82\\x83ã\\x83\\x82ã\\x82\\x82ã\\x83\\x83ã\\x82\\x82ã\\x83\\x82ã\\x82â¤ã\\x83\\x83ã\\x82\\x83ã\\x83\\x82ã\\x82\\x82ã\\x83\\x83ã\\x82\\x82ã\\x83\\x82ã\\x82\\x99 beautiful themed ambience grasps attention clearly welcomed staff well also given good suggestion choose wide meal section ordered fried noodles soya bean sause prawn ghee roast literally spellbound taste buds never tried something soo exquisite loki served us dish understanding needs helped us well overall stay parcel tooã\\x83\\x83ã\\x82\\x83ã\\x83\\x82ã\\x82\\x83ã\\x83\\x83ã\\x82\\x82ã\\x83\\x82ã\\x82â°ã\\x83\\x83ã\\x82\\x83ã\\x83\\x82ã\\x82\\x82ã\\x83\\x83ã\\x82\\x82ã\\x83\\x82ã\\x82\\x9fã\\x83\\x83ã\\x82\\x83ã\\x83\\x82ã\\x82\\x82ã\\x83\\x83ã\\x82\\x82ã\\x83\\x82ã\\x82\\x98ã\\x83\\x83ã\\x82\\x83ã\\x83\\x82ã\\x82\\x82ã\\x83\\x83ã\\x82\\x82ã\\x83\\x82ã\\x82\\x80 's ample parking spot easy locate phoenix mall overall visit people date throwing birthday bash place huge accomodate crowdã\\x83\\x83ã\\x82\\x83ã\\x83\\x82ã\\x82\\x83ã\\x83\\x83ã\\x82\\x82ã\\x83\\x82ã\\x82â°ã\\x83\\x83ã\\x82\\x83ã\\x83\\x82ã\\x82\\x82ã\\x83\\x83ã\\x82\\x82ã\\x83\\x82ã\\x82\\x9fã\\x83\\x83ã\\x82\\x83ã\\x83\\x82ã\\x82\\x82ã\\x83\\x83ã\\x82\\x82ã\\x83\\x82ã\\x82â¥ã\\x83\\x83ã\\x82\\x83ã\\x83\\x82ã\\x82\\x82ã\\x83\\x83ã\\x82\\x82ã\\x83\\x82ã\\x82\\x82\",\n",
       " 'visited bier garten not much expectations turned service good people courteous suman specially good knowledge food offer quick suggest items exhaustive starters menu kudos team',\n",
       " 'one popular beer cafes bangalore loved ambience set-up good options food apart of-course variety spirits offer good place catch friends post hard day work unwind',\n",
       " 'great place wonderful ambience helpful staff mr tapan served great delight food good looking forward visit',\n",
       " 'friendly place great service thanks suman served us well great food loved ambience desserts best great time',\n",
       " \"hand one beautiful place whitefieldã\\x83\\x83ã\\x82\\x83ã\\x83\\x82ã\\x82\\x83ã\\x83\\x83ã\\x82\\x82ã\\x83\\x82ã\\x82â°ã\\x83\\x83ã\\x82\\x83ã\\x83\\x82ã\\x82\\x82ã\\x83\\x83ã\\x82\\x82ã\\x83\\x82ã\\x82\\x9fã\\x83\\x83ã\\x82\\x83ã\\x83\\x82ã\\x82\\x82ã\\x83\\x83ã\\x82\\x82ã\\x83\\x82ã\\x82â¤ã\\x83\\x83ã\\x82\\x83ã\\x83\\x82ã\\x82\\x82ã\\x83\\x83ã\\x82\\x82ã\\x83\\x82ã\\x82\\x99 beautiful themed ambience grasps attention clearly welcomed staff well also given good suggestion choose wide meal section ordered fried noodles soya bean sause prawn ghee roast literally spellbound taste buds never tried something soo exquisite loki served us dish understanding needs helped us well overall stay parcel tooã\\x83\\x83ã\\x82\\x83ã\\x83\\x82ã\\x82\\x83ã\\x83\\x83ã\\x82\\x82ã\\x83\\x82ã\\x82â°ã\\x83\\x83ã\\x82\\x83ã\\x83\\x82ã\\x82\\x82ã\\x83\\x83ã\\x82\\x82ã\\x83\\x82ã\\x82\\x9fã\\x83\\x83ã\\x82\\x83ã\\x83\\x82ã\\x82\\x82ã\\x83\\x83ã\\x82\\x82ã\\x83\\x82ã\\x82\\x98ã\\x83\\x83ã\\x82\\x83ã\\x83\\x82ã\\x82\\x82ã\\x83\\x83ã\\x82\\x82ã\\x83\\x82ã\\x82\\x80 's ample parking spot easy locate phoenix mall overall visit people date throwing birthday bash place huge accomodate crowdã\\x83\\x83ã\\x82\\x83ã\\x83\\x82ã\\x82\\x83ã\\x83\\x83ã\\x82\\x82ã\\x83\\x82ã\\x82â°ã\\x83\\x83ã\\x82\\x83ã\\x83\\x82ã\\x82\\x82ã\\x83\\x83ã\\x82\\x82ã\\x83\\x82ã\\x82\\x9fã\\x83\\x83ã\\x82\\x83ã\\x83\\x82ã\\x82\\x82ã\\x83\\x83ã\\x82\\x82ã\\x83\\x82ã\\x82â¥ã\\x83\\x83ã\\x82\\x83ã\\x83\\x82ã\\x82\\x82ã\\x83\\x83ã\\x82\\x82ã\\x83\\x82ã\\x82\\x82\",\n",
       " \"place serves one best craft beers bangalore another perfect pub saturday night ambience good apart booze food also classy tasty 's visit place craft beer lovers\",\n",
       " \"place really good even food however one star rating fact not serviced even minimal level first put corner place transit room waiting parties happened despite booking every group came us alloted proper place 1st floor open area n't suffocating us even sustain alloted wait place near kitchen worse experience customer experience deserved zero star rating alas 's not possible zomato\",\n",
       " 'really good service pepper chicken really well cooked fish finger delicious ipa really tasty deepak best',\n",
       " 'friends birthday already super excited 4.6 rating zomato place not comforts breathtaking ambience serve mouthwatering good ordered chicken ghee roast chilly mushroom pasta vodka sample wines chicken tikka pizza etc waiter supportive recommended us best options items 4.5 rating visit place loved drinks cheers',\n",
       " \"place serves one best craft beers bangalore another perfect pub saturday night ambience good apart booze food also classy tasty 's visit place craft beer lovers\",\n",
       " \"place really good even food however one star rating fact not serviced even minimal level first put corner place transit room waiting parties happened despite booking every group came us alloted proper place 1st floor open area n't suffocating us even sustain alloted wait place near kitchen worse experience customer experience deserved zero star rating alas 's not possible zomato\",\n",
       " 'really good service pepper chicken really well cooked fish finger delicious ipa really tasty deepak best',\n",
       " 'friends birthday already super excited 4.6 rating zomato place not comforts breathtaking ambience serve mouthwatering good ordered chicken ghee roast chilly mushroom pasta vodka sample wines chicken tikka pizza etc waiter supportive recommended us best options items 4.5 rating visit place loved drinks cheers',\n",
       " 'good ambiance nice food happening people try rainbow shots place usually crowded weekends still service quick',\n",
       " 'taste buds satisfaction guaranteed ordered some 10+ starters wasnã\\x83\\x83ã\\x82\\x83ã\\x83\\x82ã\\x82\\x83ã\\x83\\x83ã\\x82\\x82ã\\x83\\x82ã\\x82â¢ã\\x83\\x83ã\\x82\\x83ã\\x83\\x82ã\\x82\\x82ã\\x83\\x83ã\\x82\\x82ã\\x83\\x82ã\\x82\\x80ã\\x83\\x83ã\\x82\\x83ã\\x83\\x82ã\\x82\\x82ã\\x83\\x83ã\\x82\\x82ã\\x83\\x82ã\\x82\\x99t single item could ignore delicious ã\\x83\\x83ã\\x82\\x83ã\\x83\\x82ã\\x82\\x83ã\\x83\\x83ã\\x82\\x82ã\\x83\\x82ã\\x82â°ã\\x83\\x83ã\\x82\\x83ã\\x83\\x82ã\\x82\\x82ã\\x83\\x83ã\\x82\\x82ã\\x83\\x82ã\\x82\\x9fã\\x83\\x83ã\\x82\\x83ã\\x83\\x82ã\\x82\\x82ã\\x83\\x83ã\\x82\\x82ã\\x83\\x82ã\\x82\\x98ã\\x83\\x83ã\\x82\\x83ã\\x83\\x82ã\\x82\\x82ã\\x83\\x83ã\\x82\\x82ã\\x83\\x82ã\\x82\\x8b late review not sure names assure everything order amazing nachos vada pav paneer patakha etc bad throat didnã\\x83\\x83ã\\x82\\x83ã\\x83\\x82ã\\x82\\x83ã\\x83\\x83ã\\x82\\x82ã\\x83\\x82ã\\x82â¢ã\\x83\\x83ã\\x82\\x83ã\\x83\\x82ã\\x82\\x82ã\\x83\\x83ã\\x82\\x82ã\\x83\\x82ã\\x82\\x80ã\\x83\\x83ã\\x82\\x83ã\\x83\\x82ã\\x82\\x82ã\\x83\\x83ã\\x82\\x82ã\\x83\\x82ã\\x82\\x99t try beer give shot next visit ã\\x83\\x83ã\\x82\\x83ã\\x83\\x82ã\\x82\\x83ã\\x83\\x83ã\\x82\\x82ã\\x83\\x82ã\\x82â°ã\\x83\\x83ã\\x82\\x83ã\\x83\\x82ã\\x82\\x82ã\\x83\\x83ã\\x82\\x82ã\\x83\\x82ã\\x82\\x9fã\\x83\\x83ã\\x82\\x83ã\\x83\\x82ã\\x82\\x82ã\\x83\\x83ã\\x82\\x82ã\\x83\\x82ã\\x82\\x8dã\\x83\\x83ã\\x82\\x83ã\\x83\\x82ã\\x82\\x82ã\\x83\\x83ã\\x82\\x82ã\\x83\\x82ã\\x82âºã\\x83\\x83ã\\x82\\x83ã\\x83\\x82ã\\x82\\x83ã\\x83\\x83ã\\x82\\x82ã\\x83\\x82ã\\x82â°ã\\x83\\x83ã\\x82\\x83ã\\x83\\x82ã\\x82\\x82ã\\x83\\x83ã\\x82\\x82ã\\x83\\x82ã\\x82\\x9fã\\x83\\x83ã\\x82\\x83ã\\x83\\x82ã\\x82\\x82ã\\x83\\x83ã\\x82\\x82ã\\x83\\x82ã\\x82\\x8dã\\x83\\x83ã\\x82\\x83ã\\x83\\x82ã\\x82\\x82ã\\x83\\x83ã\\x82\\x82ã\\x83\\x82ã\\x82âº',\n",
       " 'one best places whitefield staff friendly visit place craft beer lovers food- nachos lamb shoulder amazing beverage- ipa really good surely visit',\n",
       " \"great place hang classy comfy ambience tried normal liit n't liquid nitrogen n't worry seeing menu some veg non-veg starters liit great one best bangalore starters amazing try beer next time\",\n",
       " 'biergarten great experience one best breweries bangalore biergarten chicken wings some best wings city herbed fish fingers exquisite best way start meal german sausage bacon pizza pulled polled burger also tasty nasy goreng different experience like indonesian flavors surely like server debosis also extremely helpful made visit memorable one definitely worth visit not',\n",
       " 'good ambiance nice food happening people try rainbow shots place usually crowded weekends still service quick',\n",
       " 'taste buds satisfaction guaranteed ordered some 10+ starters wasnã\\x83\\x83ã\\x82\\x83ã\\x83\\x82ã\\x82\\x83ã\\x83\\x83ã\\x82\\x82ã\\x83\\x82ã\\x82â¢ã\\x83\\x83ã\\x82\\x83ã\\x83\\x82ã\\x82\\x82ã\\x83\\x83ã\\x82\\x82ã\\x83\\x82ã\\x82\\x80ã\\x83\\x83ã\\x82\\x83ã\\x83\\x82ã\\x82\\x82ã\\x83\\x83ã\\x82\\x82ã\\x83\\x82ã\\x82\\x99t single item could ignore delicious ã\\x83\\x83ã\\x82\\x83ã\\x83\\x82ã\\x82\\x83ã\\x83\\x83ã\\x82\\x82ã\\x83\\x82ã\\x82â°ã\\x83\\x83ã\\x82\\x83ã\\x83\\x82ã\\x82\\x82ã\\x83\\x83ã\\x82\\x82ã\\x83\\x82ã\\x82\\x9fã\\x83\\x83ã\\x82\\x83ã\\x83\\x82ã\\x82\\x82ã\\x83\\x83ã\\x82\\x82ã\\x83\\x82ã\\x82\\x98ã\\x83\\x83ã\\x82\\x83ã\\x83\\x82ã\\x82\\x82ã\\x83\\x83ã\\x82\\x82ã\\x83\\x82ã\\x82\\x8b late review not sure names assure everything order amazing nachos vada pav paneer patakha etc bad throat didnã\\x83\\x83ã\\x82\\x83ã\\x83\\x82ã\\x82\\x83ã\\x83\\x83ã\\x82\\x82ã\\x83\\x82ã\\x82â¢ã\\x83\\x83ã\\x82\\x83ã\\x83\\x82ã\\x82\\x82ã\\x83\\x83ã\\x82\\x82ã\\x83\\x82ã\\x82\\x80ã\\x83\\x83ã\\x82\\x83ã\\x83\\x82ã\\x82\\x82ã\\x83\\x83ã\\x82\\x82ã\\x83\\x82ã\\x82\\x99t try beer give shot next visit ã\\x83\\x83ã\\x82\\x83ã\\x83\\x82ã\\x82\\x83ã\\x83\\x83ã\\x82\\x82ã\\x83\\x82ã\\x82â°ã\\x83\\x83ã\\x82\\x83ã\\x83\\x82ã\\x82\\x82ã\\x83\\x83ã\\x82\\x82ã\\x83\\x82ã\\x82\\x9fã\\x83\\x83ã\\x82\\x83ã\\x83\\x82ã\\x82\\x82ã\\x83\\x83ã\\x82\\x82ã\\x83\\x82ã\\x82\\x8dã\\x83\\x83ã\\x82\\x83ã\\x83\\x82ã\\x82\\x82ã\\x83\\x83ã\\x82\\x82ã\\x83\\x82ã\\x82âºã\\x83\\x83ã\\x82\\x83ã\\x83\\x82ã\\x82\\x83ã\\x83\\x83ã\\x82\\x82ã\\x83\\x82ã\\x82â°ã\\x83\\x83ã\\x82\\x83ã\\x83\\x82ã\\x82\\x82ã\\x83\\x83ã\\x82\\x82ã\\x83\\x82ã\\x82\\x9fã\\x83\\x83ã\\x82\\x83ã\\x83\\x82ã\\x82\\x82ã\\x83\\x83ã\\x82\\x82ã\\x83\\x82ã\\x82\\x8dã\\x83\\x83ã\\x82\\x83ã\\x83\\x82ã\\x82\\x82ã\\x83\\x83ã\\x82\\x82ã\\x83\\x82ã\\x82âº',\n",
       " 'one best places whitefield staff friendly visit place craft beer lovers food- nachos lamb shoulder amazing beverage- ipa really good surely visit',\n",
       " \"great place hang classy comfy ambience tried normal liit n't liquid nitrogen n't worry seeing menu some veg non-veg starters liit great one best bangalore starters amazing try beer next time\",\n",
       " 'biergarten great experience one best breweries bangalore biergarten chicken wings some best wings city herbed fish fingers exquisite best way start meal german sausage bacon pizza pulled polled burger also tasty nasy goreng different experience like indonesian flavors surely like server debosis also extremely helpful made visit memorable one definitely worth visit not',\n",
       " \"amazing place awesome food love nasi goreng warm date sticky toffee pudding 's one favorite overall food dam good kudos chef team one best collection beer one compliant service staff seem get carried away talking amongst quiet annoying especially u wan na order re-order like buzz kill one fav go place drink good food\",\n",
       " 'one nicest place whitefield .. taste beer great ambience also awesome tried malai chicken tikka ok ok pizza greatã\\x83\\x83ã\\x82\\x83ã\\x83\\x82ã\\x82\\x83ã\\x83\\x83ã\\x82\\x82ã\\x83\\x82ã\\x82â°ã\\x83\\x83ã\\x82\\x83ã\\x83\\x82ã\\x82\\x82ã\\x83\\x83ã\\x82\\x82ã\\x83\\x82ã\\x82\\x9fã\\x83\\x83ã\\x82\\x83ã\\x83\\x82ã\\x82\\x82ã\\x83\\x83ã\\x82\\x82ã\\x83\\x82ã\\x82\\x98ã\\x83\\x83ã\\x82\\x83ã\\x83\\x82ã\\x82\\x82ã\\x83\\x83ã\\x82\\x82ã\\x83\\x82ã\\x82\\x8bã\\x83\\x83ã\\x82\\x83ã\\x83\\x82ã\\x82\\x83ã\\x83\\x83ã\\x82\\x82ã\\x83\\x82ã\\x82â°ã\\x83\\x83ã\\x82\\x83ã\\x83\\x82ã\\x82\\x82ã\\x83\\x83ã\\x82\\x82ã\\x83\\x82ã\\x82\\x9fã\\x83\\x83ã\\x82\\x83ã\\x83\\x82ã\\x82\\x82ã\\x83\\x83ã\\x82\\x82ã\\x83\\x82ã\\x82\\x98ã\\x83\\x83ã\\x82\\x83ã\\x83\\x82ã\\x82\\x82ã\\x83\\x83ã\\x82\\x82ã\\x83\\x82ã\\x82\\x8d saturday night visited place place pretty much full luckily got seat first floor without booking thanks friendly staffsã\\x83\\x83ã\\x82\\x83ã\\x83\\x82ã\\x82\\x83ã\\x83\\x83ã\\x82\\x82ã\\x83\\x82ã\\x82â°ã\\x83\\x83ã\\x82\\x83ã\\x83\\x82ã\\x82\\x82ã\\x83\\x83ã\\x82\\x82ã\\x83\\x82ã\\x82\\x9fã\\x83\\x83ã\\x82\\x83ã\\x83\\x82ã\\x82\\x82ã\\x83\\x83ã\\x82\\x82ã\\x83\\x82ã\\x82â¤ã\\x83\\x83ã\\x82\\x83ã\\x83\\x82ã\\x82\\x82ã\\x83\\x83ã\\x82\\x82ã\\x83\\x82ã\\x82\\x97 projector playing live football ã\\x83\\x83ã\\x82\\x83ã\\x83\\x82ã\\x82\\x83ã\\x83\\x83ã\\x82\\x82ã\\x83\\x82ã\\x82â°ã\\x83\\x83ã\\x82\\x83ã\\x83\\x82ã\\x82\\x82ã\\x83\\x83ã\\x82\\x82ã\\x83\\x82ã\\x82\\x9fã\\x83\\x83ã\\x82\\x83ã\\x83\\x82ã\\x82\\x82ã\\x83\\x83ã\\x82\\x82ã\\x83\\x82ã\\x82\\x98ã\\x83\\x83ã\\x82\\x83ã\\x83\\x82ã\\x82\\x82ã\\x83\\x83ã\\x82\\x82ã\\x83\\x82ã\\x82\\x8dã\\x83\\x83ã\\x82\\x83ã\\x83\\x82ã\\x82\\x83ã\\x83\\x83ã\\x82\\x82ã\\x83\\x82ã\\x82â°ã\\x83\\x83ã\\x82\\x83ã\\x83\\x82ã\\x82\\x82ã\\x83\\x83ã\\x82\\x82ã\\x83\\x82ã\\x82\\x9fã\\x83\\x83ã\\x82\\x83ã\\x83\\x82ã\\x82\\x82ã\\x83\\x83ã\\x82\\x82ã\\x83\\x82ã\\x82\\x98ã\\x83\\x83ã\\x82\\x83ã\\x83\\x82ã\\x82\\x82ã\\x83\\x83ã\\x82\\x82ã\\x83\\x82ã\\x82\\x8d starting playing english songs pretty boring later started playing hindi songs awesome .. whitefield add place wishlist ã\\x83\\x83ã\\x82\\x83ã\\x83\\x82ã\\x82\\x83ã\\x83\\x83ã\\x82\\x82ã\\x83\\x82ã\\x82â°ã\\x83\\x83ã\\x82\\x83ã\\x83\\x82ã\\x82\\x82ã\\x83\\x83ã\\x82\\x82ã\\x83\\x82ã\\x82\\x9fã\\x83\\x83ã\\x82\\x83ã\\x83\\x82ã\\x82\\x82ã\\x83\\x83ã\\x82\\x82ã\\x83\\x82ã\\x82\\x98ã\\x83\\x83ã\\x82\\x83ã\\x83\\x82ã\\x82\\x82ã\\x83\\x83ã\\x82\\x82ã\\x83\\x82ã\\x82\\x81ã\\x83\\x83ã\\x82\\x83ã\\x83\\x82ã\\x82\\x83ã\\x83\\x83ã\\x82\\x82ã\\x83\\x82ã\\x82â°ã\\x83\\x83ã\\x82\\x83ã\\x83\\x82ã\\x82\\x82ã\\x83\\x83ã\\x82\\x82ã\\x83\\x82ã\\x82\\x9fã\\x83\\x83ã\\x82\\x83ã\\x83\\x82ã\\x82\\x82ã\\x83\\x83ã\\x82\\x82ã\\x83\\x82ã\\x82\\x98ã\\x83\\x83ã\\x82\\x83ã\\x83\\x82ã\\x82\\x82ã\\x83\\x83ã\\x82\\x82ã\\x83\\x82ã\\x82\\x81 one area feel enhanced waiter service may visited saturday night wait bit longer hold waiter. food:3.5/5 beer:5/5 staff:4/5 cost 2 beer 2000',\n",
       " 'new year eve place amazing food delicious ambience classy huge sitting area give try sometime soon',\n",
       " 'atmosphere completely lit special mention dj biergarten three people went biergarten saturday night first brewery experience bengaluru say atmosphere completely crazy person dancing like no tomorrow hats off dj vipul really makes sure no person stops tapping feet 1 2 songs people start dancing around 10 stop dj stops i.e around 12. want dance like crazy tunes bollywood english punjabi songs definitely come coming food great ordered spring rolls filled soya loaded nachos wheat beer ambience 5/5 outlet size/ space 5/5 food 4/5 service 3/5 waiting line 4/5',\n",
       " 'good ambience average food beer good not great quality quantity food improved good visit may not visit',\n",
       " \"amazing place awesome food love nasi goreng warm date sticky toffee pudding 's one favorite overall food dam good kudos chef team one best collection beer one compliant service staff seem get carried away talking amongst quiet annoying especially u wan na order re-order like buzz kill one fav go place drink good food\",\n",
       " 'one nicest place whitefield .. taste beer great ambience also awesome tried malai chicken tikka ok ok pizza greatã\\x83\\x83ã\\x82\\x83ã\\x83\\x82ã\\x82\\x83ã\\x83\\x83ã\\x82\\x82ã\\x83\\x82ã\\x82â°ã\\x83\\x83ã\\x82\\x83ã\\x83\\x82ã\\x82\\x82ã\\x83\\x83ã\\x82\\x82ã\\x83\\x82ã\\x82\\x9fã\\x83\\x83ã\\x82\\x83ã\\x83\\x82ã\\x82\\x82ã\\x83\\x83ã\\x82\\x82ã\\x83\\x82ã\\x82\\x98ã\\x83\\x83ã\\x82\\x83ã\\x83\\x82ã\\x82\\x82ã\\x83\\x83ã\\x82\\x82ã\\x83\\x82ã\\x82\\x8bã\\x83\\x83ã\\x82\\x83ã\\x83\\x82ã\\x82\\x83ã\\x83\\x83ã\\x82\\x82ã\\x83\\x82ã\\x82â°ã\\x83\\x83ã\\x82\\x83ã\\x83\\x82ã\\x82\\x82ã\\x83\\x83ã\\x82\\x82ã\\x83\\x82ã\\x82\\x9fã\\x83\\x83ã\\x82\\x83ã\\x83\\x82ã\\x82\\x82ã\\x83\\x83ã\\x82\\x82ã\\x83\\x82ã\\x82\\x98ã\\x83\\x83ã\\x82\\x83ã\\x83\\x82ã\\x82\\x82ã\\x83\\x83ã\\x82\\x82ã\\x83\\x82ã\\x82\\x8d saturday night visited place place pretty much full luckily got seat first floor without booking thanks friendly staffsã\\x83\\x83ã\\x82\\x83ã\\x83\\x82ã\\x82\\x83ã\\x83\\x83ã\\x82\\x82ã\\x83\\x82ã\\x82â°ã\\x83\\x83ã\\x82\\x83ã\\x83\\x82ã\\x82\\x82ã\\x83\\x83ã\\x82\\x82ã\\x83\\x82ã\\x82\\x9fã\\x83\\x83ã\\x82\\x83ã\\x83\\x82ã\\x82\\x82ã\\x83\\x83ã\\x82\\x82ã\\x83\\x82ã\\x82â¤ã\\x83\\x83ã\\x82\\x83ã\\x83\\x82ã\\x82\\x82ã\\x83\\x83ã\\x82\\x82ã\\x83\\x82ã\\x82\\x97 projector playing live football ã\\x83\\x83ã\\x82\\x83ã\\x83\\x82ã\\x82\\x83ã\\x83\\x83ã\\x82\\x82ã\\x83\\x82ã\\x82â°ã\\x83\\x83ã\\x82\\x83ã\\x83\\x82ã\\x82\\x82ã\\x83\\x83ã\\x82\\x82ã\\x83\\x82ã\\x82\\x9fã\\x83\\x83ã\\x82\\x83ã\\x83\\x82ã\\x82\\x82ã\\x83\\x83ã\\x82\\x82ã\\x83\\x82ã\\x82\\x98ã\\x83\\x83ã\\x82\\x83ã\\x83\\x82ã\\x82\\x82ã\\x83\\x83ã\\x82\\x82ã\\x83\\x82ã\\x82\\x8dã\\x83\\x83ã\\x82\\x83ã\\x83\\x82ã\\x82\\x83ã\\x83\\x83ã\\x82\\x82ã\\x83\\x82ã\\x82â°ã\\x83\\x83ã\\x82\\x83ã\\x83\\x82ã\\x82\\x82ã\\x83\\x83ã\\x82\\x82ã\\x83\\x82ã\\x82\\x9fã\\x83\\x83ã\\x82\\x83ã\\x83\\x82ã\\x82\\x82ã\\x83\\x83ã\\x82\\x82ã\\x83\\x82ã\\x82\\x98ã\\x83\\x83ã\\x82\\x83ã\\x83\\x82ã\\x82\\x82ã\\x83\\x83ã\\x82\\x82ã\\x83\\x82ã\\x82\\x8d starting playing english songs pretty boring later started playing hindi songs awesome .. whitefield add place wishlist ã\\x83\\x83ã\\x82\\x83ã\\x83\\x82ã\\x82\\x83ã\\x83\\x83ã\\x82\\x82ã\\x83\\x82ã\\x82â°ã\\x83\\x83ã\\x82\\x83ã\\x83\\x82ã\\x82\\x82ã\\x83\\x83ã\\x82\\x82ã\\x83\\x82ã\\x82\\x9fã\\x83\\x83ã\\x82\\x83ã\\x83\\x82ã\\x82\\x82ã\\x83\\x83ã\\x82\\x82ã\\x83\\x82ã\\x82\\x98ã\\x83\\x83ã\\x82\\x83ã\\x83\\x82ã\\x82\\x82ã\\x83\\x83ã\\x82\\x82ã\\x83\\x82ã\\x82\\x81ã\\x83\\x83ã\\x82\\x83ã\\x83\\x82ã\\x82\\x83ã\\x83\\x83ã\\x82\\x82ã\\x83\\x82ã\\x82â°ã\\x83\\x83ã\\x82\\x83ã\\x83\\x82ã\\x82\\x82ã\\x83\\x83ã\\x82\\x82ã\\x83\\x82ã\\x82\\x9fã\\x83\\x83ã\\x82\\x83ã\\x83\\x82ã\\x82\\x82ã\\x83\\x83ã\\x82\\x82ã\\x83\\x82ã\\x82\\x98ã\\x83\\x83ã\\x82\\x83ã\\x83\\x82ã\\x82\\x82ã\\x83\\x83ã\\x82\\x82ã\\x83\\x82ã\\x82\\x81 one area feel enhanced waiter service may visited saturday night wait bit longer hold waiter. food:3.5/5 beer:5/5 staff:4/5 cost 2 beer 2000',\n",
       " 'new year eve place amazing food delicious ambience classy huge sitting area give try sometime soon',\n",
       " 'atmosphere completely lit special mention dj biergarten three people went biergarten saturday night first brewery experience bengaluru say atmosphere completely crazy person dancing like no tomorrow hats off dj vipul really makes sure no person stops tapping feet 1 2 songs people start dancing around 10 stop dj stops i.e around 12. want dance like crazy tunes bollywood english punjabi songs definitely come coming food great ordered spring rolls filled soya loaded nachos wheat beer ambience 5/5 outlet size/ space 5/5 food 4/5 service 3/5 waiting line 4/5',\n",
       " 'good ambience average food beer good not great quality quantity food improved good visit may not visit',\n",
       " 'visited group friends quite lively place ambiance great some food drinks ordered good some average overall nice place evening well spent',\n",
       " 'random plans landed microbrewery brookfield area nice music played place heating environment thing loved place long tables sit multiple groups sit row single table basically done avoid congestion people ordered mocktail pineapple based decent enough along ordered pepper chicken tikka cooked perfection freshly ground pepper adding taste dish maincourse order crumb fried chicken fillet served fries chicken seemed lost taste batter chicken thick compared thickness fillet used needs little improvement overall decent experience',\n",
       " 'biergarten whitefield serves great beer also deal one worst staff especially dilip ill mannered arrogant highly unprofessional',\n",
       " 'rajesh good service.he prompt helped us lot.would recommend place .absolutely nice atmosphere.loved awsome experiences',\n",
       " 'rooftop always big plus place great ambience went late sunday brunch firstly donã\\x83\\x83ã\\x82\\x83ã\\x83\\x82ã\\x82\\x83ã\\x83\\x83ã\\x82\\x82ã\\x83\\x82ã\\x82â¢ã\\x83\\x83ã\\x82\\x83ã\\x83\\x82ã\\x82\\x82ã\\x83\\x83ã\\x82\\x82ã\\x83\\x82ã\\x82\\x80ã\\x83\\x83ã\\x82\\x83ã\\x83\\x82ã\\x82\\x82ã\\x83\\x83ã\\x82\\x82ã\\x83\\x82ã\\x82\\x99t sunday brunch buffets anymore itã\\x83\\x83ã\\x82\\x83ã\\x83\\x82ã\\x82\\x83ã\\x83\\x83ã\\x82\\x82ã\\x83\\x82ã\\x82â¢ã\\x83\\x83ã\\x82\\x83ã\\x83\\x82ã\\x82\\x82ã\\x83\\x83ã\\x82\\x82ã\\x83\\x82ã\\x82\\x80ã\\x83\\x83ã\\x82\\x83ã\\x83\\x82ã\\x82\\x82ã\\x83\\x83ã\\x82\\x82ã\\x83\\x82ã\\x82\\x99s la carte food great loved spring rolls dumplings great brewery items music wonã\\x83\\x83ã\\x82\\x83ã\\x83\\x82ã\\x82\\x83ã\\x83\\x83ã\\x82\\x82ã\\x83\\x82ã\\x82â¢ã\\x83\\x83ã\\x82\\x83ã\\x83\\x82ã\\x82\\x82ã\\x83\\x83ã\\x82\\x82ã\\x83\\x82ã\\x82\\x80ã\\x83\\x83ã\\x82\\x83ã\\x83\\x82ã\\x82\\x82ã\\x83\\x83ã\\x82\\x82ã\\x83\\x82ã\\x82\\x99t b u sit rooftop overall experience good service improved',\n",
       " \"loved ambience giving lazing couch vibes coming food tried chicken tikka okay corn starter average nachos could 've loaded much cheese vegetarian burger first one two options menu average 2 desserts caramel cake ice cream toffee pudding 're not fan caramel go choice overall okay good one time visit\",\n",
       " \"super amazing place amazing aura magical music tempting food friendly music nachos recommendation place around go get grab place wo n't regret cheers\",\n",
       " 'went saturday night place jam packed got sofa seating no regrets live band perform not best performances told us regulars band played bollywood music quite avg some songs strain ears things got really better stopped lovely dj mix took open setup dim lights made easy many get groove enjoyed lot food good nothing special cost drinks quite miser putting right amount alcohol cocktails yeah might go friends ambiance much thanks prasanjeet taking good care us 1 extra star',\n",
       " 'amazing atmosphere great beer loved wheat beer service decent real push rate rate high zomato would liked service little better',\n",
       " 'food awesome specially pork ribs tried first time recommended brewed beers bored marketed beer brands ambiance little clumsy smaller featured photos no food serving disappointing overall experience good',\n",
       " 'nice place rather place people sit chat alongside good mocktails surrounding industrial area famous classic german wheat beers weekend usually crowded no doubt play dj',\n",
       " 'finger food great try german sausages non veg platter really loved salmon seating robs place another star best family tables upstairs probably reserve old corporate faithfuls would drink pitchers pitchers',\n",
       " \"ordered chole bhature using zomato kkr short want say worst kind chole bhature whole life kind chole bhature sweet chole n't really give bad reviews one really disappointed\",\n",
       " 'ordered paratha platter although methi aloo good stuffing paneer needs filling hence 3 stars taste good otherwise',\n",
       " 'food yummy liked much time took preparation delivery much literally waited hour delivery person not sure location lots difficulty guiding',\n",
       " 'great place hang around friends munch variety parathas available taste good last visit found parathas way spicy tried mooli aloo rajma masala parathas try gulab jamun',\n",
       " 'visited place yesterday small outlet delicious lassi ordered mango lassi awesum one fair enough price basis quality quantity try mango lassi dry fruit lassi',\n",
       " \"visited place last week .. 's small outlet chairs placed outside along footpath .. ordered fruit overload tasted yummy.i n't know lassi/juices served would definitely recommend place ..\",\n",
       " 'kulfi falooda death chocolate ice cream falooda okay lot rose drink extra sweet death chocolate ice cream complete terrible experience- plain vanilla ice ceam some choco chips chocolate cream',\n",
       " 'well maintained tasty delicious shakes low cost compare lassi shops staffs co ordinate custy polite humble',\n",
       " \"type daily dining food 4/5 mostly south indian taste fine quantity ambience 3/5 daily dining little short sitting places staff self service ca n't rate anything value money 4/5 would 5 increased price items drinks 3/5 coffee big no tea fine taking away morning lazy eyes\",\n",
       " \"dinner friend located right beside road 4-5 tables ordered 2 south indian meals took quite time start roti good curries lot like north indian food pickle not provided sambar not good 're completely watered\",\n",
       " 'ordered pongal idli sambar vada pongal good taste idli chutney sambar consistency vada not right though still order price right',\n",
       " \"located bit inside nice spacey place place not costly taste also good ordered dosa uthappam poori tea coffee everything tasty perfect place get rid hunger could n't take food pics 's pic tea\",\n",
       " \"cafe thulp amazing burgers though 're liiittle expensive side 's always worth devouring burgers stuff menu tip go empty stomach 'll pig like never ã\\x83\\x83ã\\x82\\x83ã\\x83\\x82ã\\x82\\x83ã\\x83\\x83ã\\x82\\x82ã\\x83\\x82ã\\x82â°ã\\x83\\x83ã\\x82\\x83ã\\x83\\x82ã\\x82\\x82ã\\x83\\x83ã\\x82\\x82ã\\x83\\x82ã\\x82\\x9fã\\x83\\x83ã\\x82\\x83ã\\x83\\x82ã\\x82\\x82ã\\x83\\x83ã\\x82\\x82ã\\x83\\x82ã\\x82\\x98ã\\x83\\x83ã\\x82\\x83ã\\x83\\x82ã\\x82\\x82ã\\x83\\x83ã\\x82\\x82ã\\x83\\x82ã\\x82\\x89\",\n",
       " 'oh place brings back memories some good others not good went almost decade meet old friends restaurant totally empty ordered coffee along two plates buffalo wings food good nothing write home accept zg code placing order nice',\n",
       " \"big hype place frankly speaking n't like much though lot variety still nothing good enough maybe expect way much place ambience 7/10 food 5/10 service 5/10 yeah works yeah planning go some mates order gigantic beef burger would quite economical\",\n",
       " \"passing pace past 6 years thinking need try place always looked tempting warm cozy hues lights outside glad finally tried hectic day shopping happy made choice husband driving past said stop let 's eat choice yum yum food veggie burger pasta fries etc everything good tasty wished would stopped sooner\",\n",
       " 'restaurant jolly good ambience interior everything quite jumpy customer feel really theme really loved service food really good thoroughly enjoyed ã\\x83\\x83ã\\x82\\x83ã\\x83\\x82ã\\x82\\x83ã\\x83\\x83ã\\x82\\x82ã\\x83\\x82ã\\x82â¢ã\\x83\\x83ã\\x82\\x83ã\\x83\\x82ã\\x82\\x82ã\\x83\\x83ã\\x82\\x82ã\\x83\\x82ã\\x82\\x99ã\\x83\\x83ã\\x82\\x83ã\\x83\\x82ã\\x82\\x82ã\\x83\\x83ã\\x82\\x82ã\\x83\\x82ã\\x82â¥ã\\x83\\x83ã\\x82\\x83ã\\x83\\x82ã\\x82\\x83ã\\x83\\x83ã\\x82\\x82ã\\x83\\x82ã\\x82â¯ã\\x83\\x83ã\\x82\\x83ã\\x83\\x82ã\\x82\\x82ã\\x83\\x83ã\\x82\\x82ã\\x83\\x82ã\\x82â¸ã\\x83\\x83ã\\x82\\x83ã\\x83\\x82ã\\x82\\x82ã\\x83\\x83ã\\x82\\x82ã\\x83\\x82ã\\x82\\x8f kudos team coming amazing names dishes',\n",
       " \"burgers place die 've spiced beef burger vietnamese pulled pork burger never fail amaze guys apprehensive trying beef definitely change mind ã\\x83\\x83ã\\x82\\x83ã\\x83\\x82ã\\x82\\x83ã\\x83\\x83ã\\x82\\x82ã\\x83\\x82ã\\x82â°ã\\x83\\x83ã\\x82\\x83ã\\x83\\x82ã\\x82\\x82ã\\x83\\x83ã\\x82\\x82ã\\x83\\x82ã\\x82\\x9fã\\x83\\x83ã\\x82\\x83ã\\x83\\x82ã\\x82\\x82ã\\x83\\x83ã\\x82\\x82ã\\x83\\x82ã\\x82\\x98ã\\x83\\x83ã\\x82\\x83ã\\x83\\x82ã\\x82\\x82ã\\x83\\x83ã\\x82\\x82ã\\x83\\x82ã\\x82\\x8d\",\n",
       " \"some place try keep prices low pleases customers low budget meal not thulp ho no un apologetic prices right fully try pad thai asian menu 's honestly better standalone asian food joints\",\n",
       " 'expensive famous gentle burgers excited taste legendary burgers first time moo cheese bacon burger one kind better smoking gun burger pulled beef meat beef tender bacon added gave yumminess staff helpful ambiance average burgers slightly overpriced seeing quantity burger felt like increased price zomato gold food 4.0/5 service 4.0/5 ambiance 3.5/5 anyhow burgerous burgers made day',\n",
       " 'went birthday meal wonderful steak done exactly id asked mashed potatoes caramelized onions went well mango salsa like topping steak surprisingly good',\n",
       " \"'s little expensive side almost no options vegetarians however non vegetarian friends like place except 's quite expensive place\",\n",
       " 'think restaurant guys professional decorating food not cooking food good seeing not eating cost high served brownie ice cream taste like chocolate cake ice cream',\n",
       " 'one best burger joints bangalore specially non vegetarians service slow waited half hour wait worth burger milk shake smoothie along burger heavy meal',\n",
       " \"finally visited cafe thulp saturday try moo burger beef patty well cooked sandwich overall n't bad fries bit salty bit shame since beautiful crisp accompanying coleslaw bland unfortunately ambience felt off dull overall resto giving off vibes ghost town since almost empty n't exactly looking service hospitable prompt ismail food arrived quickly table food 3/5 service 4/5\",\n",
       " 'friend looking italian cuisine nothing could better place taste food lovely service well good think visiting place near future recommend place',\n",
       " 'ordered keto menu wish pizza crust crisp tasting like omlette wish gave cheese cauli rice tofu yummy tho',\n",
       " 'sister brother johnson market menu quality food worth every penny take away online order recommended poor ambiance',\n",
       " \"some diners pointed guys completely disgusting moral ethics served beef rolls ordered chicken think used think served bangalore 's best chicken rolls pathetic\",\n",
       " '',\n",
       " 'happy delivery .... thanks',\n",
       " 'goat poop name roll cheating us giving us poop calling sheek',\n",
       " 'gud',\n",
       " \"best place hangout frnds family namma bangalore fanoos best beef chicken mutton roll 've ever yet n beef shawarma yummmm could n't forget tast yet hot n spice tandoor item strawberry flavour crush gud atlast buh not least gald guys jaynagar pretty much near home hope see branch 's bangalo\",\n",
       " 'ordered 5 chicken samosas 1 full plate boneless chicken tikka .... sadly five samosas 2 beef really bad experience not eat beef secondly full plate chicken tikka contained 5 marble sized chicken pieces even disappointing overall experience place pretty bad',\n",
       " 'best place food bangalore .... reasonable great taste .. guys whenever u visit bangalore dont forget go fanoos',\n",
       " 'awesome taste fast delivery keep good work u guys rock love fanoos always management n service awesome especially tilak nagar branch regular customer fanoos',\n",
       " 'love fanoos hyderabad native worlds best haleem cooked guess fanoos cooks hmmm best day banglore tried everything rambo rolls biryani ramadan spl sweets family loved place haleem zabardast keep fanoos',\n",
       " \"'s since 1975 baap rolls kebabs.their 3rd outlet not wrong 2nd one frazer town good smiling staff sheek kebab favourite juicy perfecto blend spices aroma foodily foodie n't mis chance grab roll sizes like jumbo mumbo rambo sambo roll mogambo- khush huwa hygiene transformed good excellent still pocket friendly college days management kind enough allowed take pictures 99 wo n't guys know person love good food taste quality fanoos destination.\",\n",
       " 'chance top 1 mutton seek rolls fanoos xprss jayanagar mutton seek roll luscious scrumptious stupendous exemplary mutton seek roll bangalore owner gracious invigorating person',\n",
       " 'tried chicken shawarma alright nothing great bad slightly sweeter taste guess mayonnaise price factor alright good option hunger pangs noorinfoodistan.wordpress.com',\n",
       " 'donã\\x83\\x83ã\\x82\\x83ã\\x83\\x82ã\\x82\\x82ã\\x83\\x83ã\\x82\\x82ã\\x83\\x82ã\\x82\\x92t think branch authorised branch fanooã\\x83\\x83ã\\x82\\x83ã\\x83\\x82ã\\x82\\x82ã\\x83\\x83ã\\x82\\x82ã\\x83\\x82ã\\x82\\x92s canã\\x83\\x83ã\\x82\\x83ã\\x83\\x82ã\\x82\\x82ã\\x83\\x83ã\\x82\\x82ã\\x83\\x82ã\\x82\\x92t believe microwave rotis use making rolls meat serve dry summer rice bland not even worth 1 rating would not recommend place plz go johnson market branch instead',\n",
       " 'love fanoos hyderabad native worlds best haleem cooked guess fanoos cooks hmmm best day banglore tried everything rambo rolls biryani ramadan spl sweets family loved place haleem zabardast keep fanoos',\n",
       " \"'s since 1975 baap rolls kebabs.their 3rd outlet not wrong 2nd one frazer town good smiling staff sheek kebab favourite juicy perfecto blend spices aroma foodily foodie n't mis chance grab roll sizes like jumbo mumbo rambo sambo roll mogambo- khush huwa hygiene transformed good excellent still pocket friendly college days management kind enough allowed take pictures 99 wo n't guys know person love good food taste quality fanoos destination.\",\n",
       " 'chance top 1 mutton seek rolls fanoos xprss jayanagar mutton seek roll luscious scrumptious stupendous exemplary mutton seek roll bangalore owner gracious invigorating person',\n",
       " 'tried chicken shawarma alright nothing great bad slightly sweeter taste guess mayonnaise price factor alright good option hunger pangs noorinfoodistan.wordpress.com',\n",
       " 'donã\\x83\\x83ã\\x82\\x83ã\\x83\\x82ã\\x82\\x82ã\\x83\\x83ã\\x82\\x82ã\\x83\\x82ã\\x82\\x92t think branch authorised branch fanooã\\x83\\x83ã\\x82\\x83ã\\x83\\x82ã\\x82\\x82ã\\x83\\x83ã\\x82\\x82ã\\x83\\x82ã\\x82\\x92s canã\\x83\\x83ã\\x82\\x83ã\\x83\\x82ã\\x82\\x82ã\\x83\\x83ã\\x82\\x82ã\\x83\\x82ã\\x82\\x92t believe microwave rotis use making rolls meat serve dry summer rice bland not even worth 1 rating would not recommend place plz go johnson market branch instead',\n",
       " 'ordered shawarma chicken mumbo roll mumbo biggest roll gave jumbo medium size roll charged mumbo not worth price instead get 3 regular size roll price mumbo not happy service pricing',\n",
       " 'original authentic restaurant would like say original flavour food great food service would highly recommend went mothering sunday everything perfect friendly staff tasty burger rolls love daily food specially sheek roll shuwarma best food number years using restaurant food always great recent update menu also pleasing number new dishes nothing ever much trouble happy cater small large groups continue customer would recommend highly family functions busniess parties best restuarant choose one delicious like heaven falls tummy lovin place welcoming charming service food better tasted since banglore',\n",
       " 'ordered biryani sheek veal kebab seriously worst biryani tasted small piece normal hotel tilak nagar serve far better fare last time ordered sharwarma meat burnt decided never order place',\n",
       " 'ordered beef shawarma jumbo roll chicken roll beef rolls not fit human consumption meat terrible wasnt cooked even heating microwave tasted like chewing gum',\n",
       " 'good place meat lovers beef mutton chicken u wont find fish menu pricing quantity fair however not place dine mainly serves walk-ins home delivery orders dining area small suited quick bite lot desired place given started try beef sheekh boti kabab veal kebab rolls things wrapped rumali roti take call',\n",
       " 'ordered shawarma chicken mumbo roll mumbo biggest roll gave jumbo medium size roll charged mumbo not worth price instead get 3 regular size roll price mumbo not happy service pricing',\n",
       " 'original authentic restaurant would like say original flavour food great food service would highly recommend went mothering sunday everything perfect friendly staff tasty burger rolls love daily food specially sheek roll shuwarma best food number years using restaurant food always great recent update menu also pleasing number new dishes nothing ever much trouble happy cater small large groups continue customer would recommend highly family functions busniess parties best restuarant choose one delicious like heaven falls tummy lovin place welcoming charming service food better tasted since banglore',\n",
       " 'ordered biryani sheek veal kebab seriously worst biryani tasted small piece normal hotel tilak nagar serve far better fare last time ordered sharwarma meat burnt decided never order place',\n",
       " 'ordered beef shawarma jumbo roll chicken roll beef rolls not fit human consumption meat terrible wasnt cooked even heating microwave tasted like chewing gum',\n",
       " 'good place meat lovers beef mutton chicken u wont find fish menu pricing quantity fair however not place dine mainly serves walk-ins home delivery orders dining area small suited quick bite lot desired place given started try beef sheekh boti kabab veal kebab rolls things wrapped rumali roti take call',\n",
       " 'ordered shawarma chicken mumbo roll mumbo biggest roll gave jumbo medium size roll charged mumbo not worth price instead get 3 regular size roll price mumbo not happy service pricing',\n",
       " 'original authentic restaurant would like say original flavour food great food service would highly recommend went mothering sunday everything perfect friendly staff tasty burger rolls love daily food specially sheek roll shuwarma best food number years using restaurant food always great recent update menu also pleasing number new dishes nothing ever much trouble happy cater small large groups continue customer would recommend highly family functions busniess parties best restuarant choose one delicious like heaven falls tummy lovin place welcoming charming service food better tasted since banglore',\n",
       " 'ordered biryani sheek veal kebab seriously worst biryani tasted small piece normal hotel tilak nagar serve far better fare last time ordered sharwarma meat burnt decided never order place',\n",
       " 'ordered beef shawarma jumbo roll chicken roll beef rolls not fit human consumption meat terrible wasnt cooked even heating microwave tasted like chewing gum',\n",
       " 'good place meat lovers beef mutton chicken u wont find fish menu pricing quantity fair however not place dine mainly serves walk-ins home delivery orders dining area small suited quick bite lot desired place given started try beef sheekh boti kabab veal kebab rolls things wrapped rumali roti take call',\n",
       " 'ordered shawarma chicken mumbo roll mumbo biggest roll gave jumbo medium size roll charged mumbo not worth price instead get 3 regular size roll price mumbo not happy service pricing',\n",
       " 'original authentic restaurant would like say original flavour food great food service would highly recommend went mothering sunday everything perfect friendly staff tasty burger rolls love daily food specially sheek roll shuwarma best food number years using restaurant food always great recent update menu also pleasing number new dishes nothing ever much trouble happy cater small large groups continue customer would recommend highly family functions busniess parties best restuarant choose one delicious like heaven falls tummy lovin place welcoming charming service food better tasted since banglore',\n",
       " 'ordered biryani sheek veal kebab seriously worst biryani tasted small piece normal hotel tilak nagar serve far better fare last time ordered sharwarma meat burnt decided never order place',\n",
       " 'ordered beef shawarma jumbo roll chicken roll beef rolls not fit human consumption meat terrible wasnt cooked even heating microwave tasted like chewing gum',\n",
       " 'good place meat lovers beef mutton chicken u wont find fish menu pricing quantity fair however not place dine mainly serves walk-ins home delivery orders dining area small suited quick bite lot desired place given started try beef sheekh boti kabab veal kebab rolls things wrapped rumali roti take call',\n",
       " 'ordered shawarma chicken mumbo roll mumbo biggest roll gave jumbo medium size roll charged mumbo not worth price instead get 3 regular size roll price mumbo not happy service pricing',\n",
       " 'original authentic restaurant would like say original flavour food great food service would highly recommend went mothering sunday everything perfect friendly staff tasty burger rolls love daily food specially sheek roll shuwarma best food number years using restaurant food always great recent update menu also pleasing number new dishes nothing ever much trouble happy cater small large groups continue customer would recommend highly family functions busniess parties best restuarant choose one delicious like heaven falls tummy lovin place welcoming charming service food better tasted since banglore',\n",
       " 'ordered biryani sheek veal kebab seriously worst biryani tasted small piece normal hotel tilak nagar serve far better fare last time ordered sharwarma meat burnt decided never order place',\n",
       " 'ordered beef shawarma jumbo roll chicken roll beef rolls not fit human consumption meat terrible wasnt cooked even heating microwave tasted like chewing gum',\n",
       " 'good place meat lovers beef mutton chicken u wont find fish menu pricing quantity fair however not place dine mainly serves walk-ins home delivery orders dining area small suited quick bite lot desired place given started try beef sheekh boti kabab veal kebab rolls things wrapped rumali roti take call',\n",
       " 'fanoos one oldest sought place bengaluru city fanoos famous rolls visited newly opened tilaknagar branch .. 2 branches one richmond town frazer town people love fanoos famous beef sheekh rolls .. apart serve variety assortments meats .. mouth watering shawarma rolls mutton sheek chicken rolls chicken veal beef chilly grilled chicken kalmi kebab etc etc etc list endless .. meat served well cooked juicy spiced perfection .. best part serve authentic muslim style biryani available variants chicken mutton beef .. 5 full points wonderful management serve best dishes',\n",
       " \"well place big relief late night joints open 3 easily located main ring road. food not called exceptional average combo 's shown zomato not available restaurant menu ordered malabar biryani combo pepper wings biryani average wings fried literally bones only. improvise better\",\n",
       " 'updated review restaurant bad experience previously restaurant takes customer greviances quite seriously follow ordered paneer gravy next taste quite good balanced flavours quantity fulfilling',\n",
       " 'paneer tikka masala paneer butter masala dal fry dal tadka favorites rich flavor creamy filled aromatic gravy made butter authentic delicious side dishes pairs well keto rotis',\n",
       " 'main road valet parking looks big outside inside looks bit cramped terms space ordered kabab biryani food good apt level spice crispy chicken could boneless chickens small pieces could better rather 4 big pieces chicken',\n",
       " 'good resturant food good mutton biryani calmi kabab oooo testi staff friendly come thanks 🤩',\n",
       " \"quite impressed quality food tried delivery dining mutton mandi enjoyed restaurant found staff courteous except person took order yes like read one reviews glasses n't clean courteously replaced cleaner one felt little price may cover real-estate cost would rather cost 800 two estimate even though mentioned valet parking n't find anyone\",\n",
       " 'apart main outer ring road restaurant not many positives go along begin water glasses not cleaned properly skipped using altogether no apologies staff changed glass like regular routine went some chinese starter vegetarian gravy not mark could joint serves better non vegetarian food veg options poor',\n",
       " 'staff amazing friendly customers food delicious tasty atmosphere inside restaurant ambient really recommended try restaurant kalyan nagar nearby',\n",
       " 'similar menu like empire good thalis n kebabs reasonable place simple place valet parking n quick lunch dinner time day personal favourite chilly kebabs -absolutely yummy .i love chillies n kebabs -both yet try things cos stick chilly kebabs n thali time customer service extremely good -very attentive staff',\n",
       " 'loved dining experience service yes food loved shawarma rolls kebabs yes ghee rice good service awesome place mid night cravings',\n",
       " \"wanted try food offers pizzas items asked guy counter served wood fire pizzas employee replied yes later asked size serve replied medium size went ahead ordered cheese pizza couple shawarmas printing bill says cheese pizza n't come offer price pay full amount n't wanted argue payed bill later got order realised make pizzas microwave 's small size. shawarmas kinda fine strong onion smell pizza terrible threw away eating piece 'm giving 2 rating shawarma rolls least edible\",\n",
       " \"wanted try food offers pizzas items asked guy counter served wood fire pizzas employee replied yes later asked size serve replied medium size went ahead ordered cheese pizza couple shawarmas printing bill says cheese pizza n't come offer price pay full amount n't wanted argue payed bill later got order realised make pizzas microwave 's small size. shawarmas kinda fine strong onion smell pizza terrible threw away eating piece 'm giving 2 rating shawarma rolls least edible\",\n",
       " \"wanted try food offers pizzas items asked guy counter served wood fire pizzas employee replied yes later asked size serve replied medium size went ahead ordered cheese pizza couple shawarmas printing bill says cheese pizza n't come offer price pay full amount n't wanted argue payed bill later got order realised make pizzas microwave 's small size. shawarmas kinda fine strong onion smell pizza terrible threw away eating piece 'm giving 2 rating shawarma rolls least edible\",\n",
       " 'nice restaurant south indian snacks dose good chats quantity less tried mangaluru bonda chats coffee quick preparation food self service',\n",
       " 'opposite house 20 times.liked idly vada set dosas masala dosas tried poori chaat also.liked dishes manchow soup not good channa batura was.nice south indian thali nice reasonable.prices affordable bought oarcel roti panner masala .. good jump saviour joint us',\n",
       " 'got coffee rava idli rava idli soft fresh came potato saagu chutney good coffee great well however improve aesthetics near juice/sweets section looked bit shabby apart everything pretty neat looking forward try dishes',\n",
       " 'food taste good service not good take much time serving even crowd less food priced quality quantity taste food served',\n",
       " \"looks like 's scam going staff.i 2 waffles given 1 bill 7 hours old.see time bills waffles excellent always ã\\x83\\x83ã\\x82\\x83ã\\x83\\x82ã\\x82\\x83ã\\x83\\x83ã\\x82\\x82ã\\x83\\x82ã\\x82â°ã\\x83\\x83ã\\x82\\x83ã\\x83\\x82ã\\x82\\x82ã\\x83\\x83ã\\x82\\x82ã\\x83\\x82ã\\x82\\x9fã\\x83\\x83ã\\x82\\x83ã\\x83\\x82ã\\x82\\x82ã\\x83\\x83ã\\x82\\x82ã\\x83\\x82ã\\x82\\x98ã\\x83\\x83ã\\x82\\x83ã\\x83\\x82ã\\x82\\x82ã\\x83\\x83ã\\x82\\x82ã\\x83\\x82ã\\x82\\x80\",\n",
       " \"waffles totally worth really loved red velvet cheese waffle creamy also 'll recommend 'the sin waffle staff really cool friendly ambience decoration 10/10\",\n",
       " 'visited outlet belgian waffle factory days ago loved smell enter amazing tried dark chocolate belgian chocolate waffles amazing service good visit',\n",
       " 'bangalore conference days ago strolling street saw place us friends decided go check good decision indeed black yellow decor quirky wall surely give off lively good vibes set mood right quick waffle two friends tried midnight black beauty mr oreo waffle waffles warm made delicious batter sweetness perfect not overly sweet sweet perfect midnight delicious dark chocolate strawberry oreo delightfully delicious oreo taste loved waffles',\n",
       " \"one best waffles ever life amazing delicious one pretty decent place waffles tried midnight dream waffle chocolate overload waffle waffles delicious yumm chocolate overload favourite full chocolate full nuts loved would n't definitely recommended place some amazing waffles\",\n",
       " \"stumbled upon place conference visit city say serve best waffles city one best 've far place great good ambiance quick service super delicious waffles staff polite helpful loved three us tried waffles waffles perfect batter made perfectly waffles warm perfect level sweetness overall blissful taste bite us loved waffles\",\n",
       " \"waffles waffles waffles serve waffle sandwiches well .. best place serves amazing waffles fresh crisp good quality waffles tried sin waffle chocolate overload waffle couple times sin never fails leaves us wanting itã\\x83\\x83ã\\x82\\x83ã\\x83\\x82ã\\x82\\x83ã\\x83\\x83ã\\x82\\x82ã\\x83\\x82ã\\x82â¢ã\\x83\\x83ã\\x82\\x83ã\\x83\\x82ã\\x82\\x82ã\\x83\\x83ã\\x82\\x82ã\\x83\\x82ã\\x82\\x80ã\\x83\\x83ã\\x82\\x83ã\\x83\\x82ã\\x82\\x82ã\\x83\\x83ã\\x82\\x82ã\\x83\\x82ã\\x82\\x99s always best waffle weã\\x83\\x83ã\\x82\\x83ã\\x83\\x82ã\\x82\\x83ã\\x83\\x83ã\\x82\\x82ã\\x83\\x82ã\\x82â¢ã\\x83\\x83ã\\x82\\x83ã\\x83\\x82ã\\x82\\x82ã\\x83\\x83ã\\x82\\x82ã\\x83\\x82ã\\x82\\x80ã\\x83\\x83ã\\x82\\x83ã\\x83\\x82ã\\x82\\x82ã\\x83\\x83ã\\x82\\x82ã\\x83\\x82ã\\x82\\x99ve nutella milk chocolate choco chips chocolate waffle name says 's creamy indulge canã\\x83\\x83ã\\x82\\x83ã\\x83\\x82ã\\x82\\x83ã\\x83\\x83ã\\x82\\x82ã\\x83\\x82ã\\x82â¢ã\\x83\\x83ã\\x82\\x83ã\\x83\\x82ã\\x82\\x82ã\\x83\\x83ã\\x82\\x82ã\\x83\\x82ã\\x82\\x80ã\\x83\\x83ã\\x82\\x83ã\\x83\\x82ã\\x82\\x82ã\\x83\\x83ã\\x82\\x82ã\\x83\\x82ã\\x82\\x99t wait go back try mr.oreo waffle sandwich 5.0 waffle loaded oreo gems loved try sin waffle berry waffle recommended\",\n",
       " 'make amazing waffles ordered- ã\\x83\\x83ã\\x82\\x83ã\\x83\\x82ã\\x82\\x83ã\\x83\\x83ã\\x82\\x82ã\\x83\\x82ã\\x82â¢ã\\x83\\x83ã\\x82\\x83ã\\x83\\x82ã\\x82\\x82ã\\x83\\x83ã\\x82\\x82ã\\x83\\x82ã\\x82\\x80ã\\x83\\x83ã\\x82\\x83ã\\x83\\x82ã\\x82\\x82ã\\x83\\x83ã\\x82\\x82ã\\x83\\x82ã\\x82â¢cotton candy waffle ã\\x83\\x83ã\\x82\\x83ã\\x83\\x82ã\\x82\\x83ã\\x83\\x83ã\\x82\\x82ã\\x83\\x82ã\\x82â¢ã\\x83\\x83ã\\x82\\x83ã\\x83\\x82ã\\x82\\x82ã\\x83\\x83ã\\x82\\x82ã\\x83\\x82ã\\x82\\x80ã\\x83\\x83ã\\x82\\x83ã\\x83\\x82ã\\x82\\x82ã\\x83\\x83ã\\x82\\x82ã\\x83\\x82ã\\x82â¢pizza waffle savoury skeptical first regarding pizza waffle tried ended liking waffles prepared fresh fluffy tender yet crunchy served hot',\n",
       " \"n't love waffles since major sweet tooth love waffles loaded ice creams whipped cream peanut butter not came across belgian waffle factory saw pics creations instantly placed order couple stuff nutbutt waffle mainly loved whacky name also love good peanut butter based dessert day belgian waffle factory generous peanut butter loved also kitkat bubble waffle amazing combination npw classic mafe well definitely recommend place\",\n",
       " 'beligian wafle factory great place get some scrumptious desserts tried banoffee wafle best nutella banana whipped cream delightful nachos dips amazing try worthy',\n",
       " 'small cute place mg road get really great waffles variety flavours available choose ã\\x83\\x83ã\\x82\\x83ã\\x83\\x82ã\\x82\\x83ã\\x83\\x83ã\\x82\\x82ã\\x83\\x82ã\\x82â¢ã\\x83\\x83ã\\x82\\x83ã\\x83\\x82ã\\x82\\x82ã\\x83\\x83ã\\x82\\x82ã\\x83\\x82ã\\x82\\x80ã\\x83\\x83ã\\x82\\x83ã\\x83\\x82ã\\x82\\x82ã\\x83\\x83ã\\x82\\x82ã\\x83\\x82ã\\x82\\x98berry blastã\\x83\\x83ã\\x82\\x83ã\\x83\\x82ã\\x82\\x83ã\\x83\\x83ã\\x82\\x82ã\\x83\\x82ã\\x82â¢ã\\x83\\x83ã\\x82\\x83ã\\x83\\x82ã\\x82\\x82ã\\x83\\x83ã\\x82\\x82ã\\x83\\x82ã\\x82\\x80ã\\x83\\x83ã\\x82\\x83ã\\x83\\x82ã\\x82\\x82ã\\x83\\x83ã\\x82\\x82ã\\x83\\x82ã\\x82\\x99 flavour fruity punch strawberries ã\\x83\\x83ã\\x82\\x83ã\\x83\\x82ã\\x82\\x83ã\\x83\\x83ã\\x82\\x82ã\\x83\\x82ã\\x82â¢ã\\x83\\x83ã\\x82\\x83ã\\x83\\x82ã\\x82\\x82ã\\x83\\x83ã\\x82\\x82ã\\x83\\x82ã\\x82\\x80ã\\x83\\x83ã\\x82\\x83ã\\x83\\x82ã\\x82\\x82ã\\x83\\x83ã\\x82\\x82ã\\x83\\x82ã\\x82\\x98coffee breakã\\x83\\x83ã\\x82\\x83ã\\x83\\x82ã\\x82\\x83ã\\x83\\x83ã\\x82\\x82ã\\x83\\x82ã\\x82â¢ã\\x83\\x83ã\\x82\\x83ã\\x83\\x82ã\\x82\\x82ã\\x83\\x83ã\\x82\\x82ã\\x83\\x82ã\\x82\\x80ã\\x83\\x83ã\\x82\\x83ã\\x83\\x82ã\\x82\\x82ã\\x83\\x83ã\\x82\\x82ã\\x83\\x82ã\\x82\\x99 waffle like strong coffee cinnamon ã\\x83\\x83ã\\x82\\x83ã\\x83\\x82ã\\x82\\x83ã\\x83\\x83ã\\x82\\x82ã\\x83\\x82ã\\x82â¢ã\\x83\\x83ã\\x82\\x83ã\\x83\\x82ã\\x82\\x82ã\\x83\\x83ã\\x82\\x82ã\\x83\\x82ã\\x82\\x80ã\\x83\\x83ã\\x82\\x83ã\\x83\\x82ã\\x82\\x82ã\\x83\\x83ã\\x82\\x82ã\\x83\\x82ã\\x82\\x98sinful waffleã\\x83\\x83ã\\x82\\x83ã\\x83\\x82ã\\x82\\x83ã\\x83\\x83ã\\x82\\x82ã\\x83\\x82ã\\x82â¢ã\\x83\\x83ã\\x82\\x83ã\\x83\\x82ã\\x82\\x82ã\\x83\\x83ã\\x82\\x82ã\\x83\\x82ã\\x82\\x80ã\\x83\\x83ã\\x82\\x83ã\\x83\\x82ã\\x82\\x82ã\\x83\\x83ã\\x82\\x82ã\\x83\\x82ã\\x82\\x99 best waffle crunchy coated nutella chocolate chips try place',\n",
       " 'waffle lover visited outlet friends last weekend yummiest waffles town offer two types waffles sandwich waffles bubble wrap waffles tried sin waffle queen berry waffle strawberry raspberry blueberry cream nutella dark chocolate also customize waffle chose add-ons craving waffles place definitely visit althingsbeautiful.wordpress.com',\n",
       " 'one best waffles ever life amazing ordered nutella waffle rich loved cheers',\n",
       " \"well .... say guess fan total waffle lover cbd watch film.and decided stop outlet try one lip smacking offerings titled crunchy munch waffle sinful combination corn flakes caramel banana cream asked disclude banana tried rest ingredients divine expected also ordered bubble wrap royale.post another one perrenial favourites loved 's creamy texture god bless belgian waffle factory providing awesome.quality affordable price\",\n",
       " 'one pretty decent place waffles try little expensive side though loved white dark chocolate one u customize',\n",
       " 'small cute place mg road get really great waffles variety flavours available choose ã\\x83\\x83ã\\x82\\x83ã\\x83\\x82ã\\x82\\x83ã\\x83\\x83ã\\x82\\x82ã\\x83\\x82ã\\x82â¢ã\\x83\\x83ã\\x82\\x83ã\\x83\\x82ã\\x82\\x82ã\\x83\\x83ã\\x82\\x82ã\\x83\\x82ã\\x82\\x80ã\\x83\\x83ã\\x82\\x83ã\\x83\\x82ã\\x82\\x82ã\\x83\\x83ã\\x82\\x82ã\\x83\\x82ã\\x82\\x98berry blastã\\x83\\x83ã\\x82\\x83ã\\x83\\x82ã\\x82\\x83ã\\x83\\x83ã\\x82\\x82ã\\x83\\x82ã\\x82â¢ã\\x83\\x83ã\\x82\\x83ã\\x83\\x82ã\\x82\\x82ã\\x83\\x83ã\\x82\\x82ã\\x83\\x82ã\\x82\\x80ã\\x83\\x83ã\\x82\\x83ã\\x83\\x82ã\\x82\\x82ã\\x83\\x83ã\\x82\\x82ã\\x83\\x82ã\\x82\\x99 flavour fruity punch strawberries ã\\x83\\x83ã\\x82\\x83ã\\x83\\x82ã\\x82\\x83ã\\x83\\x83ã\\x82\\x82ã\\x83\\x82ã\\x82â¢ã\\x83\\x83ã\\x82\\x83ã\\x83\\x82ã\\x82\\x82ã\\x83\\x83ã\\x82\\x82ã\\x83\\x82ã\\x82\\x80ã\\x83\\x83ã\\x82\\x83ã\\x83\\x82ã\\x82\\x82ã\\x83\\x83ã\\x82\\x82ã\\x83\\x82ã\\x82\\x98coffee breakã\\x83\\x83ã\\x82\\x83ã\\x83\\x82ã\\x82\\x83ã\\x83\\x83ã\\x82\\x82ã\\x83\\x82ã\\x82â¢ã\\x83\\x83ã\\x82\\x83ã\\x83\\x82ã\\x82\\x82ã\\x83\\x83ã\\x82\\x82ã\\x83\\x82ã\\x82\\x80ã\\x83\\x83ã\\x82\\x83ã\\x83\\x82ã\\x82\\x82ã\\x83\\x83ã\\x82\\x82ã\\x83\\x82ã\\x82\\x99 waffle like strong coffee cinnamon ã\\x83\\x83ã\\x82\\x83ã\\x83\\x82ã\\x82\\x83ã\\x83\\x83ã\\x82\\x82ã\\x83\\x82ã\\x82â¢ã\\x83\\x83ã\\x82\\x83ã\\x83\\x82ã\\x82\\x82ã\\x83\\x83ã\\x82\\x82ã\\x83\\x82ã\\x82\\x80ã\\x83\\x83ã\\x82\\x83ã\\x83\\x82ã\\x82\\x82ã\\x83\\x83ã\\x82\\x82ã\\x83\\x82ã\\x82\\x98sinful waffleã\\x83\\x83ã\\x82\\x83ã\\x83\\x82ã\\x82\\x83ã\\x83\\x83ã\\x82\\x82ã\\x83\\x82ã\\x82â¢ã\\x83\\x83ã\\x82\\x83ã\\x83\\x82ã\\x82\\x82ã\\x83\\x83ã\\x82\\x82ã\\x83\\x82ã\\x82\\x80ã\\x83\\x83ã\\x82\\x83ã\\x83\\x82ã\\x82\\x82ã\\x83\\x83ã\\x82\\x82ã\\x83\\x82ã\\x82\\x99 best waffle crunchy coated nutella chocolate chips try place',\n",
       " 'waffle lover visited outlet friends last weekend yummiest waffles town offer two types waffles sandwich waffles bubble wrap waffles tried sin waffle queen berry waffle strawberry raspberry blueberry cream nutella dark chocolate also customize waffle chose add-ons craving waffles place definitely visit althingsbeautiful.wordpress.com',\n",
       " 'one best waffles ever life amazing ordered nutella waffle rich loved cheers',\n",
       " \"well .... say guess fan total waffle lover cbd watch film.and decided stop outlet try one lip smacking offerings titled crunchy munch waffle sinful combination corn flakes caramel banana cream asked disclude banana tried rest ingredients divine expected also ordered bubble wrap royale.post another one perrenial favourites loved 's creamy texture god bless belgian waffle factory providing awesome.quality affordable price\",\n",
       " 'one pretty decent place waffles try little expensive side though loved white dark chocolate one u customize',\n",
       " 'small cute place mg road get really great waffles variety flavours available choose ã\\x83\\x83ã\\x82\\x83ã\\x83\\x82ã\\x82\\x83ã\\x83\\x83ã\\x82\\x82ã\\x83\\x82ã\\x82â¢ã\\x83\\x83ã\\x82\\x83ã\\x83\\x82ã\\x82\\x82ã\\x83\\x83ã\\x82\\x82ã\\x83\\x82ã\\x82\\x80ã\\x83\\x83ã\\x82\\x83ã\\x83\\x82ã\\x82\\x82ã\\x83\\x83ã\\x82\\x82ã\\x83\\x82ã\\x82\\x98berry blastã\\x83\\x83ã\\x82\\x83ã\\x83\\x82ã\\x82\\x83ã\\x83\\x83ã\\x82\\x82ã\\x83\\x82ã\\x82â¢ã\\x83\\x83ã\\x82\\x83ã\\x83\\x82ã\\x82\\x82ã\\x83\\x83ã\\x82\\x82ã\\x83\\x82ã\\x82\\x80ã\\x83\\x83ã\\x82\\x83ã\\x83\\x82ã\\x82\\x82ã\\x83\\x83ã\\x82\\x82ã\\x83\\x82ã\\x82\\x99 flavour fruity punch strawberries ã\\x83\\x83ã\\x82\\x83ã\\x83\\x82ã\\x82\\x83ã\\x83\\x83ã\\x82\\x82ã\\x83\\x82ã\\x82â¢ã\\x83\\x83ã\\x82\\x83ã\\x83\\x82ã\\x82\\x82ã\\x83\\x83ã\\x82\\x82ã\\x83\\x82ã\\x82\\x80ã\\x83\\x83ã\\x82\\x83ã\\x83\\x82ã\\x82\\x82ã\\x83\\x83ã\\x82\\x82ã\\x83\\x82ã\\x82\\x98coffee breakã\\x83\\x83ã\\x82\\x83ã\\x83\\x82ã\\x82\\x83ã\\x83\\x83ã\\x82\\x82ã\\x83\\x82ã\\x82â¢ã\\x83\\x83ã\\x82\\x83ã\\x83\\x82ã\\x82\\x82ã\\x83\\x83ã\\x82\\x82ã\\x83\\x82ã\\x82\\x80ã\\x83\\x83ã\\x82\\x83ã\\x83\\x82ã\\x82\\x82ã\\x83\\x83ã\\x82\\x82ã\\x83\\x82ã\\x82\\x99 waffle like strong coffee cinnamon ã\\x83\\x83ã\\x82\\x83ã\\x83\\x82ã\\x82\\x83ã\\x83\\x83ã\\x82\\x82ã\\x83\\x82ã\\x82â¢ã\\x83\\x83ã\\x82\\x83ã\\x83\\x82ã\\x82\\x82ã\\x83\\x83ã\\x82\\x82ã\\x83\\x82ã\\x82\\x80ã\\x83\\x83ã\\x82\\x83ã\\x83\\x82ã\\x82\\x82ã\\x83\\x83ã\\x82\\x82ã\\x83\\x82ã\\x82\\x98sinful waffleã\\x83\\x83ã\\x82\\x83ã\\x83\\x82ã\\x82\\x83ã\\x83\\x83ã\\x82\\x82ã\\x83\\x82ã\\x82â¢ã\\x83\\x83ã\\x82\\x83ã\\x83\\x82ã\\x82\\x82ã\\x83\\x83ã\\x82\\x82ã\\x83\\x82ã\\x82\\x80ã\\x83\\x83ã\\x82\\x83ã\\x83\\x82ã\\x82\\x82ã\\x83\\x83ã\\x82\\x82ã\\x83\\x82ã\\x82\\x99 best waffle crunchy coated nutella chocolate chips try place',\n",
       " 'waffle lover visited outlet friends last weekend yummiest waffles town offer two types waffles sandwich waffles bubble wrap waffles tried sin waffle queen berry waffle strawberry raspberry blueberry cream nutella dark chocolate also customize waffle chose add-ons craving waffles place definitely visit althingsbeautiful.wordpress.com',\n",
       " 'one best waffles ever life amazing ordered nutella waffle rich loved cheers',\n",
       " \"well .... say guess fan total waffle lover cbd watch film.and decided stop outlet try one lip smacking offerings titled crunchy munch waffle sinful combination corn flakes caramel banana cream asked disclude banana tried rest ingredients divine expected also ordered bubble wrap royale.post another one perrenial favourites loved 's creamy texture god bless belgian waffle factory providing awesome.quality affordable price\",\n",
       " 'one pretty decent place waffles try little expensive side though loved white dark chocolate one u customize',\n",
       " 'small cute place mg road get really great waffles variety flavours available choose ã\\x83\\x83ã\\x82\\x83ã\\x83\\x82ã\\x82\\x83ã\\x83\\x83ã\\x82\\x82ã\\x83\\x82ã\\x82â¢ã\\x83\\x83ã\\x82\\x83ã\\x83\\x82ã\\x82\\x82ã\\x83\\x83ã\\x82\\x82ã\\x83\\x82ã\\x82\\x80ã\\x83\\x83ã\\x82\\x83ã\\x83\\x82ã\\x82\\x82ã\\x83\\x83ã\\x82\\x82ã\\x83\\x82ã\\x82\\x98berry blastã\\x83\\x83ã\\x82\\x83ã\\x83\\x82ã\\x82\\x83ã\\x83\\x83ã\\x82\\x82ã\\x83\\x82ã\\x82â¢ã\\x83\\x83ã\\x82\\x83ã\\x83\\x82ã\\x82\\x82ã\\x83\\x83ã\\x82\\x82ã\\x83\\x82ã\\x82\\x80ã\\x83\\x83ã\\x82\\x83ã\\x83\\x82ã\\x82\\x82ã\\x83\\x83ã\\x82\\x82ã\\x83\\x82ã\\x82\\x99 flavour fruity punch strawberries ã\\x83\\x83ã\\x82\\x83ã\\x83\\x82ã\\x82\\x83ã\\x83\\x83ã\\x82\\x82ã\\x83\\x82ã\\x82â¢ã\\x83\\x83ã\\x82\\x83ã\\x83\\x82ã\\x82\\x82ã\\x83\\x83ã\\x82\\x82ã\\x83\\x82ã\\x82\\x80ã\\x83\\x83ã\\x82\\x83ã\\x83\\x82ã\\x82\\x82ã\\x83\\x83ã\\x82\\x82ã\\x83\\x82ã\\x82\\x98coffee breakã\\x83\\x83ã\\x82\\x83ã\\x83\\x82ã\\x82\\x83ã\\x83\\x83ã\\x82\\x82ã\\x83\\x82ã\\x82â¢ã\\x83\\x83ã\\x82\\x83ã\\x83\\x82ã\\x82\\x82ã\\x83\\x83ã\\x82\\x82ã\\x83\\x82ã\\x82\\x80ã\\x83\\x83ã\\x82\\x83ã\\x83\\x82ã\\x82\\x82ã\\x83\\x83ã\\x82\\x82ã\\x83\\x82ã\\x82\\x99 waffle like strong coffee cinnamon ã\\x83\\x83ã\\x82\\x83ã\\x83\\x82ã\\x82\\x83ã\\x83\\x83ã\\x82\\x82ã\\x83\\x82ã\\x82â¢ã\\x83\\x83ã\\x82\\x83ã\\x83\\x82ã\\x82\\x82ã\\x83\\x83ã\\x82\\x82ã\\x83\\x82ã\\x82\\x80ã\\x83\\x83ã\\x82\\x83ã\\x83\\x82ã\\x82\\x82ã\\x83\\x83ã\\x82\\x82ã\\x83\\x82ã\\x82\\x98sinful waffleã\\x83\\x83ã\\x82\\x83ã\\x83\\x82ã\\x82\\x83ã\\x83\\x83ã\\x82\\x82ã\\x83\\x82ã\\x82â¢ã\\x83\\x83ã\\x82\\x83ã\\x83\\x82ã\\x82\\x82ã\\x83\\x83ã\\x82\\x82ã\\x83\\x82ã\\x82\\x80ã\\x83\\x83ã\\x82\\x83ã\\x83\\x82ã\\x82\\x82ã\\x83\\x83ã\\x82\\x82ã\\x83\\x82ã\\x82\\x99 best waffle crunchy coated nutella chocolate chips try place',\n",
       " 'waffle lover visited outlet friends last weekend yummiest waffles town offer two types waffles sandwich waffles bubble wrap waffles tried sin waffle queen berry waffle strawberry raspberry blueberry cream nutella dark chocolate also customize waffle chose add-ons craving waffles place definitely visit althingsbeautiful.wordpress.com',\n",
       " 'one best waffles ever life amazing ordered nutella waffle rich loved cheers',\n",
       " \"well .... say guess fan total waffle lover cbd watch film.and decided stop outlet try one lip smacking offerings titled crunchy munch waffle sinful combination corn flakes caramel banana cream asked disclude banana tried rest ingredients divine expected also ordered bubble wrap royale.post another one perrenial favourites loved 's creamy texture god bless belgian waffle factory providing awesome.quality affordable price\",\n",
       " 'one pretty decent place waffles try little expensive side though loved white dark chocolate one u customize',\n",
       " 'small cute place mg road get really great waffles variety flavours available choose ã\\x83\\x83ã\\x82\\x83ã\\x83\\x82ã\\x82\\x83ã\\x83\\x83ã\\x82\\x82ã\\x83\\x82ã\\x82â¢ã\\x83\\x83ã\\x82\\x83ã\\x83\\x82ã\\x82\\x82ã\\x83\\x83ã\\x82\\x82ã\\x83\\x82ã\\x82\\x80ã\\x83\\x83ã\\x82\\x83ã\\x83\\x82ã\\x82\\x82ã\\x83\\x83ã\\x82\\x82ã\\x83\\x82ã\\x82\\x98berry blastã\\x83\\x83ã\\x82\\x83ã\\x83\\x82ã\\x82\\x83ã\\x83\\x83ã\\x82\\x82ã\\x83\\x82ã\\x82â¢ã\\x83\\x83ã\\x82\\x83ã\\x83\\x82ã\\x82\\x82ã\\x83\\x83ã\\x82\\x82ã\\x83\\x82ã\\x82\\x80ã\\x83\\x83ã\\x82\\x83ã\\x83\\x82ã\\x82\\x82ã\\x83\\x83ã\\x82\\x82ã\\x83\\x82ã\\x82\\x99 flavour fruity punch strawberries ã\\x83\\x83ã\\x82\\x83ã\\x83\\x82ã\\x82\\x83ã\\x83\\x83ã\\x82\\x82ã\\x83\\x82ã\\x82â¢ã\\x83\\x83ã\\x82\\x83ã\\x83\\x82ã\\x82\\x82ã\\x83\\x83ã\\x82\\x82ã\\x83\\x82ã\\x82\\x80ã\\x83\\x83ã\\x82\\x83ã\\x83\\x82ã\\x82\\x82ã\\x83\\x83ã\\x82\\x82ã\\x83\\x82ã\\x82\\x98coffee breakã\\x83\\x83ã\\x82\\x83ã\\x83\\x82ã\\x82\\x83ã\\x83\\x83ã\\x82\\x82ã\\x83\\x82ã\\x82â¢ã\\x83\\x83ã\\x82\\x83ã\\x83\\x82ã\\x82\\x82ã\\x83\\x83ã\\x82\\x82ã\\x83\\x82ã\\x82\\x80ã\\x83\\x83ã\\x82\\x83ã\\x83\\x82ã\\x82\\x82ã\\x83\\x83ã\\x82\\x82ã\\x83\\x82ã\\x82\\x99 waffle like strong coffee cinnamon ã\\x83\\x83ã\\x82\\x83ã\\x83\\x82ã\\x82\\x83ã\\x83\\x83ã\\x82\\x82ã\\x83\\x82ã\\x82â¢ã\\x83\\x83ã\\x82\\x83ã\\x83\\x82ã\\x82\\x82ã\\x83\\x83ã\\x82\\x82ã\\x83\\x82ã\\x82\\x80ã\\x83\\x83ã\\x82\\x83ã\\x83\\x82ã\\x82\\x82ã\\x83\\x83ã\\x82\\x82ã\\x83\\x82ã\\x82\\x98sinful waffleã\\x83\\x83ã\\x82\\x83ã\\x83\\x82ã\\x82\\x83ã\\x83\\x83ã\\x82\\x82ã\\x83\\x82ã\\x82â¢ã\\x83\\x83ã\\x82\\x83ã\\x83\\x82ã\\x82\\x82ã\\x83\\x83ã\\x82\\x82ã\\x83\\x82ã\\x82\\x80ã\\x83\\x83ã\\x82\\x83ã\\x83\\x82ã\\x82\\x82ã\\x83\\x83ã\\x82\\x82ã\\x83\\x82ã\\x82\\x99 best waffle crunchy coated nutella chocolate chips try place',\n",
       " 'waffle lover visited outlet friends last weekend yummiest waffles town offer two types waffles sandwich waffles bubble wrap waffles tried sin waffle queen berry waffle strawberry raspberry blueberry cream nutella dark chocolate also customize waffle chose add-ons craving waffles place definitely visit althingsbeautiful.wordpress.com',\n",
       " 'one best waffles ever life amazing ordered nutella waffle rich loved cheers',\n",
       " \"well .... say guess fan total waffle lover cbd watch film.and decided stop outlet try one lip smacking offerings titled crunchy munch waffle sinful combination corn flakes caramel banana cream asked disclude banana tried rest ingredients divine expected also ordered bubble wrap royale.post another one perrenial favourites loved 's creamy texture god bless belgian waffle factory providing awesome.quality affordable price\",\n",
       " 'one pretty decent place waffles try little expensive side though loved white dark chocolate one u customize',\n",
       " \"waffles really really good tried midnight dream waffle chocolate overload waffle looked great tasted even better 's small place tends get crowded far price goes 's not cheapest likely little higher side however some add ons like fresh strawberries pretty expensive service pretty quick\",\n",
       " 'simply heavenly best place serves amazing waffles ambiance not good cares waffles lip smacking donã\\x83\\x83ã\\x82\\x83ã\\x83\\x82ã\\x82\\x83ã\\x83\\x83ã\\x82\\x82ã\\x83\\x82ã\\x82â¢ã\\x83\\x83ã\\x82\\x83ã\\x83\\x82ã\\x82\\x82ã\\x83\\x83ã\\x82\\x82ã\\x83\\x82ã\\x82\\x80ã\\x83\\x83ã\\x82\\x83ã\\x83\\x82ã\\x82\\x82ã\\x83\\x83ã\\x82\\x82ã\\x83\\x82ã\\x82\\x99t know else say',\n",
       " 'blueberry cream cheese nutella ice cream belgian dark chocolate peanut butter favourite flavoursã\\x83\\x83ã\\x82\\x83ã\\x83\\x82ã\\x82\\x83ã\\x83\\x83ã\\x82\\x82ã\\x83\\x82ã\\x82â°ã\\x83\\x83ã\\x82\\x83ã\\x83\\x82ã\\x82\\x82ã\\x83\\x83ã\\x82\\x82ã\\x83\\x82ã\\x82\\x9fã\\x83\\x83ã\\x82\\x83ã\\x83\\x82ã\\x82\\x82ã\\x83\\x83ã\\x82\\x82ã\\x83\\x82ã\\x82\\x98ã\\x83\\x83ã\\x82\\x83ã\\x83\\x82ã\\x82\\x82ã\\x83\\x83ã\\x82\\x82ã\\x83\\x82ã\\x82\\x8b always hungry belgian waffle 5/5',\n",
       " 'waffle love best waffles place haf taken bubblewaffle chocolate overloaded yumm ever would love keep visiting place',\n",
       " \"saying goes- ca n't sad eat waffle made true belgian waffle factory famous waffles 'the sin 'bubble overload makes drool wanted try best selling waffles first one suggested staff 'the sin nutella milk chocolate n choco chip filled waffle dips different magnitude would sin visit place not try waffle hand bubble overload bubble waffle bubbling surprises choco stick roll choco balls dark chocolate nutella chocolate ice-cream digging treasure island bet one not finish alone 'death chocolate waffles excited try waffles shall update try try place let us know thoughts feedbacks cheers burpoutloudly\",\n",
       " \"waffles really really good tried midnight dream waffle chocolate overload waffle looked great tasted even better 's small place tends get crowded far price goes 's not cheapest likely little higher side however some add ons like fresh strawberries pretty expensive service pretty quick\",\n",
       " 'simply heavenly best place serves amazing waffles ambiance not good cares waffles lip smacking donã\\x83\\x83ã\\x82\\x83ã\\x83\\x82ã\\x82\\x83ã\\x83\\x83ã\\x82\\x82ã\\x83\\x82ã\\x82â¢ã\\x83\\x83ã\\x82\\x83ã\\x83\\x82ã\\x82\\x82ã\\x83\\x83ã\\x82\\x82ã\\x83\\x82ã\\x82\\x80ã\\x83\\x83ã\\x82\\x83ã\\x83\\x82ã\\x82\\x82ã\\x83\\x83ã\\x82\\x82ã\\x83\\x82ã\\x82\\x99t know else say',\n",
       " 'blueberry cream cheese nutella ice cream belgian dark chocolate peanut butter favourite flavoursã\\x83\\x83ã\\x82\\x83ã\\x83\\x82ã\\x82\\x83ã\\x83\\x83ã\\x82\\x82ã\\x83\\x82ã\\x82â°ã\\x83\\x83ã\\x82\\x83ã\\x83\\x82ã\\x82\\x82ã\\x83\\x83ã\\x82\\x82ã\\x83\\x82ã\\x82\\x9fã\\x83\\x83ã\\x82\\x83ã\\x83\\x82ã\\x82\\x82ã\\x83\\x83ã\\x82\\x82ã\\x83\\x82ã\\x82\\x98ã\\x83\\x83ã\\x82\\x83ã\\x83\\x82ã\\x82\\x82ã\\x83\\x83ã\\x82\\x82ã\\x83\\x82ã\\x82\\x8b always hungry belgian waffle 5/5',\n",
       " 'waffle love best waffles place haf taken bubblewaffle chocolate overloaded yumm ever would love keep visiting place',\n",
       " \"saying goes- ca n't sad eat waffle made true belgian waffle factory famous waffles 'the sin 'bubble overload makes drool wanted try best selling waffles first one suggested staff 'the sin nutella milk chocolate n choco chip filled waffle dips different magnitude would sin visit place not try waffle hand bubble overload bubble waffle bubbling surprises choco stick roll choco balls dark chocolate nutella chocolate ice-cream digging treasure island bet one not finish alone 'death chocolate waffles excited try waffles shall update try try place let us know thoughts feedbacks cheers burpoutloudly\",\n",
       " \"waffles really really good tried midnight dream waffle chocolate overload waffle looked great tasted even better 's small place tends get crowded far price goes 's not cheapest likely little higher side however some add ons like fresh strawberries pretty expensive service pretty quick\",\n",
       " 'simply heavenly best place serves amazing waffles ambiance not good cares waffles lip smacking donã\\x83\\x83ã\\x82\\x83ã\\x83\\x82ã\\x82\\x83ã\\x83\\x83ã\\x82\\x82ã\\x83\\x82ã\\x82â¢ã\\x83\\x83ã\\x82\\x83ã\\x83\\x82ã\\x82\\x82ã\\x83\\x83ã\\x82\\x82ã\\x83\\x82ã\\x82\\x80ã\\x83\\x83ã\\x82\\x83ã\\x83\\x82ã\\x82\\x82ã\\x83\\x83ã\\x82\\x82ã\\x83\\x82ã\\x82\\x99t know else say',\n",
       " 'blueberry cream cheese nutella ice cream belgian dark chocolate peanut butter favourite flavoursã\\x83\\x83ã\\x82\\x83ã\\x83\\x82ã\\x82\\x83ã\\x83\\x83ã\\x82\\x82ã\\x83\\x82ã\\x82â°ã\\x83\\x83ã\\x82\\x83ã\\x83\\x82ã\\x82\\x82ã\\x83\\x83ã\\x82\\x82ã\\x83\\x82ã\\x82\\x9fã\\x83\\x83ã\\x82\\x83ã\\x83\\x82ã\\x82\\x82ã\\x83\\x83ã\\x82\\x82ã\\x83\\x82ã\\x82\\x98ã\\x83\\x83ã\\x82\\x83ã\\x83\\x82ã\\x82\\x82ã\\x83\\x83ã\\x82\\x82ã\\x83\\x82ã\\x82\\x8b always hungry belgian waffle 5/5',\n",
       " 'waffle love best waffles place haf taken bubblewaffle chocolate overloaded yumm ever would love keep visiting place',\n",
       " \"saying goes- ca n't sad eat waffle made true belgian waffle factory famous waffles 'the sin 'bubble overload makes drool wanted try best selling waffles first one suggested staff 'the sin nutella milk chocolate n choco chip filled waffle dips different magnitude would sin visit place not try waffle hand bubble overload bubble waffle bubbling surprises choco stick roll choco balls dark chocolate nutella chocolate ice-cream digging treasure island bet one not finish alone 'death chocolate waffles excited try waffles shall update try try place let us know thoughts feedbacks cheers burpoutloudly\",\n",
       " \"waffles really really good tried midnight dream waffle chocolate overload waffle looked great tasted even better 's small place tends get crowded far price goes 's not cheapest likely little higher side however some add ons like fresh strawberries pretty expensive service pretty quick\",\n",
       " 'simply heavenly best place serves amazing waffles ambiance not good cares waffles lip smacking donã\\x83\\x83ã\\x82\\x83ã\\x83\\x82ã\\x82\\x83ã\\x83\\x83ã\\x82\\x82ã\\x83\\x82ã\\x82â¢ã\\x83\\x83ã\\x82\\x83ã\\x83\\x82ã\\x82\\x82ã\\x83\\x83ã\\x82\\x82ã\\x83\\x82ã\\x82\\x80ã\\x83\\x83ã\\x82\\x83ã\\x83\\x82ã\\x82\\x82ã\\x83\\x83ã\\x82\\x82ã\\x83\\x82ã\\x82\\x99t know else say',\n",
       " 'blueberry cream cheese nutella ice cream belgian dark chocolate peanut butter favourite flavoursã\\x83\\x83ã\\x82\\x83ã\\x83\\x82ã\\x82\\x83ã\\x83\\x83ã\\x82\\x82ã\\x83\\x82ã\\x82â°ã\\x83\\x83ã\\x82\\x83ã\\x83\\x82ã\\x82\\x82ã\\x83\\x83ã\\x82\\x82ã\\x83\\x82ã\\x82\\x9fã\\x83\\x83ã\\x82\\x83ã\\x83\\x82ã\\x82\\x82ã\\x83\\x83ã\\x82\\x82ã\\x83\\x82ã\\x82\\x98ã\\x83\\x83ã\\x82\\x83ã\\x83\\x82ã\\x82\\x82ã\\x83\\x83ã\\x82\\x82ã\\x83\\x82ã\\x82\\x8b always hungry belgian waffle 5/5',\n",
       " 'waffle love best waffles place haf taken bubblewaffle chocolate overloaded yumm ever would love keep visiting place',\n",
       " \"saying goes- ca n't sad eat waffle made true belgian waffle factory famous waffles 'the sin 'bubble overload makes drool wanted try best selling waffles first one suggested staff 'the sin nutella milk chocolate n choco chip filled waffle dips different magnitude would sin visit place not try waffle hand bubble overload bubble waffle bubbling surprises choco stick roll choco balls dark chocolate nutella chocolate ice-cream digging treasure island bet one not finish alone 'death chocolate waffles excited try waffles shall update try try place let us know thoughts feedbacks cheers burpoutloudly\",\n",
       " \"waffles really really good tried midnight dream waffle chocolate overload waffle looked great tasted even better 's small place tends get crowded far price goes 's not cheapest likely little higher side however some add ons like fresh strawberries pretty expensive service pretty quick\",\n",
       " 'simply heavenly best place serves amazing waffles ambiance not good cares waffles lip smacking donã\\x83\\x83ã\\x82\\x83ã\\x83\\x82ã\\x82\\x83ã\\x83\\x83ã\\x82\\x82ã\\x83\\x82ã\\x82â¢ã\\x83\\x83ã\\x82\\x83ã\\x83\\x82ã\\x82\\x82ã\\x83\\x83ã\\x82\\x82ã\\x83\\x82ã\\x82\\x80ã\\x83\\x83ã\\x82\\x83ã\\x83\\x82ã\\x82\\x82ã\\x83\\x83ã\\x82\\x82ã\\x83\\x82ã\\x82\\x99t know else say',\n",
       " 'blueberry cream cheese nutella ice cream belgian dark chocolate peanut butter favourite flavoursã\\x83\\x83ã\\x82\\x83ã\\x83\\x82ã\\x82\\x83ã\\x83\\x83ã\\x82\\x82ã\\x83\\x82ã\\x82â°ã\\x83\\x83ã\\x82\\x83ã\\x83\\x82ã\\x82\\x82ã\\x83\\x83ã\\x82\\x82ã\\x83\\x82ã\\x82\\x9fã\\x83\\x83ã\\x82\\x83ã\\x83\\x82ã\\x82\\x82ã\\x83\\x83ã\\x82\\x82ã\\x83\\x82ã\\x82\\x98ã\\x83\\x83ã\\x82\\x83ã\\x83\\x82ã\\x82\\x82ã\\x83\\x83ã\\x82\\x82ã\\x83\\x82ã\\x82\\x8b always hungry belgian waffle 5/5',\n",
       " 'waffle love best waffles place haf taken bubblewaffle chocolate overloaded yumm ever would love keep visiting place',\n",
       " \"saying goes- ca n't sad eat waffle made true belgian waffle factory famous waffles 'the sin 'bubble overload makes drool wanted try best selling waffles first one suggested staff 'the sin nutella milk chocolate n choco chip filled waffle dips different magnitude would sin visit place not try waffle hand bubble overload bubble waffle bubbling surprises choco stick roll choco balls dark chocolate nutella chocolate ice-cream digging treasure island bet one not finish alone 'death chocolate waffles excited try waffles shall update try try place let us know thoughts feedbacks cheers burpoutloudly\",\n",
       " \"waffles really really good tried midnight dream waffle chocolate overload waffle looked great tasted even better 's small place tends get crowded far price goes 's not cheapest likely little higher side however some add ons like fresh strawberries pretty expensive service pretty quick\",\n",
       " 'simply heavenly best place serves amazing waffles ambiance not good cares waffles lip smacking donã\\x83\\x83ã\\x82\\x83ã\\x83\\x82ã\\x82\\x83ã\\x83\\x83ã\\x82\\x82ã\\x83\\x82ã\\x82â¢ã\\x83\\x83ã\\x82\\x83ã\\x83\\x82ã\\x82\\x82ã\\x83\\x83ã\\x82\\x82ã\\x83\\x82ã\\x82\\x80ã\\x83\\x83ã\\x82\\x83ã\\x83\\x82ã\\x82\\x82ã\\x83\\x83ã\\x82\\x82ã\\x83\\x82ã\\x82\\x99t know else say',\n",
       " 'blueberry cream cheese nutella ice cream belgian dark chocolate peanut butter favourite flavoursã\\x83\\x83ã\\x82\\x83ã\\x83\\x82ã\\x82\\x83ã\\x83\\x83ã\\x82\\x82ã\\x83\\x82ã\\x82â°ã\\x83\\x83ã\\x82\\x83ã\\x83\\x82ã\\x82\\x82ã\\x83\\x83ã\\x82\\x82ã\\x83\\x82ã\\x82\\x9fã\\x83\\x83ã\\x82\\x83ã\\x83\\x82ã\\x82\\x82ã\\x83\\x83ã\\x82\\x82ã\\x83\\x82ã\\x82\\x98ã\\x83\\x83ã\\x82\\x83ã\\x83\\x82ã\\x82\\x82ã\\x83\\x83ã\\x82\\x82ã\\x83\\x82ã\\x82\\x8b always hungry belgian waffle 5/5',\n",
       " 'waffle love best waffles place haf taken bubblewaffle chocolate overloaded yumm ever would love keep visiting place',\n",
       " \"saying goes- ca n't sad eat waffle made true belgian waffle factory famous waffles 'the sin 'bubble overload makes drool wanted try best selling waffles first one suggested staff 'the sin nutella milk chocolate n choco chip filled waffle dips different magnitude would sin visit place not try waffle hand bubble overload bubble waffle bubbling surprises choco stick roll choco balls dark chocolate nutella chocolate ice-cream digging treasure island bet one not finish alone 'death chocolate waffles excited try waffles shall update try try place let us know thoughts feedbacks cheers burpoutloudly\",\n",
       " \"waffles really really good tried midnight dream waffle chocolate overload waffle looked great tasted even better 's small place tends get crowded far price goes 's not cheapest likely little higher side however some add ons like fresh strawberries pretty expensive service pretty quick\",\n",
       " 'simply heavenly best place serves amazing waffles ambiance not good cares waffles lip smacking donã\\x83\\x83ã\\x82\\x83ã\\x83\\x82ã\\x82\\x83ã\\x83\\x83ã\\x82\\x82ã\\x83\\x82ã\\x82â¢ã\\x83\\x83ã\\x82\\x83ã\\x83\\x82ã\\x82\\x82ã\\x83\\x83ã\\x82\\x82ã\\x83\\x82ã\\x82\\x80ã\\x83\\x83ã\\x82\\x83ã\\x83\\x82ã\\x82\\x82ã\\x83\\x83ã\\x82\\x82ã\\x83\\x82ã\\x82\\x99t know else say',\n",
       " 'blueberry cream cheese nutella ice cream belgian dark chocolate peanut butter favourite flavoursã\\x83\\x83ã\\x82\\x83ã\\x83\\x82ã\\x82\\x83ã\\x83\\x83ã\\x82\\x82ã\\x83\\x82ã\\x82â°ã\\x83\\x83ã\\x82\\x83ã\\x83\\x82ã\\x82\\x82ã\\x83\\x83ã\\x82\\x82ã\\x83\\x82ã\\x82\\x9fã\\x83\\x83ã\\x82\\x83ã\\x83\\x82ã\\x82\\x82ã\\x83\\x83ã\\x82\\x82ã\\x83\\x82ã\\x82\\x98ã\\x83\\x83ã\\x82\\x83ã\\x83\\x82ã\\x82\\x82ã\\x83\\x83ã\\x82\\x82ã\\x83\\x82ã\\x82\\x8b always hungry belgian waffle 5/5',\n",
       " 'waffle love best waffles place haf taken bubblewaffle chocolate overloaded yumm ever would love keep visiting place',\n",
       " \"saying goes- ca n't sad eat waffle made true belgian waffle factory famous waffles 'the sin 'bubble overload makes drool wanted try best selling waffles first one suggested staff 'the sin nutella milk chocolate n choco chip filled waffle dips different magnitude would sin visit place not try waffle hand bubble overload bubble waffle bubbling surprises choco stick roll choco balls dark chocolate nutella chocolate ice-cream digging treasure island bet one not finish alone 'death chocolate waffles excited try waffles shall update try try place let us know thoughts feedbacks cheers burpoutloudly\",\n",
       " 'amazing totally impressed place give place full 5 rating without doubt fresh crisp good quality waffles tried sin red wonder waffles bubble overload waffles loved sin hot chocolatey .. also peri peri fries helped interlude waffles altogether best waffles bangalore would love visit place try some types waffles',\n",
       " \"belgian waffle factory undoubtedly serves sublime waffles ca n't get enough ordered sin waffle chocolate overload waffle red wonder waffle three definite must-tries said 've listed order preference without doubt belgian waffle factory must-visit dessert fans go ahead indulge\",\n",
       " 'one best places good waffle quantity good waffle people great friendly thing miss place savoury waffle havenã\\x83\\x83ã\\x82\\x83ã\\x83\\x82ã\\x82\\x83ã\\x83\\x83ã\\x82\\x82ã\\x83\\x82ã\\x82â¢ã\\x83\\x83ã\\x82\\x83ã\\x83\\x82ã\\x82\\x82ã\\x83\\x83ã\\x82\\x82ã\\x83\\x82ã\\x82\\x80ã\\x83\\x83ã\\x82\\x83ã\\x83\\x82ã\\x82\\x82ã\\x83\\x83ã\\x82\\x82ã\\x83\\x82ã\\x82\\x99t got back longgg time',\n",
       " 'searching some waffle places zomato ended going place menu seemed tempting finally decided visit place tried chocolate overload waffle really good tasted nice perfect chocoholics',\n",
       " 'amazing totally impressed place give place full 5 rating without doubt fresh crisp good quality waffles tried sin red wonder waffles bubble overload waffles loved sin hot chocolatey .. also peri peri fries helped interlude waffles altogether best waffles bangalore would love visit place try some types waffles',\n",
       " \"belgian waffle factory undoubtedly serves sublime waffles ca n't get enough ordered sin waffle chocolate overload waffle red wonder waffle three definite must-tries said 've listed order preference without doubt belgian waffle factory must-visit dessert fans go ahead indulge\",\n",
       " 'one best places good waffle quantity good waffle people great friendly thing miss place savoury waffle havenã\\x83\\x83ã\\x82\\x83ã\\x83\\x82ã\\x82\\x83ã\\x83\\x83ã\\x82\\x82ã\\x83\\x82ã\\x82â¢ã\\x83\\x83ã\\x82\\x83ã\\x83\\x82ã\\x82\\x82ã\\x83\\x83ã\\x82\\x82ã\\x83\\x82ã\\x82\\x80ã\\x83\\x83ã\\x82\\x83ã\\x83\\x82ã\\x82\\x82ã\\x83\\x83ã\\x82\\x82ã\\x83\\x82ã\\x82\\x99t got back longgg time',\n",
       " 'searching some waffle places zomato ended going place menu seemed tempting finally decided visit place tried chocolate overload waffle really good tasted nice perfect chocoholics',\n",
       " 'amazing totally impressed place give place full 5 rating without doubt fresh crisp good quality waffles tried sin red wonder waffles bubble overload waffles loved sin hot chocolatey .. also peri peri fries helped interlude waffles altogether best waffles bangalore would love visit place try some types waffles',\n",
       " \"belgian waffle factory undoubtedly serves sublime waffles ca n't get enough ordered sin waffle chocolate overload waffle red wonder waffle three definite must-tries said 've listed order preference without doubt belgian waffle factory must-visit dessert fans go ahead indulge\",\n",
       " 'one best places good waffle quantity good waffle people great friendly thing miss place savoury waffle havenã\\x83\\x83ã\\x82\\x83ã\\x83\\x82ã\\x82\\x83ã\\x83\\x83ã\\x82\\x82ã\\x83\\x82ã\\x82â¢ã\\x83\\x83ã\\x82\\x83ã\\x83\\x82ã\\x82\\x82ã\\x83\\x83ã\\x82\\x82ã\\x83\\x82ã\\x82\\x80ã\\x83\\x83ã\\x82\\x83ã\\x83\\x82ã\\x82\\x82ã\\x83\\x83ã\\x82\\x82ã\\x83\\x82ã\\x82\\x99t got back longgg time',\n",
       " 'searching some waffle places zomato ended going place menu seemed tempting finally decided visit place tried chocolate overload waffle really good tasted nice perfect chocoholics',\n",
       " 'amazing totally impressed place give place full 5 rating without doubt fresh crisp good quality waffles tried sin red wonder waffles bubble overload waffles loved sin hot chocolatey .. also peri peri fries helped interlude waffles altogether best waffles bangalore would love visit place try some types waffles',\n",
       " \"belgian waffle factory undoubtedly serves sublime waffles ca n't get enough ordered sin waffle chocolate overload waffle red wonder waffle three definite must-tries said 've listed order preference without doubt belgian waffle factory must-visit dessert fans go ahead indulge\",\n",
       " 'one best places good waffle quantity good waffle people great friendly thing miss place savoury waffle havenã\\x83\\x83ã\\x82\\x83ã\\x83\\x82ã\\x82\\x83ã\\x83\\x83ã\\x82\\x82ã\\x83\\x82ã\\x82â¢ã\\x83\\x83ã\\x82\\x83ã\\x83\\x82ã\\x82\\x82ã\\x83\\x83ã\\x82\\x82ã\\x83\\x82ã\\x82\\x80ã\\x83\\x83ã\\x82\\x83ã\\x83\\x82ã\\x82\\x82ã\\x83\\x83ã\\x82\\x82ã\\x83\\x82ã\\x82\\x99t got back longgg time',\n",
       " 'searching some waffle places zomato ended going place menu seemed tempting finally decided visit place tried chocolate overload waffle really good tasted nice perfect chocoholics',\n",
       " 'amazing totally impressed place give place full 5 rating without doubt fresh crisp good quality waffles tried sin red wonder waffles bubble overload waffles loved sin hot chocolatey .. also peri peri fries helped interlude waffles altogether best waffles bangalore would love visit place try some types waffles',\n",
       " \"belgian waffle factory undoubtedly serves sublime waffles ca n't get enough ordered sin waffle chocolate overload waffle red wonder waffle three definite must-tries said 've listed order preference without doubt belgian waffle factory must-visit dessert fans go ahead indulge\",\n",
       " 'one best places good waffle quantity good waffle people great friendly thing miss place savoury waffle havenã\\x83\\x83ã\\x82\\x83ã\\x83\\x82ã\\x82\\x83ã\\x83\\x83ã\\x82\\x82ã\\x83\\x82ã\\x82â¢ã\\x83\\x83ã\\x82\\x83ã\\x83\\x82ã\\x82\\x82ã\\x83\\x83ã\\x82\\x82ã\\x83\\x82ã\\x82\\x80ã\\x83\\x83ã\\x82\\x83ã\\x83\\x82ã\\x82\\x82ã\\x83\\x83ã\\x82\\x82ã\\x83\\x82ã\\x82\\x99t got back longgg time',\n",
       " 'searching some waffle places zomato ended going place menu seemed tempting finally decided visit place tried chocolate overload waffle really good tasted nice perfect chocoholics',\n",
       " 'amazing totally impressed place give place full 5 rating without doubt fresh crisp good quality waffles tried sin red wonder waffles bubble overload waffles loved sin hot chocolatey .. also peri peri fries helped interlude waffles altogether best waffles bangalore would love visit place try some types waffles',\n",
       " \"belgian waffle factory undoubtedly serves sublime waffles ca n't get enough ordered sin waffle chocolate overload waffle red wonder waffle three definite must-tries said 've listed order preference without doubt belgian waffle factory must-visit dessert fans go ahead indulge\",\n",
       " 'one best places good waffle quantity good waffle people great friendly thing miss place savoury waffle havenã\\x83\\x83ã\\x82\\x83ã\\x83\\x82ã\\x82\\x83ã\\x83\\x83ã\\x82\\x82ã\\x83\\x82ã\\x82â¢ã\\x83\\x83ã\\x82\\x83ã\\x83\\x82ã\\x82\\x82ã\\x83\\x83ã\\x82\\x82ã\\x83\\x82ã\\x82\\x80ã\\x83\\x83ã\\x82\\x83ã\\x83\\x82ã\\x82\\x82ã\\x83\\x83ã\\x82\\x82ã\\x83\\x82ã\\x82\\x99t got back longgg time',\n",
       " 'searching some waffle places zomato ended going place menu seemed tempting finally decided visit place tried chocolate overload waffle really good tasted nice perfect chocoholics',\n",
       " 'amazing totally impressed place give place full 5 rating without doubt fresh crisp good quality waffles tried sin red wonder waffles bubble overload waffles loved sin hot chocolatey .. also peri peri fries helped interlude waffles altogether best waffles bangalore would love visit place try some types waffles',\n",
       " \"belgian waffle factory undoubtedly serves sublime waffles ca n't get enough ordered sin waffle chocolate overload waffle red wonder waffle three definite must-tries said 've listed order preference without doubt belgian waffle factory must-visit dessert fans go ahead indulge\",\n",
       " 'one best places good waffle quantity good waffle people great friendly thing miss place savoury waffle havenã\\x83\\x83ã\\x82\\x83ã\\x83\\x82ã\\x82\\x83ã\\x83\\x83ã\\x82\\x82ã\\x83\\x82ã\\x82â¢ã\\x83\\x83ã\\x82\\x83ã\\x83\\x82ã\\x82\\x82ã\\x83\\x83ã\\x82\\x82ã\\x83\\x82ã\\x82\\x80ã\\x83\\x83ã\\x82\\x83ã\\x83\\x82ã\\x82\\x82ã\\x83\\x83ã\\x82\\x82ã\\x83\\x82ã\\x82\\x99t got back longgg time',\n",
       " 'searching some waffle places zomato ended going place menu seemed tempting finally decided visit place tried chocolate overload waffle really good tasted nice perfect chocoholics',\n",
       " 'amazing totally impressed place give place full 5 rating without doubt fresh crisp good quality waffles tried sin red wonder waffles bubble overload waffles loved sin hot chocolatey .. also peri peri fries helped interlude waffles altogether best waffles bangalore would love visit place try some types waffles',\n",
       " \"belgian waffle factory undoubtedly serves sublime waffles ca n't get enough ordered sin waffle chocolate overload waffle red wonder waffle three definite must-tries said 've listed order preference without doubt belgian waffle factory must-visit dessert fans go ahead indulge\",\n",
       " 'one best places good waffle quantity good waffle people great friendly thing miss place savoury waffle havenã\\x83\\x83ã\\x82\\x83ã\\x83\\x82ã\\x82\\x83ã\\x83\\x83ã\\x82\\x82ã\\x83\\x82ã\\x82â¢ã\\x83\\x83ã\\x82\\x83ã\\x83\\x82ã\\x82\\x82ã\\x83\\x83ã\\x82\\x82ã\\x83\\x82ã\\x82\\x80ã\\x83\\x83ã\\x82\\x83ã\\x83\\x82ã\\x82\\x82ã\\x83\\x83ã\\x82\\x82ã\\x83\\x82ã\\x82\\x99t got back longgg time',\n",
       " 'searching some waffle places zomato ended going place menu seemed tempting finally decided visit place tried chocolate overload waffle really good tasted nice perfect chocoholics',\n",
       " 'belgian waffle factory located ashok nagar brigade road bengaluru place known bubble waffles staff friendly service quick definitely try tried queen berry bubble bubble overload ambience 4.5/5 service 5/5 food 5/5',\n",
       " 'recent visit bangalore tried waffle corner ashok nagar glad spent money worthy place ambience pretty small staff food quality takes hit heart ordered red wonder bubble bubble overload one sin waffles really damn delicious would personally recommend try bubble waffles amazing staf friendly aswell',\n",
       " \"place taken waffle game whole new level exotic waffles like 've never see plain waffles pretty common every makes place different unique waffle brands signature bubble waffle n't find brands 'd highly recommend anyone try bubble waffle looks big chunky eating feels smooth delicious visited place place completely packed customers really shows place waffles really popular among waffle lovers observed frequent online orders waffles shows great demand waffles excellent service staff quick delivery\",\n",
       " 'traveling went place quick snack ended trying bubble waffle big sufficient chocolatly tasty black yellow theme interior quite small place time crowded',\n",
       " 'belgian waffle factory located ashok nagar brigade road bengaluru place known bubble waffles staff friendly service quick definitely try tried queen berry bubble bubble overload ambience 4.5/5 service 5/5 food 5/5',\n",
       " 'recent visit bangalore tried waffle corner ashok nagar glad spent money worthy place ambience pretty small staff food quality takes hit heart ordered red wonder bubble bubble overload one sin waffles really damn delicious would personally recommend try bubble waffles amazing staf friendly aswell',\n",
       " \"place taken waffle game whole new level exotic waffles like 've never see plain waffles pretty common every makes place different unique waffle brands signature bubble waffle n't find brands 'd highly recommend anyone try bubble waffle looks big chunky eating feels smooth delicious visited place place completely packed customers really shows place waffles really popular among waffle lovers observed frequent online orders waffles shows great demand waffles excellent service staff quick delivery\",\n",
       " 'traveling went place quick snack ended trying bubble waffle big sufficient chocolatly tasty black yellow theme interior quite small place time crowded',\n",
       " 'belgian waffle factory located ashok nagar brigade road bengaluru place known bubble waffles staff friendly service quick definitely try tried queen berry bubble bubble overload ambience 4.5/5 service 5/5 food 5/5',\n",
       " 'recent visit bangalore tried waffle corner ashok nagar glad spent money worthy place ambience pretty small staff food quality takes hit heart ordered red wonder bubble bubble overload one sin waffles really damn delicious would personally recommend try bubble waffles amazing staf friendly aswell',\n",
       " \"place taken waffle game whole new level exotic waffles like 've never see plain waffles pretty common every makes place different unique waffle brands signature bubble waffle n't find brands 'd highly recommend anyone try bubble waffle looks big chunky eating feels smooth delicious visited place place completely packed customers really shows place waffles really popular among waffle lovers observed frequent online orders waffles shows great demand waffles excellent service staff quick delivery\",\n",
       " ...]"
      ]
     },
     "execution_count": 34,
     "metadata": {},
     "output_type": "execute_result"
    }
   ],
   "source": [
    "reviews_clean"
   ]
  },
  {
   "cell_type": "code",
   "execution_count": 35,
   "id": "fcd2bfe7",
   "metadata": {},
   "outputs": [
    {
     "data": {
      "text/plain": [
       "0        1.0\n",
       "1        5.0\n",
       "2        4.0\n",
       "3        4.0\n",
       "4        5.0\n",
       "        ... \n",
       "27743    4.0\n",
       "27744    4.0\n",
       "27745    5.0\n",
       "27746    5.0\n",
       "27747    3.0\n",
       "Name: rating, Length: 27748, dtype: float64"
      ]
     },
     "execution_count": 35,
     "metadata": {},
     "output_type": "execute_result"
    }
   ],
   "source": [
    " reviews1.rating"
   ]
  },
  {
   "cell_type": "code",
   "execution_count": 36,
   "id": "04c26a20",
   "metadata": {},
   "outputs": [],
   "source": [
    "x= reviews_clean\n",
    "y = reviews1.rating"
   ]
  },
  {
   "cell_type": "code",
   "execution_count": 37,
   "id": "6c3f0109",
   "metadata": {},
   "outputs": [],
   "source": [
    "from sklearn.model_selection import train_test_split\n",
    "x_train,x_test, y_train, y_test = train_test_split(x, y, test_size = 0.30, random_state=42)"
   ]
  },
  {
   "cell_type": "markdown",
   "id": "a40a32b2",
   "metadata": {},
   "source": [
    "# Feature Extraction"
   ]
  },
  {
   "cell_type": "markdown",
   "id": "eede6ff5",
   "metadata": {},
   "source": [
    "## Document term matrix using Tfldf\n",
    "\n",
    "The feature extraction used here is Tf-Idf \n",
    "\n",
    "Tf - Term frequency (words counted for their number of occurences in the document.)\n",
    "\n",
    "Tf calculation:\n",
    "\n",
    "    No.of occurances of word divided by total number of words in the document.\n",
    "\n",
    "Idf - Inverse Document Frequency (calculates the rarity of the words.For Rarely used words may hold significant information)\n",
    "\n",
    "Idf calculation:\n",
    "\n",
    "    Reciprocal of Tf.\n",
    "\n"
   ]
  },
  {
   "cell_type": "code",
   "execution_count": 38,
   "id": "bac4bb7b",
   "metadata": {},
   "outputs": [],
   "source": [
    "from sklearn.feature_extraction.text import TfidfVectorizer"
   ]
  },
  {
   "cell_type": "code",
   "execution_count": 39,
   "id": "dd3720e9",
   "metadata": {},
   "outputs": [],
   "source": [
    "vectorizer = TfidfVectorizer(max_features = 5000)"
   ]
  },
  {
   "cell_type": "code",
   "execution_count": 40,
   "id": "89b7306e",
   "metadata": {},
   "outputs": [
    {
     "data": {
      "text/plain": [
       "(19423, 8325)"
      ]
     },
     "execution_count": 40,
     "metadata": {},
     "output_type": "execute_result"
    }
   ],
   "source": [
    "len(x_train),len(x_test)"
   ]
  },
  {
   "cell_type": "code",
   "execution_count": 41,
   "id": "e9ef180a",
   "metadata": {},
   "outputs": [],
   "source": [
    "x_train_bow = vectorizer.fit_transform(x_train)"
   ]
  },
  {
   "cell_type": "code",
   "execution_count": 42,
   "id": "7db70e7a",
   "metadata": {},
   "outputs": [],
   "source": [
    "x_test_bow = vectorizer.transform(x_test)"
   ]
  },
  {
   "cell_type": "code",
   "execution_count": 43,
   "id": "250092d5",
   "metadata": {},
   "outputs": [
    {
     "data": {
      "text/plain": [
       "((19423, 5000), (8325, 5000))"
      ]
     },
     "execution_count": 43,
     "metadata": {},
     "output_type": "execute_result"
    }
   ],
   "source": [
    "x_train_bow.shape,x_test_bow.shape"
   ]
  },
  {
   "cell_type": "markdown",
   "id": "a67a2001",
   "metadata": {},
   "source": [
    "## Model Building\n",
    "\n",
    "Statistical Model performed here is Random forest Regressor. "
   ]
  },
  {
   "cell_type": "code",
   "execution_count": 44,
   "id": "95d1aa69",
   "metadata": {},
   "outputs": [],
   "source": [
    "\n",
    "from sklearn.ensemble import RandomForestRegressor, GradientBoostingRegressor\n",
    "\n"
   ]
  },
  {
   "cell_type": "code",
   "execution_count": 82,
   "id": "5c28d05f",
   "metadata": {},
   "outputs": [],
   "source": [
    "?RandomForestRegressor"
   ]
  },
  {
   "cell_type": "markdown",
   "id": "a723583a",
   "metadata": {},
   "source": [
    "### Performing Random Forest Regressor with single tree."
   ]
  },
  {
   "cell_type": "code",
   "execution_count": 46,
   "id": "2bd111f8",
   "metadata": {},
   "outputs": [],
   "source": [
    "learner_rf = RandomForestRegressor(random_state=42)"
   ]
  },
  {
   "cell_type": "code",
   "execution_count": null,
   "id": "6ee4a3b8",
   "metadata": {},
   "outputs": [],
   "source": [
    "learner_rf.fit(x_train_bow,y_train)"
   ]
  },
  {
   "cell_type": "markdown",
   "id": "f009bdc8",
   "metadata": {},
   "source": [
    "### Predicting and performing metrics"
   ]
  },
  {
   "cell_type": "code",
   "execution_count": 48,
   "id": "e7bfa1ca",
   "metadata": {},
   "outputs": [],
   "source": [
    "y_train_preds = learner_rf.predict(x_train_bow)"
   ]
  },
  {
   "cell_type": "code",
   "execution_count": 49,
   "id": "1a97cbef",
   "metadata": {},
   "outputs": [],
   "source": [
    "from sklearn.metrics import mean_squared_error"
   ]
  },
  {
   "cell_type": "code",
   "execution_count": 50,
   "id": "5aa31c5e",
   "metadata": {},
   "outputs": [
    {
     "data": {
      "text/plain": [
       "0.2374354773429524"
      ]
     },
     "execution_count": 50,
     "metadata": {},
     "output_type": "execute_result"
    }
   ],
   "source": [
    "mean_squared_error(y_train, y_train_preds)**0.5"
   ]
  },
  {
   "cell_type": "markdown",
   "id": "e26bedb3",
   "metadata": {},
   "source": [
    "### Increasing the number of trees."
   ]
  },
  {
   "cell_type": "code",
   "execution_count": 69,
   "id": "58504045",
   "metadata": {},
   "outputs": [],
   "source": [
    "learner_rf = RandomForestRegressor(random_state=42, n_estimators=1100)\n"
   ]
  },
  {
   "cell_type": "code",
   "execution_count": 70,
   "id": "7a9f2ac0",
   "metadata": {},
   "outputs": [
    {
     "name": "stdout",
     "output_type": "stream",
     "text": [
      "CPU times: total: 1h 6min\n",
      "Wall time: 1h 26min 49s\n"
     ]
    },
    {
     "data": {
      "text/plain": [
       "RandomForestRegressor(n_estimators=1100, random_state=42)"
      ]
     },
     "execution_count": 70,
     "metadata": {},
     "output_type": "execute_result"
    }
   ],
   "source": [
    "%%time\n",
    "learner_rf.fit(x_train_bow, y_train)"
   ]
  },
  {
   "cell_type": "code",
   "execution_count": 71,
   "id": "bcbde3b4",
   "metadata": {},
   "outputs": [],
   "source": [
    "y_train_preds = learner_rf.predict(x_train_bow)"
   ]
  },
  {
   "cell_type": "code",
   "execution_count": 72,
   "id": "2d32a756",
   "metadata": {},
   "outputs": [
    {
     "data": {
      "text/plain": [
       "0.23428164760326076"
      ]
     },
     "execution_count": 72,
     "metadata": {},
     "output_type": "execute_result"
    }
   ],
   "source": [
    "mean_squared_error(y_train, y_train_preds)**0.5"
   ]
  },
  {
   "cell_type": "markdown",
   "id": "3804fcf3",
   "metadata": {},
   "source": [
    "## Hyper-parameter Turning.\n",
    "\n",
    "    In machine learning, tuning or hyper parameter optimization is the difficulty of picking a collection of optimal parameters for a model learning algorithm. A hyper Parameter is also called a model predictor, since its value is used as a starting point for the model learning algorithm. "
   ]
  },
  {
   "cell_type": "code",
   "execution_count": 73,
   "id": "f960da70",
   "metadata": {},
   "outputs": [],
   "source": [
    "from sklearn.model_selection import GridSearchCV"
   ]
  },
  {
   "cell_type": "code",
   "execution_count": 74,
   "id": "c8928552",
   "metadata": {},
   "outputs": [],
   "source": [
    "?RandomForestRegressor"
   ]
  },
  {
   "cell_type": "code",
   "execution_count": 75,
   "id": "1fd7c456",
   "metadata": {},
   "outputs": [],
   "source": [
    "learner_rf = RandomForestRegressor(random_state=42)"
   ]
  },
  {
   "cell_type": "code",
   "execution_count": 76,
   "id": "b869dc34",
   "metadata": {},
   "outputs": [],
   "source": [
    "param_grid= {\n",
    "    'max_features':[1000,'sqrt','log2',\"auto\"],\n",
    "    'max_depth':[50,50,100]\n",
    "}"
   ]
  },
  {
   "cell_type": "code",
   "execution_count": 77,
   "id": "eca14cda",
   "metadata": {},
   "outputs": [],
   "source": [
    "grid_search = GridSearchCV(estimator = learner_rf,param_grid = param_grid,\n",
    "                          cv = 5, n_jobs = -1, verbose = 1, scoring = \"neg_mean_squared_error\" )"
   ]
  },
  {
   "cell_type": "code",
   "execution_count": 79,
   "id": "496daf06",
   "metadata": {},
   "outputs": [
    {
     "name": "stdout",
     "output_type": "stream",
     "text": [
      "Fitting 5 folds for each of 12 candidates, totalling 60 fits\n"
     ]
    },
    {
     "data": {
      "text/plain": [
       "GridSearchCV(cv=5, estimator=RandomForestRegressor(random_state=42), n_jobs=-1,\n",
       "             param_grid={'max_depth': [50, 50, 100],\n",
       "                         'max_features': [1000, 'sqrt', 'log2', 'auto']},\n",
       "             scoring='neg_mean_squared_error', verbose=1)"
      ]
     },
     "execution_count": 79,
     "metadata": {},
     "output_type": "execute_result"
    }
   ],
   "source": [
    "grid_search.fit(x_train_bow, y_train)"
   ]
  },
  {
   "cell_type": "code",
   "execution_count": 81,
   "id": "e6314fb3",
   "metadata": {},
   "outputs": [],
   "source": [
    "from sklearn.model_selection import GridSearchCV"
   ]
  },
  {
   "cell_type": "code",
   "execution_count": 83,
   "id": "7aef3673",
   "metadata": {},
   "outputs": [
    {
     "data": {
      "text/plain": [
       "RandomForestRegressor(max_depth=100, max_features=1000, random_state=42)"
      ]
     },
     "execution_count": 83,
     "metadata": {},
     "output_type": "execute_result"
    }
   ],
   "source": [
    "grid_search.best_estimator_"
   ]
  },
  {
   "cell_type": "code",
   "execution_count": 84,
   "id": "3c0cd866",
   "metadata": {},
   "outputs": [],
   "source": [
    "y_train_pred = grid_search.best_estimator_.predict(x_train_bow)"
   ]
  },
  {
   "cell_type": "code",
   "execution_count": 85,
   "id": "8fe214d0",
   "metadata": {},
   "outputs": [],
   "source": [
    "y_test_pred = grid_search.best_estimator_.predict(x_test_bow)\n"
   ]
  },
  {
   "cell_type": "code",
   "execution_count": 86,
   "id": "1b25ae82",
   "metadata": {},
   "outputs": [
    {
     "data": {
      "text/plain": [
       "0.2539152158396246"
      ]
     },
     "execution_count": 86,
     "metadata": {},
     "output_type": "execute_result"
    }
   ],
   "source": [
    "mean_squared_error(y_train, y_train_pred)**0.5"
   ]
  },
  {
   "cell_type": "code",
   "execution_count": 87,
   "id": "384d58f5",
   "metadata": {},
   "outputs": [
    {
     "data": {
      "text/plain": [
       "0.483176080429695"
      ]
     },
     "execution_count": 87,
     "metadata": {},
     "output_type": "execute_result"
    }
   ],
   "source": [
    "mean_squared_error(y_test, y_test_pred)**0.5"
   ]
  },
  {
   "cell_type": "code",
   "execution_count": 88,
   "id": "5c6999ea",
   "metadata": {},
   "outputs": [],
   "source": [
    "res_df = pd.DataFrame({'review':x_test, 'rating':y_test, 'rating_pred':y_test_pred})"
   ]
  },
  {
   "cell_type": "code",
   "execution_count": 89,
   "id": "8ab1f6d9",
   "metadata": {},
   "outputs": [
    {
     "data": {
      "text/plain": [
       "(19, 3)"
      ]
     },
     "execution_count": 89,
     "metadata": {},
     "output_type": "execute_result"
    }
   ],
   "source": [
    "res_df[(res_df.rating - res_df.rating_pred)>=2].shape"
   ]
  },
  {
   "cell_type": "markdown",
   "id": "71364df1",
   "metadata": {},
   "source": [
    "## Model Building- GradientBoostingRegressor. \n",
    "\n",
    "Statistical Model performed here is GradientBoostingRegressor. "
   ]
  },
  {
   "cell_type": "code",
   "execution_count": 114,
   "id": "52846097",
   "metadata": {},
   "outputs": [],
   "source": [
    "?GradientBoostingRegressor"
   ]
  },
  {
   "cell_type": "code",
   "execution_count": 116,
   "id": "168ad106",
   "metadata": {},
   "outputs": [],
   "source": [
    "learner_rf = GradientBoostingRegressor(random_state=42)"
   ]
  },
  {
   "cell_type": "code",
   "execution_count": 117,
   "id": "c889f94e",
   "metadata": {},
   "outputs": [
    {
     "data": {
      "text/plain": [
       "GradientBoostingRegressor(random_state=42)"
      ]
     },
     "execution_count": 117,
     "metadata": {},
     "output_type": "execute_result"
    }
   ],
   "source": [
    "learner_rf.fit(x_train_bow,y_train)"
   ]
  },
  {
   "cell_type": "code",
   "execution_count": 118,
   "id": "c65cc194",
   "metadata": {},
   "outputs": [],
   "source": [
    "y_train_preds = learner_rf.predict(x_train_bow)"
   ]
  },
  {
   "cell_type": "code",
   "execution_count": 119,
   "id": "66e11e90",
   "metadata": {},
   "outputs": [],
   "source": [
    "from sklearn.metrics import mean_squared_error"
   ]
  },
  {
   "cell_type": "code",
   "execution_count": 120,
   "id": "3f2bbe3e",
   "metadata": {},
   "outputs": [
    {
     "data": {
      "text/plain": [
       "0.8191796746007274"
      ]
     },
     "execution_count": 120,
     "metadata": {},
     "output_type": "execute_result"
    }
   ],
   "source": [
    "mean_squared_error(y_train, y_train_preds)**0.5"
   ]
  },
  {
   "cell_type": "markdown",
   "id": "875a117f",
   "metadata": {},
   "source": [
    "# Increasing the number of trees."
   ]
  },
  {
   "cell_type": "code",
   "execution_count": 121,
   "id": "50e65870",
   "metadata": {},
   "outputs": [],
   "source": [
    "learner_rf = GradientBoostingRegressor(random_state=42, n_estimators=1100)"
   ]
  },
  {
   "cell_type": "code",
   "execution_count": 144,
   "id": "12a7409e",
   "metadata": {},
   "outputs": [
    {
     "name": "stdout",
     "output_type": "stream",
     "text": [
      "CPU times: total: 4min 18s\n",
      "Wall time: 5min 15s\n"
     ]
    },
    {
     "data": {
      "text/plain": [
       "GradientBoostingRegressor(n_estimators=1100, random_state=42)"
      ]
     },
     "execution_count": 144,
     "metadata": {},
     "output_type": "execute_result"
    }
   ],
   "source": [
    "%%time\n",
    "learner_rf.fit(x_train_bow, y_train)"
   ]
  },
  {
   "cell_type": "code",
   "execution_count": 146,
   "id": "f4def9a5",
   "metadata": {},
   "outputs": [],
   "source": [
    "y_train_preds = learner_rf.predict(x_train_bow)"
   ]
  },
  {
   "cell_type": "code",
   "execution_count": 147,
   "id": "bda6d614",
   "metadata": {},
   "outputs": [
    {
     "data": {
      "text/plain": [
       "0.5199618794331563"
      ]
     },
     "execution_count": 147,
     "metadata": {},
     "output_type": "execute_result"
    }
   ],
   "source": [
    "mean_squared_error(y_train, y_train_preds)**0.5"
   ]
  },
  {
   "cell_type": "markdown",
   "id": "3e1ab1a9",
   "metadata": {},
   "source": [
    "## Hyper-parameter Turning."
   ]
  },
  {
   "cell_type": "code",
   "execution_count": 148,
   "id": "43eca5fd",
   "metadata": {},
   "outputs": [],
   "source": [
    "from sklearn.model_selection import GridSearchCV"
   ]
  },
  {
   "cell_type": "code",
   "execution_count": 149,
   "id": "731608ff",
   "metadata": {},
   "outputs": [],
   "source": [
    "?GradientBoostingRegressor"
   ]
  },
  {
   "cell_type": "code",
   "execution_count": 150,
   "id": "235f0a09",
   "metadata": {},
   "outputs": [],
   "source": [
    "learner_rf = GradientBoostingRegressor(random_state=42)"
   ]
  },
  {
   "cell_type": "code",
   "execution_count": 151,
   "id": "3ab4ea06",
   "metadata": {},
   "outputs": [],
   "source": [
    "param_grid= {\n",
    "    'max_features':[1000,'sqrt','log2',\"auto\"],\n",
    "    'max_depth':[50,50,100]\n",
    "}"
   ]
  },
  {
   "cell_type": "code",
   "execution_count": 152,
   "id": "a462b29b",
   "metadata": {},
   "outputs": [],
   "source": [
    "grid_search = GridSearchCV(estimator = learner_rf,param_grid = param_grid,\n",
    "                          cv = 5, n_jobs = -1, verbose = 1, scoring = \"neg_mean_squared_error\" )"
   ]
  },
  {
   "cell_type": "code",
   "execution_count": 153,
   "id": "836bfd54",
   "metadata": {},
   "outputs": [
    {
     "name": "stdout",
     "output_type": "stream",
     "text": [
      "Fitting 5 folds for each of 12 candidates, totalling 60 fits\n"
     ]
    },
    {
     "data": {
      "text/plain": [
       "GridSearchCV(cv=5, estimator=GradientBoostingRegressor(random_state=42),\n",
       "             n_jobs=-1,\n",
       "             param_grid={'max_depth': [50, 50, 100],\n",
       "                         'max_features': [1000, 'sqrt', 'log2', 'auto']},\n",
       "             scoring='neg_mean_squared_error', verbose=1)"
      ]
     },
     "execution_count": 153,
     "metadata": {},
     "output_type": "execute_result"
    }
   ],
   "source": [
    "grid_search.fit(x_train_bow, y_train)"
   ]
  },
  {
   "cell_type": "code",
   "execution_count": 154,
   "id": "684fb1ae",
   "metadata": {},
   "outputs": [
    {
     "data": {
      "text/plain": [
       "GradientBoostingRegressor(max_depth=100, max_features='sqrt', random_state=42)"
      ]
     },
     "execution_count": 154,
     "metadata": {},
     "output_type": "execute_result"
    }
   ],
   "source": [
    "grid_search.best_estimator_"
   ]
  },
  {
   "cell_type": "code",
   "execution_count": 155,
   "id": "7eec5014",
   "metadata": {},
   "outputs": [],
   "source": [
    "y_train_pred = grid_search.best_estimator_.predict(x_train_bow)"
   ]
  },
  {
   "cell_type": "code",
   "execution_count": 156,
   "id": "15efd89e",
   "metadata": {},
   "outputs": [],
   "source": [
    "y_test_pred = grid_search.best_estimator_.predict(x_test_bow)\n"
   ]
  },
  {
   "cell_type": "code",
   "execution_count": 157,
   "id": "4371077f",
   "metadata": {},
   "outputs": [
    {
     "data": {
      "text/plain": [
       "0.45340918188867235"
      ]
     },
     "execution_count": 157,
     "metadata": {},
     "output_type": "execute_result"
    }
   ],
   "source": [
    "mean_squared_error(y_test, y_test_pred)**0.5"
   ]
  },
  {
   "cell_type": "code",
   "execution_count": 158,
   "id": "b8327e09",
   "metadata": {},
   "outputs": [
    {
     "data": {
      "text/plain": [
       "0.5199618794331563"
      ]
     },
     "execution_count": 158,
     "metadata": {},
     "output_type": "execute_result"
    }
   ],
   "source": [
    "mean_squared_error(y_train, y_train_preds)**0.5"
   ]
  },
  {
   "cell_type": "code",
   "execution_count": 159,
   "id": "133ddcfb",
   "metadata": {},
   "outputs": [],
   "source": [
    "res_df = pd.DataFrame({'review':x_test, 'rating':y_test, 'rating_pred':y_test_pred})"
   ]
  },
  {
   "cell_type": "code",
   "execution_count": 160,
   "id": "bdb6cf84",
   "metadata": {},
   "outputs": [
    {
     "data": {
      "text/plain": [
       "(7, 3)"
      ]
     },
     "execution_count": 160,
     "metadata": {},
     "output_type": "execute_result"
    }
   ],
   "source": [
    "res_df[(res_df.rating - res_df.rating_pred)>=2].shape"
   ]
  },
  {
   "cell_type": "markdown",
   "id": "9eb8c3cc",
   "metadata": {},
   "source": [
    "# re package"
   ]
  },
  {
   "cell_type": "markdown",
   "id": "b69673e0",
   "metadata": {},
   "source": [
    "### Using \"re\" to remove numerics."
   ]
  },
  {
   "cell_type": "code",
   "execution_count": 122,
   "id": "34224ea4",
   "metadata": {},
   "outputs": [
    {
     "data": {
      "text/plain": [
       "'their service is worst, pricing in menu is different from bill. they can give you a bill with increased pricing. even for serving water,menu, order you need to call them 3-4 times even on a non busy day.'"
      ]
     },
     "execution_count": 122,
     "metadata": {},
     "output_type": "execute_result"
    }
   ],
   "source": [
    "reviews_lower[0]"
   ]
  },
  {
   "cell_type": "code",
   "execution_count": 123,
   "id": "a81f2f48",
   "metadata": {
    "scrolled": true
   },
   "outputs": [
    {
     "name": "stdout",
     "output_type": "stream",
     "text": [
      "their service is worst, pricing in menu is different from bill. they can give you a bill with increased pricing. even for serving water,menu, order you need to call them - times even on a non busy day.\n"
     ]
    }
   ],
   "source": [
    "# removing the numbers using regex\n",
    "\n",
    "in_revi=reviews_lower[0]\n",
    "ot_revi = re.sub(r\"\\d+\",\"\",in_revi)\n",
    "print(ot_revi)"
   ]
  },
  {
   "cell_type": "markdown",
   "id": "b2df1002",
   "metadata": {},
   "source": [
    "### Using \"re.sub\" \n",
    "\n",
    "Removes the punctuation.\n",
    "\n",
    "re.sub('pattern','replace','string')\n",
    "\n",
    "returns a string where matched occurrences\n",
    "\n",
    "If the pattern is not found, re.sub() returns the original string."
   ]
  },
  {
   "cell_type": "code",
   "execution_count": 124,
   "id": "f475a9f1",
   "metadata": {},
   "outputs": [
    {
     "name": "stdout",
     "output_type": "stream",
     "text": [
      "their service is worst pricing in menu is different from bill they can give you a bill with increased pricing even for serving watermenu order you need to call them 34 times even on a non busy day\n"
     ]
    }
   ],
   "source": [
    "import string\n",
    "\n",
    "in_revi=reviews_lower[0]\n",
    "reslt= re.sub('[%s]' % re.escape(string.punctuation), '',in_revi)\n",
    "print(reslt)"
   ]
  },
  {
   "cell_type": "markdown",
   "id": "51f2fff9",
   "metadata": {},
   "source": [
    "### using \"re.split\" to tokenize \n",
    "\n",
    "Separetes the sentences in to words. \n",
    "\n",
    "re.split('pattern','string')\n",
    "\n",
    "if pattern not found returns the original string."
   ]
  },
  {
   "cell_type": "code",
   "execution_count": 141,
   "id": "2cadb8f8",
   "metadata": {},
   "outputs": [
    {
     "name": "stdout",
     "output_type": "stream",
     "text": [
      "['really', 'appreciate', 'their', 'quality', 'and', 'timing', '.', 'i', 'have', 'tried', 'the', 'thattil', 'kutti', 'dosa', \"i've\", 'been', 'addicted', 'to', 'the', 'dosa', 'really', 'and', 'the', 'chutney...', 'really', 'good', 'and', 'money', 'worth', 'much', 'better', 'than', 'a', 'thattukada', 'must', 'try', 'it']\n"
     ]
    }
   ],
   "source": [
    "in_revi=reviews_lower[1]\n",
    "reslt= re.split('\\s',in_revi)\n",
    "print(reslt)"
   ]
  },
  {
   "cell_type": "markdown",
   "id": "05d6e81c",
   "metadata": {},
   "source": [
    "### re.search() \n",
    "\n",
    "search for the word in the semtence. if exist gives the match object, if not returns none.\n",
    "\n",
    "The re.search() method takes two arguments: a pattern and a string. The method looks for the first location where the RegEx pattern produces a match with the string.\n",
    "\n",
    "If the search is successful, re.search() returns a match object; if not, it returns None."
   ]
  },
  {
   "cell_type": "code",
   "execution_count": 128,
   "id": "df2a5fb7",
   "metadata": {},
   "outputs": [
    {
     "name": "stdout",
     "output_type": "stream",
     "text": [
      "<re.Match object; span=(171, 177), match='better'>\n"
     ]
    }
   ],
   "source": [
    "in_revi=reviews_lower[1]\n",
    "x= re.search(\"better\",in_revi)\n",
    "print(x)"
   ]
  },
  {
   "cell_type": "markdown",
   "id": "e52ba797",
   "metadata": {},
   "source": [
    "### re.complie()\n",
    "\n",
    "Customizing the split by changing the value of maxsplit.\n",
    "\n",
    "It splits first 5 words.\n",
    "\n",
    "maxsplit  - It's the maximum number of splits that will occur"
   ]
  },
  {
   "cell_type": "code",
   "execution_count": 130,
   "id": "61a09b3c",
   "metadata": {},
   "outputs": [
    {
     "name": "stdout",
     "output_type": "stream",
     "text": [
      "re.compile('\\\\s')\n",
      "['really', 'appreciate', 'their', 'quality', 'and', \"timing . i have tried the thattil kutti dosa i've been addicted to the dosa really and the chutney... really good and money worth much better than a thattukada must try it\"]\n"
     ]
    }
   ],
   "source": [
    "in_revi=reviews_lower[1]\n",
    "x= re.compile(r\"\\s\")\n",
    "\n",
    "split = x.split(in_revi, maxsplit = 5)\n",
    "print(x)\n",
    "print(split)"
   ]
  },
  {
   "cell_type": "markdown",
   "id": "1595c3bb",
   "metadata": {},
   "source": [
    "### re.split('\\d+')\n",
    "\n",
    "re.split method splits the string where there is a match and returns a list of strings where the splits have occurred.\n",
    "\n",
    "puts the sentences in the list.\n",
    "\n",
    "+ matches one or more occurrences of the pattern left to it\n",
    "\n",
    "Backlash \\ is used to escape various characters including all metacharacters. \n",
    "\n",
    "\\ follwed by +.\n",
    "\n"
   ]
  },
  {
   "cell_type": "code",
   "execution_count": 142,
   "id": "ddc7d831",
   "metadata": {
    "scrolled": true
   },
   "outputs": [
    {
     "name": "stdout",
     "output_type": "stream",
     "text": [
      "['went there on a friday night, the place was surprisingly empty. interesting menu which is almost fully made of dosas. i had bullseye dosa and cheese masala dosa. the bullseye dosa was really good, with the egg perfectly cooked to a half boiled state. the masala in the cheese masala was good, but the cheese was a bit too chewy for my liking. the chutney was good, the sambar was average. the dishes are reasonably priced.']\n"
     ]
    }
   ],
   "source": [
    "in_revi=reviews_lower[2]\n",
    "reslt= re.split('\\d+',in_revi)\n",
    "print(reslt)"
   ]
  },
  {
   "cell_type": "markdown",
   "id": "ec0de8af",
   "metadata": {},
   "source": [
    "### re.subn()\n",
    "\n",
    "The re.subn() is similar to re.sub() except it returns a tuple of 2 items containing the new string and the number of substitutions made.\n",
    "\n",
    "\\B - Opposite of \\b. Matches if the specified characters are not at the beginning or end of a word.\n",
    "\n",
    "\\Bemp finds for the match.\n"
   ]
  },
  {
   "cell_type": "code",
   "execution_count": 143,
   "id": "af6d432a",
   "metadata": {},
   "outputs": [
    {
     "name": "stdout",
     "output_type": "stream",
     "text": [
      "('went there on a friday night, the place was surprisingly empty. interesting menu which is almost fully made of dosas. i had bullseye dosa and cheese masala dosa. the bullseye dosa was really good, with the egg perfectly cooked to a half boiled state. the masala in the cheese masala was good, but the cheese was a bit too chewy for my liking. the chutney was good, the sambar was average. the dishes are reasonably priced.', 0)\n",
      "went there on a friday night, the place was surprisingly empty. interesting menu which is almost fully made of dosas. i had bullseye dosa and cheese masala dosa. the bullseye dosa was really good, with the egg perfectly cooked to a half boiled state. the masala in the cheese masala was good, but the cheese was a bit too chewy for my liking. the chutney was good, the sambar was average. the dishes are reasonably priced.\n"
     ]
    }
   ],
   "source": [
    "in_revi=reviews_lower[2]\n",
    "# pattern = \"\\Bboards\"\n",
    "x= re.subn(\"\\Bwent\",\"pads\",in_revi)\n",
    "print(x) # writes the review within double quotes.\n",
    "print(x[0]) # removes the quotes for the review.\n"
   ]
  },
  {
   "cell_type": "markdown",
   "id": "a177ffc8",
   "metadata": {},
   "source": [
    "### re.findall()\n",
    "\n",
    "The re.findall() method returns a list of strings containing all matches.\n",
    "\n",
    "\n",
    "Here it extract numbers from the string.\n"
   ]
  },
  {
   "cell_type": "code",
   "execution_count": 145,
   "id": "3054998a",
   "metadata": {},
   "outputs": [
    {
     "name": "stdout",
     "output_type": "stream",
     "text": [
      "['3', '4']\n"
     ]
    }
   ],
   "source": [
    "reslt=re.findall('\\d+',reviews_lower[0])\n",
    "print(reslt)"
   ]
  }
 ],
 "metadata": {
  "kernelspec": {
   "display_name": "Python 3 (ipykernel)",
   "language": "python",
   "name": "python3"
  },
  "language_info": {
   "codemirror_mode": {
    "name": "ipython",
    "version": 3
   },
   "file_extension": ".py",
   "mimetype": "text/x-python",
   "name": "python",
   "nbconvert_exporter": "python",
   "pygments_lexer": "ipython3",
   "version": "3.9.12"
  }
 },
 "nbformat": 4,
 "nbformat_minor": 5
}
