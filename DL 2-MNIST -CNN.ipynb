{
 "cells": [
  {
   "cell_type": "markdown",
   "metadata": {
    "id": "vI-ZRAtxD240"
   },
   "source": [
    "# **CONVOLUTION NEURAL NETWORK**\n",
    "\n",
    "\n",
    "### **CONSTRUCTING THE LAYERS AND PREDICTING THE IMAGE CLASSES.**"
   ]
  },
  {
   "cell_type": "markdown",
   "metadata": {
    "id": "uM6MyvIGE3ur"
   },
   "source": [
    "## **Importing the Python Modules.** \n",
    "\n",
    "Importing the necessary python environments to work with."
   ]
  },
  {
   "cell_type": "code",
   "execution_count": null,
   "metadata": {
    "id": "yT4Ie2nCE4Fx"
   },
   "outputs": [],
   "source": [
    "import numpy as np\n",
    "import matplotlib.pyplot as plt\n",
    "import random\n",
    "%matplotlib inline \n",
    "\n",
    "from keras.datasets  import mnist     # MNIST dataset is included in Keras\n",
    "from keras. models import Sequential  # Model type to be used\n",
    "\n",
    "from keras.layers.core import Dense, Dropout, Activation # Types of layers to be used in our model\n",
    "from keras.utils import np_utils                         # Numpy related tool"
   ]
  },
  {
   "cell_type": "markdown",
   "metadata": {
    "id": "qg5VEBw7IQzP"
   },
   "source": [
    "## **Loading Training Data**\n",
    "\n",
    "The MINIST dataset is analysed within keras.\n",
    "\n",
    "The MNIST data is split between 60,000 28 x 28 pixel training images and 10,00"
   ]
  },
  {
   "cell_type": "code",
   "execution_count": null,
   "metadata": {
    "colab": {
     "base_uri": "https://localhost:8080/"
    },
    "id": "x7wnH1MrIRdq",
    "outputId": "29ce4b45-79f9-4db7-e951-1c373b744b72"
   },
   "outputs": [
    {
     "name": "stdout",
     "output_type": "stream",
     "text": [
      "X_train (60000, 28, 28)\n",
      "y_train (60000,)\n",
      "X_test (10000, 28, 28)\n",
      "y_test (10000,)\n"
     ]
    }
   ],
   "source": [
    "\n",
    "(X_train, y_train),(X_test,y_test)= mnist.load_data()\n",
    "\n",
    "print(\"X_train\",X_train.shape)\n",
    "print(\"y_train\",y_train.shape)\n",
    "print(\"X_test\",X_test.shape)\n",
    "print(\"y_test\",y_test.shape)\n"
   ]
  },
  {
   "cell_type": "markdown",
   "metadata": {
    "id": "wf9AHModJUvh"
   },
   "source": [
    "## **Plotting the samples images in MNIST.**\n",
    "\n",
    "Some sample images from the training set is plotted using matplotlib.\n",
    "\n"
   ]
  },
  {
   "cell_type": "code",
   "execution_count": null,
   "metadata": {
    "colab": {
     "base_uri": "https://localhost:8080/",
     "height": 657
    },
    "id": "5ne7lkuBJV_y",
    "outputId": "45ca88e8-d872-41f4-b44b-3f063f7ed4f8"
   },
   "outputs": [
    {
     "data": {
      "image/png": "[encoded data removed]",
      "text/plain": [
       "<Figure size 648x648 with 9 Axes>"
      ]
     },
     "metadata": {
      "needs_background": "light"
     },
     "output_type": "display_data"
    }
   ],
   "source": [
    "plt.rcParams['figure.figsize']=(9,9)\n",
    "\n",
    "for i in range(9):\n",
    "  plt.subplot(3,3,i+1)\n",
    "  num = random.randint(0, len(X_train))\n",
    "  plt.imshow(X_train[num],cmap='gray', interpolation='none')\n",
    "  plt.title(\"Class {}\".format(y_train[num]))\n",
    "  plt.tight_layout()"
   ]
  },
  {
   "cell_type": "markdown",
   "metadata": {
    "id": "n6CK7gk3u1C5"
   },
   "source": [
    "## **Printing the random image of MNIST dataset in Matrix format.**\n",
    "\n",
    "Creating a function **matprint** that generates the matrix for the image chosen."
   ]
  },
  {
   "cell_type": "code",
   "execution_count": null,
   "metadata": {
    "colab": {
     "base_uri": "https://localhost:8080/"
    },
    "id": "Ti68_FM0K4ac",
    "outputId": "a6cbc839-ca2f-4cd6-d160-eeea48857300"
   },
   "outputs": [
    {
     "name": "stdout",
     "output_type": "stream",
     "text": [
      "0  0  0  0  0  0  0  0   0    0    0    0    0    0    0    0    0    0    0    0    0   0  0  0  0  0  0  0  \n",
      "0  0  0  0  0  0  0  0   0    0    0    0    0    0    0    0    0    0    0    0    0   0  0  0  0  0  0  0  \n",
      "0  0  0  0  0  0  0  0   0    0    0    0    0    0    0    0    0    0    0    0    0   0  0  0  0  0  0  0  \n",
      "0  0  0  0  0  0  0  0   0    0    0    0    0    0    0    0    0    0    0    0    0   0  0  0  0  0  0  0  \n",
      "0  0  0  0  0  0  0  0   0    0    0    0    0    0    0    0    0    0    0    0    0   0  0  0  0  0  0  0  \n",
      "0  0  0  0  0  0  0  0   0    0    0    0    0    0    0    0    0    0    0    0    0   0  0  0  0  0  0  0  \n",
      "0  0  0  0  0  0  0  0   0    0    0    0   57  184  195  133  122    5    0    0    0   0  0  0  0  0  0  0  \n",
      "0  0  0  0  0  0  0  0   0    0    0  118  237  252  252  253  252  185   48    0    0   0  0  0  0  0  0  0  \n",
      "0  0  0  0  0  0  0  0   0    0   63  234  252  236  216  236  252  252  165   11    0   0  0  0  0  0  0  0  \n",
      "0  0  0  0  0  0  0  0   0    0  170  252  164   48    0   44  157  252  252  163   12   0  0  0  0  0  0  0  \n",
      "0  0  0  0  0  0  0  0   0    0   56  180   10    0    0    0   19  229  252  252  163  12  0  0  0  0  0  0  \n",
      "0  0  0  0  0  0  0  0   0    0    0   29    0    0    0    0    0   65  252  252  252  48  0  0  0  0  0  0  \n",
      "0  0  0  0  0  0  0  0   0    0    0    0    0    0    0    0    0   77  252  252  228  32  0  0  0  0  0  0  \n",
      "0  0  0  0  0  0  0  0   0    0    0    0    0    0    0    0   68  239  252  229   54   0  0  0  0  0  0  0  \n",
      "0  0  0  0  0  0  0  0   0    0    0    0    0    0    0   64  242  252  252   83    0   0  0  0  0  0  0  0  \n",
      "0  0  0  0  0  0  0  0   0    0    0    0    0    0   58  190  252  252  148    4    0   0  0  0  0  0  0  0  \n",
      "0  0  0  0  0  0  0  0   0    0    0    0    0    6  243  255  253  228   40    0    0   0  0  0  0  0  0  0  \n",
      "0  0  0  0  0  0  0  0   0    0    0    0   56  191  252  252  216   41    0    0    0   0  0  0  0  0  0  0  \n",
      "0  0  0  0  0  0  0  0   0    0    0   13  176  252  252  166    0    0    0    0    0   0  0  0  0  0  0  0  \n",
      "0  0  0  0  0  0  0  0   0    0   14  174  252  252  206   40    0    0    0    0    0   0  0  0  0  0  0  0  \n",
      "0  0  0  0  0  0  0  0   0    0  159  252  252  174    4    0    0    0    0    0    0   0  0  0  0  0  0  0  \n",
      "0  0  0  0  0  0  0  0   0   18  210  252  252   52    0    0    0    0    0    0    0   0  0  0  0  0  0  0  \n",
      "0  0  0  0  0  0  0  0  17  182  252  224  122    5    0    0    0    0    0    0    0   0  0  0  0  0  0  0  \n",
      "0  0  0  0  0  0  0  0  30  225  252  167    0    0    0    0    0    0    0    0    0   0  0  0  0  0  0  0  \n",
      "0  0  0  0  0  0  0  0   0  129  252  244  229   73    0    0    0    0    0    0    0   0  0  0  0  0  0  0  \n",
      "0  0  0  0  0  0  0  0   0    3  195  252  252  143    0    0    0    0    0    0    0   0  0  0  0  0  0  0  \n",
      "0  0  0  0  0  0  0  0   0    0    0    0    0    0    0    0    0    0    0    0    0   0  0  0  0  0  0  0  \n",
      "0  0  0  0  0  0  0  0   0    0    0    0    0    0    0    0    0    0    0    0    0   0  0  0  0  0  0  0  \n"
     ]
    }
   ],
   "source": [
    "#just a little function for pretty printing a matrix\n",
    "\n",
    "def matprint(mat, fmt=\"g\"):\n",
    "    col_maxes = [max([len((\"{:\"+fmt+\"}\").format(x)) for x in col]) for col in mat.T]\n",
    "    for x in mat:\n",
    "        for i, y in enumerate(x):\n",
    "            print((\"{:\"+str(col_maxes[i])+fmt+\"}\").format(y), end=\"  \")\n",
    "        print(\"\")\n",
    "# now print!        \n",
    "matprint(X_train[num])"
   ]
  },
  {
   "cell_type": "markdown",
   "metadata": {
    "id": "_l_bl18Rvl1y"
   },
   "source": [
    "## **Reshaping the size of training and testing .**\n",
    "\n",
    "The entire MNIST dataset consist 60,000 images and each image's pixel size is 28X28 (784 pixcels) which flattened into vector(1 dimensional).\n",
    "\n",
    "For training, the entire dataset is taken into account whereas to testing the data 10,000 data gets flattened.    "
   ]
  },
  {
   "cell_type": "code",
   "execution_count": null,
   "metadata": {
    "id": "KZPC3DxFMsDe"
   },
   "outputs": [],
   "source": [
    "X_train = X_train.reshape(60000, 784)  # reshape 60,00 28X 28 matrices into 60,000 784-length vectors.\n",
    "X_test = X_test.reshape(10000, 784)    # reshape 10,00 28X 28 matrices into 10,000 784-length vectors.\n",
    "\n",
    "X_train = X_train.astype('float32')  #Change intergers to 32-bit floating point\n",
    "X_test = X_test.astype('float32')\n",
    "\n"
   ]
  },
  {
   "cell_type": "markdown",
   "metadata": {
    "id": "f6gWZfy4zFIc"
   },
   "source": [
    "## **Normalizing pixel values.** \n",
    "\n",
    "Normalizing the train and test dataset by dividing it with 225. \n",
    "\n",
    "Our idea is to normalize the input in the range [0,1] rather than [0-255]. \n",
    "\n"
   ]
  },
  {
   "cell_type": "code",
   "execution_count": null,
   "metadata": {
    "colab": {
     "base_uri": "https://localhost:8080/"
    },
    "id": "id8-4ixpPGm_",
    "outputId": "b0cb693a-b446-4c8f-cb62-5b586ce2b023"
   },
   "outputs": [
    {
     "name": "stdout",
     "output_type": "stream",
     "text": [
      "Training martix shape (60000, 784)\n",
      "Testing martix shape (10000, 784)\n"
     ]
    }
   ],
   "source": [
    "X_train /=255    # normalize each value for pixel\n",
    "X_test /=255\n",
    "\n",
    "print(\"Training matrix shape\", X_train.shape)\n",
    "print(\"Testing matrix shape\", X_test.shape)"
   ]
  },
  {
   "cell_type": "markdown",
   "metadata": {
    "id": "bmfYFHIg3F3V"
   },
   "source": [
    "## **Modifying the classes (unique digits) into one-hot format.**\n",
    "\n",
    "0 -> [1, 0, 0, 0, 0, 0, 0, 0, 0]\n",
    "\n",
    "1 -> [0, 1, 0, 0, 0, 0, 0, 0, 0]\n",
    "\n",
    "2 -> [0, 0, 1, 0, 0, 0, 0, 0, 0]\n",
    "etc.\n",
    "\n",
    "### **Comparing final output with the classes.**\n",
    "\n",
    "If the final output is very close to one of these classes, then it is most likely that class. \n",
    "\n",
    "For example, if the final output is:\n",
    "[0, 0, 0, 0, 0.94, 0, 0.06, 0, 0]\n",
    "then it's most likely the image of digit 4."
   ]
  },
  {
   "cell_type": "code",
   "execution_count": null,
   "metadata": {
    "id": "ZcMSSNcePZ0v"
   },
   "outputs": [],
   "source": [
    "nb_classes = 10  # NO of unique nos\n",
    "\n",
    "Y_train = np_utils.to_categorical(y_train, nb_classes)\n",
    "Y_test = np_utils.to_categorical(y_test, nb_classes)\n"
   ]
  },
  {
   "cell_type": "markdown",
   "metadata": {
    "id": "vmx4gYjC-NG5"
   },
   "source": [
    "## **DESIGNING NETWORK** "
   ]
  },
  {
   "cell_type": "markdown",
   "metadata": {
    "id": "gs5XrA6I5cYJ"
   },
   "source": [
    "## **Building Layers to the Network.**\n",
    "\n",
    "Building the layer through the functin **Sequential()**\n"
   ]
  },
  {
   "cell_type": "code",
   "execution_count": null,
   "metadata": {
    "id": "QT24Wb0yQaYy"
   },
   "outputs": [],
   "source": [
    "# Sequenctial Model is a linear stack of layers and is very common\n",
    "\n",
    "model=Sequential()"
   ]
  },
  {
   "cell_type": "markdown",
   "metadata": {
    "id": "QO8dI6up9Fe1"
   },
   "source": [
    "## **First Hidden Layer**.\n",
    "\n",
    "**Dense()** - refers to fully connected layer with the preceding layer in the network.\n",
    "\n",
    "Here, the first layer has 512 nodes(neurons) for they are densed in nature."
   ]
  },
  {
   "cell_type": "code",
   "execution_count": null,
   "metadata": {
    "id": "2sR_m5wHQtsi"
   },
   "outputs": [],
   "source": [
    "# The first hidden layer is a set of 512 nodes (AN)\n",
    "# Each node will receive an element from each input vector and apply some we\n",
    "\n",
    "model.add(Dense(512, input_shape=(784,)))   # (784,)is not a typo  that represents"
   ]
  },
  {
   "cell_type": "markdown",
   "metadata": {
    "id": "dnhK1C70SY9w"
   },
   "source": [
    "## **Introducing Activation Function.**\n",
    "\n",
    "An \"activation\" is a non-linear fuction applied to the output of the layer.\n",
    "\n",
    "\n",
    "*   It checks the new value of node and then decides.\n",
    "*   The activation function function performed here is \"relu\" which takes the negative values as zero and the positive values remains the same. \n",
    "\n",
    "\n"
   ]
  },
  {
   "cell_type": "code",
   "execution_count": null,
   "metadata": {
    "id": "EYsZMeHMRO9p"
   },
   "outputs": [],
   "source": [
    "# It checks the new value of the node, and decides whether that artifical neuron has fired.\n",
    "# The Rectified Linear Unit (ReLU) converts all negative inputs to nodes in the next layer to be zero.\n",
    "# Those inputs are then not considered to be fired.\n",
    "# Positive values of a node are unchanged.\n",
    " \n",
    "\n",
    "model.add(Activation('relu'))"
   ]
  },
  {
   "cell_type": "markdown",
   "metadata": {
    "id": "USxQWj4cKpZz"
   },
   "source": [
    "## **Droupout**\n",
    "\n",
    "Here, 20% odf data is droped out,\n",
    "\n",
    "The dropout layer is responsible for randomly skipping the neurons inside the neural network so that the overall odds of overfitting are reduced optimally.\n"
   ]
  },
  {
   "cell_type": "code",
   "execution_count": null,
   "metadata": {
    "id": "D_Wy2mG_Sz-b"
   },
   "outputs": [],
   "source": [
    "model.add(Dropout(0.2))   # normal Dropout range be 0.1 to 0.5\n",
    "# learning will not be memorised "
   ]
  },
  {
   "cell_type": "markdown",
   "metadata": {
    "id": "35XIR2qQTuzu"
   },
   "source": [
    "## **Adding the second hidden layer**\n",
    "\n",
    "Dense() - dense layer contains densely connected neurons. \n",
    "\n",
    "The neurons in the dense layer get their source of input data from all the other neurons of the previous layer of the network.\n",
    "\n",
    "The procedure for layer building follws.\n",
    "\n",
    "*   BatchNormalization()\n",
    "*   Activation('relu')\n"
   ]
  },
  {
   "cell_type": "code",
   "execution_count": null,
   "metadata": {
    "id": "rfA7Y0mES8UJ"
   },
   "outputs": [],
   "source": [
    "model.add(Dense(512))\n",
    "model.add(Activation('relu'))\n",
    "model.add(Dropout(0.2))"
   ]
  },
  {
   "cell_type": "code",
   "execution_count": null,
   "metadata": {
    "id": "_dPl5ryPUgb1"
   },
   "outputs": [],
   "source": [
    "model.add(Dense(10))"
   ]
  },
  {
   "cell_type": "markdown",
   "metadata": {
    "id": "thIi3C2oVHpT"
   },
   "source": [
    "## **Applying the Activation Function.**\n",
    "\n",
    "Applying softmax to the final layer.\n",
    "\n",
    "The softmax activation represents a probability distribution over k\n",
    "\n",
    "The softmax function highlights the largest values and suppresses values which are significantly below the maximum value, though this is not true for small values.\n",
    "\n",
    "It normalizes the outputs so that they sum to 1 so that they can be directly treated as probabilities over the output.\n",
    "\n"
   ]
  },
  {
   "cell_type": "code",
   "execution_count": null,
   "metadata": {
    "id": "uZMlPDVuUoKJ"
   },
   "outputs": [],
   "source": [
    "\n",
    "\n",
    "model.add(Activation('softmax'))"
   ]
  },
  {
   "cell_type": "markdown",
   "metadata": {
    "id": "i9gLHjPjU5CE"
   },
   "source": [
    "till this the network is ready."
   ]
  },
  {
   "cell_type": "markdown",
   "metadata": {
    "id": "SKnFlP_vJ56y"
   },
   "source": [
    "## **Model Summary**"
   ]
  },
  {
   "cell_type": "code",
   "execution_count": null,
   "metadata": {
    "colab": {
     "base_uri": "https://localhost:8080/"
    },
    "id": "a9VS7b4lUzpI",
    "outputId": "76f1031d-bd14-41ef-dec0-7ee9fc7f3f2a"
   },
   "outputs": [
    {
     "name": "stdout",
     "output_type": "stream",
     "text": [
      "Model: \"sequential\"\n",
      "_________________________________________________________________\n",
      " Layer (type)                Output Shape              Param #   \n",
      "=================================================================\n",
      " dense (Dense)               (None, 512)               401920    \n",
      "                                                                 \n",
      " activation (Activation)     (None, 512)               0         \n",
      "                                                                 \n",
      " dropout (Dropout)           (None, 512)               0         \n",
      "                                                                 \n",
      " dense_1 (Dense)             (None, 512)               262656    \n",
      "                                                                 \n",
      " activation_1 (Activation)   (None, 512)               0         \n",
      "                                                                 \n",
      " dropout_1 (Dropout)         (None, 512)               0         \n",
      "                                                                 \n",
      " dense_2 (Dense)             (None, 10)                5130      \n",
      "                                                                 \n",
      " activation_2 (Activation)   (None, 10)                0         \n",
      "                                                                 \n",
      "=================================================================\n",
      "Total params: 669,706\n",
      "Trainable params: 669,706\n",
      "Non-trainable params: 0\n",
      "_________________________________________________________________\n"
     ]
    }
   ],
   "source": [
    "model.summary()"
   ]
  },
  {
   "cell_type": "markdown",
   "metadata": {
    "id": "-pa9QMzBXU_A"
   },
   "source": [
    "## **Compiling the model.**\n",
    "\n",
    "  **Categorical crossentropy**- loss function used in multi-class classification tasks.\n",
    "\n",
    "  These are tasks can only belong to one out of many possible categories, and model will decide which one to choose.\n",
    "\n",
    "  It is designed to quantify the difference between two probability distributions.\n",
    "\n",
    "  **Fixing the Optimizer** - Adam that holds the learning rate for the model.\n",
    "\n"
   ]
  },
  {
   "cell_type": "code",
   "execution_count": null,
   "metadata": {
    "id": "6mRuzn4lVVuX"
   },
   "outputs": [],
   "source": [
    "# Let's use the Adam optimizer for learning\n",
    "\n",
    "model.compile(loss = 'categorical_crossentropy',\n",
    "\n",
    "              optimizer = 'adam', metrics=['accuracy'])"
   ]
  },
  {
   "cell_type": "markdown",
   "metadata": {
    "id": "XqhPOmRyHcHx"
   },
   "source": [
    "## **Training the model.**"
   ]
  },
  {
   "cell_type": "code",
   "execution_count": null,
   "metadata": {
    "colab": {
     "base_uri": "https://localhost:8080/"
    },
    "id": "QmJHbYn3bMTq",
    "outputId": "ddd93737-7581-409e-dff0-d519070fe0be"
   },
   "outputs": [
    {
     "name": "stdout",
     "output_type": "stream",
     "text": [
      "Epoch 1/10\n",
      "469/469 [==============================] - 8s 17ms/step - loss: 0.2466 - accuracy: 0.9273\n",
      "Epoch 2/10\n",
      "469/469 [==============================] - 8s 16ms/step - loss: 0.1020 - accuracy: 0.9689\n",
      "Epoch 3/10\n",
      "469/469 [==============================] - 12s 25ms/step - loss: 0.0708 - accuracy: 0.9780\n",
      "Epoch 4/10\n",
      "469/469 [==============================] - 9s 19ms/step - loss: 0.0573 - accuracy: 0.9821\n",
      "Epoch 5/10\n",
      "469/469 [==============================] - 9s 19ms/step - loss: 0.0449 - accuracy: 0.9855\n",
      "Epoch 6/10\n",
      "469/469 [==============================] - 8s 16ms/step - loss: 0.0397 - accuracy: 0.9872\n",
      "Epoch 7/10\n",
      "469/469 [==============================] - 8s 16ms/step - loss: 0.0328 - accuracy: 0.9890\n",
      "Epoch 8/10\n",
      "469/469 [==============================] - 8s 16ms/step - loss: 0.0305 - accuracy: 0.9899\n",
      "Epoch 9/10\n",
      "469/469 [==============================] - 8s 16ms/step - loss: 0.0262 - accuracy: 0.9913\n",
      "Epoch 10/10\n",
      "469/469 [==============================] - 8s 16ms/step - loss: 0.0261 - accuracy: 0.9912\n"
     ]
    },
    {
     "data": {
      "text/plain": [
       "<keras.callbacks.History at 0x7f84155ef350>"
      ]
     },
     "execution_count": 18,
     "metadata": {},
     "output_type": "execute_result"
    }
   ],
   "source": [
    "model.fit(X_train, Y_train, \n",
    "\n",
    "          batch_size = 128, epochs = 10,\n",
    "\n",
    "          verbose = 1)"
   ]
  },
  {
   "cell_type": "markdown",
   "metadata": {
    "id": "Zc8Kd6DhHo6p"
   },
   "source": [
    "## **Evaluating the Test Score and Test Accuracy.**"
   ]
  },
  {
   "cell_type": "code",
   "execution_count": null,
   "metadata": {
    "colab": {
     "base_uri": "https://localhost:8080/"
    },
    "id": "8yLZn0uLbQOe",
    "outputId": "c06cf1e4-87e1-4c81-c4dd-0c4a4a16782d"
   },
   "outputs": [
    {
     "name": "stdout",
     "output_type": "stream",
     "text": [
      "313/313 [==============================] - 1s 4ms/step - loss: 0.0669 - accuracy: 0.9809\n",
      "test score: 0.06691257655620575\n",
      "test accuracy: 0.98089998960495\n"
     ]
    }
   ],
   "source": [
    "score = model.evaluate(X_test,Y_test)\n",
    "print(\"test score:\",score[0])\n",
    "print(\"test accuracy:\",score[1])"
   ]
  },
  {
   "cell_type": "markdown",
   "metadata": {
    "id": "AegNJ498HrjM"
   },
   "source": [
    "## **Predicting Class Function.**\n",
    "\n",
    "argmax-"
   ]
  },
  {
   "cell_type": "code",
   "execution_count": null,
   "metadata": {
    "colab": {
     "base_uri": "https://localhost:8080/"
    },
    "id": "8-gWRy9W-HlB",
    "outputId": "433b289c-95f9-43e9-d48d-e74bd994a64c"
   },
   "outputs": [
    {
     "name": "stdout",
     "output_type": "stream",
     "text": [
      "313/313 [==============================] - 1s 4ms/step\n"
     ]
    },
    {
     "data": {
      "text/plain": [
       "array([[5.30616089e-12, 1.90500307e-11, 4.20595720e-12, ...,\n",
       "        9.99999940e-01, 1.51749707e-12, 4.90700869e-10],\n",
       "       [3.74580185e-12, 2.47525531e-06, 9.99997437e-01, ...,\n",
       "        1.41149620e-10, 8.34426928e-09, 1.98860228e-16],\n",
       "       [9.67552358e-11, 9.99997437e-01, 1.90465990e-08, ...,\n",
       "        7.75327464e-07, 1.45411627e-06, 1.58439806e-11],\n",
       "       ...,\n",
       "       [1.93312285e-13, 5.47463047e-11, 4.12623524e-16, ...,\n",
       "        1.33425315e-08, 6.95181068e-09, 2.69765188e-08],\n",
       "       [3.54275615e-12, 4.21819274e-15, 7.46440691e-16, ...,\n",
       "        4.86133926e-14, 5.36393429e-07, 4.33615275e-14],\n",
       "       [1.26001423e-11, 1.02856525e-13, 1.39834040e-13, ...,\n",
       "        7.14940012e-17, 1.17756804e-09, 7.30393935e-13]], dtype=float32)"
      ]
     },
     "execution_count": 25,
     "metadata": {},
     "output_type": "execute_result"
    }
   ],
   "source": [
    "#  The predict_classes function \n",
    "\n",
    "# according to the trained classifier for each input example\n",
    "\n",
    "predict_x = model.predict(X_test)\n",
    "\n",
    "predict_classes = np.argmax(predict_x, axis = 1)\n",
    "\n",
    "predict_x\n",
    "\n",
    "\n",
    "\n"
   ]
  },
  {
   "cell_type": "code",
   "execution_count": null,
   "metadata": {
    "colab": {
     "base_uri": "https://localhost:8080/"
    },
    "id": "ZtSs03-GSFaF",
    "outputId": "20acec2d-2248-42f9-9b3d-2ea035f8df63"
   },
   "outputs": [
    {
     "data": {
      "text/plain": [
       "array([7, 2, 1, ..., 4, 5, 6])"
      ]
     },
     "execution_count": 28,
     "metadata": {},
     "output_type": "execute_result"
    }
   ],
   "source": [
    "predict_classes"
   ]
  },
  {
   "cell_type": "markdown",
   "metadata": {
    "id": "906WUxHYH_na"
   },
   "source": [
    "## **Checking for the correctness of classification.**"
   ]
  },
  {
   "cell_type": "code",
   "execution_count": null,
   "metadata": {
    "id": "KfEcCa2kR7JX"
   },
   "outputs": [],
   "source": [
    "# Check with items we got right / wrong\n",
    "\n",
    "correct_indices = np.nonzero(predict_classes == y_test)[0]\n",
    "\n",
    "\n",
    "\n",
    "incorrect_indices = np.nonzero(predict_classes != y_test)[0]"
   ]
  },
  {
   "cell_type": "code",
   "execution_count": null,
   "metadata": {
    "colab": {
     "base_uri": "https://localhost:8080/"
    },
    "id": "PpZT54UISGyn",
    "outputId": "8c42ca62-7a0a-4b21-caa9-84d4622af0f5"
   },
   "outputs": [
    {
     "data": {
      "text/plain": [
       "array([   0,    1,    2, ..., 9997, 9998, 9999])"
      ]
     },
     "execution_count": 26,
     "metadata": {},
     "output_type": "execute_result"
    }
   ],
   "source": [
    "correct_indices"
   ]
  },
  {
   "cell_type": "code",
   "execution_count": null,
   "metadata": {
    "colab": {
     "base_uri": "https://localhost:8080/"
    },
    "id": "gYzqBVLmSHI2",
    "outputId": "5e60311d-7720-4f52-8dcf-0f9aee188b8f"
   },
   "outputs": [
    {
     "data": {
      "text/plain": [
       "array([ 149,  247,  321,  362,  445,  447,  449,  495,  582,  646,  684,\n",
       "        691,  720,  874,  924,  938,  947,  951,  956, 1014, 1039, 1112,\n",
       "       1156, 1178, 1182, 1192, 1226, 1232, 1242, 1247, 1260, 1299, 1319,\n",
       "       1393, 1402, 1414, 1522, 1530, 1549, 1554, 1609, 1670, 1678, 1681,\n",
       "       1722, 1754, 1790, 1865, 1878, 1901, 1941, 2004, 2024, 2035, 2044,\n",
       "       2053, 2093, 2109, 2130, 2135, 2293, 2387, 2406, 2414, 2422, 2462,\n",
       "       2488, 2582, 2597, 2607, 2648, 2654, 2720, 2743, 2863, 2877, 2921,\n",
       "       2939, 2953, 2979, 2995, 3005, 3021, 3060, 3073, 3225, 3422, 3474,\n",
       "       3475, 3503, 3520, 3558, 3559, 3597, 3681, 3702, 3776, 3780, 3796,\n",
       "       3808, 3817, 3818, 3853, 3893, 3906, 3941, 3968, 3985, 4078, 4163,\n",
       "       4176, 4224, 4248, 4289, 4350, 4360, 4369, 4477, 4497, 4504, 4534,\n",
       "       4536, 4615, 4639, 4740, 4807, 4823, 4860, 4880, 5086, 5331, 5457,\n",
       "       5642, 5676, 5734, 5842, 5870, 5887, 5936, 5955, 5973, 6023, 6059,\n",
       "       6166, 6555, 6568, 6571, 6574, 6597, 6632, 6744, 6755, 6783, 7107,\n",
       "       7492, 7928, 8062, 8198, 8246, 8255, 8277, 8311, 8325, 8527, 9009,\n",
       "       9015, 9024, 9280, 9316, 9500, 9587, 9634, 9664, 9669, 9679, 9692,\n",
       "       9700, 9729, 9741, 9745, 9749, 9764, 9768, 9770, 9777, 9783, 9792,\n",
       "       9839, 9904, 9922, 9944])"
      ]
     },
     "execution_count": 27,
     "metadata": {},
     "output_type": "execute_result"
    }
   ],
   "source": [
    "incorrect_indices"
   ]
  },
  {
   "cell_type": "markdown",
   "metadata": {
    "id": "Na3G17SRIdzi"
   },
   "source": [
    "## **Plotting and Observing the classes and predictions of the classes.**"
   ]
  },
  {
   "cell_type": "code",
   "execution_count": null,
   "metadata": {
    "colab": {
     "base_uri": "https://localhost:8080/",
     "height": 1000
    },
    "id": "RrovlYqe87Ok",
    "outputId": "607545d0-eb04-45f4-f210-f9d326e7e56f"
   },
   "outputs": [
    {
     "data": {
      "image/png": "[encoded data removed]",
      "text/plain": [
       "<Figure size 648x648 with 9 Axes>"
      ]
     },
     "metadata": {
      "needs_background": "light"
     },
     "output_type": "display_data"
    },
    {
     "data": {
      "image/png": "[encoded data removed]",
      "text/plain": [
       "<Figure size 648x648 with 9 Axes>"
      ]
     },
     "metadata": {
      "needs_background": "light"
     },
     "output_type": "display_data"
    }
   ],
   "source": [
    "plt.figure()\n",
    "for i, correct in enumerate(correct_indices[:9]):\n",
    "  plt.subplot(3,3,i+1)\n",
    "  plt.imshow(X_test[correct].reshape(28,28), cmap='gray', interpolation='none')\n",
    "  plt.title(\"Predicted {}, Class {}\".format(predict_classes[correct], y_test[correct]))\n",
    "plt.tight_layout()\n",
    "    \n",
    "plt.figure()\n",
    "for i, incorrect in enumerate(incorrect_indices[:9]):\n",
    "  plt.subplot(3,3,i+1)\n",
    "  plt.imshow(X_test[incorrect].reshape(28,28), cmap='gray', interpolation='none')\n",
    "  plt.title(\"Predicted {}, Class {}\".format(predict_classes[incorrect], y_test[incorrect]))\n",
    "plt.tight_layout()"
   ]
  },
  {
   "cell_type": "markdown",
   "metadata": {
    "id": "RVznsN7nUs3V"
   },
   "source": [
    "It's found that out of 18 images 9 are correctly predicted and 9 are incorrectly predicted.\n",
    "\n",
    "As the number of correct prediction classes is lesser, futhermore we increase the layers to observe the count of correct prediction.\n",
    "\n",
    "For increasing the correct prediction rate, we will increase the number of layers in the model."
   ]
  }
 ],
 "metadata": {
  "colab": {
   "collapsed_sections": [],
   "provenance": []
  },
  "kernelspec": {
   "display_name": "Python 3 (ipykernel)",
   "language": "python",
   "name": "python3"
  },
  "language_info": {
   "codemirror_mode": {
    "name": "ipython",
    "version": 3
   },
   "file_extension": ".py",
   "mimetype": "text/x-python",
   "name": "python",
   "nbconvert_exporter": "python",
   "pygments_lexer": "ipython3",
   "version": "3.9.12"
  }
 },
 "nbformat": 4,
 "nbformat_minor": 1
}
