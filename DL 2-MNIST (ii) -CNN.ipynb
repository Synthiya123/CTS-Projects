{
  "nbformat": 4,
  "nbformat_minor": 0,
  "metadata": {
    "colab": {
      "provenance": [],
      "collapsed_sections": []
    },
    "kernelspec": {
      "name": "python3",
      "display_name": "Python 3"
    },
    "language_info": {
      "name": "python"
    }
  },
  "cells": [
    {
      "cell_type": "markdown",
      "source": [
        "# **CONVOLUTION NEURAL NETWORK** "
      ],
      "metadata": {
        "id": "jmQuZpe2897J"
      }
    },
    {
      "cell_type": "markdown",
      "source": [
        "## **Importing the library**"
      ],
      "metadata": {
        "id": "LMmfxsFR89a3"
      }
    },
    {
      "cell_type": "code",
      "execution_count": null,
      "metadata": {
        "id": "Nj8jzjuYQpse"
      },
      "outputs": [],
      "source": [
        "import tensorflow as tf\n"
      ]
    },
    {
      "cell_type": "markdown",
      "source": [
        "## **Importing the Python Modules.**"
      ],
      "metadata": {
        "id": "iF_clLQW_ZC5"
      }
    },
    {
      "cell_type": "code",
      "source": [
        "import numpy as np\n",
        "import matplotlib.pyplot as plt\n",
        "import random\n",
        "%matplotlib inline \n",
        "\n",
        "from keras.datasets  import mnist     # MNIST dataset is included in Keras\n",
        "from keras. models import Sequential  # Model type to be used\n",
        "\n",
        "from keras.layers.core import Dense, Dropout, Activation # Types of layers to be used in our model\n",
        "from keras.utils import np_utils \n",
        "\n",
        "\n",
        "from keras.preprocessing.image import ImageDataGenerator\n",
        "\n",
        "from keras.layers import Conv2D, MaxPooling2D, ZeroPadding2D, GlobalAveragePooling2D, Flatten\n",
        "\n",
        "from tensorflow.keras.layers import BatchNormalization"
      ],
      "metadata": {
        "id": "iZqHsB1UQrJh"
      },
      "execution_count": null,
      "outputs": []
    },
    {
      "cell_type": "markdown",
      "source": [
        "## **Loading Training Data**\n",
        "\n",
        "The MINIST dataset is analysed within keras.\n",
        "\n",
        "The MNIST data is split between 60,000 28 x 28 pixel training images and 10,00"
      ],
      "metadata": {
        "id": "n3MjmnhM_e8J"
      }
    },
    {
      "cell_type": "code",
      "source": [
        "(X_train, y_train),(X_test,y_test)= mnist.load_data()\n",
        "\n",
        "print(\"X_train\",X_train.shape)\n",
        "print(\"y_train\",y_train.shape)\n",
        "print(\"X_test\",X_test.shape)\n",
        "print(\"y_test\",y_test.shape)\n"
      ],
      "metadata": {
        "colab": {
          "base_uri": "https://localhost:8080/"
        },
        "id": "0L6t3z4JQrGY",
        "outputId": "26749c5d-0b6b-477d-ddfb-c207aad5a2a3"
      },
      "execution_count": null,
      "outputs": [
        {
          "output_type": "stream",
          "name": "stdout",
          "text": [
            "Downloading data from https://storage.googleapis.com/tensorflow/tf-keras-datasets/mnist.npz\n",
            "11490434/11490434 [==============================] - 0s 0us/step\n",
            "X_train (60000, 28, 28)\n",
            "y_train (60000,)\n",
            "X_test (10000, 28, 28)\n",
            "y_test (10000,)\n"
          ]
        }
      ]
    },
    {
      "cell_type": "markdown",
      "source": [
        "## **Plotting the samples images in MNIST.**\n",
        "\n",
        "Some sample images from the training set is plotted using matplotlib.\n",
        "\n"
      ],
      "metadata": {
        "id": "bIpwWfjU_n2M"
      }
    },
    {
      "cell_type": "code",
      "source": [
        "plt.rcParams['figure.figsize']=(9,9)\n",
        "\n",
        "for i in range(9):\n",
        "  plt.subplot(3,3,i+1)\n",
        "  num = random.randint(0, len(X_train))\n",
        "  plt.imshow(X_train[num],cmap='gray', interpolation='none')\n",
        "  plt.title(\"Class {}\".format(y_train[num]))\n",
        "  plt.tight_layout()"
      ],
      "metadata": {
        "colab": {
          "base_uri": "https://localhost:8080/",
          "height": 657
        },
        "id": "kfJU0h8nQrDf",
        "outputId": "f1ee6b65-ef8c-4bc5-a4f6-43fb0d1dd5b3"
      },
      "execution_count": null,
      "outputs": [
        {
          "output_type": "display_data",
          "data": {
            "text/plain": [
              "<Figure size 648x648 with 9 Axes>"
            ],
            "image/png": "[encoded data removed]"
          },
          "metadata": {
            "needs_background": "light"
          }
        }
      ]
    },
    {
      "cell_type": "markdown",
      "source": [
        "## **Printing the random image of MNIST dataset in Matrix format.**\n",
        "\n",
        "Creating a function **matprint** that generates the matrix for the image chosen."
      ],
      "metadata": {
        "id": "ybfPg8OR_zJw"
      }
    },
    {
      "cell_type": "code",
      "source": [
        "def matprint(mat, fmt=\"g\"):\n",
        "    col_maxes = [max([len((\"{:\"+fmt+\"}\").format(x)) for x in col]) for col in mat.T]\n",
        "    for x in mat:\n",
        "        for i, y in enumerate(x):\n",
        "            print((\"{:\"+str(col_maxes[i])+fmt+\"}\").format(y), end=\"  \")\n",
        "        print(\"\")\n",
        "# now print!        \n",
        "matprint(X_train[num])"
      ],
      "metadata": {
        "colab": {
          "base_uri": "https://localhost:8080/"
        },
        "id": "vISDVK_kQrAY",
        "outputId": "e93c2e10-8c00-47b7-c7ab-88e60494881b"
      },
      "execution_count": null,
      "outputs": [
        {
          "output_type": "stream",
          "name": "stdout",
          "text": [
            "0  0  0  0  0    0    0    0    0    0    0    0    0    0    0    0    0    0    0    0    0    0    0    0    0  0  0  0  \n",
            "0  0  0  0  0    0    0    0    0    0    0    0    0    0    0    0    0    0    0    0    0    0    0    0    0  0  0  0  \n",
            "0  0  0  0  0    0    0    0    0    0    0    0    0    0    0    0    0    0    0    0    0    0    0    0    0  0  0  0  \n",
            "0  0  0  0  0    0    0    0    0    0    0    0    0    0    0    0    0    0    0    0    0    0    0    0    0  0  0  0  \n",
            "0  0  0  0  0    0    0    0    0    0    0    0    0    0    0    0    0    0    0    0    0    0    0    0    0  0  0  0  \n",
            "0  0  0  0  0    0    0    0    0    0    0    0    0    0    0    0    0    0    0    0    0    0    0    0    0  0  0  0  \n",
            "0  0  0  0  0    0    0    0    0    0    0    0    0    0    0    0    0    0    0    0    0    0    0    0    0  0  0  0  \n",
            "0  0  0  0  0    0    0    0    0    0    0    0   36   65  125  164  164  164  164   77   65   65   65   65   40  0  0  0  \n",
            "0  0  0  0  0    0    0    0    0    0    0    7  227  253  253  253  253  253  253  253  253  253  253  253  240  0  0  0  \n",
            "0  0  0  0  0    0    0    0    0    0   21  201  253  253  253  253  253  253  253  253  253  253  253  253  253  0  0  0  \n",
            "0  0  0  0  0    0    0    0    0    9  174  253  253  253  253  188  124  124  124  124  124  124  124  163   85  0  0  0  \n",
            "0  0  0  0  0    0    0    0    7  174  253  253  253  112   69   14    0    0    0    0    0    0    0    0    0  0  0  0  \n",
            "0  0  0  0  0    0    0   26  174  253  253  253  161    4    0    0    0    0    0    0    0    0    0    0    0  0  0  0  \n",
            "0  0  0  0  0    0    4  198  253  253  253  253  221  119   39    0    0    0    0    0    0    0    0    0    0  0  0  0  \n",
            "0  0  0  0  0    0   11  253  253  253  253  253  253  253  231  148   39    0    0    0    0    0    0    0    0  0  0  0  \n",
            "0  0  0  0  0    0    2  139  248  180  160  248  251  253  253  253  242  153    2    0    0    0    0    0    0  0  0  0  \n",
            "0  0  0  0  0    0    0    0    0    0    0    0   52  170  229  253  253  253  146    0    0    0    0    0    0  0  0  0  \n",
            "0  0  0  0  0    0    0    0    0    0    0    0    0    0   24  128  253  253  183    0    0    0    0    0    0  0  0  0  \n",
            "0  0  0  0  0   92  169  169  123   50    0    0    0    0   42  185  253  253  183    0    0    0    0    0    0  0  0  0  \n",
            "0  0  0  0  0  254  253  253  253  245  213  125   70  102  240  253  253  246   55    0    0    0    0    0    0  0  0  0  \n",
            "0  0  0  0  0  135  240  253  253  253  253  253  253  253  253  253  235  125    0    0    0    0    0    0    0  0  0  0  \n",
            "0  0  0  0  0    0   16   45  120  187  236  253  253  253  253  237   91    0    0    0    0    0    0    0    0  0  0  0  \n",
            "0  0  0  0  0    0    0    0    0    0   45  163  163  163  105   38    0    0    0    0    0    0    0    0    0  0  0  0  \n",
            "0  0  0  0  0    0    0    0    0    0    0    0    0    0    0    0    0    0    0    0    0    0    0    0    0  0  0  0  \n",
            "0  0  0  0  0    0    0    0    0    0    0    0    0    0    0    0    0    0    0    0    0    0    0    0    0  0  0  0  \n",
            "0  0  0  0  0    0    0    0    0    0    0    0    0    0    0    0    0    0    0    0    0    0    0    0    0  0  0  0  \n",
            "0  0  0  0  0    0    0    0    0    0    0    0    0    0    0    0    0    0    0    0    0    0    0    0    0  0  0  0  \n",
            "0  0  0  0  0    0    0    0    0    0    0    0    0    0    0    0    0    0    0    0    0    0    0    0    0  0  0  0  \n"
          ]
        }
      ]
    },
    {
      "cell_type": "markdown",
      "source": [
        "## **Reshaping the size of training and testing .**\n",
        "\n",
        "The entire MNIST dataset consist 60,000 images and each image's pixel size is 28X28 (784 pixcels) which is taken in matrix form as row:28 and column:28 and the single channel(1) represents that the image is in black and white format.  \n",
        "\n",
        "For training, the entire dataset is taken into account whereas for testing 10,000 data is taken in matrix format with single Channel.    "
      ],
      "metadata": {
        "id": "SOxutNQ6_3Jz"
      }
    },
    {
      "cell_type": "code",
      "source": [
        "X_train = X_train.reshape(60000, 28,28,1)  #add an additional dimension to represent the single-channel\n",
        "X_test = X_test.reshape(10000, 28,28,1)\n",
        "\n",
        "X_train = X_train.astype('float32')  #Change intergers to 32-bit floating point\n",
        "X_test = X_test.astype('float32')\n"
      ],
      "metadata": {
        "id": "E3psq7ROQq8Z"
      },
      "execution_count": null,
      "outputs": []
    },
    {
      "cell_type": "markdown",
      "source": [
        "## **Normalizing pixel values.** \n",
        "\n",
        "Normalizing the train and test dataset by dividing it with 225. \n",
        "\n",
        "Our idea is to normalize the input in the range [0,1] rather than [0-255]. \n",
        "\n"
      ],
      "metadata": {
        "id": "P4nQagVRDq7d"
      }
    },
    {
      "cell_type": "code",
      "source": [
        "X_train /=255    # normalize each value for pixel\n",
        "X_test /=255"
      ],
      "metadata": {
        "id": "SE_VILTbRpJ_"
      },
      "execution_count": null,
      "outputs": []
    },
    {
      "cell_type": "markdown",
      "source": [
        "## **Modifying the classes (unique digits) into one-hot format.**\n",
        "\n",
        "0 -> [1, 0, 0, 0, 0, 0, 0, 0, 0]\n",
        "\n",
        "1 -> [0, 1, 0, 0, 0, 0, 0, 0, 0]\n",
        "\n",
        "2 -> [0, 0, 1, 0, 0, 0, 0, 0, 0]\n",
        "etc.\n",
        "\n",
        "### **Comparing final output with the classes.**\n",
        "\n",
        "If the final output is very close to one of these classes, then it is most likely that class. \n",
        "\n",
        "For example, if the final output is:\n",
        "[0, 0, 0, 0, 0.94, 0, 0.06, 0, 0]\n",
        "then it's most likely the image of digit 4."
      ],
      "metadata": {
        "id": "TPxtCtRPECzS"
      }
    },
    {
      "cell_type": "code",
      "source": [
        "nb_classes = 10  # NO of unique nos\n",
        "\n",
        "Y_train = np_utils.to_categorical(y_train, nb_classes)\n",
        "Y_test = np_utils.to_categorical(y_test, nb_classes)\n"
      ],
      "metadata": {
        "id": "DjKzZkx-RpvR"
      },
      "execution_count": null,
      "outputs": []
    },
    {
      "cell_type": "markdown",
      "source": [
        "## **DESIGNING NETWORK - CONVOLUTION** \n",
        "\n",
        "Convolution applies kernels (filters) that traverse through each image and generate feature maps."
      ],
      "metadata": {
        "id": "Y8mr-MNQEf53"
      }
    },
    {
      "cell_type": "markdown",
      "source": [
        "## **Building Layers to the Network.**\n",
        "\n",
        "Building the layer through the functin **Sequential()**"
      ],
      "metadata": {
        "id": "oo69QC8iEst7"
      }
    },
    {
      "cell_type": "code",
      "source": [
        "# Sequenctial Model is a linear stack of layers and is very common\n",
        "\n",
        "model=Sequential()"
      ],
      "metadata": {
        "id": "jnkW3dotSDks"
      },
      "execution_count": null,
      "outputs": []
    },
    {
      "cell_type": "markdown",
      "source": [
        "## **Creating the convolution layer.**\n",
        "\n",
        "add() - To increment the stack layer in the model Sequential(). \n",
        "\n",
        "The parameters in convolution layer \n",
        "(Conv2D) includes,\n",
        "strides,padding, data_format,dilation rate.\n",
        " \n",
        "\n",
        "Here,\n",
        "**batch size** = 32\n",
        "\n",
        "**kernel size** = (3,3) - 3X3 matrix\n",
        "\n",
        "**input_shape** = 28X28 pixcel with single channel."
      ],
      "metadata": {
        "id": "Gfrj46fBFEI6"
      }
    },
    {
      "cell_type": "code",
      "source": [
        "model.add(Conv2D(32,(3,3),input_shape=(28,28,1)))  # 32 different 3x3 kernels -- so 32 feature maps"
      ],
      "metadata": {
        "colab": {
          "base_uri": "https://localhost:8080/"
        },
        "id": "J5gS3V2CSH7-",
        "outputId": "f0869112-36a0-4dc9-d082-f3c40bcba031"
      },
      "execution_count": null,
      "outputs": [
        {
          "output_type": "execute_result",
          "data": {
            "text/plain": [
              "<bound method Sequential.add of <keras.engine.sequential.Sequential object at 0x7fe7fd92b090>>"
            ]
          },
          "metadata": {},
          "execution_count": 10
        }
      ]
    },
    {
      "cell_type": "markdown",
      "source": [
        "## **Batch Normalizing the inputs.**\n",
        "\n",
        "Batch normalization applies a transformation that maintains the mean output close to 0 and the output standard deviation close to 1.\n",
        "\n",
        "Batch Noemalisation is done in the hidden units.\n",
        "\n",
        "Batch normalization standardizes the distribution of layer inputs to combat the internal covariance shift. It controls the amount by which the hidden units shift.\n",
        "\n",
        "TO PERFORM BATCH NORMALIZATION.\n",
        "https://towardsdatascience.com/what-is-batch-normalization-46058b4f583\n",
        "\n",
        "AXIS.\n",
        "To preserve the dimension of the array we normalise with respective maen and standard deviation over every other axis.\n",
        "so batchnormalization with axis =1 gets subtracted with axis=0"
      ],
      "metadata": {
        "id": "1rrJsfzubSNa"
      }
    },
    {
      "cell_type": "code",
      "source": [
        "model.add(BatchNormalization(axis=-1))"
      ],
      "metadata": {
        "id": "KbdoBFJwTfaS"
      },
      "execution_count": null,
      "outputs": []
    },
    {
      "cell_type": "markdown",
      "source": [
        "## **Applying the Activation Function.**\n",
        "\n",
        "The activation function function performed here is \"relu\" which takes the negative values as zero and the positive values remains the same. \n",
        " "
      ],
      "metadata": {
        "id": "aQBAdsFatq5R"
      }
    },
    {
      "cell_type": "code",
      "source": [
        "convlayer01 = Activation(\"relu\")"
      ],
      "metadata": {
        "id": "3YeK6H9lTr_5"
      },
      "execution_count": null,
      "outputs": []
    },
    {
      "cell_type": "markdown",
      "source": [
        "## **Adding the first convolution layer to  the model.**"
      ],
      "metadata": {
        "id": "o7pEEfIauiav"
      }
    },
    {
      "cell_type": "code",
      "source": [
        "model.add(convlayer01)"
      ],
      "metadata": {
        "id": "Dki8PirTT99L"
      },
      "execution_count": null,
      "outputs": []
    },
    {
      "cell_type": "markdown",
      "source": [
        "## **Convolution Layer 2**\n",
        "\n"
      ],
      "metadata": {
        "id": "XGA1F2rLUQ5O"
      }
    },
    {
      "cell_type": "code",
      "source": [
        "model.add(Conv2D(32,(3,3)))    # 32 different 3x3 kernels -- so 32 feature maps"
      ],
      "metadata": {
        "id": "bsd2YhXLURY4"
      },
      "execution_count": null,
      "outputs": []
    },
    {
      "cell_type": "code",
      "source": [
        "model.add(BatchNormalization(axis=-1))"
      ],
      "metadata": {
        "id": "EfeNBU5RUexS"
      },
      "execution_count": null,
      "outputs": []
    },
    {
      "cell_type": "code",
      "source": [
        "convlayer02 = Activation(\"relu\")"
      ],
      "metadata": {
        "id": "Fj2Aj-ksUsCv"
      },
      "execution_count": null,
      "outputs": []
    },
    {
      "cell_type": "code",
      "source": [
        "model.add(convlayer02)"
      ],
      "metadata": {
        "id": "wHDetjvUUvTF"
      },
      "execution_count": null,
      "outputs": []
    },
    {
      "cell_type": "markdown",
      "source": [
        "## **Convolution Layer 3**\n",
        "\n",
        "In convo-layer 3, the batch size is increased to 64 and the model is performed.\n",
        "\n",
        "\n"
      ],
      "metadata": {
        "id": "oGmyxBgdUvHe"
      }
    },
    {
      "cell_type": "code",
      "source": [
        "# Convolution Layer 3\n",
        "model.add(Conv2D(64,(3, 3)))                         # 64 different 3x3 kernels -- so 64 feature maps\n",
        "model.add(BatchNormalization(axis=-1))               # normalize each feature map before activation\n",
        "convLayer03 = Activation('relu')                     # activation\n",
        "model.add(convLayer03)"
      ],
      "metadata": {
        "id": "9cYl4BdmVfAm"
      },
      "execution_count": null,
      "outputs": []
    },
    {
      "cell_type": "markdown",
      "source": [
        "## **Convolution Layer 4**\n",
        "\n",
        "In convo-layer 4, the max pooling is done with the pooling size 2X2.\n",
        "\n",
        "**MAXPOOLING:** Highlighting the features of interst and reducing the number of learned parameters.In default, the strides in maxpooling moves of even order i.e, 2x2. "
      ],
      "metadata": {
        "id": "6z7I1APzxCtl"
      }
    },
    {
      "cell_type": "code",
      "source": [
        "# Convolution Layer 4\n",
        "model.add(Conv2D(64, (3, 3)))                        # 64 different 3x3 kernels -- so 64 feature maps\n",
        "model.add(BatchNormalization(axis=-1))               # normalize each feature map before activation\n",
        "model.add(Activation('relu'))                        # activation\n",
        "convLayer04 = MaxPooling2D(pool_size=(2,2))          # Pool the max values over a 2x2 kernel\n",
        "model.add(convLayer04)\n",
        "model.add(Flatten())  "
      ],
      "metadata": {
        "id": "-WALzmV4VfYB"
      },
      "execution_count": null,
      "outputs": []
    },
    {
      "cell_type": "markdown",
      "source": [
        "## **Layer 5 - Creating Dense**\n",
        "\n",
        "**Connecting the previous convo-layers.**\n",
        "\n",
        "Dense() - dense layer contains densely connected neurons. \n",
        "\n",
        "The neurons in the dense layer get their source of input data from all the other neurons of the previous layer of the network.\n",
        "\n",
        "The procedure for layer building follws.\n",
        "\n",
        "*   BatchNormalization()\n",
        "*   Activation('relu')\n",
        "\n",
        "\n"
      ],
      "metadata": {
        "id": "LUAr6ve8yUUm"
      }
    },
    {
      "cell_type": "code",
      "source": [
        "#Fully Connected Layer 5\n",
        "model.add(Dense(512))                                # 512 FCN nodes\n",
        "model.add(BatchNormalization())                      # normalization\n",
        "model.add(Activation('relu'))                        # activation"
      ],
      "metadata": {
        "id": "aOKRe88KV57x"
      },
      "execution_count": null,
      "outputs": []
    },
    {
      "cell_type": "markdown",
      "source": [
        "## **Layer 6 -Dropping out**\n",
        "\n",
        "Here, 20% odf data is droped out,\n",
        "\n",
        "The dropout layer is responsible for randomly skipping the neurons inside the neural network so that the overall odds of overfitting are reduced optimally.\n",
        "\n",
        "Applying softmax to the final layer.\n",
        "\n",
        "  The softmax function highlights the largest values and suppresses values which are significantly below the maximum value, though this is not true for small values.\n",
        "\n",
        "  It normalizes the outputs so that they sum to 1 so that they can be directly treated as probabilities over the output.\n",
        "\n",
        "  It is often used in the final layer in a classifier model with the categorical crossentropy as loss function."
      ],
      "metadata": {
        "id": "b4vLNHuQ1QAe"
      }
    },
    {
      "cell_type": "code",
      "source": [
        "# Fully Connected Layer 6                       \n",
        "model.add(Dropout(0.2))                              # 20% dropout of randomly selected nodes\n",
        "model.add(Dense(10))                                 # final 10 FCN nodes\n",
        "model.add(Activation('softmax'))  "
      ],
      "metadata": {
        "id": "ubXQUs5lWs4s"
      },
      "execution_count": null,
      "outputs": []
    },
    {
      "cell_type": "markdown",
      "source": [
        "## **Model Summary**"
      ],
      "metadata": {
        "id": "67meYlUp3QLM"
      }
    },
    {
      "cell_type": "code",
      "source": [
        "model.summary()"
      ],
      "metadata": {
        "colab": {
          "base_uri": "https://localhost:8080/"
        },
        "id": "W1ZGYKv-Ws0z",
        "outputId": "b9229701-d2a6-4a47-c99a-4f5856255a39"
      },
      "execution_count": null,
      "outputs": [
        {
          "output_type": "stream",
          "name": "stdout",
          "text": [
            "Model: \"sequential\"\n",
            "_________________________________________________________________\n",
            " Layer (type)                Output Shape              Param #   \n",
            "=================================================================\n",
            " conv2d (Conv2D)             (None, 26, 26, 32)        320       \n",
            "                                                                 \n",
            " batch_normalization (BatchN  (None, 26, 26, 32)       128       \n",
            " ormalization)                                                   \n",
            "                                                                 \n",
            " activation (Activation)     (None, 26, 26, 32)        0         \n",
            "                                                                 \n",
            " conv2d_1 (Conv2D)           (None, 24, 24, 32)        9248      \n",
            "                                                                 \n",
            " batch_normalization_1 (Batc  (None, 24, 24, 32)       128       \n",
            " hNormalization)                                                 \n",
            "                                                                 \n",
            " activation_1 (Activation)   (None, 24, 24, 32)        0         \n",
            "                                                                 \n",
            " conv2d_2 (Conv2D)           (None, 22, 22, 64)        18496     \n",
            "                                                                 \n",
            " batch_normalization_2 (Batc  (None, 22, 22, 64)       256       \n",
            " hNormalization)                                                 \n",
            "                                                                 \n",
            " activation_2 (Activation)   (None, 22, 22, 64)        0         \n",
            "                                                                 \n",
            " conv2d_3 (Conv2D)           (None, 20, 20, 64)        36928     \n",
            "                                                                 \n",
            " batch_normalization_3 (Batc  (None, 20, 20, 64)       256       \n",
            " hNormalization)                                                 \n",
            "                                                                 \n",
            " activation_3 (Activation)   (None, 20, 20, 64)        0         \n",
            "                                                                 \n",
            " max_pooling2d (MaxPooling2D  (None, 10, 10, 64)       0         \n",
            " )                                                               \n",
            "                                                                 \n",
            " flatten (Flatten)           (None, 6400)              0         \n",
            "                                                                 \n",
            " dense (Dense)               (None, 512)               3277312   \n",
            "                                                                 \n",
            " batch_normalization_4 (Batc  (None, 512)              2048      \n",
            " hNormalization)                                                 \n",
            "                                                                 \n",
            " activation_4 (Activation)   (None, 512)               0         \n",
            "                                                                 \n",
            " dropout (Dropout)           (None, 512)               0         \n",
            "                                                                 \n",
            " dense_1 (Dense)             (None, 10)                5130      \n",
            "                                                                 \n",
            " activation_5 (Activation)   (None, 10)                0         \n",
            "                                                                 \n",
            "=================================================================\n",
            "Total params: 3,350,250\n",
            "Trainable params: 3,348,842\n",
            "Non-trainable params: 1,408\n",
            "_________________________________________________________________\n"
          ]
        }
      ]
    },
    {
      "cell_type": "markdown",
      "source": [
        "## **Compiling the Model**\n",
        "\n",
        "setting the loss method.\n",
        "\n",
        "  **Categorical crossentropy** - loss function used in multi-class classification tasks.\n",
        "\n",
        "  These are tasks can only belong to one out of many possible categories, and model will decide which one to choose.\n",
        "\n",
        "  It is designed to quantify the difference between two probability distributions.\n",
        "\n",
        "  **Fixing the Optimizer** - Adam that holds the learning rate for the model."
      ],
      "metadata": {
        "id": "Q1pDHWLw3XgZ"
      }
    },
    {
      "cell_type": "code",
      "source": [
        "# we'll use the same optimizer\n",
        "\n",
        "model.compile(loss='categorical_crossentropy', optimizer='adam', metrics=['accuracy'])"
      ],
      "metadata": {
        "id": "H74uk5c4Wsxg"
      },
      "execution_count": null,
      "outputs": []
    },
    {
      "cell_type": "markdown",
      "source": [
        "## **Data Argumentation**\n",
        "\n",
        "Data augmentation is used to increase the diversity of training which was set while applying the random transformations such as rotation of an image.\n",
        "\n",
        "Data augmentation - increase the training set size while generating a new variant of the training set.\n",
        "\n",
        "ImageDataGenerator - defines the configuration for image data.\n",
        "\n",
        "Image configuration,\n",
        "\n",
        "1. Random rotation, shifts, flips, and shears  \n",
        "1.   Dimension reordering.\n",
        "2.   Feature wise standardization\n",
        "2.   Sample wise standardization\n",
        "1.   Save augmented images to the disk.\n",
        "\n",
        "\n",
        "\n",
        "\n"
      ],
      "metadata": {
        "id": "5_pzvcBk37Mu"
      }
    },
    {
      "cell_type": "code",
      "source": [
        "# data augmentation prevents overfitting by slightly changing the data randomly\n",
        "# Keras has a great built-in feature to do automatic augmentation\n",
        "\n",
        "gen = ImageDataGenerator(rotation_range=8, width_shift_range=0.08, shear_range=0.3,\n",
        "                         height_shift_range=0.08, zoom_range=0.08)\n",
        "\n",
        "test_gen = ImageDataGenerator()"
      ],
      "metadata": {
        "id": "FFzJaxtdWsuf"
      },
      "execution_count": null,
      "outputs": []
    },
    {
      "cell_type": "markdown",
      "source": [
        "## **Training and testing the Generators.**"
      ],
      "metadata": {
        "id": "WC_KFVUY4nJ9"
      }
    },
    {
      "cell_type": "code",
      "source": [
        "# We can then feed our augmented data in batches\n",
        "# Besides loss function considerations as before, this method actually results in significant memory savings\n",
        "# because we are actually LOADING the data into the network in batches before processing each batch\n",
        "\n",
        "# Before the data was all loaded into memory, but then processed in batches.\n",
        "\n",
        "train_generator = gen.flow(X_train, Y_train, batch_size=128)\n",
        "test_generator = test_gen.flow(X_test, Y_test, batch_size=128)"
      ],
      "metadata": {
        "id": "ltJYUjLQWsq5"
      },
      "execution_count": null,
      "outputs": []
    },
    {
      "cell_type": "markdown",
      "source": [
        "## **Fitting the model on Generators**\n",
        "\n",
        "under model Fitting,\n",
        "\n",
        "*   validation_data : Has the test Generator assigned under traineg_generator.\n",
        "\n",
        "*   Validation_size : normalising test data (10,000) floor dividied (//) by generator batch size(128)\n",
        "\n",
        "*   epochs : No. of runs in the layers\n",
        "\n",
        "\n",
        "*   steps_per_epoch = normalising total data size by floor dividing with batch size 128. \n",
        "\n",
        "\n",
        "\n",
        "\n",
        "\n",
        "\n",
        "\n",
        "\n",
        "\n",
        "\n"
      ],
      "metadata": {
        "id": "uQrEkd9V4zA1"
      }
    },
    {
      "cell_type": "code",
      "source": [
        "# We can now train our model which is fed data by our batch loader\n",
        "# Steps per epoch should always be total size of the set divided by the batch size\n",
        "\n",
        "# SIGNIFICANT MEMORY SAVINGS (important for larger, deeper networks)\n",
        "\n",
        "model.fit_generator(train_generator, steps_per_epoch=60000//128, \n",
        "                    epochs=5, verbose=1, \n",
        "                    validation_data=test_generator, validation_steps=10000//128)"
      ],
      "metadata": {
        "colab": {
          "base_uri": "https://localhost:8080/"
        },
        "id": "4p-GUhHnayHS",
        "outputId": "d61a8a9b-22e6-4beb-931a-ff0010b7f045"
      },
      "execution_count": null,
      "outputs": [
        {
          "output_type": "stream",
          "name": "stdout",
          "text": [
            "Epoch 1/5\n"
          ]
        },
        {
          "output_type": "stream",
          "name": "stderr",
          "text": [
            "/usr/local/lib/python3.7/dist-packages/ipykernel_launcher.py:8: UserWarning: `Model.fit_generator` is deprecated and will be removed in a future version. Please use `Model.fit`, which supports generators.\n",
            "  \n"
          ]
        },
        {
          "output_type": "stream",
          "name": "stdout",
          "text": [
            "468/468 [==============================] - 488s 1s/step - loss: 0.0227 - accuracy: 0.9930 - val_loss: 0.0197 - val_accuracy: 0.9939\n",
            "Epoch 2/5\n",
            "468/468 [==============================] - 472s 1s/step - loss: 0.0227 - accuracy: 0.9926 - val_loss: 0.0143 - val_accuracy: 0.9947\n",
            "Epoch 3/5\n",
            "468/468 [==============================] - 473s 1s/step - loss: 0.0200 - accuracy: 0.9936 - val_loss: 0.0231 - val_accuracy: 0.9926\n",
            "Epoch 4/5\n",
            "468/468 [==============================] - 475s 1s/step - loss: 0.0194 - accuracy: 0.9940 - val_loss: 0.0269 - val_accuracy: 0.9922\n",
            "Epoch 5/5\n",
            "468/468 [==============================] - 472s 1s/step - loss: 0.0185 - accuracy: 0.9942 - val_loss: 0.0198 - val_accuracy: 0.9942\n"
          ]
        },
        {
          "output_type": "execute_result",
          "data": {
            "text/plain": [
              "<keras.callbacks.History at 0x7fe7fd2499d0>"
            ]
          },
          "metadata": {},
          "execution_count": 29
        }
      ]
    },
    {
      "cell_type": "markdown",
      "source": [
        "## **Evaluating the Test Score and Test Accuracy.**"
      ],
      "metadata": {
        "id": "sQrg-JSt5ATM"
      }
    },
    {
      "cell_type": "code",
      "source": [
        "score = model.evaluate(X_test, Y_test)\n",
        "print('Test score:', score[0])\n",
        "print('Test accuracy:', score[1])"
      ],
      "metadata": {
        "id": "7WqNt0PYbtRc",
        "colab": {
          "base_uri": "https://localhost:8080/"
        },
        "outputId": "1eb610a7-014a-4f8f-ffbf-fe2d471426c3"
      },
      "execution_count": null,
      "outputs": [
        {
          "output_type": "stream",
          "name": "stdout",
          "text": [
            "313/313 [==============================] - 19s 62ms/step - loss: 0.0224 - accuracy: 0.9931\n",
            "Test score: 0.022395357489585876\n",
            "Test accuracy: 0.9930999875068665\n"
          ]
        }
      ]
    }
  ]
}